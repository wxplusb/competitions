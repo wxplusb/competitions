{
 "cells": [
  {
   "cell_type": "code",
   "execution_count": 1,
   "metadata": {},
   "outputs": [
    {
     "name": "stdout",
     "output_type": "stream",
     "text": [
      "INFO: Pandarallel will run on 8 workers.\n",
      "INFO: Pandarallel will use Memory file system to transfer data between the main process and workers.\n"
     ]
    },
    {
     "name": "stderr",
     "output_type": "stream",
     "text": [
      "[nltk_data] Downloading package stopwords to /home/ubuntu/nltk_data...\n",
      "[nltk_data]   Package stopwords is already up-to-date!\n"
     ]
    }
   ],
   "source": [
    "%load_ext autoreload\n",
    "%autoreload 1\n",
    "%aimport src.my, src.net, src.data, src.models, src.text_utils\n",
    "\n",
    "import sys\n",
    "import numpy as np\n",
    "import pandas as pd\n",
    "\n",
    "import os\n",
    "import gc\n",
    "import matplotlib.pyplot as plt\n",
    "import importlib\n",
    "import pickle\n",
    "\n",
    "import src.huse as huse\n",
    "import src.models as ms\n",
    "import src.net as net\n",
    "import src.text_utils as tu\n",
    "import src.my as my\n",
    "from src.my import p\n",
    "from tqdm.notebook import tqdm\n",
    "\n",
    "pd.set_option('display.max_rows', 200)\n",
    "pd.set_option(\"max_colwidth\", 45)\n",
    "pd.set_option(\"display.precision\", 1)\n",
    "pd.options.display.float_format = \"{:.3f}\".format\n",
    "# pd.set_option(\"display.max_rows\", 5)\n",
    "# pd.reset_option(\"display.max_rows\")\n",
    "\n",
    "from sklearn.model_selection import train_test_split\n",
    "\n",
    "# from pandarallel import pandarallel\n",
    "# pandarallel.initialize(progress_bar=True)\n",
    "\n",
    "dir_data = 'data/'\n",
    "dir_out = 'out/'\n",
    "os.makedirs(dir_out, exist_ok=True)\n",
    "\n",
    "SEED = 34\n",
    "N_CPU = os.cpu_count()\n",
    "\n",
    "np.random.seed(SEED)\n",
    "rng = np.random.default_rng(SEED)"
   ]
  },
  {
   "attachments": {},
   "cell_type": "markdown",
   "metadata": {},
   "source": [
    "В данном ноутбуке тренируются DL модели на извлеченных эмбеддингах"
   ]
  },
  {
   "cell_type": "code",
   "execution_count": 2,
   "metadata": {},
   "outputs": [
    {
     "data": {
      "text/html": [
       "<div>\n",
       "<style scoped>\n",
       "    .dataframe tbody tr th:only-of-type {\n",
       "        vertical-align: middle;\n",
       "    }\n",
       "\n",
       "    .dataframe tbody tr th {\n",
       "        vertical-align: top;\n",
       "    }\n",
       "\n",
       "    .dataframe thead th {\n",
       "        text-align: right;\n",
       "    }\n",
       "</style>\n",
       "<table border=\"1\" class=\"dataframe\">\n",
       "  <thead>\n",
       "    <tr style=\"text-align: right;\">\n",
       "      <th></th>\n",
       "      <th>product_id</th>\n",
       "      <th>category_id</th>\n",
       "      <th>shop_id</th>\n",
       "      <th>category_name</th>\n",
       "      <th>fold</th>\n",
       "      <th>text</th>\n",
       "    </tr>\n",
       "  </thead>\n",
       "  <tbody>\n",
       "    <tr>\n",
       "      <th>0</th>\n",
       "      <td>325286</td>\n",
       "      <td>251</td>\n",
       "      <td>493</td>\n",
       "      <td>электроника смартфоны телефоны аксессуары...</td>\n",
       "      <td>4</td>\n",
       "      <td>зарядный кабель borofone bx1 lightning ай...</td>\n",
       "    </tr>\n",
       "    <tr>\n",
       "      <th>1</th>\n",
       "      <td>888134</td>\n",
       "      <td>748</td>\n",
       "      <td>6081</td>\n",
       "      <td>одежда женская одежда белье купальники трусы</td>\n",
       "      <td>3</td>\n",
       "      <td>трусы sela трусы слипы эластичного бесшов...</td>\n",
       "    </tr>\n",
       "  </tbody>\n",
       "</table>\n",
       "</div>"
      ],
      "text/plain": [
       "   product_id  category_id  shop_id  \\\n",
       "0      325286          251      493   \n",
       "1      888134          748     6081   \n",
       "\n",
       "                                  category_name  fold  \\\n",
       "0  электроника смартфоны телефоны аксессуары...     4   \n",
       "1  одежда женская одежда белье купальники трусы     3   \n",
       "\n",
       "                                           text  \n",
       "0  зарядный кабель borofone bx1 lightning ай...  \n",
       "1  трусы sela трусы слипы эластичного бесшов...  "
      ]
     },
     "execution_count": 2,
     "metadata": {},
     "output_type": "execute_result"
    }
   ],
   "source": [
    "Xy = pd.read_parquet(dir_out+'prepared_df.pq')\n",
    "X_test = pd.read_parquet(dir_out+'prepared_test.pq')\n",
    "Xy[:2]"
   ]
  },
  {
   "cell_type": "code",
   "execution_count": 3,
   "metadata": {},
   "outputs": [
    {
     "data": {
      "text/plain": [
       "'out/ftt_model'"
      ]
     },
     "execution_count": 3,
     "metadata": {},
     "output_type": "execute_result"
    }
   ],
   "source": [
    "CHECKPOINT_DIR = dir_out + 'ftt_model'\n",
    "os.makedirs(CHECKPOINT_DIR, exist_ok=True)\n",
    "CHECKPOINT_DIR"
   ]
  },
  {
   "attachments": {},
   "cell_type": "markdown",
   "metadata": {},
   "source": [
    "3 модели можно тренировать: MLP, RESNET, FTT Transformer, меняя CFG.name. f1 ~ 0.86-0.88"
   ]
  },
  {
   "cell_type": "code",
   "execution_count": 4,
   "metadata": {},
   "outputs": [
    {
     "name": "stderr",
     "output_type": "stream",
     "text": [
      "Global seed set to 34\n",
      "GPU available: True (cuda), used: True\n",
      "TPU available: False, using: 0 TPU cores\n",
      "IPU available: False, using: 0 IPUs\n",
      "HPU available: False, using: 0 HPUs\n"
     ]
    },
    {
     "name": "stdout",
     "output_type": "stream",
     "text": [
      "[TRAIN FOLD]: 0\n"
     ]
    },
    {
     "name": "stderr",
     "output_type": "stream",
     "text": [
      "LOCAL_RANK: 0 - CUDA_VISIBLE_DEVICES: [0]\n",
      "\n",
      "  | Name    | Type             | Params\n",
      "---------------------------------------------\n",
      "0 | model   | FTTModel         | 507 K \n",
      "1 | loss_fn | CrossEntropyLoss | 0     \n",
      "---------------------------------------------\n",
      "507 K     Trainable params\n",
      "0         Non-trainable params\n",
      "507 K     Total params\n",
      "2.031     Total estimated model params size (MB)\n"
     ]
    },
    {
     "data": {
      "application/vnd.jupyter.widget-view+json": {
       "model_id": "201d8fecb0a24b459776ec3cfe46ddc1",
       "version_major": 2,
       "version_minor": 0
      },
      "text/plain": [
       "Sanity Checking: 0it [00:00, ?it/s]"
      ]
     },
     "metadata": {},
     "output_type": "display_data"
    },
    {
     "data": {
      "application/vnd.jupyter.widget-view+json": {
       "model_id": "35e7ff6134854dfabb9b3ad5809016d1",
       "version_major": 2,
       "version_minor": 0
      },
      "text/plain": [
       "Training: 0it [00:00, ?it/s]"
      ]
     },
     "metadata": {},
     "output_type": "display_data"
    },
    {
     "data": {
      "application/vnd.jupyter.widget-view+json": {
       "model_id": "d75dd97a34c249c48c5587f8a4e181ac",
       "version_major": 2,
       "version_minor": 0
      },
      "text/plain": [
       "Validation: 0it [00:00, ?it/s]"
      ]
     },
     "metadata": {},
     "output_type": "display_data"
    },
    {
     "name": "stderr",
     "output_type": "stream",
     "text": [
      "Metric val_f1 improved. New best score: 0.880\n"
     ]
    },
    {
     "data": {
      "application/vnd.jupyter.widget-view+json": {
       "model_id": "0a0ad1df0f9f4d11bc94cd5a28776d99",
       "version_major": 2,
       "version_minor": 0
      },
      "text/plain": [
       "Validation: 0it [00:00, ?it/s]"
      ]
     },
     "metadata": {},
     "output_type": "display_data"
    },
    {
     "name": "stderr",
     "output_type": "stream",
     "text": [
      "Metric val_f1 improved by 0.002 >= min_delta = 0.001. New best score: 0.882\n"
     ]
    },
    {
     "data": {
      "application/vnd.jupyter.widget-view+json": {
       "model_id": "d577398089354013abb9dce1ee659831",
       "version_major": 2,
       "version_minor": 0
      },
      "text/plain": [
       "Validation: 0it [00:00, ?it/s]"
      ]
     },
     "metadata": {},
     "output_type": "display_data"
    },
    {
     "data": {
      "application/vnd.jupyter.widget-view+json": {
       "model_id": "296b3303f6824143a9838870f5dcbcf6",
       "version_major": 2,
       "version_minor": 0
      },
      "text/plain": [
       "Validation: 0it [00:00, ?it/s]"
      ]
     },
     "metadata": {},
     "output_type": "display_data"
    },
    {
     "data": {
      "application/vnd.jupyter.widget-view+json": {
       "model_id": "5217ffd56dc4428d961f88b91636d520",
       "version_major": 2,
       "version_minor": 0
      },
      "text/plain": [
       "Validation: 0it [00:00, ?it/s]"
      ]
     },
     "metadata": {},
     "output_type": "display_data"
    },
    {
     "data": {
      "application/vnd.jupyter.widget-view+json": {
       "model_id": "7ff0379a38c54f9bb45c88b8a15d9bf1",
       "version_major": 2,
       "version_minor": 0
      },
      "text/plain": [
       "Validation: 0it [00:00, ?it/s]"
      ]
     },
     "metadata": {},
     "output_type": "display_data"
    },
    {
     "data": {
      "application/vnd.jupyter.widget-view+json": {
       "model_id": "7adafb4ef4e941dd82bf48e3c8af8c39",
       "version_major": 2,
       "version_minor": 0
      },
      "text/plain": [
       "Validation: 0it [00:00, ?it/s]"
      ]
     },
     "metadata": {},
     "output_type": "display_data"
    },
    {
     "name": "stderr",
     "output_type": "stream",
     "text": [
      "Metric val_f1 improved by 0.002 >= min_delta = 0.001. New best score: 0.884\n"
     ]
    },
    {
     "data": {
      "application/vnd.jupyter.widget-view+json": {
       "model_id": "dc63f951538f4c41969fbe778c6e8dfc",
       "version_major": 2,
       "version_minor": 0
      },
      "text/plain": [
       "Validation: 0it [00:00, ?it/s]"
      ]
     },
     "metadata": {},
     "output_type": "display_data"
    },
    {
     "data": {
      "application/vnd.jupyter.widget-view+json": {
       "model_id": "2df4255fac674eaab56fc267b89fe966",
       "version_major": 2,
       "version_minor": 0
      },
      "text/plain": [
       "Validation: 0it [00:00, ?it/s]"
      ]
     },
     "metadata": {},
     "output_type": "display_data"
    },
    {
     "data": {
      "application/vnd.jupyter.widget-view+json": {
       "model_id": "e85881ac9386486385c9a1cda8ea945c",
       "version_major": 2,
       "version_minor": 0
      },
      "text/plain": [
       "Validation: 0it [00:00, ?it/s]"
      ]
     },
     "metadata": {},
     "output_type": "display_data"
    },
    {
     "data": {
      "application/vnd.jupyter.widget-view+json": {
       "model_id": "13dcc60291b44e6fa1c3f3b9a109ad45",
       "version_major": 2,
       "version_minor": 0
      },
      "text/plain": [
       "Validation: 0it [00:00, ?it/s]"
      ]
     },
     "metadata": {},
     "output_type": "display_data"
    },
    {
     "data": {
      "application/vnd.jupyter.widget-view+json": {
       "model_id": "8611072af4b24f2aa70e8ca395d72569",
       "version_major": 2,
       "version_minor": 0
      },
      "text/plain": [
       "Validation: 0it [00:00, ?it/s]"
      ]
     },
     "metadata": {},
     "output_type": "display_data"
    },
    {
     "name": "stderr",
     "output_type": "stream",
     "text": [
      "Monitored metric val_f1 did not improve in the last 5 records. Best score: 0.884. Signaling Trainer to stop.\n"
     ]
    }
   ],
   "source": [
    "import torch\n",
    "import pytorch_lightning as pl\n",
    "from pytorch_lightning.callbacks import EarlyStopping, TQDMProgressBar, ModelCheckpoint\n",
    "import src.net as net, src.data as data\n",
    "from pytorch_lightning.plugins.precision import MixedPrecisionPlugin\n",
    "\n",
    "torch.set_float32_matmul_precision('medium')\n",
    "\n",
    "class CFG:\n",
    "    name='resnet'\n",
    "    # name='mlp'\n",
    "    # name='ftt'\n",
    "    lr = 5e-4\n",
    "\n",
    "    scheduler='cosine'\n",
    "    num_cycles=0.5\n",
    "    num_warmup_steps=30\n",
    "    epochs=30\n",
    "    batch_size=32\n",
    "    gradient_checkpointing=False\n",
    "    gradient_accumulation_steps=1\n",
    "    max_grad_norm=50\n",
    "    precision = 16\n",
    "\n",
    "    num_classes = 874\n",
    "\n",
    "def train_fold(Xy:pd.DataFrame, Xy_test:pd.DataFrame, fold:int=0):\n",
    "    print('[TRAIN FOLD]:',fold)\n",
    "    net.set_seed(SEED + 10*fold)\n",
    "    NAME_CKPT = f'best_f{fold}'\n",
    "\n",
    "    dm = data.FTTDataModule(Xy, Xy_test, fold=fold, batch_size = CFG.batch_size, val_bs=32,n_cpu=3)\n",
    "\n",
    "    model = net.FTTModule(name=CFG.name)\n",
    "\n",
    "    tq = TQDMProgressBar(refresh_rate=5)\n",
    "\n",
    "    es = EarlyStopping('val_f1', min_delta=0.001,patience=5,verbose=True, mode='max', check_on_train_epoch_end=False)\n",
    "\n",
    "    chpt = ModelCheckpoint(dirpath=CHECKPOINT_DIR,filename=f'best_f{fold}',  monitor='val_f1',mode='max')\n",
    "\n",
    "    trainer = pl.Trainer(\n",
    "        # precision=CFG.precision,\n",
    "        # plugins=[MixedPrecisionPlugin(precision=16,device='cuda')],\n",
    "    callbacks=[tq,es,chpt],\n",
    "    max_epochs=CFG.epochs,\n",
    "    deterministic = True,\n",
    "    accelerator='auto',\n",
    "    accumulate_grad_batches = CFG.gradient_accumulation_steps,\n",
    "    gradient_clip_val = CFG.max_grad_norm,\n",
    "    # val_check_interval = 0.001,\n",
    "#     logger = False,\n",
    "    log_every_n_steps = 50,\n",
    "    enable_model_summary = True if fold==0 else False)\n",
    "\n",
    "    trainer.fit(model, datamodule=dm)\n",
    "\n",
    "    del trainer\n",
    "    torch.cuda.empty_cache()\n",
    "    gc.collect()\n",
    "\n",
    "    return chpt.best_model_score.cpu().item()\n",
    "\n",
    "res = []\n",
    "for fold in sorted(Xy['fold'].unique()):\n",
    "    res_fold = train_fold(Xy, X_test, fold=fold)\n",
    "    res.append((fold,res_fold))\n",
    "    break"
   ]
  }
 ],
 "metadata": {
  "kernelspec": {
   "display_name": "im_trf",
   "language": "python",
   "name": "python3"
  },
  "language_info": {
   "codemirror_mode": {
    "name": "ipython",
    "version": 3
   },
   "file_extension": ".py",
   "mimetype": "text/x-python",
   "name": "python",
   "nbconvert_exporter": "python",
   "pygments_lexer": "ipython3",
   "version": "3.8.12"
  },
  "orig_nbformat": 4,
  "vscode": {
   "interpreter": {
    "hash": "f395267f3ccdabd8d7e2957c89bfb78e94a6b689c33f726ec7a74f0cde5120e6"
   }
  }
 },
 "nbformat": 4,
 "nbformat_minor": 2
}
