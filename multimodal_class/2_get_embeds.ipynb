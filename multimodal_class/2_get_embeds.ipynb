{
 "cells": [
  {
   "attachments": {},
   "cell_type": "markdown",
   "metadata": {},
   "source": [
    "Получение эмбеддингов из текста и изображений, одновременно тренируем модели"
   ]
  },
  {
   "cell_type": "code",
   "execution_count": 1,
   "metadata": {},
   "outputs": [
    {
     "name": "stdout",
     "output_type": "stream",
     "text": [
      "INFO: Pandarallel will run on 8 workers.\n",
      "INFO: Pandarallel will use Memory file system to transfer data between the main process and workers.\n"
     ]
    },
    {
     "name": "stderr",
     "output_type": "stream",
     "text": [
      "[nltk_data] Downloading package stopwords to /home/ubuntu/nltk_data...\n",
      "[nltk_data]   Package stopwords is already up-to-date!\n"
     ]
    }
   ],
   "source": [
    "%load_ext autoreload\n",
    "%autoreload 1\n",
    "%aimport src.my, src.net, src.data, src.models, src.text_utils\n",
    "\n",
    "import sys\n",
    "import numpy as np\n",
    "import pandas as pd\n",
    "\n",
    "import os\n",
    "import gc\n",
    "import matplotlib.pyplot as plt\n",
    "import importlib\n",
    "import pickle\n",
    "\n",
    "# import net, data\n",
    "import src.text_utils as tu\n",
    "import src.my as my\n",
    "from src.my import p\n",
    "from tqdm.notebook import tqdm\n",
    "\n",
    "pd.set_option('display.max_rows', 200)\n",
    "pd.set_option(\"max_colwidth\", 45)\n",
    "pd.set_option(\"display.precision\", 1)\n",
    "pd.options.display.float_format = \"{:.3f}\".format\n",
    "# pd.set_option(\"display.max_rows\", 5)\n",
    "# pd.reset_option(\"display.max_rows\")\n",
    "\n",
    "from sklearn.model_selection import train_test_split\n",
    "\n",
    "# from pandarallel import pandarallel\n",
    "# pandarallel.initialize(progress_bar=True)\n",
    "\n",
    "dir_data = 'data/'\n",
    "dir_out = 'out/'\n",
    "os.makedirs(dir_out, exist_ok=True)\n",
    "\n",
    "SEED = 34\n",
    "N_CPU = os.cpu_count()\n",
    "\n",
    "np.random.seed(SEED)\n",
    "rng = np.random.default_rng(SEED)"
   ]
  },
  {
   "attachments": {},
   "cell_type": "markdown",
   "metadata": {},
   "source": [
    "Загружаем подготовленные датасеты"
   ]
  },
  {
   "cell_type": "code",
   "execution_count": 2,
   "metadata": {},
   "outputs": [
    {
     "data": {
      "text/html": [
       "<div>\n",
       "<style scoped>\n",
       "    .dataframe tbody tr th:only-of-type {\n",
       "        vertical-align: middle;\n",
       "    }\n",
       "\n",
       "    .dataframe tbody tr th {\n",
       "        vertical-align: top;\n",
       "    }\n",
       "\n",
       "    .dataframe thead th {\n",
       "        text-align: right;\n",
       "    }\n",
       "</style>\n",
       "<table border=\"1\" class=\"dataframe\">\n",
       "  <thead>\n",
       "    <tr style=\"text-align: right;\">\n",
       "      <th></th>\n",
       "      <th>product_id</th>\n",
       "      <th>category_id</th>\n",
       "      <th>shop_id</th>\n",
       "      <th>category_name</th>\n",
       "      <th>fold</th>\n",
       "      <th>text</th>\n",
       "    </tr>\n",
       "  </thead>\n",
       "  <tbody>\n",
       "    <tr>\n",
       "      <th>0</th>\n",
       "      <td>325286</td>\n",
       "      <td>251</td>\n",
       "      <td>493</td>\n",
       "      <td>электроника смартфоны телефоны аксессуары...</td>\n",
       "      <td>4</td>\n",
       "      <td>зарядный кабель borofone bx1 lightning ай...</td>\n",
       "    </tr>\n",
       "    <tr>\n",
       "      <th>1</th>\n",
       "      <td>888134</td>\n",
       "      <td>748</td>\n",
       "      <td>6081</td>\n",
       "      <td>одежда женская одежда белье купальники трусы</td>\n",
       "      <td>3</td>\n",
       "      <td>трусы sela трусы слипы эластичного бесшов...</td>\n",
       "    </tr>\n",
       "  </tbody>\n",
       "</table>\n",
       "</div>"
      ],
      "text/plain": [
       "   product_id  category_id  shop_id  \\\n",
       "0      325286          251      493   \n",
       "1      888134          748     6081   \n",
       "\n",
       "                                  category_name  fold  \\\n",
       "0  электроника смартфоны телефоны аксессуары...     4   \n",
       "1  одежда женская одежда белье купальники трусы     3   \n",
       "\n",
       "                                           text  \n",
       "0  зарядный кабель borofone bx1 lightning ай...  \n",
       "1  трусы sela трусы слипы эластичного бесшов...  "
      ]
     },
     "execution_count": 2,
     "metadata": {},
     "output_type": "execute_result"
    }
   ],
   "source": [
    "Xy = pd.read_parquet(dir_out+'prepared_df.pq')\n",
    "X_test = pd.read_parquet(dir_out+'prepared_test.pq')\n",
    "Xy[:2]"
   ]
  },
  {
   "attachments": {},
   "cell_type": "markdown",
   "metadata": {},
   "source": [
    "Большая часть описаний товаров состоит из менее чем 200 слов, но f1 была выше когда я брал только 64 первых слова:"
   ]
  },
  {
   "cell_type": "code",
   "execution_count": 4,
   "metadata": {},
   "outputs": [
    {
     "data": {
      "image/png": "[encoded data removed]",
      "text/plain": [
       "<Figure size 640x480 with 1 Axes>"
      ]
     },
     "metadata": {},
     "output_type": "display_data"
    }
   ],
   "source": [
    "Xy['number_words'] = Xy['text'].apply(tu.number_words)\n",
    "_ = Xy['number_words'].hist(bins=50)"
   ]
  },
  {
   "cell_type": "code",
   "execution_count": 6,
   "metadata": {},
   "outputs": [
    {
     "data": {
      "text/plain": [
       "count   91120.000\n",
       "mean       75.143\n",
       "std        68.724\n",
       "min         2.000\n",
       "50%        58.000\n",
       "90%       146.000\n",
       "95%       199.000\n",
       "98%       273.000\n",
       "max      2834.000\n",
       "Name: number_words, dtype: float64"
      ]
     },
     "execution_count": 6,
     "metadata": {},
     "output_type": "execute_result"
    }
   ],
   "source": [
    "Xy['number_words'].describe(percentiles=[0.9,0.95,0.98])"
   ]
  },
  {
   "attachments": {},
   "cell_type": "markdown",
   "metadata": {},
   "source": [
    "Создаем папку bert_model/ в которую будут сохраняться чекпойнты с лучшими скорами и туда же сохраним эмбеддинги полученные от этих моделей для каждого фолда"
   ]
  },
  {
   "cell_type": "code",
   "execution_count": null,
   "metadata": {},
   "outputs": [],
   "source": [
    "# !rm -rf out/bert_model"
   ]
  },
  {
   "cell_type": "code",
   "execution_count": 8,
   "metadata": {},
   "outputs": [
    {
     "data": {
      "text/plain": [
       "'out/bert_model/'"
      ]
     },
     "execution_count": 8,
     "metadata": {},
     "output_type": "execute_result"
    }
   ],
   "source": [
    "CHECKPOINT_DIR = dir_out + 'bert_model/'\n",
    "os.makedirs(CHECKPOINT_DIR, exist_ok=True)\n",
    "CHECKPOINT_DIR"
   ]
  },
  {
   "attachments": {},
   "cell_type": "markdown",
   "metadata": {},
   "source": [
    "Fine-tunim берт, используя Mixed Precision для увеличения скорости, одна эпоха около 5 мин. Из лучших моделей сохраняем эмбеддинги для всех датасетов функцией data.save_all_embs"
   ]
  },
  {
   "cell_type": "code",
   "execution_count": null,
   "metadata": {},
   "outputs": [],
   "source": [
    "import torch\n",
    "import pytorch_lightning as pl\n",
    "from pytorch_lightning.callbacks import EarlyStopping, TQDMProgressBar, ModelCheckpoint\n",
    "import src.net as net, src.data as data\n",
    "from pytorch_lightning.plugins.precision import MixedPrecisionPlugin\n",
    "\n",
    "torch.set_float32_matmul_precision('medium')\n",
    "os.environ[\"TOKENIZERS_PARALLELISM\"] = \"false\"\n",
    "\n",
    "class CFG:\n",
    "    model_name = 'cointegrated/LaBSE-en-ru'\n",
    "    scheduler='cosine'\n",
    "    num_cycles=0.5\n",
    "    num_warmup_steps=30\n",
    "    epochs=30\n",
    "    batch_size=128\n",
    "    max_length = 64\n",
    "    gradient_checkpointing=False\n",
    "    gradient_accumulation_steps=1\n",
    "    max_grad_norm=50\n",
    "    precision = 16\n",
    "\n",
    "def train_fold(Xy:pd.DataFrame, Xy_test:pd.DataFrame, fold:int=0):\n",
    "    print('[TRAIN FOLD]:',fold)\n",
    "    net.set_seed(SEED + 10*fold)\n",
    "    NAME_CKPT = f'best_f{fold}'\n",
    "\n",
    "    dm = data.BertDataModule(Xy, Xy_test, fold=fold, batch_size = CFG.batch_size, n_cpu=3, cfg=CFG)\n",
    "\n",
    "    CFG.num_train_steps = int(dm.len_train/CFG.batch_size*CFG.epochs)\n",
    "\n",
    "    model = net.BertModule(CFG, lr = 5e-5)\n",
    "\n",
    "    tq = TQDMProgressBar(refresh_rate=5)\n",
    "\n",
    "    es = EarlyStopping('val_f1', min_delta=0.001,patience=5,verbose=True, mode='max', check_on_train_epoch_end=False)\n",
    "\n",
    "    chpt = ModelCheckpoint(dirpath=CHECKPOINT_DIR,filename=f'best_f{fold}',  monitor='val_f1',mode='max')\n",
    "\n",
    "    trainer = pl.Trainer(\n",
    "        precision=CFG.precision,\n",
    "        plugins=[MixedPrecisionPlugin(precision=16,device='cuda')],\n",
    "    callbacks=[tq,es,chpt],\n",
    "    max_epochs=CFG.epochs,\n",
    "    deterministic = True,\n",
    "    accelerator='auto',\n",
    "    accumulate_grad_batches = CFG.gradient_accumulation_steps,\n",
    "    gradient_clip_val = CFG.max_grad_norm,\n",
    "    log_every_n_steps = 50,\n",
    "    enable_model_summary = True if fold==0 else False,\n",
    "    # val_check_interval = 1.,\n",
    "#         auto_lr_find=True\n",
    "    )\n",
    "    trainer.fit(model, datamodule=dm)\n",
    "\n",
    "    del trainer\n",
    "    torch.cuda.empty_cache()\n",
    "    gc.collect()\n",
    "\n",
    "    model = net.BertModule.load_from_checkpoint(checkpoint_path=chpt.best_model_path).to(net.device)\n",
    "\n",
    "    data.save_all_embs(model, dm, prefix='bert',dir_out= CHECKPOINT_DIR)\n",
    "\n",
    "    return chpt.best_model_score.cpu().item()\n",
    "\n",
    "res = []\n",
    "for fold in sorted(Xy['fold'].unique()):\n",
    "    res_fold = train_fold(Xy, X_test, fold=fold)\n",
    "    res.append((fold,res_fold))"
   ]
  },
  {
   "attachments": {},
   "cell_type": "markdown",
   "metadata": {},
   "source": [
    "Так как логов много, я их удалил, в цикле ниже выполняется валидация еще раз и предсказание на тестовом датасете для final submit"
   ]
  },
  {
   "cell_type": "code",
   "execution_count": null,
   "metadata": {},
   "outputs": [],
   "source": [
    "scores = []\n",
    "preds = []\n",
    "\n",
    "for fold in sorted(Xy['fold'].unique()):\n",
    "    dm = data.BertDataModule(Xy, X_test, fold=fold, batch_size = CFG.batch_size, n_cpu=3, cfg=CFG)\n",
    "    dm.setup('fit')\n",
    "\n",
    "    model = net.BertModule.load_from_checkpoint(checkpoint_path=CHECKPOINT_DIR+f'best_f{fold}.ckpt').to(net.device)\n",
    "    model.eval()\n",
    "\n",
    "    trainer = pl.Trainer(accelerator='gpu', devices=1)\n",
    "\n",
    "    score = trainer.validate(model, dm)\n",
    "    scores.append((fold,score[0]['val_f1']))\n",
    "\n",
    "    fold_test_pred = trainer.predict(model, dm)\n",
    "    preds.append(torch.cat(fold_test_pred))\n",
    "\n",
    "scores = pd.DataFrame(scores, columns=['fold', 'val_f1'])"
   ]
  },
  {
   "cell_type": "code",
   "execution_count": 28,
   "metadata": {},
   "outputs": [
    {
     "data": {
      "text/html": [
       "<div>\n",
       "<style scoped>\n",
       "    .dataframe tbody tr th:only-of-type {\n",
       "        vertical-align: middle;\n",
       "    }\n",
       "\n",
       "    .dataframe tbody tr th {\n",
       "        vertical-align: top;\n",
       "    }\n",
       "\n",
       "    .dataframe thead th {\n",
       "        text-align: right;\n",
       "    }\n",
       "</style>\n",
       "<table border=\"1\" class=\"dataframe\">\n",
       "  <thead>\n",
       "    <tr style=\"text-align: right;\">\n",
       "      <th></th>\n",
       "      <th>fold</th>\n",
       "      <th>val_f1</th>\n",
       "    </tr>\n",
       "  </thead>\n",
       "  <tbody>\n",
       "    <tr>\n",
       "      <th>0</th>\n",
       "      <td>0</td>\n",
       "      <td>0.883</td>\n",
       "    </tr>\n",
       "    <tr>\n",
       "      <th>1</th>\n",
       "      <td>1</td>\n",
       "      <td>0.891</td>\n",
       "    </tr>\n",
       "    <tr>\n",
       "      <th>2</th>\n",
       "      <td>2</td>\n",
       "      <td>0.887</td>\n",
       "    </tr>\n",
       "    <tr>\n",
       "      <th>3</th>\n",
       "      <td>3</td>\n",
       "      <td>0.881</td>\n",
       "    </tr>\n",
       "    <tr>\n",
       "      <th>4</th>\n",
       "      <td>4</td>\n",
       "      <td>0.880</td>\n",
       "    </tr>\n",
       "  </tbody>\n",
       "</table>\n",
       "</div>"
      ],
      "text/plain": [
       "   fold  val_f1\n",
       "0     0   0.883\n",
       "1     1   0.891\n",
       "2     2   0.887\n",
       "3     3   0.881\n",
       "4     4   0.880"
      ]
     },
     "execution_count": 28,
     "metadata": {},
     "output_type": "execute_result"
    }
   ],
   "source": [
    "scores"
   ]
  },
  {
   "attachments": {},
   "cell_type": "markdown",
   "metadata": {},
   "source": [
    "Усредняем предсказания по фолдам"
   ]
  },
  {
   "cell_type": "code",
   "execution_count": 36,
   "metadata": {},
   "outputs": [
    {
     "data": {
      "text/plain": [
       "torch.Size([16860, 874])"
      ]
     },
     "execution_count": 36,
     "metadata": {},
     "output_type": "execute_result"
    }
   ],
   "source": [
    "mean_fold_preds = torch.mean(torch.stack(preds), dim=0)\n",
    "mean_fold_preds.shape"
   ]
  },
  {
   "cell_type": "code",
   "execution_count": 37,
   "metadata": {},
   "outputs": [
    {
     "data": {
      "text/plain": [
       "tensor([573, 831,  70,  ..., 610,  19, 156])"
      ]
     },
     "execution_count": 37,
     "metadata": {},
     "output_type": "execute_result"
    }
   ],
   "source": [
    "categories = torch.argmax(mean_fold_preds, dim = 1)\n",
    "categories"
   ]
  },
  {
   "cell_type": "code",
   "execution_count": 49,
   "metadata": {},
   "outputs": [
    {
     "data": {
      "text/html": [
       "<div>\n",
       "<style scoped>\n",
       "    .dataframe tbody tr th:only-of-type {\n",
       "        vertical-align: middle;\n",
       "    }\n",
       "\n",
       "    .dataframe tbody tr th {\n",
       "        vertical-align: top;\n",
       "    }\n",
       "\n",
       "    .dataframe thead th {\n",
       "        text-align: right;\n",
       "    }\n",
       "</style>\n",
       "<table border=\"1\" class=\"dataframe\">\n",
       "  <thead>\n",
       "    <tr style=\"text-align: right;\">\n",
       "      <th></th>\n",
       "      <th>product_id</th>\n",
       "      <th>predicted_category_id</th>\n",
       "    </tr>\n",
       "  </thead>\n",
       "  <tbody>\n",
       "    <tr>\n",
       "      <th>0</th>\n",
       "      <td>1997646</td>\n",
       "      <td>13495</td>\n",
       "    </tr>\n",
       "    <tr>\n",
       "      <th>1</th>\n",
       "      <td>927375</td>\n",
       "      <td>14922</td>\n",
       "    </tr>\n",
       "    <tr>\n",
       "      <th>2</th>\n",
       "      <td>1921513</td>\n",
       "      <td>2803</td>\n",
       "    </tr>\n",
       "    <tr>\n",
       "      <th>3</th>\n",
       "      <td>1668662</td>\n",
       "      <td>13755</td>\n",
       "    </tr>\n",
       "    <tr>\n",
       "      <th>4</th>\n",
       "      <td>1467778</td>\n",
       "      <td>13887</td>\n",
       "    </tr>\n",
       "    <tr>\n",
       "      <th>...</th>\n",
       "      <td>...</td>\n",
       "      <td>...</td>\n",
       "    </tr>\n",
       "    <tr>\n",
       "      <th>16855</th>\n",
       "      <td>1914264</td>\n",
       "      <td>11645</td>\n",
       "    </tr>\n",
       "    <tr>\n",
       "      <th>16856</th>\n",
       "      <td>1310569</td>\n",
       "      <td>12357</td>\n",
       "    </tr>\n",
       "    <tr>\n",
       "      <th>16857</th>\n",
       "      <td>978095</td>\n",
       "      <td>13651</td>\n",
       "    </tr>\n",
       "    <tr>\n",
       "      <th>16858</th>\n",
       "      <td>797547</td>\n",
       "      <td>2740</td>\n",
       "    </tr>\n",
       "    <tr>\n",
       "      <th>16859</th>\n",
       "      <td>703835</td>\n",
       "      <td>11757</td>\n",
       "    </tr>\n",
       "  </tbody>\n",
       "</table>\n",
       "<p>16860 rows × 2 columns</p>\n",
       "</div>"
      ],
      "text/plain": [
       "       product_id  predicted_category_id\n",
       "0         1997646                  13495\n",
       "1          927375                  14922\n",
       "2         1921513                   2803\n",
       "3         1668662                  13755\n",
       "4         1467778                  13887\n",
       "...           ...                    ...\n",
       "16855     1914264                  11645\n",
       "16856     1310569                  12357\n",
       "16857      978095                  13651\n",
       "16858      797547                   2740\n",
       "16859      703835                  11757\n",
       "\n",
       "[16860 rows x 2 columns]"
      ]
     },
     "execution_count": 49,
     "metadata": {},
     "output_type": "execute_result"
    }
   ],
   "source": [
    "submission = X_test[['product_id']].copy()\n",
    "submission['predicted_category_id'] = categories.numpy()\n",
    "encoders = my.load_pickle(dir_out+'encoders.pik')\n",
    "submission['predicted_category_id'] = encoders['cat_enc'].inverse_transform(submission['predicted_category_id'])\n",
    "submission"
   ]
  },
  {
   "cell_type": "code",
   "execution_count": 50,
   "metadata": {},
   "outputs": [],
   "source": [
    "submission.to_parquet('result.parquet',index=False)"
   ]
  },
  {
   "attachments": {},
   "cell_type": "markdown",
   "metadata": {},
   "source": [
    "Fine-tunim EfficientNet, замораживая первые 3 слоя, используя аугментации. Эпоха около 4 мин. Из лучших моделей сохраняем эмбеддинги для всех датасетов функцией data.save_all_embs"
   ]
  },
  {
   "cell_type": "code",
   "execution_count": 3,
   "metadata": {},
   "outputs": [
    {
     "data": {
      "text/plain": [
       "'out/image_model/'"
      ]
     },
     "execution_count": 3,
     "metadata": {},
     "output_type": "execute_result"
    }
   ],
   "source": [
    "CHECKPOINT_DIR = dir_out + 'image_model/'\n",
    "os.makedirs(CHECKPOINT_DIR, exist_ok=True)\n",
    "CHECKPOINT_DIR"
   ]
  },
  {
   "cell_type": "code",
   "execution_count": null,
   "metadata": {},
   "outputs": [],
   "source": [
    "import torch\n",
    "import pytorch_lightning as pl\n",
    "from pytorch_lightning.callbacks import EarlyStopping, TQDMProgressBar, ModelCheckpoint\n",
    "import src.net as net, src.data as data\n",
    "\n",
    "torch.set_float32_matmul_precision('medium')\n",
    "\n",
    "def train_fold(Xy:pd.DataFrame, Xy_test:pd.DataFrame, fold:int=0):\n",
    "    print('[TRAIN FOLD]:',fold)\n",
    "    net.set_seed(SEED + 10*fold)\n",
    "    NAME_CKPT = f'best_f{fold}'\n",
    "\n",
    "    dm = data.ImageDataModule(Xy, Xy_test, fold=fold, batch_size=196)\n",
    "\n",
    "    model = net.ImageModule(lr = 0.001,freeze_first_layers=3)\n",
    "\n",
    "    tq = TQDMProgressBar(refresh_rate=5)\n",
    "\n",
    "    es = EarlyStopping('val_f1', min_delta=0.001,patience=6, verbose=True, mode='max', check_on_train_epoch_end=False)\n",
    "\n",
    "    chpt = ModelCheckpoint(dirpath=CHECKPOINT_DIR,filename=f'best_f{fold}',  monitor='val_f1',mode='max')\n",
    "\n",
    "    trainer = pl.Trainer(\n",
    "    callbacks=[tq,es,chpt],\n",
    "    max_epochs=500,\n",
    "    deterministic = True,\n",
    "    accelerator='auto',\n",
    "    log_every_n_steps = 50,\n",
    "    enable_model_summary = True if fold==0 else False,\n",
    "    # val_check_interval = 1.,\n",
    "#         auto_lr_find=True\n",
    "    )\n",
    "    trainer.fit(model, datamodule=dm) # ckpt_path =\n",
    "\n",
    "    del trainer, model\n",
    "    torch.cuda.empty_cache()\n",
    "    gc.collect()\n",
    "\n",
    "    model = net.ImageModule.load_from_checkpoint(checkpoint_path=chpt.best_model_path).to(net.device)\n",
    "\n",
    "    data.save_all_embs(model, dm, prefix='img',dir_out= CHECKPOINT_DIR)\n",
    "\n",
    "    return chpt.best_model_score.cpu().item()\n",
    "\n",
    "res = []\n",
    "for fold in sorted(Xy['fold'].unique()):\n",
    "    res_fold = train_fold(Xy, X_test, fold=fold)\n",
    "    res.append((fold,res_fold))\n",
    "    break"
   ]
  },
  {
   "cell_type": "code",
   "execution_count": null,
   "metadata": {},
   "outputs": [],
   "source": [
    "scores = []\n",
    "\n",
    "for fold in sorted(Xy['fold'].unique()):\n",
    "    dm = data.ImageDataModule(Xy, X_test, fold=fold, batch_size=196)\n",
    "    dm.setup('fit')\n",
    "\n",
    "    model = net.ImageModule.load_from_checkpoint(checkpoint_path=CHECKPOINT_DIR+f'best_f{fold}.ckpt').to(net.device)\n",
    "    model.eval()\n",
    "\n",
    "    trainer = pl.Trainer(accelerator='gpu', devices=1)\n",
    "\n",
    "    score = trainer.validate(model, dm)\n",
    "    scores.append((fold,score[0]['val_f1']))\n",
    "\n",
    "scores = pd.DataFrame(scores, columns=['fold', 'val_f1'])"
   ]
  },
  {
   "cell_type": "code",
   "execution_count": 11,
   "metadata": {},
   "outputs": [
    {
     "data": {
      "text/html": [
       "<div>\n",
       "<style scoped>\n",
       "    .dataframe tbody tr th:only-of-type {\n",
       "        vertical-align: middle;\n",
       "    }\n",
       "\n",
       "    .dataframe tbody tr th {\n",
       "        vertical-align: top;\n",
       "    }\n",
       "\n",
       "    .dataframe thead th {\n",
       "        text-align: right;\n",
       "    }\n",
       "</style>\n",
       "<table border=\"1\" class=\"dataframe\">\n",
       "  <thead>\n",
       "    <tr style=\"text-align: right;\">\n",
       "      <th></th>\n",
       "      <th>fold</th>\n",
       "      <th>val_f1</th>\n",
       "    </tr>\n",
       "  </thead>\n",
       "  <tbody>\n",
       "    <tr>\n",
       "      <th>0</th>\n",
       "      <td>0</td>\n",
       "      <td>0.613</td>\n",
       "    </tr>\n",
       "    <tr>\n",
       "      <th>1</th>\n",
       "      <td>1</td>\n",
       "      <td>0.637</td>\n",
       "    </tr>\n",
       "    <tr>\n",
       "      <th>2</th>\n",
       "      <td>2</td>\n",
       "      <td>0.636</td>\n",
       "    </tr>\n",
       "    <tr>\n",
       "      <th>3</th>\n",
       "      <td>3</td>\n",
       "      <td>0.635</td>\n",
       "    </tr>\n",
       "    <tr>\n",
       "      <th>4</th>\n",
       "      <td>4</td>\n",
       "      <td>0.630</td>\n",
       "    </tr>\n",
       "  </tbody>\n",
       "</table>\n",
       "</div>"
      ],
      "text/plain": [
       "   fold  val_f1\n",
       "0     0   0.613\n",
       "1     1   0.637\n",
       "2     2   0.636\n",
       "3     3   0.635\n",
       "4     4   0.630"
      ]
     },
     "execution_count": 11,
     "metadata": {},
     "output_type": "execute_result"
    }
   ],
   "source": [
    "scores"
   ]
  }
 ],
 "metadata": {
  "kernelspec": {
   "display_name": "im_trf",
   "language": "python",
   "name": "python3"
  },
  "language_info": {
   "codemirror_mode": {
    "name": "ipython",
    "version": 3
   },
   "file_extension": ".py",
   "mimetype": "text/x-python",
   "name": "python",
   "nbconvert_exporter": "python",
   "pygments_lexer": "ipython3",
   "version": "3.8.12"
  },
  "orig_nbformat": 4,
  "vscode": {
   "interpreter": {
    "hash": "f395267f3ccdabd8d7e2957c89bfb78e94a6b689c33f726ec7a74f0cde5120e6"
   }
  }
 },
 "nbformat": 4,
 "nbformat_minor": 2
}
