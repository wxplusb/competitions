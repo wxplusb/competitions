{
 "cells": [
  {
   "cell_type": "code",
   "execution_count": 27,
   "metadata": {},
   "outputs": [
    {
     "name": "stdout",
     "output_type": "stream",
     "text": [
      "The autoreload extension is already loaded. To reload it, use:\n",
      "  %reload_ext autoreload\n"
     ]
    }
   ],
   "source": [
    "%load_ext autoreload\n",
    "%autoreload 1\n",
    "%aimport src.my, src.net, src.data, src.models, src.text_utils, src.huse, src.losses\n",
    "\n",
    "import sys\n",
    "import numpy as np\n",
    "import pandas as pd\n",
    "\n",
    "import os\n",
    "import gc\n",
    "import matplotlib.pyplot as plt\n",
    "import importlib\n",
    "import pickle\n",
    "\n",
    "# import net, data\n",
    "import src.huse as huse\n",
    "import src.models as ms\n",
    "import src.net as net\n",
    "import src.text_utils as tu\n",
    "import src.my as my\n",
    "from src.my import p\n",
    "from tqdm.notebook import tqdm\n",
    "\n",
    "pd.set_option('display.max_rows', 200)\n",
    "pd.set_option(\"max_colwidth\", 45)\n",
    "pd.set_option(\"display.precision\", 1)\n",
    "pd.options.display.float_format = \"{:.3f}\".format\n",
    "# pd.set_option(\"display.max_rows\", 5)\n",
    "# pd.reset_option(\"display.max_rows\")\n",
    "\n",
    "from sklearn.model_selection import train_test_split\n",
    "\n",
    "# from pandarallel import pandarallel\n",
    "# pandarallel.initialize(progress_bar=True)\n",
    "\n",
    "dir_data = 'data/'\n",
    "dir_out = 'out/'\n",
    "os.makedirs(dir_out, exist_ok=True)\n",
    "\n",
    "SEED = 34\n",
    "N_CPU = os.cpu_count()\n",
    "\n",
    "np.random.seed(SEED)\n",
    "rng = np.random.default_rng(SEED)\n",
    "\n",
    "os.environ[\"TOKENIZERS_PARALLELISM\"] = \"false\""
   ]
  },
  {
   "cell_type": "code",
   "execution_count": 2,
   "metadata": {},
   "outputs": [
    {
     "data": {
      "text/html": [
       "<div>\n",
       "<style scoped>\n",
       "    .dataframe tbody tr th:only-of-type {\n",
       "        vertical-align: middle;\n",
       "    }\n",
       "\n",
       "    .dataframe tbody tr th {\n",
       "        vertical-align: top;\n",
       "    }\n",
       "\n",
       "    .dataframe thead th {\n",
       "        text-align: right;\n",
       "    }\n",
       "</style>\n",
       "<table border=\"1\" class=\"dataframe\">\n",
       "  <thead>\n",
       "    <tr style=\"text-align: right;\">\n",
       "      <th></th>\n",
       "      <th>product_id</th>\n",
       "      <th>category_id</th>\n",
       "      <th>shop_id</th>\n",
       "      <th>category_name</th>\n",
       "      <th>fold</th>\n",
       "      <th>text</th>\n",
       "    </tr>\n",
       "  </thead>\n",
       "  <tbody>\n",
       "    <tr>\n",
       "      <th>0</th>\n",
       "      <td>325286</td>\n",
       "      <td>251</td>\n",
       "      <td>493</td>\n",
       "      <td>электроника смартфоны телефоны аксессуары...</td>\n",
       "      <td>4</td>\n",
       "      <td>зарядный кабель borofone bx1 lightning ай...</td>\n",
       "    </tr>\n",
       "    <tr>\n",
       "      <th>1</th>\n",
       "      <td>888134</td>\n",
       "      <td>748</td>\n",
       "      <td>6081</td>\n",
       "      <td>одежда женская одежда белье купальники трусы</td>\n",
       "      <td>3</td>\n",
       "      <td>трусы sela трусы слипы эластичного бесшов...</td>\n",
       "    </tr>\n",
       "  </tbody>\n",
       "</table>\n",
       "</div>"
      ],
      "text/plain": [
       "   product_id  category_id  shop_id  \\\n",
       "0      325286          251      493   \n",
       "1      888134          748     6081   \n",
       "\n",
       "                                  category_name  fold  \\\n",
       "0  электроника смартфоны телефоны аксессуары...     4   \n",
       "1  одежда женская одежда белье купальники трусы     3   \n",
       "\n",
       "                                           text  \n",
       "0  зарядный кабель borofone bx1 lightning ай...  \n",
       "1  трусы sela трусы слипы эластичного бесшов...  "
      ]
     },
     "execution_count": 2,
     "metadata": {},
     "output_type": "execute_result"
    }
   ],
   "source": [
    "Xy = pd.read_parquet(dir_out+'prepared_df.pq')\n",
    "X_test = pd.read_parquet(dir_out+'prepared_test.pq')\n",
    "Xy[:2]"
   ]
  },
  {
   "cell_type": "code",
   "execution_count": 3,
   "metadata": {},
   "outputs": [
    {
     "data": {
      "text/html": [
       "<div>\n",
       "<style scoped>\n",
       "    .dataframe tbody tr th:only-of-type {\n",
       "        vertical-align: middle;\n",
       "    }\n",
       "\n",
       "    .dataframe tbody tr th {\n",
       "        vertical-align: top;\n",
       "    }\n",
       "\n",
       "    .dataframe thead th {\n",
       "        text-align: right;\n",
       "    }\n",
       "</style>\n",
       "<table border=\"1\" class=\"dataframe\">\n",
       "  <thead>\n",
       "    <tr style=\"text-align: right;\">\n",
       "      <th></th>\n",
       "      <th>product_id</th>\n",
       "      <th>shop_id</th>\n",
       "      <th>text</th>\n",
       "    </tr>\n",
       "  </thead>\n",
       "  <tbody>\n",
       "    <tr>\n",
       "      <th>0</th>\n",
       "      <td>1997646</td>\n",
       "      <td>6217</td>\n",
       "      <td>светодиодная лента smart led strip light ...</td>\n",
       "    </tr>\n",
       "    <tr>\n",
       "      <th>1</th>\n",
       "      <td>927375</td>\n",
       "      <td>1796</td>\n",
       "      <td>стекло пленка керамик матовое honor lite ...</td>\n",
       "    </tr>\n",
       "  </tbody>\n",
       "</table>\n",
       "</div>"
      ],
      "text/plain": [
       "   product_id  shop_id                                          text\n",
       "0     1997646     6217  светодиодная лента smart led strip light ...\n",
       "1      927375     1796  стекло пленка керамик матовое honor lite ..."
      ]
     },
     "execution_count": 3,
     "metadata": {},
     "output_type": "execute_result"
    }
   ],
   "source": [
    "X_test[:2]"
   ]
  },
  {
   "cell_type": "code",
   "execution_count": 4,
   "metadata": {},
   "outputs": [
    {
     "data": {
      "text/plain": [
       "'out/huse_model'"
      ]
     },
     "execution_count": 4,
     "metadata": {},
     "output_type": "execute_result"
    }
   ],
   "source": [
    "CHECKPOINT_DIR = dir_out + 'huse_model'\n",
    "os.makedirs(CHECKPOINT_DIR, exist_ok=True)\n",
    "CHECKPOINT_DIR"
   ]
  },
  {
   "attachments": {},
   "cell_type": "markdown",
   "metadata": {},
   "source": [
    "### Построение adjacency matrix Aij семантического графа\n",
    "Эта матрица нужна для вычисления семантической лосс-функции\n",
    "Элемент матрицы Aij показывает, какое расстояние между эмбеддингом названия i категории и j категории"
   ]
  },
  {
   "cell_type": "code",
   "execution_count": 5,
   "metadata": {},
   "outputs": [
    {
     "data": {
      "text/html": [
       "<div>\n",
       "<style scoped>\n",
       "    .dataframe tbody tr th:only-of-type {\n",
       "        vertical-align: middle;\n",
       "    }\n",
       "\n",
       "    .dataframe tbody tr th {\n",
       "        vertical-align: top;\n",
       "    }\n",
       "\n",
       "    .dataframe thead th {\n",
       "        text-align: right;\n",
       "    }\n",
       "</style>\n",
       "<table border=\"1\" class=\"dataframe\">\n",
       "  <thead>\n",
       "    <tr style=\"text-align: right;\">\n",
       "      <th></th>\n",
       "      <th>category_id</th>\n",
       "      <th>category_name</th>\n",
       "    </tr>\n",
       "  </thead>\n",
       "  <tbody>\n",
       "    <tr>\n",
       "      <th>0</th>\n",
       "      <td>0</td>\n",
       "      <td>одежда женская одежда белье купальники ку...</td>\n",
       "    </tr>\n",
       "    <tr>\n",
       "      <th>1</th>\n",
       "      <td>1</td>\n",
       "      <td>одежда женская одежда белье купальники пл...</td>\n",
       "    </tr>\n",
       "    <tr>\n",
       "      <th>2</th>\n",
       "      <td>2</td>\n",
       "      <td>одежда женская одежда белье купальники ма...</td>\n",
       "    </tr>\n",
       "    <tr>\n",
       "      <th>3</th>\n",
       "      <td>3</td>\n",
       "      <td>одежда женская одежда белье купальники ко...</td>\n",
       "    </tr>\n",
       "    <tr>\n",
       "      <th>4</th>\n",
       "      <td>4</td>\n",
       "      <td>одежда детская одежда одежда мальчиков но...</td>\n",
       "    </tr>\n",
       "    <tr>\n",
       "      <th>...</th>\n",
       "      <td>...</td>\n",
       "      <td>...</td>\n",
       "    </tr>\n",
       "    <tr>\n",
       "      <th>869</th>\n",
       "      <td>869</td>\n",
       "      <td>товары дома текстиль подушки подушки наво...</td>\n",
       "    </tr>\n",
       "    <tr>\n",
       "      <th>870</th>\n",
       "      <td>870</td>\n",
       "      <td>электроника умный дом безопасность видеон...</td>\n",
       "    </tr>\n",
       "    <tr>\n",
       "      <th>871</th>\n",
       "      <td>871</td>\n",
       "      <td>товары дома декор интерьер свечи подсвечн...</td>\n",
       "    </tr>\n",
       "    <tr>\n",
       "      <th>872</th>\n",
       "      <td>872</td>\n",
       "      <td>товары дома декор интерьер картины панно ...</td>\n",
       "    </tr>\n",
       "    <tr>\n",
       "      <th>873</th>\n",
       "      <td>873</td>\n",
       "      <td>товары дома декор интерьер картины панно ...</td>\n",
       "    </tr>\n",
       "  </tbody>\n",
       "</table>\n",
       "<p>874 rows × 2 columns</p>\n",
       "</div>"
      ],
      "text/plain": [
       "     category_id                                 category_name\n",
       "0              0  одежда женская одежда белье купальники ку...\n",
       "1              1  одежда женская одежда белье купальники пл...\n",
       "2              2  одежда женская одежда белье купальники ма...\n",
       "3              3  одежда женская одежда белье купальники ко...\n",
       "4              4  одежда детская одежда одежда мальчиков но...\n",
       "..           ...                                           ...\n",
       "869          869  товары дома текстиль подушки подушки наво...\n",
       "870          870  электроника умный дом безопасность видеон...\n",
       "871          871  товары дома декор интерьер свечи подсвечн...\n",
       "872          872  товары дома декор интерьер картины панно ...\n",
       "873          873  товары дома декор интерьер картины панно ...\n",
       "\n",
       "[874 rows x 2 columns]"
      ]
     },
     "execution_count": 5,
     "metadata": {},
     "output_type": "execute_result"
    }
   ],
   "source": [
    "cat_df = Xy[['category_id','category_name']].drop_duplicates(subset=['category_id']).sort_values('category_id').reset_index(drop=True).copy()\n",
    "cat_df"
   ]
  },
  {
   "attachments": {},
   "cell_type": "markdown",
   "metadata": {},
   "source": [
    "Всего 874 категории, название категории максимум 14 слов"
   ]
  },
  {
   "cell_type": "code",
   "execution_count": 6,
   "metadata": {},
   "outputs": [
    {
     "data": {
      "text/plain": [
       "count   874.000\n",
       "mean      7.283\n",
       "std       1.737\n",
       "min       3.000\n",
       "25%       6.000\n",
       "50%       7.000\n",
       "75%       8.000\n",
       "max      14.000\n",
       "Name: category_name, dtype: float64"
      ]
     },
     "execution_count": 6,
     "metadata": {},
     "output_type": "execute_result"
    }
   ],
   "source": [
    "cat_df['category_name'].apply(tu.number_words).describe()"
   ]
  },
  {
   "cell_type": "code",
   "execution_count": 7,
   "metadata": {},
   "outputs": [],
   "source": [
    "import torch\n",
    "from torch import nn, Tensor\n",
    "from torch.utils.data import DataLoader,Dataset\n",
    "import torch.nn.functional as F\n",
    "from transformers import AutoTokenizer, AutoModel, AutoConfig"
   ]
  },
  {
   "attachments": {},
   "cell_type": "markdown",
   "metadata": {},
   "source": [
    "Матрица будет размером 874 на 874"
   ]
  },
  {
   "cell_type": "code",
   "execution_count": 8,
   "metadata": {},
   "outputs": [
    {
     "data": {
      "text/plain": [
       "(874, torch.Size([874, 874]))"
      ]
     },
     "execution_count": 8,
     "metadata": {},
     "output_type": "execute_result"
    }
   ],
   "source": [
    "N_classes = len(cat_df)\n",
    "Aij = torch.zeros((N_classes, N_classes), dtype=torch.float32)\n",
    "N_classes, Aij.shape"
   ]
  },
  {
   "attachments": {},
   "cell_type": "markdown",
   "metadata": {},
   "source": [
    "Получим эмбеддинги названий категорий с помощью берта"
   ]
  },
  {
   "cell_type": "code",
   "execution_count": 9,
   "metadata": {},
   "outputs": [],
   "source": [
    "class CategoryNameDset(Dataset):\n",
    "    def __init__(self, df:pd.DataFrame, tokenizer, max_length:int=14):\n",
    "        self.inputs = tokenizer(df['category_name'].to_list(), padding='max_length', truncation=True, max_length=max_length, return_tensors='pt')\n",
    "\n",
    "    def __len__(self): return len(self.inputs[\"input_ids\"])\n",
    "\n",
    "    def __getitem__(self, idx):\n",
    "        item = {\n",
    "            \"input_ids\": self.inputs[\"input_ids\"][idx],\n",
    "            \"attention_mask\": self.inputs[\"attention_mask\"][idx],\n",
    "            }\n",
    "        if \"token_type_ids\" in self.inputs:\n",
    "            item[\"token_type_ids\"] = self.inputs[\"token_type_ids\"][idx]\n",
    "        return item\n",
    "\n",
    "\n",
    "class CategoryNameModel(nn.Module):\n",
    "    def __init__(self, model_name:str) -> None:\n",
    "        super().__init__()\n",
    "\n",
    "        self.model = AutoModel.from_pretrained(model_name)\n",
    "        self.pool = ms.MeanPooling()\n",
    "\n",
    "    def forward(self, inputs):\n",
    "        inputs = {k:v for k,v in inputs.items() if k != 'label'}\n",
    "        outputs = self.model(**inputs)\n",
    "        last_hidden_states = outputs[0]\n",
    "        feature = self.pool(last_hidden_states, inputs['attention_mask'])\n",
    "        return feature"
   ]
  },
  {
   "cell_type": "code",
   "execution_count": null,
   "metadata": {},
   "outputs": [],
   "source": [
    "tokenizer = AutoTokenizer.from_pretrained(\"cointegrated/LaBSE-en-ru\")\n",
    "model = CategoryNameModel(\"cointegrated/LaBSE-en-ru\").to(net.device)\n",
    "_ = model.eval()"
   ]
  },
  {
   "cell_type": "code",
   "execution_count": 11,
   "metadata": {},
   "outputs": [],
   "source": [
    "cat_ds = CategoryNameDset(cat_df, tokenizer)\n",
    "cat_dl = DataLoader(cat_ds, batch_size=128, num_workers=1, shuffle=False)"
   ]
  },
  {
   "cell_type": "code",
   "execution_count": 12,
   "metadata": {},
   "outputs": [
    {
     "data": {
      "text/plain": [
       "(874, 7)"
      ]
     },
     "execution_count": 12,
     "metadata": {},
     "output_type": "execute_result"
    }
   ],
   "source": [
    "len(cat_ds), len(cat_dl)"
   ]
  },
  {
   "cell_type": "code",
   "execution_count": 13,
   "metadata": {},
   "outputs": [
    {
     "data": {
      "application/vnd.jupyter.widget-view+json": {
       "model_id": "1566ff5249c24c7aa6b4d4b9a9e4894a",
       "version_major": 2,
       "version_minor": 0
      },
      "text/plain": [
       "  0%|          | 0/7 [00:00<?, ?it/s]"
      ]
     },
     "metadata": {},
     "output_type": "display_data"
    },
    {
     "data": {
      "text/plain": [
       "torch.Size([874, 768])"
      ]
     },
     "execution_count": 13,
     "metadata": {},
     "output_type": "execute_result"
    }
   ],
   "source": [
    "class_embs = []\n",
    "with torch.inference_mode():\n",
    "    for batch in tqdm(cat_dl):\n",
    "        batch = {k: v.to(net.device) if hasattr(v, 'to') else v for k, v in batch.items()}\n",
    "        out = model(batch)\n",
    "        class_embs.append(out)\n",
    "class_embs = torch.cat(class_embs)\n",
    "class_embs.shape"
   ]
  },
  {
   "attachments": {},
   "cell_type": "markdown",
   "metadata": {},
   "source": [
    "Посчитаем косинусные расстояния между каждым эмбеддингом и запишем их в матрицу"
   ]
  },
  {
   "cell_type": "code",
   "execution_count": 14,
   "metadata": {},
   "outputs": [
    {
     "data": {
      "application/vnd.jupyter.widget-view+json": {
       "model_id": "8097f84ec584498c832a882a387c544f",
       "version_major": 2,
       "version_minor": 0
      },
      "text/plain": [
       "  0%|          | 0/874 [00:00<?, ?it/s]"
      ]
     },
     "metadata": {},
     "output_type": "display_data"
    }
   ],
   "source": [
    "for iy in tqdm(range(N_classes)):\n",
    "    for ix in range(iy, N_classes):\n",
    "        # cosine distance\n",
    "        d = 1 - F.cosine_similarity(class_embs[iy].reshape(1,-1), class_embs[ix].reshape(1,-1))\n",
    "        Aij[ix][iy] = Aij[iy][ix] = d"
   ]
  },
  {
   "cell_type": "code",
   "execution_count": 17,
   "metadata": {},
   "outputs": [],
   "source": [
    "Aij = Aij.to(net.device)"
   ]
  },
  {
   "attachments": {},
   "cell_type": "markdown",
   "metadata": {},
   "source": [
    "Передадим Aij в модель HUSE для подсчета семантической фуннкции потерь. Использовал разные learning rates для text и image towers"
   ]
  },
  {
   "cell_type": "code",
   "execution_count": null,
   "metadata": {},
   "outputs": [],
   "source": [
    "import torch\n",
    "import pytorch_lightning as pl\n",
    "from pytorch_lightning.callbacks import EarlyStopping, TQDMProgressBar, ModelCheckpoint\n",
    "import src.net as net, src.data as data\n",
    "from pytorch_lightning.plugins.precision import MixedPrecisionPlugin\n",
    "\n",
    "torch.use_deterministic_algorithms(False)\n",
    "torch.set_float32_matmul_precision('medium')\n",
    "os.environ[\"TOKENIZERS_PARALLELISM\"] = \"false\"\n",
    "\n",
    "class CFG:\n",
    "    lr = 5e-4\n",
    "    bert_lr = 5e-5\n",
    "\n",
    "    model_name = 'cointegrated/LaBSE-en-ru'\n",
    "    scheduler='cosine'\n",
    "    num_cycles=0.5\n",
    "    num_warmup_steps=30\n",
    "    epochs=30\n",
    "    batch_size=196\n",
    "    max_length = 64\n",
    "    gradient_checkpointing=False\n",
    "    gradient_accumulation_steps=1\n",
    "    max_grad_norm=50\n",
    "    precision = 16\n",
    "\n",
    "    emb_dim = 256\n",
    "    shop_emb_dim = 10\n",
    "    num_classes = N_classes\n",
    "\n",
    "    # params big loss\n",
    "    weight_class_L = 0.8\n",
    "    weight_semantic_L = 10\n",
    "    weight_gap_L = 0.1\n",
    "    margin_semantic = 0.7\n",
    "\n",
    "def train_fold(Xy:pd.DataFrame, Xy_test:pd.DataFrame, fold:int=0):\n",
    "    print('[TRAIN FOLD]:',fold)\n",
    "    net.set_seed(SEED + 10*fold)\n",
    "    NAME_CKPT = f'best_f{fold}'\n",
    "\n",
    "    dm = data.HuseDataModule(Xy, Xy_test, fold=fold, batch_size = CFG.batch_size, val_bs=196, n_cpu=10, cfg=CFG)\n",
    "\n",
    "    CFG.num_train_steps = int(dm.len_train/CFG.batch_size*CFG.epochs)\n",
    "\n",
    "    model = huse.HUSEModule(Aij, CFG)\n",
    "\n",
    "    tq = TQDMProgressBar(refresh_rate=5)\n",
    "\n",
    "    es = EarlyStopping('val_f1', min_delta=0.001,patience=5,verbose=True, mode='max', check_on_train_epoch_end=False)\n",
    "\n",
    "    chpt = ModelCheckpoint(dirpath=CHECKPOINT_DIR,filename=f'best_f{fold}',  monitor='val_f1',mode='max')\n",
    "\n",
    "    trainer = pl.Trainer(\n",
    "        precision=CFG.precision,\n",
    "        plugins=[MixedPrecisionPlugin(precision=16,device='cuda')],\n",
    "    callbacks=[tq,es,chpt],\n",
    "    max_epochs=CFG.epochs,\n",
    "    # deterministic = True,\n",
    "    accelerator='auto',\n",
    "    accumulate_grad_batches = CFG.gradient_accumulation_steps,\n",
    "    gradient_clip_val = CFG.max_grad_norm,\n",
    "    # val_check_interval = 0.001,\n",
    "#     logger = False,\n",
    "    log_every_n_steps = 50,\n",
    "    enable_model_summary = True if fold==0 else False)\n",
    "\n",
    "    trainer.fit(model, datamodule=dm)\n",
    "\n",
    "    del trainer\n",
    "    torch.cuda.empty_cache()\n",
    "    gc.collect()\n",
    "\n",
    "    return chpt.best_model_score.cpu().item()\n",
    "\n",
    "res = []\n",
    "for fold in sorted(Xy['fold'].unique()):\n",
    "    res_fold = train_fold(Xy, X_test, fold=fold)\n",
    "    res.append((fold,res_fold))\n",
    "    break"
   ]
  },
  {
   "attachments": {},
   "cell_type": "markdown",
   "metadata": {},
   "source": [
    "в итоге получили f1 ~ 0.88"
   ]
  }
 ],
 "metadata": {
  "kernelspec": {
   "display_name": "im_trf",
   "language": "python",
   "name": "python3"
  },
  "language_info": {
   "codemirror_mode": {
    "name": "ipython",
    "version": 3
   },
   "file_extension": ".py",
   "mimetype": "text/x-python",
   "name": "python",
   "nbconvert_exporter": "python",
   "pygments_lexer": "ipython3",
   "version": "3.8.12"
  },
  "orig_nbformat": 4,
  "vscode": {
   "interpreter": {
    "hash": "f395267f3ccdabd8d7e2957c89bfb78e94a6b689c33f726ec7a74f0cde5120e6"
   }
  }
 },
 "nbformat": 4,
 "nbformat_minor": 2
}
