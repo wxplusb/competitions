{
 "cells": [
  {
   "cell_type": "code",
   "execution_count": 1,
   "metadata": {},
   "outputs": [
    {
     "name": "stdout",
     "output_type": "stream",
     "text": [
      "INFO: Pandarallel will run on 10 workers.\n",
      "INFO: Pandarallel will use Memory file system to transfer data between the main process and workers.\n"
     ]
    },
    {
     "name": "stderr",
     "output_type": "stream",
     "text": [
      "[nltk_data] Downloading package stopwords to /root/nltk_data...\n",
      "[nltk_data]   Package stopwords is already up-to-date!\n"
     ]
    }
   ],
   "source": [
    "%load_ext autoreload\n",
    "%autoreload 1\n",
    "%aimport src.my, src.text_utils\n",
    "\n",
    "import sys\n",
    "import numpy as np\n",
    "import pandas as pd\n",
    "\n",
    "import os\n",
    "import gc\n",
    "import matplotlib.pyplot as plt\n",
    "import importlib\n",
    "import pickle\n",
    "\n",
    "import src.text_utils as tu\n",
    "import src.my as my\n",
    "from src.my import p\n",
    "from tqdm.notebook import tqdm\n",
    "\n",
    "pd.set_option('display.max_rows', 200)\n",
    "pd.set_option(\"max_colwidth\", 45)\n",
    "pd.set_option(\"display.precision\", 1)\n",
    "pd.options.display.float_format = \"{:.3f}\".format\n",
    "# pd.set_option(\"display.max_rows\", 5)\n",
    "# pd.reset_option(\"display.max_rows\")\n",
    "\n",
    "from sklearn.model_selection import train_test_split\n",
    "\n",
    "# from pandarallel import pandarallel\n",
    "# pandarallel.initialize(progress_bar=True)\n",
    "\n",
    "dir_data = 'data/'\n",
    "dir_out = 'out/'\n",
    "os.makedirs(dir_out, exist_ok=True)\n",
    "\n",
    "SEED = 34\n",
    "N_CPU = os.cpu_count()\n",
    "\n",
    "np.random.seed(SEED)\n",
    "rng = np.random.default_rng(SEED)"
   ]
  },
  {
   "attachments": {},
   "cell_type": "markdown",
   "metadata": {},
   "source": [
    "- Загружаем датасеты, делаем label encoding для таргета, так как в DL моделях удобно когда таргет с нуля и непрерывен. \n",
    "- Также кодируем для shop_title для использования в nn.Embedding.\n",
    "- Удаляем признаки 'rating','sale', так как они меняются в течение времени, и у новых товаров rating нет."
   ]
  },
  {
   "cell_type": "code",
   "execution_count": 2,
   "metadata": {},
   "outputs": [
    {
     "name": "stdout",
     "output_type": "stream",
     "text": [
      "(91120, 6)\n"
     ]
    },
    {
     "data": {
      "text/html": [
       "<div>\n",
       "<style scoped>\n",
       "    .dataframe tbody tr th:only-of-type {\n",
       "        vertical-align: middle;\n",
       "    }\n",
       "\n",
       "    .dataframe tbody tr th {\n",
       "        vertical-align: top;\n",
       "    }\n",
       "\n",
       "    .dataframe thead th {\n",
       "        text-align: right;\n",
       "    }\n",
       "</style>\n",
       "<table border=\"1\" class=\"dataframe\">\n",
       "  <thead>\n",
       "    <tr style=\"text-align: right;\">\n",
       "      <th></th>\n",
       "      <th>product_id</th>\n",
       "      <th>category_id</th>\n",
       "      <th>shop_id</th>\n",
       "      <th>shop_title</th>\n",
       "      <th>text_fields</th>\n",
       "      <th>category_name</th>\n",
       "    </tr>\n",
       "  </thead>\n",
       "  <tbody>\n",
       "    <tr>\n",
       "      <th>0</th>\n",
       "      <td>325286</td>\n",
       "      <td>251</td>\n",
       "      <td>493</td>\n",
       "      <td>Aksik</td>\n",
       "      <td>{\"title\": \"Зарядный кабель Borofone BX1 L...</td>\n",
       "      <td>Все категории-&gt;Электроника-&gt;Смартфоны и т...</td>\n",
       "    </tr>\n",
       "    <tr>\n",
       "      <th>1</th>\n",
       "      <td>888134</td>\n",
       "      <td>748</td>\n",
       "      <td>6081</td>\n",
       "      <td>Sela</td>\n",
       "      <td>{\"title\": \"Трусы Sela\", \"description\": \"Т...</td>\n",
       "      <td>Все категории-&gt;Одежда-&gt;Женская одежда-&gt;Бе...</td>\n",
       "    </tr>\n",
       "    <tr>\n",
       "      <th>2</th>\n",
       "      <td>1267173</td>\n",
       "      <td>560</td>\n",
       "      <td>11015</td>\n",
       "      <td>ЮНЛАНДИЯ канцтовары</td>\n",
       "      <td>{\"title\": \"Гуашь \\\"ЮНЫЙ ВОЛШЕБНИК\\\", 12 ц...</td>\n",
       "      <td>Все категории-&gt;Хобби и творчество-&gt;Рисова...</td>\n",
       "    </tr>\n",
       "  </tbody>\n",
       "</table>\n",
       "</div>"
      ],
      "text/plain": [
       "   product_id  category_id  shop_id           shop_title  \\\n",
       "0      325286          251      493                Aksik   \n",
       "1      888134          748     6081                 Sela   \n",
       "2     1267173          560    11015  ЮНЛАНДИЯ канцтовары   \n",
       "\n",
       "                                    text_fields  \\\n",
       "0  {\"title\": \"Зарядный кабель Borofone BX1 L...   \n",
       "1  {\"title\": \"Трусы Sela\", \"description\": \"Т...   \n",
       "2  {\"title\": \"Гуашь \\\"ЮНЫЙ ВОЛШЕБНИК\\\", 12 ц...   \n",
       "\n",
       "                                  category_name  \n",
       "0  Все категории->Электроника->Смартфоны и т...  \n",
       "1  Все категории->Одежда->Женская одежда->Бе...  \n",
       "2  Все категории->Хобби и творчество->Рисова...  "
      ]
     },
     "execution_count": 2,
     "metadata": {},
     "output_type": "execute_result"
    }
   ],
   "source": [
    "from sklearn.preprocessing import LabelEncoder\n",
    "\n",
    "df = pd.read_parquet(dir_data+'train.parquet')\n",
    "df = df.astype({'product_id':np.int32,'category_id':np.int32,'shop_id':np.int32, 'rating':np.float32}).drop(columns=['rating','sale']).reset_index(drop=True).copy()\n",
    "\n",
    "test = pd.read_parquet(dir_data+'test.parquet')\n",
    "test = test.astype({'product_id':np.int32,'shop_id':np.int32, 'rating':np.float32}).drop(columns=['rating','sale']).reset_index(drop=True).copy()\n",
    "\n",
    "encoders = {'cat_enc': LabelEncoder(), 'shop_enc': LabelEncoder()}\n",
    "df['category_id'] =encoders['cat_enc'].fit_transform(df['category_id'])\n",
    "\n",
    "encoders['shop_enc'].fit(pd.concat([df['shop_title'],test['shop_title']]))\n",
    "\n",
    "df['shop_id'] = encoders['shop_enc'].transform(df['shop_title']) + 1\n",
    "test['shop_id'] = encoders['shop_enc'].transform(test['shop_title']) + 1\n",
    "\n",
    "my.save_pickle(dir_out+'encoders.pik', encoders)\n",
    "\n",
    "p(df.shape)\n",
    "df[:3]"
   ]
  },
  {
   "attachments": {},
   "cell_type": "markdown",
   "metadata": {},
   "source": [
    "Чистим названия категорий, приводим к нижнему регистру - нужно для матрицы смежности семантического графа в модели HUSE"
   ]
  },
  {
   "cell_type": "code",
   "execution_count": 3,
   "metadata": {},
   "outputs": [
    {
     "data": {
      "text/html": [
       "<div>\n",
       "<style scoped>\n",
       "    .dataframe tbody tr th:only-of-type {\n",
       "        vertical-align: middle;\n",
       "    }\n",
       "\n",
       "    .dataframe tbody tr th {\n",
       "        vertical-align: top;\n",
       "    }\n",
       "\n",
       "    .dataframe thead th {\n",
       "        text-align: right;\n",
       "    }\n",
       "</style>\n",
       "<table border=\"1\" class=\"dataframe\">\n",
       "  <thead>\n",
       "    <tr style=\"text-align: right;\">\n",
       "      <th></th>\n",
       "      <th>product_id</th>\n",
       "      <th>category_id</th>\n",
       "      <th>shop_id</th>\n",
       "      <th>shop_title</th>\n",
       "      <th>text_fields</th>\n",
       "      <th>category_name</th>\n",
       "    </tr>\n",
       "  </thead>\n",
       "  <tbody>\n",
       "    <tr>\n",
       "      <th>0</th>\n",
       "      <td>325286</td>\n",
       "      <td>251</td>\n",
       "      <td>493</td>\n",
       "      <td>Aksik</td>\n",
       "      <td>{\"title\": \"Зарядный кабель Borofone BX1 L...</td>\n",
       "      <td>электроника смартфоны телефоны аксессуары...</td>\n",
       "    </tr>\n",
       "    <tr>\n",
       "      <th>1</th>\n",
       "      <td>888134</td>\n",
       "      <td>748</td>\n",
       "      <td>6081</td>\n",
       "      <td>Sela</td>\n",
       "      <td>{\"title\": \"Трусы Sela\", \"description\": \"Т...</td>\n",
       "      <td>одежда женская одежда белье купальники трусы</td>\n",
       "    </tr>\n",
       "    <tr>\n",
       "      <th>2</th>\n",
       "      <td>1267173</td>\n",
       "      <td>560</td>\n",
       "      <td>11015</td>\n",
       "      <td>ЮНЛАНДИЯ канцтовары</td>\n",
       "      <td>{\"title\": \"Гуашь \\\"ЮНЫЙ ВОЛШЕБНИК\\\", 12 ц...</td>\n",
       "      <td>хобби творчество рисование краски пигменты</td>\n",
       "    </tr>\n",
       "  </tbody>\n",
       "</table>\n",
       "</div>"
      ],
      "text/plain": [
       "   product_id  category_id  shop_id           shop_title  \\\n",
       "0      325286          251      493                Aksik   \n",
       "1      888134          748     6081                 Sela   \n",
       "2     1267173          560    11015  ЮНЛАНДИЯ канцтовары   \n",
       "\n",
       "                                    text_fields  \\\n",
       "0  {\"title\": \"Зарядный кабель Borofone BX1 L...   \n",
       "1  {\"title\": \"Трусы Sela\", \"description\": \"Т...   \n",
       "2  {\"title\": \"Гуашь \\\"ЮНЫЙ ВОЛШЕБНИК\\\", 12 ц...   \n",
       "\n",
       "                                  category_name  \n",
       "0  электроника смартфоны телефоны аксессуары...  \n",
       "1  одежда женская одежда белье купальники трусы  \n",
       "2    хобби творчество рисование краски пигменты  "
      ]
     },
     "execution_count": 3,
     "metadata": {},
     "output_type": "execute_result"
    }
   ],
   "source": [
    "df['category_name'] = tu.clean_cat_name(df['category_name'])\n",
    "df[:3]"
   ]
  },
  {
   "attachments": {},
   "cell_type": "markdown",
   "metadata": {},
   "source": [
    "Датасет по категориям несбалансированный, много категорий <5 товаров, есть и больше 1000 товаров."
   ]
  },
  {
   "cell_type": "code",
   "execution_count": 10,
   "metadata": {},
   "outputs": [
    {
     "data": {
      "image/png": "[encoded data removed]",
      "text/plain": [
       "<Figure size 640x480 with 1 Axes>"
      ]
     },
     "metadata": {},
     "output_type": "display_data"
    }
   ],
   "source": [
    "_ = df['category_id'].value_counts().hist(bins=100)"
   ]
  },
  {
   "attachments": {},
   "cell_type": "markdown",
   "metadata": {},
   "source": [
    "Поэтому важно сделать разбиение на фолды со стратификацией, чтобы алгоритмы при тренировке охватывали образцы с бОльшим количеством разнообразных категорий. Выбрал 5 фолдов с учетом медленной работы алгоритмов на этой конкретной задаче."
   ]
  },
  {
   "cell_type": "code",
   "execution_count": 13,
   "metadata": {},
   "outputs": [
    {
     "name": "stdout",
     "output_type": "stream",
     "text": [
      "StratifiedKFold\n"
     ]
    },
    {
     "data": {
      "text/html": [
       "<div>\n",
       "<style scoped>\n",
       "    .dataframe tbody tr th:only-of-type {\n",
       "        vertical-align: middle;\n",
       "    }\n",
       "\n",
       "    .dataframe tbody tr th {\n",
       "        vertical-align: top;\n",
       "    }\n",
       "\n",
       "    .dataframe thead th {\n",
       "        text-align: right;\n",
       "    }\n",
       "</style>\n",
       "<table border=\"1\" class=\"dataframe\">\n",
       "  <thead>\n",
       "    <tr style=\"text-align: right;\">\n",
       "      <th></th>\n",
       "      <th>product_id</th>\n",
       "      <th>category_id</th>\n",
       "      <th>shop_id</th>\n",
       "      <th>shop_title</th>\n",
       "      <th>text_fields</th>\n",
       "      <th>category_name</th>\n",
       "      <th>fold</th>\n",
       "    </tr>\n",
       "  </thead>\n",
       "  <tbody>\n",
       "    <tr>\n",
       "      <th>0</th>\n",
       "      <td>325286</td>\n",
       "      <td>251</td>\n",
       "      <td>493</td>\n",
       "      <td>Aksik</td>\n",
       "      <td>{\"title\": \"Зарядный кабель Borofone BX1 L...</td>\n",
       "      <td>электроника смартфоны телефоны аксессуары...</td>\n",
       "      <td>4</td>\n",
       "    </tr>\n",
       "    <tr>\n",
       "      <th>1</th>\n",
       "      <td>888134</td>\n",
       "      <td>748</td>\n",
       "      <td>6081</td>\n",
       "      <td>Sela</td>\n",
       "      <td>{\"title\": \"Трусы Sela\", \"description\": \"Т...</td>\n",
       "      <td>одежда женская одежда белье купальники трусы</td>\n",
       "      <td>3</td>\n",
       "    </tr>\n",
       "  </tbody>\n",
       "</table>\n",
       "</div>"
      ],
      "text/plain": [
       "   product_id  category_id  shop_id shop_title  \\\n",
       "0      325286          251      493      Aksik   \n",
       "1      888134          748     6081       Sela   \n",
       "\n",
       "                                    text_fields  \\\n",
       "0  {\"title\": \"Зарядный кабель Borofone BX1 L...   \n",
       "1  {\"title\": \"Трусы Sela\", \"description\": \"Т...   \n",
       "\n",
       "                                  category_name  fold  \n",
       "0  электроника смартфоны телефоны аксессуары...     4  \n",
       "1  одежда женская одежда белье купальники трусы     3  "
      ]
     },
     "execution_count": 13,
     "metadata": {},
     "output_type": "execute_result"
    }
   ],
   "source": [
    "df = my.add_folds(df, strat_col = 'category_id', n_folds=5, random_state=SEED)\n",
    "df[:2]"
   ]
  },
  {
   "attachments": {},
   "cell_type": "markdown",
   "metadata": {},
   "source": [
    "- Объединяем всю текстовую информацию из поля text_fields в один текст, добавляем к нему название магазина, так как в нем часто бывают \"подсказки\" для текстовых моделей, например: \"ЮНЛАНДИЯ канцтовары\"\n",
    "- При этом удаляем html теги и малоинформативную информацию, например цвета."
   ]
  },
  {
   "cell_type": "code",
   "execution_count": 14,
   "metadata": {},
   "outputs": [
    {
     "data": {
      "text/html": [
       "<div>\n",
       "<style scoped>\n",
       "    .dataframe tbody tr th:only-of-type {\n",
       "        vertical-align: middle;\n",
       "    }\n",
       "\n",
       "    .dataframe tbody tr th {\n",
       "        vertical-align: top;\n",
       "    }\n",
       "\n",
       "    .dataframe thead th {\n",
       "        text-align: right;\n",
       "    }\n",
       "</style>\n",
       "<table border=\"1\" class=\"dataframe\">\n",
       "  <thead>\n",
       "    <tr style=\"text-align: right;\">\n",
       "      <th></th>\n",
       "      <th>product_id</th>\n",
       "      <th>category_id</th>\n",
       "      <th>shop_id</th>\n",
       "      <th>shop_title</th>\n",
       "      <th>text_fields</th>\n",
       "      <th>category_name</th>\n",
       "      <th>fold</th>\n",
       "    </tr>\n",
       "  </thead>\n",
       "  <tbody>\n",
       "    <tr>\n",
       "      <th>0</th>\n",
       "      <td>325286</td>\n",
       "      <td>251</td>\n",
       "      <td>493</td>\n",
       "      <td>Aksik</td>\n",
       "      <td>Зарядный кабель Borofone BX1 Lightning дл...</td>\n",
       "      <td>электроника смартфоны телефоны аксессуары...</td>\n",
       "      <td>4</td>\n",
       "    </tr>\n",
       "    <tr>\n",
       "      <th>1</th>\n",
       "      <td>888134</td>\n",
       "      <td>748</td>\n",
       "      <td>6081</td>\n",
       "      <td>Sela</td>\n",
       "      <td>Трусы Sela Трусы-слипы из эластичного бес...</td>\n",
       "      <td>одежда женская одежда белье купальники трусы</td>\n",
       "      <td>3</td>\n",
       "    </tr>\n",
       "    <tr>\n",
       "      <th>2</th>\n",
       "      <td>1267173</td>\n",
       "      <td>560</td>\n",
       "      <td>11015</td>\n",
       "      <td>ЮНЛАНДИЯ канцтовары</td>\n",
       "      <td>Гуашь \"ЮНЫЙ ВОЛШЕБНИК\", 12 цветов по 35 м...</td>\n",
       "      <td>хобби творчество рисование краски пигменты</td>\n",
       "      <td>3</td>\n",
       "    </tr>\n",
       "  </tbody>\n",
       "</table>\n",
       "</div>"
      ],
      "text/plain": [
       "   product_id  category_id  shop_id           shop_title  \\\n",
       "0      325286          251      493                Aksik   \n",
       "1      888134          748     6081                 Sela   \n",
       "2     1267173          560    11015  ЮНЛАНДИЯ канцтовары   \n",
       "\n",
       "                                    text_fields  \\\n",
       "0  Зарядный кабель Borofone BX1 Lightning дл...   \n",
       "1  Трусы Sela Трусы-слипы из эластичного бес...   \n",
       "2  Гуашь \"ЮНЫЙ ВОЛШЕБНИК\", 12 цветов по 35 м...   \n",
       "\n",
       "                                  category_name  fold  \n",
       "0  электроника смартфоны телефоны аксессуары...     4  \n",
       "1  одежда женская одежда белье купальники трусы     3  \n",
       "2    хобби творчество рисование краски пигменты     3  "
      ]
     },
     "execution_count": 14,
     "metadata": {},
     "output_type": "execute_result"
    }
   ],
   "source": [
    "df['text_fields'] = df['text_fields'].apply(tu.join_text_fields) + ' ' + df['shop_title']\n",
    "df[:3]"
   ]
  },
  {
   "attachments": {},
   "cell_type": "markdown",
   "metadata": {},
   "source": [
    "Подготовил две версии текста из text_fields:\n",
    "- одну без лемматизации для берта\n",
    "- вторую с лемматизацией для fasttext (у меня он без леммматизации хуже показывал качество) и tf-idf\n",
    "- в обоих версиях удаляются стоп-слова, цифры, знаки препинания"
   ]
  },
  {
   "cell_type": "code",
   "execution_count": 15,
   "metadata": {},
   "outputs": [
    {
     "name": "stdout",
     "output_type": "stream",
     "text": [
      "INFO: Pandarallel will run on 10 workers.\n",
      "INFO: Pandarallel will use Memory file system to transfer data between the main process and workers.\n"
     ]
    },
    {
     "name": "stderr",
     "output_type": "stream",
     "text": [
      "[nltk_data] Downloading package stopwords to /root/nltk_data...\n",
      "[nltk_data]   Package stopwords is already up-to-date!\n"
     ]
    },
    {
     "data": {
      "text/html": [
       "<div>\n",
       "<style scoped>\n",
       "    .dataframe tbody tr th:only-of-type {\n",
       "        vertical-align: middle;\n",
       "    }\n",
       "\n",
       "    .dataframe tbody tr th {\n",
       "        vertical-align: top;\n",
       "    }\n",
       "\n",
       "    .dataframe thead th {\n",
       "        text-align: right;\n",
       "    }\n",
       "</style>\n",
       "<table border=\"1\" class=\"dataframe\">\n",
       "  <thead>\n",
       "    <tr style=\"text-align: right;\">\n",
       "      <th></th>\n",
       "      <th>product_id</th>\n",
       "      <th>category_id</th>\n",
       "      <th>shop_id</th>\n",
       "      <th>shop_title</th>\n",
       "      <th>text_fields</th>\n",
       "      <th>category_name</th>\n",
       "      <th>fold</th>\n",
       "      <th>text</th>\n",
       "      <th>text_ft</th>\n",
       "    </tr>\n",
       "  </thead>\n",
       "  <tbody>\n",
       "    <tr>\n",
       "      <th>0</th>\n",
       "      <td>325286</td>\n",
       "      <td>251</td>\n",
       "      <td>493</td>\n",
       "      <td>Aksik</td>\n",
       "      <td>Зарядный кабель Borofone BX1 Lightning дл...</td>\n",
       "      <td>электроника смартфоны телефоны аксессуары...</td>\n",
       "      <td>4</td>\n",
       "      <td>зарядный кабель borofone bx1 lightning ай...</td>\n",
       "      <td>зарядный кабель borofone bx1 lightning ай...</td>\n",
       "    </tr>\n",
       "    <tr>\n",
       "      <th>1</th>\n",
       "      <td>888134</td>\n",
       "      <td>748</td>\n",
       "      <td>6081</td>\n",
       "      <td>Sela</td>\n",
       "      <td>Трусы Sela Трусы-слипы из эластичного бес...</td>\n",
       "      <td>одежда женская одежда белье купальники трусы</td>\n",
       "      <td>3</td>\n",
       "      <td>трусы sela трусы слипы эластичного бесшов...</td>\n",
       "      <td>трус sela трус слип эластичный бесшовный ...</td>\n",
       "    </tr>\n",
       "  </tbody>\n",
       "</table>\n",
       "</div>"
      ],
      "text/plain": [
       "   product_id  category_id  shop_id shop_title  \\\n",
       "0      325286          251      493      Aksik   \n",
       "1      888134          748     6081       Sela   \n",
       "\n",
       "                                    text_fields  \\\n",
       "0  Зарядный кабель Borofone BX1 Lightning дл...   \n",
       "1  Трусы Sela Трусы-слипы из эластичного бес...   \n",
       "\n",
       "                                  category_name  fold  \\\n",
       "0  электроника смартфоны телефоны аксессуары...     4   \n",
       "1  одежда женская одежда белье купальники трусы     3   \n",
       "\n",
       "                                           text  \\\n",
       "0  зарядный кабель borofone bx1 lightning ай...   \n",
       "1  трусы sela трусы слипы эластичного бесшов...   \n",
       "\n",
       "                                        text_ft  \n",
       "0  зарядный кабель borofone bx1 lightning ай...  \n",
       "1  трус sela трус слип эластичный бесшовный ...  "
      ]
     },
     "execution_count": 15,
     "metadata": {},
     "output_type": "execute_result"
    }
   ],
   "source": [
    "# text for bert\n",
    "df['text'] = tu.clean_text(df['text_fields'],do_lemma=False,min_sim=3)\n",
    "# text for fasttext and tf-idf\n",
    "df['text_ft'] = tu.clean_text(df['text_fields'], do_lemma=True,min_sim=2)\n",
    "df[:2]"
   ]
  },
  {
   "attachments": {},
   "cell_type": "markdown",
   "metadata": {},
   "source": [
    "Сохраняем подготовленный файл prepared_df.pq:"
   ]
  },
  {
   "cell_type": "code",
   "execution_count": 16,
   "metadata": {},
   "outputs": [],
   "source": [
    "df.drop(columns=['text_ft','text_fields','shop_title']).to_parquet(dir_out+'prepared_df.pq', index=False)"
   ]
  },
  {
   "attachments": {},
   "cell_type": "markdown",
   "metadata": {},
   "source": [
    "Такую же очистку делаем и для тестового файла:"
   ]
  },
  {
   "cell_type": "code",
   "execution_count": 18,
   "metadata": {},
   "outputs": [
    {
     "name": "stdout",
     "output_type": "stream",
     "text": [
      "(16860, 5)\n"
     ]
    },
    {
     "data": {
      "text/html": [
       "<div>\n",
       "<style scoped>\n",
       "    .dataframe tbody tr th:only-of-type {\n",
       "        vertical-align: middle;\n",
       "    }\n",
       "\n",
       "    .dataframe tbody tr th {\n",
       "        vertical-align: top;\n",
       "    }\n",
       "\n",
       "    .dataframe thead th {\n",
       "        text-align: right;\n",
       "    }\n",
       "</style>\n",
       "<table border=\"1\" class=\"dataframe\">\n",
       "  <thead>\n",
       "    <tr style=\"text-align: right;\">\n",
       "      <th></th>\n",
       "      <th>product_id</th>\n",
       "      <th>shop_id</th>\n",
       "      <th>shop_title</th>\n",
       "      <th>text_fields</th>\n",
       "      <th>text</th>\n",
       "    </tr>\n",
       "  </thead>\n",
       "  <tbody>\n",
       "    <tr>\n",
       "      <th>0</th>\n",
       "      <td>1997646</td>\n",
       "      <td>6217</td>\n",
       "      <td>Sky_Electronics</td>\n",
       "      <td>Светодиодная лента Smart led Strip Light,...</td>\n",
       "      <td>светодиодная лента smart led strip light ...</td>\n",
       "    </tr>\n",
       "    <tr>\n",
       "      <th>1</th>\n",
       "      <td>927375</td>\n",
       "      <td>1796</td>\n",
       "      <td>Di-Di Market</td>\n",
       "      <td>Стекло ПЛЕНКА керамик матовое Honor 50 li...</td>\n",
       "      <td>стекло пленка керамик матовое honor lite ...</td>\n",
       "    </tr>\n",
       "    <tr>\n",
       "      <th>2</th>\n",
       "      <td>1921513</td>\n",
       "      <td>7133</td>\n",
       "      <td>VisionStore</td>\n",
       "      <td>Проводные наушники с микрофоном jack 3.5,...</td>\n",
       "      <td>проводные наушники микрофоном jack ios an...</td>\n",
       "    </tr>\n",
       "  </tbody>\n",
       "</table>\n",
       "</div>"
      ],
      "text/plain": [
       "   product_id  shop_id       shop_title  \\\n",
       "0     1997646     6217  Sky_Electronics   \n",
       "1      927375     1796     Di-Di Market   \n",
       "2     1921513     7133      VisionStore   \n",
       "\n",
       "                                    text_fields  \\\n",
       "0  Светодиодная лента Smart led Strip Light,...   \n",
       "1  Стекло ПЛЕНКА керамик матовое Honor 50 li...   \n",
       "2  Проводные наушники с микрофоном jack 3.5,...   \n",
       "\n",
       "                                           text  \n",
       "0  светодиодная лента smart led strip light ...  \n",
       "1  стекло пленка керамик матовое honor lite ...  \n",
       "2  проводные наушники микрофоном jack ios an...  "
      ]
     },
     "execution_count": 18,
     "metadata": {},
     "output_type": "execute_result"
    }
   ],
   "source": [
    "test['text_fields'] = test['text_fields'].apply(tu.join_text_fields) + ' ' + test['shop_title']\n",
    "test['text'] = tu.clean_text(test['text_fields'],do_lemma=False,min_sim=3)\n",
    "\n",
    "p(test.shape)\n",
    "test[:3]"
   ]
  },
  {
   "cell_type": "code",
   "execution_count": 19,
   "metadata": {},
   "outputs": [],
   "source": [
    "test.drop(columns=['text_fields','shop_title']).to_parquet(dir_out+'prepared_test.pq', index=False)"
   ]
  },
  {
   "attachments": {},
   "cell_type": "markdown",
   "metadata": {},
   "source": [
    "- В качестве бейзлайна я использовал fasttext, так как он быстрый и показал качество сравнимое с более сложными моделями\n",
    "- Для каждого фолда сохранил транировочную и валидационную часть на диск, в требуемом fasttext формате, но т.к. это бейзлайн, то на одном фолде проверил его работу."
   ]
  },
  {
   "cell_type": "code",
   "execution_count": 21,
   "metadata": {},
   "outputs": [
    {
     "name": "stdout",
     "output_type": "stream",
     "text": [
      "4 3 2 0 1 "
     ]
    }
   ],
   "source": [
    "os.makedirs(dir_out+'fasttext', exist_ok=True)\n",
    "\n",
    "for fold in df.fold.unique():\n",
    "    print(fold, end=' ')\n",
    "    Xy_train = df.loc[df.fold!=fold,['category_id', 'text_ft']].copy()\n",
    "    Xy_val = df.loc[df.fold==fold,['category_id', 'text_ft']].copy()\n",
    "\n",
    "    Xy_train['category_id'] = '__label__' + Xy_train['category_id'].astype(str)\n",
    "    Xy_val['category_id'] = '__label__' + Xy_val['category_id'].astype(str)\n",
    "\n",
    "    Xy_train.to_csv(dir_out + f'fasttext/Xy_train_ft_f{fold}.txt',index=False, header = False, sep=\"\\t\")\n",
    "    Xy_val.to_csv(dir_out + f'fasttext/Xy_val_ft_f{fold}.txt',index=False, header = False, sep=\"\\t\")"
   ]
  },
  {
   "cell_type": "code",
   "execution_count": 29,
   "metadata": {},
   "outputs": [
    {
     "data": {
      "text/html": [
       "<div>\n",
       "<style scoped>\n",
       "    .dataframe tbody tr th:only-of-type {\n",
       "        vertical-align: middle;\n",
       "    }\n",
       "\n",
       "    .dataframe tbody tr th {\n",
       "        vertical-align: top;\n",
       "    }\n",
       "\n",
       "    .dataframe thead th {\n",
       "        text-align: right;\n",
       "    }\n",
       "</style>\n",
       "<table border=\"1\" class=\"dataframe\">\n",
       "  <thead>\n",
       "    <tr style=\"text-align: right;\">\n",
       "      <th></th>\n",
       "      <th>category_id</th>\n",
       "      <th>text_ft</th>\n",
       "    </tr>\n",
       "  </thead>\n",
       "  <tbody>\n",
       "    <tr>\n",
       "      <th>0</th>\n",
       "      <td>__label__251</td>\n",
       "      <td>зарядный кабель borofone bx1 lightning ай...</td>\n",
       "    </tr>\n",
       "    <tr>\n",
       "      <th>1</th>\n",
       "      <td>__label__748</td>\n",
       "      <td>трус sela трус слип эластичный бесшовный ...</td>\n",
       "    </tr>\n",
       "    <tr>\n",
       "      <th>2</th>\n",
       "      <td>__label__560</td>\n",
       "      <td>гуашь юный волшебник цвет мл больший бано...</td>\n",
       "    </tr>\n",
       "  </tbody>\n",
       "</table>\n",
       "</div>"
      ],
      "text/plain": [
       "    category_id                                       text_ft\n",
       "0  __label__251  зарядный кабель borofone bx1 lightning ай...\n",
       "1  __label__748  трус sela трус слип эластичный бесшовный ...\n",
       "2  __label__560  гуашь юный волшебник цвет мл больший бано..."
      ]
     },
     "execution_count": 29,
     "metadata": {},
     "output_type": "execute_result"
    }
   ],
   "source": [
    "Xy_train[:3]"
   ]
  },
  {
   "attachments": {},
   "cell_type": "markdown",
   "metadata": {},
   "source": [
    "Возпользуемся встроенным автоматическим подбором гиперпараметров (он подбирает для метрики f1 - я проверил, очень похоже, что это именно weighted):"
   ]
  },
  {
   "cell_type": "code",
   "execution_count": null,
   "metadata": {},
   "outputs": [],
   "source": [
    "import fasttext\n",
    "\n",
    "FOLD = 0\n",
    "\n",
    "model = fasttext.train_supervised(input=f'out/fasttext/Xy_train_ft_f{FOLD}.txt', autotuneValidationFile=f'out/fasttext/Xy_val_ft_f{FOLD}.txt', autotuneDuration=1000, verbose=5)"
   ]
  },
  {
   "attachments": {},
   "cell_type": "markdown",
   "metadata": {},
   "source": [
    "c подобранными параметрами получаем f1 ~ 0.85"
   ]
  },
  {
   "cell_type": "code",
   "execution_count": 28,
   "metadata": {},
   "outputs": [
    {
     "name": "stderr",
     "output_type": "stream",
     "text": [
      "Read 5M words\n",
      "Number of words:  80340\n",
      "Number of labels: 872\n",
      "Progress: 100.0% words/sec/thread:  266660 lr:  0.000000 avg.loss:  0.407955 ETA:   0h 0m 0s\n"
     ]
    },
    {
     "data": {
      "text/plain": [
       "(0.8499615848973768, 18222, 0.8499615848973768, 0.8499615848973768)"
      ]
     },
     "execution_count": 28,
     "metadata": {},
     "output_type": "execute_result"
    }
   ],
   "source": [
    "model = fasttext.train_supervised(input=dir_out +f'fasttext/Xy_train_ft_f{FOLD}.txt', lr=0.5, neg=150, epoch=25, dim=100, wordNgrams=1)\n",
    "\n",
    "_, precision, recall = model.test(dir_out + f'fasttext/Xy_val_ft_f{FOLD}.txt')\n",
    "F1 = (2*precision*recall) / (precision+recall)\n",
    "F1, _, precision, recall"
   ]
  },
  {
   "attachments": {},
   "cell_type": "markdown",
   "metadata": {},
   "source": [
    "Дальше попробовал обрезать текст, оставляя первые 10-100 слов, но именно с такими гиперпараметрами это мало меняло результат"
   ]
  },
  {
   "cell_type": "code",
   "execution_count": 37,
   "metadata": {},
   "outputs": [
    {
     "data": {
      "text/html": [
       "<div>\n",
       "<style scoped>\n",
       "    .dataframe tbody tr th:only-of-type {\n",
       "        vertical-align: middle;\n",
       "    }\n",
       "\n",
       "    .dataframe tbody tr th {\n",
       "        vertical-align: top;\n",
       "    }\n",
       "\n",
       "    .dataframe thead th {\n",
       "        text-align: right;\n",
       "    }\n",
       "</style>\n",
       "<table border=\"1\" class=\"dataframe\">\n",
       "  <thead>\n",
       "    <tr style=\"text-align: right;\">\n",
       "      <th></th>\n",
       "      <th>0</th>\n",
       "      <th>1</th>\n",
       "    </tr>\n",
       "  </thead>\n",
       "  <tbody>\n",
       "    <tr>\n",
       "      <th>0</th>\n",
       "      <td>__label__251</td>\n",
       "      <td>[зарядный, кабель, borofone, bx1, lightni...</td>\n",
       "    </tr>\n",
       "    <tr>\n",
       "      <th>1</th>\n",
       "      <td>__label__748</td>\n",
       "      <td>[трус, sela, трус, слип, эластичный, бесш...</td>\n",
       "    </tr>\n",
       "    <tr>\n",
       "      <th>2</th>\n",
       "      <td>__label__560</td>\n",
       "      <td>[гуашь, юный, волшебник, цвет, мл, больши...</td>\n",
       "    </tr>\n",
       "  </tbody>\n",
       "</table>\n",
       "</div>"
      ],
      "text/plain": [
       "              0                                             1\n",
       "0  __label__251  [зарядный, кабель, borofone, bx1, lightni...\n",
       "1  __label__748  [трус, sela, трус, слип, эластичный, бесш...\n",
       "2  __label__560  [гуашь, юный, волшебник, цвет, мл, больши..."
      ]
     },
     "execution_count": 37,
     "metadata": {},
     "output_type": "execute_result"
    }
   ],
   "source": [
    "FOLD = 0\n",
    "Xy_train = pd.read_csv(dir_out + f'fasttext/Xy_train_ft_f{FOLD}.txt',header = None, sep=\"\\t\")\n",
    "Xy_train[1] = Xy_train[1].apply(lambda x:x.split())\n",
    "Xy_val = pd.read_csv(dir_out + f'fasttext/Xy_val_ft_f{FOLD}.txt',header = None, sep=\"\\t\")\n",
    "Xy_val[1] = Xy_val[1].apply(lambda x:x.split())\n",
    "Xy_train[:3]"
   ]
  },
  {
   "cell_type": "code",
   "execution_count": 38,
   "metadata": {},
   "outputs": [
    {
     "name": "stderr",
     "output_type": "stream",
     "text": [
      "Read 0M words\n",
      "Number of words:  30339\n",
      "Number of labels: 872\n",
      "Progress:  99.9% words/sec/thread:   47572 lr:  0.000396 avg.loss:  0.303947 ETA:   0h 0m 0s"
     ]
    },
    {
     "name": "stdout",
     "output_type": "stream",
     "text": [
      "n_words: 10 -> F1: 0.8435407748874987\n"
     ]
    },
    {
     "name": "stderr",
     "output_type": "stream",
     "text": [
      "Progress: 100.0% words/sec/thread:   47517 lr:  0.000000 avg.loss:  0.303715 ETA:   0h 0m 0s\n",
      "Read 2M words\n",
      "Number of words:  47255\n",
      "Number of labels: 872\n",
      "Progress: 100.0% words/sec/thread:  111437 lr:  0.000000 avg.loss:  0.345181 ETA:   0h 0m 0s\n"
     ]
    },
    {
     "name": "stdout",
     "output_type": "stream",
     "text": [
      "n_words: 30 -> F1: 0.8466139830973548\n"
     ]
    },
    {
     "name": "stderr",
     "output_type": "stream",
     "text": [
      "Read 3M words\n",
      "Number of words:  56533\n",
      "Number of labels: 872\n",
      "Progress: 100.0% words/sec/thread:  161554 lr:  0.000000 avg.loss:  0.383458 ETA:   0h 0m 0s\n"
     ]
    },
    {
     "name": "stdout",
     "output_type": "stream",
     "text": [
      "n_words: 50 -> F1: 0.8486993743826144\n"
     ]
    },
    {
     "name": "stderr",
     "output_type": "stream",
     "text": [
      "Read 3M words\n",
      "Number of words:  62680\n",
      "Number of labels: 872\n",
      "Progress:  99.9% words/sec/thread:  192255 lr:  0.000742 avg.loss:  0.391289 ETA:   0h 0m 0s"
     ]
    },
    {
     "name": "stdout",
     "output_type": "stream",
     "text": [
      "n_words: 70 -> F1: 0.8482603446383493\n"
     ]
    },
    {
     "name": "stderr",
     "output_type": "stream",
     "text": [
      "Progress: 100.0% words/sec/thread:  192200 lr:  0.000000 avg.loss:  0.390792 ETA:   0h 0m 0s\n",
      "Read 4M words\n",
      "Number of words:  66944\n",
      "Number of labels: 872\n",
      "Progress: 100.0% words/sec/thread:  213515 lr:  0.000000 avg.loss:  0.402865 ETA:   0h 0m 0s\n"
     ]
    },
    {
     "name": "stdout",
     "output_type": "stream",
     "text": [
      "n_words: 90 -> F1: 0.849632312589178\n"
     ]
    }
   ],
   "source": [
    "for n_words in range(10, 101, 20):\n",
    "    Xy_train['truncated_text'] = Xy_train[1].apply(lambda x: ' '.join(x[:n_words]))\n",
    "    Xy_val['truncated_text'] = Xy_val[1].apply(lambda x: ' '.join(x[:n_words]))\n",
    "\n",
    "    Xy_train[[0,'truncated_text']].to_csv(dir_out + f'fasttext/Xy_train_tr_f{FOLD}.txt',index=False, header = False, sep=\"\\t\")\n",
    "    Xy_val[[0,'truncated_text']].to_csv(dir_out + f'fasttext/Xy_val_tr_f{FOLD}.txt',index=False, header = False, sep=\"\\t\")\n",
    "\n",
    "    model = fasttext.train_supervised(input=dir_out +f'fasttext/Xy_train_tr_f{FOLD}.txt', lr=0.5, neg=150, epoch=25, dim=100, wordNgrams=1)\n",
    "\n",
    "    _, precision, recall = model.test(dir_out + f'fasttext/Xy_val_tr_f{FOLD}.txt')\n",
    "    F1 = (2*precision*recall) / (precision+recall)\n",
    "\n",
    "    print(f'n_words: {n_words} -> F1: {F1}')"
   ]
  },
  {
   "attachments": {},
   "cell_type": "markdown",
   "metadata": {},
   "source": [
    "### Изображения\n",
    "\n",
    "Проверил, что они все одного размера, имеют светлый фон, и объект находится почти всегда в центре, то есть это дает нам больше свободы для аугментаций, связанных с перемещением объекта на фото."
   ]
  },
  {
   "cell_type": "code",
   "execution_count": 39,
   "metadata": {},
   "outputs": [
    {
     "name": "stdout",
     "output_type": "stream",
     "text": [
      "File count train: 91120\n",
      "File count test: 16860\n"
     ]
    }
   ],
   "source": [
    "from PIL import Image\n",
    "train_images = 'data/images/train/'\n",
    "test_images = 'data/images/test/'\n",
    "\n",
    "for path in os.listdir(train_images):\n",
    "    if path.endswith('.jpg'):\n",
    "        im = Image.open(train_images+path)\n",
    "        if im.size != (512,512):\n",
    "            print('new size')\n",
    "\n",
    "print('File count train:', len(os.listdir(train_images)))\n",
    "print('File count test:', len(os.listdir(test_images)))"
   ]
  },
  {
   "cell_type": "code",
   "execution_count": 42,
   "metadata": {},
   "outputs": [
    {
     "data": {
      "image/png": "[encoded data removed]",
      "text/plain": [
       "<PIL.JpegImagePlugin.JpegImageFile image mode=RGB size=512x512>"
      ]
     },
     "execution_count": 42,
     "metadata": {},
     "output_type": "execute_result"
    }
   ],
   "source": [
    "image = Image.open(test_images+'14841.jpg')\n",
    "image"
   ]
  },
  {
   "cell_type": "code",
   "execution_count": null,
   "metadata": {},
   "outputs": [],
   "source": []
  }
 ],
 "metadata": {
  "kernelspec": {
   "display_name": "im_trf",
   "language": "python",
   "name": "python3"
  },
  "language_info": {
   "codemirror_mode": {
    "name": "ipython",
    "version": 3
   },
   "file_extension": ".py",
   "mimetype": "text/x-python",
   "name": "python",
   "nbconvert_exporter": "python",
   "pygments_lexer": "ipython3",
   "version": "3.8.12"
  },
  "orig_nbformat": 4,
  "vscode": {
   "interpreter": {
    "hash": "f395267f3ccdabd8d7e2957c89bfb78e94a6b689c33f726ec7a74f0cde5120e6"
   }
  }
 },
 "nbformat": 4,
 "nbformat_minor": 2
}
