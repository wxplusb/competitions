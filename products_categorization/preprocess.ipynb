{
 "cells": [
  {
   "cell_type": "markdown",
   "id": "ede32825-69cc-4f30-be7c-2a25dfae7229",
   "metadata": {},
   "source": [
    "# Обзор\n",
    "В этом ноутбуке проанализируем данные и подготовим их в том виде, который подходит для моделей машинного обучения: \n",
    "1) нам нужно обработать текстовые данные \n",
    "2) получить представление дерева категорий в виде направленного графа."
   ]
  },
  {
   "cell_type": "code",
   "execution_count": 1,
   "id": "d67b81d8-ac84-42c3-8ed3-60baf4c2a126",
   "metadata": {},
   "outputs": [],
   "source": [
    "import sys\n",
    "import numpy as np\n",
    "import pandas as pd\n",
    "import os\n",
    "import gc\n",
    "import seaborn as sns\n",
    "import matplotlib.pyplot as plt\n",
    "from matplotlib.colors import ListedColormap\n",
    "\n",
    "import nltk\n",
    "from nltk.corpus import stopwords\n",
    "import pymorphy2\n",
    "import collections\n",
    "import itertools\n",
    "import hier\n",
    "import re\n",
    "\n",
    "from sklearn.feature_extraction.text import TfidfVectorizer\n",
    "import networkx as nx\n",
    "\n",
    "pd.set_option(\"max_colwidth\", 25)\n",
    "pd.set_option(\"display.precision\", 1)\n",
    "pd.options.display.float_format = \"{:.3f}\".format\n",
    "\n",
    "cmap = ListedColormap(['dodgerblue', 'lightgray', 'darkorange'])"
   ]
  },
  {
   "cell_type": "markdown",
   "id": "b1eb3209-ec66-494c-ab9d-74f376f4fed6",
   "metadata": {},
   "source": [
    "Загрузим файлы, посмотрим количество образцов и оптимизируем занимаемую ими память"
   ]
  },
  {
   "cell_type": "code",
   "execution_count": 2,
   "id": "08be8bf8-7a9f-4fe4-bdcf-b67b35b4382f",
   "metadata": {},
   "outputs": [
    {
     "name": "stdout",
     "output_type": "stream",
     "text": [
      "Shapes:  (283452, 7) (70864, 6) (3370, 2)\n"
     ]
    }
   ],
   "source": [
    "train = pd.read_parquet('train.parquet')\n",
    "test = pd.read_parquet('test.parquet')\n",
    "cats = pd.read_csv('categories_tree.csv',index_col='id')\n",
    "\n",
    "hier.reduce_mem(train)\n",
    "hier.reduce_mem(test)\n",
    "\n",
    "print('Shapes: ',train.shape, test.shape, cats.shape)"
   ]
  },
  {
   "cell_type": "code",
   "execution_count": 3,
   "id": "1bf0bcaa-7dc2-4fc6-afeb-bee496d0c6fc",
   "metadata": {},
   "outputs": [
    {
     "data": {
      "text/html": [
       "<div>\n",
       "<style scoped>\n",
       "    .dataframe tbody tr th:only-of-type {\n",
       "        vertical-align: middle;\n",
       "    }\n",
       "\n",
       "    .dataframe tbody tr th {\n",
       "        vertical-align: top;\n",
       "    }\n",
       "\n",
       "    .dataframe thead th {\n",
       "        text-align: right;\n",
       "    }\n",
       "</style>\n",
       "<table border=\"1\" class=\"dataframe\">\n",
       "  <thead>\n",
       "    <tr style=\"text-align: right;\">\n",
       "      <th></th>\n",
       "      <th>id</th>\n",
       "      <th>title</th>\n",
       "      <th>short_description</th>\n",
       "      <th>name_value_characteristics</th>\n",
       "      <th>rating</th>\n",
       "      <th>feedback_quantity</th>\n",
       "      <th>category_id</th>\n",
       "    </tr>\n",
       "  </thead>\n",
       "  <tbody>\n",
       "    <tr>\n",
       "      <th>0</th>\n",
       "      <td>1267423</td>\n",
       "      <td>Muhle Manikure Песочн...</td>\n",
       "      <td>Muhle Manikure Колпач...</td>\n",
       "      <td>None</td>\n",
       "      <td>0.000</td>\n",
       "      <td>0</td>\n",
       "      <td>2693</td>\n",
       "    </tr>\n",
       "    <tr>\n",
       "      <th>1</th>\n",
       "      <td>128833</td>\n",
       "      <td>Sony Xperia L1 Защитн...</td>\n",
       "      <td>None</td>\n",
       "      <td>None</td>\n",
       "      <td>4.668</td>\n",
       "      <td>9</td>\n",
       "      <td>13408</td>\n",
       "    </tr>\n",
       "    <tr>\n",
       "      <th>2</th>\n",
       "      <td>569924</td>\n",
       "      <td>Конверт для денег Пре...</td>\n",
       "      <td>Конверт для денег «Пр...</td>\n",
       "      <td>None</td>\n",
       "      <td>5.000</td>\n",
       "      <td>6</td>\n",
       "      <td>11790</td>\n",
       "    </tr>\n",
       "  </tbody>\n",
       "</table>\n",
       "</div>"
      ],
      "text/plain": [
       "        id                     title         short_description  \\\n",
       "0  1267423  Muhle Manikure Песочн...  Muhle Manikure Колпач...   \n",
       "1   128833  Sony Xperia L1 Защитн...                      None   \n",
       "2   569924  Конверт для денег Пре...  Конверт для денег «Пр...   \n",
       "\n",
       "  name_value_characteristics  rating  feedback_quantity  category_id  \n",
       "0                      None    0.000                  0         2693  \n",
       "1                      None    4.668                  9        13408  \n",
       "2                      None    5.000                  6        11790  "
      ]
     },
     "execution_count": 3,
     "metadata": {},
     "output_type": "execute_result"
    }
   ],
   "source": [
    "train[:3]"
   ]
  },
  {
   "cell_type": "markdown",
   "id": "66ca6c13-325a-4f27-8dec-4b0ad6f22872",
   "metadata": {},
   "source": [
    "Переименуем столбцы для удобства:"
   ]
  },
  {
   "cell_type": "code",
   "execution_count": 4,
   "id": "2c4699f1-3fc1-46c7-b659-ab02a8201861",
   "metadata": {},
   "outputs": [
    {
     "data": {
      "text/html": [
       "<div>\n",
       "<style scoped>\n",
       "    .dataframe tbody tr th:only-of-type {\n",
       "        vertical-align: middle;\n",
       "    }\n",
       "\n",
       "    .dataframe tbody tr th {\n",
       "        vertical-align: top;\n",
       "    }\n",
       "\n",
       "    .dataframe thead th {\n",
       "        text-align: right;\n",
       "    }\n",
       "</style>\n",
       "<table border=\"1\" class=\"dataframe\">\n",
       "  <thead>\n",
       "    <tr style=\"text-align: right;\">\n",
       "      <th></th>\n",
       "      <th>id</th>\n",
       "      <th>title</th>\n",
       "      <th>description</th>\n",
       "      <th>characteristics</th>\n",
       "      <th>rating</th>\n",
       "      <th>feedback</th>\n",
       "      <th>category_id</th>\n",
       "    </tr>\n",
       "  </thead>\n",
       "  <tbody>\n",
       "    <tr>\n",
       "      <th>0</th>\n",
       "      <td>1267423</td>\n",
       "      <td>Muhle Manikure Песочн...</td>\n",
       "      <td>Muhle Manikure Колпач...</td>\n",
       "      <td>None</td>\n",
       "      <td>0.000</td>\n",
       "      <td>0</td>\n",
       "      <td>2693</td>\n",
       "    </tr>\n",
       "  </tbody>\n",
       "</table>\n",
       "</div>"
      ],
      "text/plain": [
       "        id                     title               description  \\\n",
       "0  1267423  Muhle Manikure Песочн...  Muhle Manikure Колпач...   \n",
       "\n",
       "  characteristics  rating  feedback  category_id  \n",
       "0            None   0.000         0         2693  "
      ]
     },
     "execution_count": 4,
     "metadata": {},
     "output_type": "execute_result"
    }
   ],
   "source": [
    "train.columns = ['id','title','description','characteristics','rating','feedback','category_id']\n",
    "test.columns = train.columns[:-1]\n",
    "train[:1]"
   ]
  },
  {
   "cell_type": "code",
   "execution_count": 5,
   "id": "41288496-5feb-4482-980d-dc5f786f6066",
   "metadata": {},
   "outputs": [
    {
     "data": {
      "text/plain": [
       "id                   int32\n",
       "title               object\n",
       "description         object\n",
       "characteristics     object\n",
       "rating             float16\n",
       "feedback             int16\n",
       "category_id          int16\n",
       "dtype: object"
      ]
     },
     "execution_count": 5,
     "metadata": {},
     "output_type": "execute_result"
    }
   ],
   "source": [
    "train.dtypes"
   ]
  },
  {
   "cell_type": "markdown",
   "id": "6c79dc6b-b3ea-400a-a2ab-d4ba8f112f40",
   "metadata": {},
   "source": [
    "# Обработка текстовых признаков\n",
    "В тренировочных данных много не заполненных значений в кратком описании и характеристиках, также с нулевым рейтингом (что скорее всего означает что вообще рейтинг не ставился) и нулевым количеством отзывов"
   ]
  },
  {
   "cell_type": "code",
   "execution_count": 6,
   "id": "4bea729c-ab81-47e9-b76f-11925bbdd868",
   "metadata": {},
   "outputs": [
    {
     "data": {
      "text/plain": [
       "id                0.000\n",
       "title             0.000\n",
       "description       0.530\n",
       "characteristics   0.822\n",
       "rating            0.000\n",
       "feedback          0.000\n",
       "category_id       0.000\n",
       "dtype: float64"
      ]
     },
     "execution_count": 6,
     "metadata": {},
     "output_type": "execute_result"
    }
   ],
   "source": [
    "train.isna().sum() / train.shape[0]"
   ]
  },
  {
   "cell_type": "code",
   "execution_count": 7,
   "id": "ae2fa376-126d-49ce-813d-3f623cedea23",
   "metadata": {},
   "outputs": [
    {
     "name": "stdout",
     "output_type": "stream",
     "text": [
      "Доля образцов с 0 рейтингом и 0 отзывами:  0.61 0.61\n"
     ]
    }
   ],
   "source": [
    "print('Доля образцов с 0 рейтингом и 0 отзывами: ', round((train.rating == 0).mean(),2), round((train.feedback == 0).mean(),2))\n"
   ]
  },
  {
   "cell_type": "markdown",
   "id": "800dd969-5174-4dcd-88ff-3a33a5ec203d",
   "metadata": {},
   "source": [
    "В столбце characteristics много инфы о размерах товара, но есть и данные, которые указывают на другой товар, к которому текущий товар имеет отношение: например текущий товар - защитная пленка, а в описании указаны телефоны для пленки. Это может добавить разброс в классификацию."
   ]
  },
  {
   "cell_type": "code",
   "execution_count": 8,
   "id": "b1fd1206-b06f-4a61-a95a-01a057f74bb5",
   "metadata": {},
   "outputs": [
    {
     "data": {
      "text/html": [
       "<div>\n",
       "<style scoped>\n",
       "    .dataframe tbody tr th:only-of-type {\n",
       "        vertical-align: middle;\n",
       "    }\n",
       "\n",
       "    .dataframe tbody tr th {\n",
       "        vertical-align: top;\n",
       "    }\n",
       "\n",
       "    .dataframe thead th {\n",
       "        text-align: right;\n",
       "    }\n",
       "</style>\n",
       "<table border=\"1\" class=\"dataframe\">\n",
       "  <thead>\n",
       "    <tr style=\"text-align: right;\">\n",
       "      <th></th>\n",
       "      <th>id</th>\n",
       "      <th>title</th>\n",
       "      <th>description</th>\n",
       "      <th>characteristics</th>\n",
       "      <th>rating</th>\n",
       "      <th>feedback</th>\n",
       "      <th>category_id</th>\n",
       "    </tr>\n",
       "  </thead>\n",
       "  <tbody>\n",
       "    <tr>\n",
       "      <th>210195</th>\n",
       "      <td>480327</td>\n",
       "      <td>Ушат медный для бани</td>\n",
       "      <td>None</td>\n",
       "      <td>Объём:3л|5л</td>\n",
       "      <td>0.000</td>\n",
       "      <td>0</td>\n",
       "      <td>12010</td>\n",
       "    </tr>\n",
       "    <tr>\n",
       "      <th>88274</th>\n",
       "      <td>1025501</td>\n",
       "      <td>Чехол для iPhone 11  ...</td>\n",
       "      <td>None</td>\n",
       "      <td>Модель:iPhone 11</td>\n",
       "      <td>5.000</td>\n",
       "      <td>2</td>\n",
       "      <td>11937</td>\n",
       "    </tr>\n",
       "    <tr>\n",
       "      <th>197322</th>\n",
       "      <td>1223456</td>\n",
       "      <td>Крем для рук, 30 г</td>\n",
       "      <td>None</td>\n",
       "      <td>состав:с маслом Ши|с ...</td>\n",
       "      <td>0.000</td>\n",
       "      <td>0</td>\n",
       "      <td>11957</td>\n",
       "    </tr>\n",
       "    <tr>\n",
       "      <th>180498</th>\n",
       "      <td>1011466</td>\n",
       "      <td>Детское платье Эльзы ...</td>\n",
       "      <td>Для маленьких модниц ...</td>\n",
       "      <td>Размер платья:100|110...</td>\n",
       "      <td>5.000</td>\n",
       "      <td>10</td>\n",
       "      <td>14549</td>\n",
       "    </tr>\n",
       "    <tr>\n",
       "      <th>219776</th>\n",
       "      <td>945292</td>\n",
       "      <td>Одеяло всесезонное, П...</td>\n",
       "      <td>Одеяло всесезонное, П...</td>\n",
       "      <td>Размер::140x205|172x2...</td>\n",
       "      <td>5.000</td>\n",
       "      <td>1</td>\n",
       "      <td>12483</td>\n",
       "    </tr>\n",
       "  </tbody>\n",
       "</table>\n",
       "</div>"
      ],
      "text/plain": [
       "             id                     title               description  \\\n",
       "210195   480327      Ушат медный для бани                      None   \n",
       "88274   1025501  Чехол для iPhone 11  ...                      None   \n",
       "197322  1223456        Крем для рук, 30 г                      None   \n",
       "180498  1011466  Детское платье Эльзы ...  Для маленьких модниц ...   \n",
       "219776   945292  Одеяло всесезонное, П...  Одеяло всесезонное, П...   \n",
       "\n",
       "                 characteristics  rating  feedback  category_id  \n",
       "210195               Объём:3л|5л   0.000         0        12010  \n",
       "88274           Модель:iPhone 11   5.000         2        11937  \n",
       "197322  состав:с маслом Ши|с ...   0.000         0        11957  \n",
       "180498  Размер платья:100|110...   5.000        10        14549  \n",
       "219776  Размер::140x205|172x2...   5.000         1        12483  "
      ]
     },
     "execution_count": 8,
     "metadata": {},
     "output_type": "execute_result"
    }
   ],
   "source": [
    "train[train['characteristics'].notna()].sample(5)"
   ]
  },
  {
   "cell_type": "markdown",
   "id": "53a6d548-fcb2-40fe-80bd-d4fc3067c99b",
   "metadata": {},
   "source": [
    "Добавим в признаки столбцы, показывающие есть ли для образца описание и характеристики, возможно продавцы конкретных товаров не добавляют их, и по этому можно будет их отличить друг от друга"
   ]
  },
  {
   "cell_type": "code",
   "execution_count": 9,
   "id": "29ebfeec-7b3e-4641-9772-9f7d93a46454",
   "metadata": {},
   "outputs": [],
   "source": [
    "for df in [train, test]:\n",
    "    df[\"has_description\"] = df[\"description\"].notna().astype(int)\n",
    "    df[\"has_characteristics\"] = df[\"characteristics\"].notna().astype(int)    "
   ]
  },
  {
   "cell_type": "code",
   "execution_count": 10,
   "id": "fc5a24ae-b29e-4ba2-a1f6-f97003728974",
   "metadata": {},
   "outputs": [
    {
     "data": {
      "text/html": [
       "<div>\n",
       "<style scoped>\n",
       "    .dataframe tbody tr th:only-of-type {\n",
       "        vertical-align: middle;\n",
       "    }\n",
       "\n",
       "    .dataframe tbody tr th {\n",
       "        vertical-align: top;\n",
       "    }\n",
       "\n",
       "    .dataframe thead th {\n",
       "        text-align: right;\n",
       "    }\n",
       "</style>\n",
       "<table border=\"1\" class=\"dataframe\">\n",
       "  <thead>\n",
       "    <tr style=\"text-align: right;\">\n",
       "      <th></th>\n",
       "      <th>id</th>\n",
       "      <th>title</th>\n",
       "      <th>description</th>\n",
       "      <th>characteristics</th>\n",
       "      <th>rating</th>\n",
       "      <th>feedback</th>\n",
       "      <th>category_id</th>\n",
       "      <th>has_description</th>\n",
       "      <th>has_characteristics</th>\n",
       "    </tr>\n",
       "  </thead>\n",
       "  <tbody>\n",
       "    <tr>\n",
       "      <th>0</th>\n",
       "      <td>1267423</td>\n",
       "      <td>Muhle Manikure Песочн...</td>\n",
       "      <td>Muhle Manikure Колпач...</td>\n",
       "      <td>None</td>\n",
       "      <td>0.000</td>\n",
       "      <td>0</td>\n",
       "      <td>2693</td>\n",
       "      <td>1</td>\n",
       "      <td>0</td>\n",
       "    </tr>\n",
       "  </tbody>\n",
       "</table>\n",
       "</div>"
      ],
      "text/plain": [
       "        id                     title               description  \\\n",
       "0  1267423  Muhle Manikure Песочн...  Muhle Manikure Колпач...   \n",
       "\n",
       "  characteristics  rating  feedback  category_id  has_description  \\\n",
       "0            None   0.000         0         2693                1   \n",
       "\n",
       "   has_characteristics  \n",
       "0                    0  "
      ]
     },
     "execution_count": 10,
     "metadata": {},
     "output_type": "execute_result"
    }
   ],
   "source": [
    "train[:1]"
   ]
  },
  {
   "cell_type": "markdown",
   "id": "ad47003a-3e2f-4c7f-a065-e968effb4c42",
   "metadata": {},
   "source": [
    "Проверяем, что столбец id уникальный для трейна и теста и не содержит никакой информации:"
   ]
  },
  {
   "cell_type": "code",
   "execution_count": 11,
   "id": "9617fe90-85bd-4e12-8a22-439912f2b6f8",
   "metadata": {},
   "outputs": [
    {
     "name": "stdout",
     "output_type": "stream",
     "text": [
      "set()\n"
     ]
    },
    {
     "data": {
      "text/plain": [
       "(True, True)"
      ]
     },
     "execution_count": 11,
     "metadata": {},
     "output_type": "execute_result"
    }
   ],
   "source": [
    "print(set(train['id']).intersection(set(test['id'])))\n",
    "train['id'].nunique() == train.shape[0], test['id'].nunique() == test.shape[0]"
   ]
  },
  {
   "cell_type": "markdown",
   "id": "1e880f13-f56e-496f-bf71-4376f655410b",
   "metadata": {},
   "source": [
    "Так как по визуальному осмотру инфа в description часто похожа на title, а в characteristics много отсутствующих значений и инфа в нем имеет дополнительных характер - то сконкатенируем их через пробел еще в двух  вариантах: title+description в столбец title_desc, title+description+characteristics в столбец title_desc_chars. \n",
    "\n",
    "Очистим текст в исходных столбцах по отдельности, а потом соединим."
   ]
  },
  {
   "cell_type": "markdown",
   "id": "2122fcbf-80a2-4d6d-99a9-a3df1ecbeff1",
   "metadata": {},
   "source": [
    "Почистим текстовые столбцы от нерелеватных символов и слов:\n",
    "1) заполним None и приведем к нижнему регистру\n",
    "2) удалим веб ссылки\n",
    "3) удалим все знаки препинания\n",
    "4) удалим отдельно стоящие цифры\n",
    "5) заменим выражения типа \"20х20см\" на \"см\", \"220v\" на \"volt\", \"200г\" на \"гр\". Возможно они нерелевантные, но пока оставим, так как 220v может указывать на категорию электроники, а 1л на жидкости. Но, выражения неочевидные, особенно частые, типа 6s заменять не будем, они могут указывать на какую-то область электроники.\n",
    "6) пробовал исправить опечатки русских слов с jamspell, но с дефолтными настройками, получилось некачественно, можно натренировать потом для качественного исправления\n",
    "7) удалим стоп слова\n",
    "8) добавим опцию для удаления дубликатов слов, потому что часто содержание title и description повторяется и возможно внесет лишний разброс в данные. Но можно протестировать. Для моделей, которые учитывают окружение слова, дубликаты помогут сохранить целостность контекста. Минус удаления дубликатов в том, что у нас title и description очень похожи, а после преобразования получится title+description, например \"Коврик быстрой мышки. Красивый коврик для дома.\". После удаления дубликатов получится \"Коврик быстрой мышки. Красивый дом.\". Второе предложение некорректное.\n",
    "9) лемматизируем с pymorphy2\n",
    "10) удалим слова, которые встречаются реже чем min_rare_words=2 (например) раз на весь датасет"
   ]
  },
  {
   "cell_type": "markdown",
   "id": "f491b58b-b92b-4778-a3c8-e4e5e082c01a",
   "metadata": {},
   "source": [
    "Загружаем стоп-слова:"
   ]
  },
  {
   "cell_type": "code",
   "execution_count": 12,
   "id": "9aab9131-5139-4a2a-aa4a-3becdf76e71d",
   "metadata": {},
   "outputs": [
    {
     "name": "stderr",
     "output_type": "stream",
     "text": [
      "[nltk_data] Downloading package stopwords to /home/studio-lab-\n",
      "[nltk_data]     user/nltk_data...\n",
      "[nltk_data]   Package stopwords is already up-to-date!\n"
     ]
    }
   ],
   "source": [
    "def get_stopwords():\n",
    "    nltk.download(\"stopwords\")\n",
    "    with open('stopwords.txt', 'r') as f:\n",
    "        additional_stopws = f.read().split()\n",
    "    return set(additional_stopws + stopwords.words(\"russian\"))\n",
    "\n",
    "stopws = get_stopwords()  # все стоп-слова"
   ]
  },
  {
   "cell_type": "markdown",
   "id": "8776cd6c-a725-43ea-ad5b-dbf5f8997415",
   "metadata": {},
   "source": [
    "Функции для очистки текста:"
   ]
  },
  {
   "cell_type": "code",
   "execution_count": 13,
   "id": "4508e128-d0da-4d46-a1ba-6f541b593fe3",
   "metadata": {},
   "outputs": [],
   "source": [
    "morph = pymorphy2.MorphAnalyzer()\n",
    "\n",
    "repls = {\n",
    "    \"м\": \"метр\",\n",
    "    \"v\": \"вольт\",\n",
    "    \"в\": \"вольт\",\n",
    "    \"w\": \"ватт\",\n",
    "    \"см\": \"см\",\n",
    "    \"sm\": \"см\",\n",
    "    \"mm\": \"мм\",\n",
    "    \"мм\": \"мм\",\n",
    "    \"ml\": \"мл\",\n",
    "    \"мл\": \"мл\",\n",
    "    \"h\": \"час\",\n",
    "    \"г\": \"гр\",\n",
    "    \"g\": \"гр\",\n",
    "    \"л\": \"литр\",\n",
    "    \"mah\": \"мач\",\n",
    "    \"ah\": \"ач\",\n",
    "    \"гб\": \"гб\",\n",
    "    \"gb\": \"гб\",\n",
    "    \"mb\": \"мб\",\n",
    "    \"мб\": \"мб\",\n",
    "     \"kb\": \"кб\",\n",
    "    \"кб\": \"кб\",\n",
    "    \"tb\": \"тб\",\n",
    "    \"тб\": \"тб\",\n",
    "}\n",
    "\n",
    "\n",
    "def lemmatize(token):\n",
    "    return morph.normal_forms(token)[0]\n",
    "\n",
    "\n",
    "# возвращает статистику по количеству каждого слова в столбце\n",
    "def word_counts(text_col):\n",
    "    words = list(text_col.str.split())\n",
    "\n",
    "    words_no = collections.Counter(itertools.chain(*words))\n",
    "    word_stats = pd.DataFrame(words_no.most_common(), columns=[\"words\", \"count\"])\n",
    "    return word_stats\n",
    "\n",
    "\n",
    "# исправление опечаток - нужна тренировка корректора\n",
    "# jsp = jamspell.TSpellCorrector()\n",
    "# assert jsp.LoadLangModel('ru.bin')\n",
    "# def correct_typos(token):\n",
    "#     token_without_typos = jsp.FixFragment(token)\n",
    "#     return token\n",
    "\n",
    "\n",
    "def drop_dupls(text):\n",
    "    tokens = []\n",
    "    for token in text.split():\n",
    "        if token not in tokens:\n",
    "            tokens.append(token)\n",
    "    return \" \".join(tokens)\n",
    "\n",
    "\n",
    "def remove_rare_words(rare_words):\n",
    "    def remove_(text):\n",
    "        tokens = []\n",
    "        for token in text.split():\n",
    "            if token not in rare_words:\n",
    "                tokens.append(token)\n",
    "        return \" \".join(tokens)\n",
    "\n",
    "    return remove_\n",
    "\n",
    "\n",
    "# удаление стоп-слов, лематизация\n",
    "def clean_by_word(text):\n",
    "    tokens = []\n",
    "    for token in text.split():\n",
    "        if len(token) < 2:\n",
    "            continue\n",
    "\n",
    "        if (\"а\" <= token[0] <= \"я\") and (\"а\" <= token[-1] <= \"я\"):\n",
    "            token = lemmatize(token)\n",
    "\n",
    "        parts = re.split(\"\\d+\", token)\n",
    "        if len(parts) > 1:\n",
    "            w = repls.get(parts[-1])\n",
    "            if w:\n",
    "                token = w\n",
    "\n",
    "        if token not in stopws:\n",
    "            tokens.append(token)\n",
    "\n",
    "    return \" \".join(tokens)\n",
    "\n",
    "\n",
    "def clean_text(text_col, drop_duplicates=False):\n",
    "    # понижение регистра, удаление ссылок и знаков препинания\n",
    "    text_col = text_col.str.lower()\n",
    "    text_col = text_col.str.replace(r\"http\\S+\", \"\", regex=True)\n",
    "    text_col = text_col.str.replace(\"[^A-Za-z0-9А-Яа-я]+\", \" \", regex=True)\n",
    "\n",
    "    # удаление отдельно стоящих цифр\n",
    "    text_col = text_col.str.replace(\"(?<=\\s)[\\d\\s]+(?=\\s)\", \"\", regex=True)\n",
    "    text_col = text_col.str.replace(\"^\\d+(?=\\s)|(?<=\\s)\\d+$\", \"\", regex=True)\n",
    "\n",
    "    # удаление таких последовательностей 50х50x50\n",
    "    text_col = text_col.str.replace(\"\\d+[x,х,×][\\d,x,х,×]+\", \" 777\", regex=True)\n",
    "    text_col = text_col.str.replace(\"(?<=\\s)777(?=\\s)\", \"\", regex=True)\n",
    "\n",
    "    # удаление стоп-слов, опечаток, лематизация\n",
    "    text_col = text_col.apply(clean_by_word)\n",
    "\n",
    "    # удаление дубликатов слов в одном образце\n",
    "    if drop_duplicates:\n",
    "        text_col = text_col.apply(drop_dupls)\n",
    "\n",
    "    return text_col"
   ]
  },
  {
   "cell_type": "markdown",
   "id": "1b79aa7a-1e55-4cb9-a88f-6961a1f1f324",
   "metadata": {},
   "source": [
    "Применяем функции - очищаем текстовые данные:"
   ]
  },
  {
   "cell_type": "code",
   "execution_count": 14,
   "id": "84ee3d7e-4710-4f6a-ac2f-3f0c6114c472",
   "metadata": {},
   "outputs": [
    {
     "name": "stdout",
     "output_type": "stream",
     "text": [
      "CPU times: user 7min 49s, sys: 230 ms, total: 7min 49s\n",
      "Wall time: 7min 49s\n"
     ]
    }
   ],
   "source": [
    "%%time\n",
    "for df in [train, test]:\n",
    "    df[\"description\"] = df[\"description\"].fillna(\"\")\n",
    "    df[\"characteristics\"] = df[\"characteristics\"].fillna(\"\")\n",
    "\n",
    "    df[\"title\"] = clean_text(df[\"title\"])\n",
    "    df[\"description\"] = clean_text(df[\"description\"])\n",
    "    df[\"characteristics\"] = clean_text(df[\"characteristics\"])"
   ]
  },
  {
   "cell_type": "code",
   "execution_count": 15,
   "id": "7afb286f-f7ad-46b9-9308-c8c70f0f653d",
   "metadata": {},
   "outputs": [
    {
     "data": {
      "text/html": [
       "<div>\n",
       "<style scoped>\n",
       "    .dataframe tbody tr th:only-of-type {\n",
       "        vertical-align: middle;\n",
       "    }\n",
       "\n",
       "    .dataframe tbody tr th {\n",
       "        vertical-align: top;\n",
       "    }\n",
       "\n",
       "    .dataframe thead th {\n",
       "        text-align: right;\n",
       "    }\n",
       "</style>\n",
       "<table border=\"1\" class=\"dataframe\">\n",
       "  <thead>\n",
       "    <tr style=\"text-align: right;\">\n",
       "      <th></th>\n",
       "      <th>id</th>\n",
       "      <th>title</th>\n",
       "      <th>description</th>\n",
       "      <th>characteristics</th>\n",
       "      <th>rating</th>\n",
       "      <th>feedback</th>\n",
       "      <th>category_id</th>\n",
       "      <th>has_description</th>\n",
       "      <th>has_characteristics</th>\n",
       "    </tr>\n",
       "  </thead>\n",
       "  <tbody>\n",
       "    <tr>\n",
       "      <th>0</th>\n",
       "      <td>1267423</td>\n",
       "      <td>muhle manikure песочн...</td>\n",
       "      <td>muhle manikure колпач...</td>\n",
       "      <td></td>\n",
       "      <td>0.000</td>\n",
       "      <td>0</td>\n",
       "      <td>2693</td>\n",
       "      <td>1</td>\n",
       "      <td>0</td>\n",
       "    </tr>\n",
       "  </tbody>\n",
       "</table>\n",
       "</div>"
      ],
      "text/plain": [
       "        id                     title               description  \\\n",
       "0  1267423  muhle manikure песочн...  muhle manikure колпач...   \n",
       "\n",
       "  characteristics  rating  feedback  category_id  has_description  \\\n",
       "0                   0.000         0         2693                1   \n",
       "\n",
       "   has_characteristics  \n",
       "0                    0  "
      ]
     },
     "execution_count": 15,
     "metadata": {},
     "output_type": "execute_result"
    }
   ],
   "source": [
    "train[:1]"
   ]
  },
  {
   "cell_type": "markdown",
   "id": "c416878a-7c46-41ff-88b0-c15f0038cce0",
   "metadata": {},
   "source": [
    "Самые частые слова:"
   ]
  },
  {
   "cell_type": "code",
   "execution_count": 16,
   "id": "63127e24-5cb4-43e3-a696-3c10daca9092",
   "metadata": {},
   "outputs": [
    {
     "data": {
      "text/html": [
       "<div>\n",
       "<style scoped>\n",
       "    .dataframe tbody tr th:only-of-type {\n",
       "        vertical-align: middle;\n",
       "    }\n",
       "\n",
       "    .dataframe tbody tr th {\n",
       "        vertical-align: top;\n",
       "    }\n",
       "\n",
       "    .dataframe thead th {\n",
       "        text-align: right;\n",
       "    }\n",
       "</style>\n",
       "<table border=\"1\" class=\"dataframe\">\n",
       "  <thead>\n",
       "    <tr style=\"text-align: right;\">\n",
       "      <th></th>\n",
       "      <th>words</th>\n",
       "      <th>count</th>\n",
       "    </tr>\n",
       "  </thead>\n",
       "  <tbody>\n",
       "    <tr>\n",
       "      <th>0</th>\n",
       "      <td>женский</td>\n",
       "      <td>33281</td>\n",
       "    </tr>\n",
       "    <tr>\n",
       "      <th>1</th>\n",
       "      <td>размер</td>\n",
       "      <td>32442</td>\n",
       "    </tr>\n",
       "    <tr>\n",
       "      <th>2</th>\n",
       "      <td>мл</td>\n",
       "      <td>23674</td>\n",
       "    </tr>\n",
       "    <tr>\n",
       "      <th>3</th>\n",
       "      <td>iphone</td>\n",
       "      <td>21527</td>\n",
       "    </tr>\n",
       "    <tr>\n",
       "      <th>4</th>\n",
       "      <td>чехол</td>\n",
       "      <td>21515</td>\n",
       "    </tr>\n",
       "    <tr>\n",
       "      <th>5</th>\n",
       "      <td>набор</td>\n",
       "      <td>20702</td>\n",
       "    </tr>\n",
       "    <tr>\n",
       "      <th>6</th>\n",
       "      <td>носка</td>\n",
       "      <td>19549</td>\n",
       "    </tr>\n",
       "    <tr>\n",
       "      <th>7</th>\n",
       "      <td>волос</td>\n",
       "      <td>19296</td>\n",
       "    </tr>\n",
       "    <tr>\n",
       "      <th>8</th>\n",
       "      <td>pro</td>\n",
       "      <td>16439</td>\n",
       "    </tr>\n",
       "    <tr>\n",
       "      <th>9</th>\n",
       "      <td>детский</td>\n",
       "      <td>14407</td>\n",
       "    </tr>\n",
       "  </tbody>\n",
       "</table>\n",
       "</div>"
      ],
      "text/plain": [
       "     words  count\n",
       "0  женский  33281\n",
       "1   размер  32442\n",
       "2       мл  23674\n",
       "3   iphone  21527\n",
       "4    чехол  21515\n",
       "5    набор  20702\n",
       "6    носка  19549\n",
       "7    волос  19296\n",
       "8      pro  16439\n",
       "9  детский  14407"
      ]
     },
     "execution_count": 16,
     "metadata": {},
     "output_type": "execute_result"
    }
   ],
   "source": [
    "all_text = pd.concat([train[\"title\"],train[\"description\"],train[\"characteristics\"]],ignore_index=True)\n",
    "word_stats = word_counts(all_text)\n",
    "word_stats[:10]"
   ]
  },
  {
   "cell_type": "markdown",
   "id": "6adb4609-85e7-4e58-a462-b758f1e0619f",
   "metadata": {},
   "source": [
    "Самые редкие слова:"
   ]
  },
  {
   "cell_type": "code",
   "execution_count": 17,
   "id": "d149477d-1281-42d9-94f1-ae5c191bc306",
   "metadata": {},
   "outputs": [
    {
     "data": {
      "text/html": [
       "<div>\n",
       "<style scoped>\n",
       "    .dataframe tbody tr th:only-of-type {\n",
       "        vertical-align: middle;\n",
       "    }\n",
       "\n",
       "    .dataframe tbody tr th {\n",
       "        vertical-align: top;\n",
       "    }\n",
       "\n",
       "    .dataframe thead th {\n",
       "        text-align: right;\n",
       "    }\n",
       "</style>\n",
       "<table border=\"1\" class=\"dataframe\">\n",
       "  <thead>\n",
       "    <tr style=\"text-align: right;\">\n",
       "      <th></th>\n",
       "      <th>words</th>\n",
       "      <th>count</th>\n",
       "    </tr>\n",
       "  </thead>\n",
       "  <tbody>\n",
       "    <tr>\n",
       "      <th>67285</th>\n",
       "      <td>размре</td>\n",
       "      <td>1</td>\n",
       "    </tr>\n",
       "    <tr>\n",
       "      <th>67286</th>\n",
       "      <td>в48</td>\n",
       "      <td>1</td>\n",
       "    </tr>\n",
       "    <tr>\n",
       "      <th>67287</th>\n",
       "      <td>маияга</td>\n",
       "      <td>1</td>\n",
       "    </tr>\n",
       "    <tr>\n",
       "      <th>67288</th>\n",
       "      <td>тиффанни</td>\n",
       "      <td>1</td>\n",
       "    </tr>\n",
       "    <tr>\n",
       "      <th>67289</th>\n",
       "      <td>hundai</td>\n",
       "      <td>1</td>\n",
       "    </tr>\n",
       "    <tr>\n",
       "      <th>67290</th>\n",
       "      <td>koleos</td>\n",
       "      <td>1</td>\n",
       "    </tr>\n",
       "    <tr>\n",
       "      <th>67291</th>\n",
       "      <td>холл</td>\n",
       "      <td>1</td>\n",
       "    </tr>\n",
       "    <tr>\n",
       "      <th>67292</th>\n",
       "      <td>нильский</td>\n",
       "      <td>1</td>\n",
       "    </tr>\n",
       "    <tr>\n",
       "      <th>67293</th>\n",
       "      <td>шератон</td>\n",
       "      <td>1</td>\n",
       "    </tr>\n",
       "    <tr>\n",
       "      <th>67294</th>\n",
       "      <td>цитранелла</td>\n",
       "      <td>1</td>\n",
       "    </tr>\n",
       "  </tbody>\n",
       "</table>\n",
       "</div>"
      ],
      "text/plain": [
       "            words  count\n",
       "67285      размре      1\n",
       "67286         в48      1\n",
       "67287      маияга      1\n",
       "67288    тиффанни      1\n",
       "67289      hundai      1\n",
       "67290      koleos      1\n",
       "67291        холл      1\n",
       "67292    нильский      1\n",
       "67293     шератон      1\n",
       "67294  цитранелла      1"
      ]
     },
     "execution_count": 17,
     "metadata": {},
     "output_type": "execute_result"
    }
   ],
   "source": [
    "word_stats[-10:]"
   ]
  },
  {
   "cell_type": "markdown",
   "id": "086b4da6-4cf0-405f-8b00-a2eb720d7a87",
   "metadata": {},
   "source": [
    "Удалим редкие слова, которые встречаются меньше 3 раз:"
   ]
  },
  {
   "cell_type": "code",
   "execution_count": 18,
   "id": "67e7f90a-2740-47c4-b93a-a28f8597f342",
   "metadata": {},
   "outputs": [
    {
     "data": {
      "text/plain": [
       "39118"
      ]
     },
     "execution_count": 18,
     "metadata": {},
     "output_type": "execute_result"
    }
   ],
   "source": [
    "min_rare_words = 3\n",
    "rare_words = set(word_stats.loc[word_stats[\"count\"] < min_rare_words, \"words\"])\n",
    "len(rare_words)"
   ]
  },
  {
   "cell_type": "code",
   "execution_count": 19,
   "id": "7820e4d4-dd69-4319-83f6-5ee0b665588b",
   "metadata": {},
   "outputs": [
    {
     "name": "stdout",
     "output_type": "stream",
     "text": [
      "CPU times: user 1.18 s, sys: 8 µs, total: 1.18 s\n",
      "Wall time: 1.18 s\n"
     ]
    }
   ],
   "source": [
    "%%time\n",
    "for df in [train,test]:\n",
    "    for col in [\"title\", \"description\", \"characteristics\"]:\n",
    "        df[col] = df[col].apply(remove_rare_words(rare_words))"
   ]
  },
  {
   "cell_type": "markdown",
   "id": "692a5cd9-6f94-472f-902e-02abd9e70d6f",
   "metadata": {},
   "source": [
    "Добавляем агрегированные столбцы 'title_desc', 'title_desc_chars'"
   ]
  },
  {
   "cell_type": "code",
   "execution_count": 20,
   "id": "bbc91fb1-af66-467a-a743-a429929cf740",
   "metadata": {},
   "outputs": [],
   "source": [
    "for df in [train, test]:\n",
    "    df[\"title_desc\"] = df[\"title\"].str.cat(df[\"description\"], sep=\" \").str.strip()\n",
    "    df[\"title_desc_chars\"] = (\n",
    "        df[\"title_desc\"].str.cat(df[\"characteristics\"], sep=\" \").str.strip()\n",
    "    )\n",
    "    \n",
    "# удаляем из тренировочного датасета строки с пустыми текстовыми признаками, которые могли возникнут после всех чисток\n",
    "train = train[\n",
    "    (train[\"title\"] != \"\")\n",
    "    & (train[\"title_desc\"] != \"\")\n",
    "    & (train[\"title_desc_chars\"] != \"\")\n",
    "]"
   ]
  },
  {
   "cell_type": "code",
   "execution_count": 22,
   "id": "157c75d1-97ba-413b-93e5-474044fd33e5",
   "metadata": {},
   "outputs": [
    {
     "data": {
      "text/plain": [
       "['шорты детский',\n",
       " 'японский бигуди набор коклюшка химический завивка прикорневой объём предназначить разнообразный вид био химический завивка',\n",
       " 'профессиональный машинка триммер волос борода усов профессиональный машинка триммер волос борода усов']"
      ]
     },
     "execution_count": 22,
     "metadata": {},
     "output_type": "execute_result"
    }
   ],
   "source": [
    "list(train['title_desc_chars'].sample(3))"
   ]
  },
  {
   "cell_type": "markdown",
   "id": "3843e854-9784-433f-abd3-d3faf0e8442f",
   "metadata": {},
   "source": [
    "Сохраним подготовленные датафреймы, изменив типы, чтобы некоторые мл модели не выдавали ошибки:"
   ]
  },
  {
   "cell_type": "code",
   "execution_count": 24,
   "id": "155ecadf-4bb6-4201-9926-a04ae2940352",
   "metadata": {},
   "outputs": [],
   "source": [
    "def prepare_fo_ml(df):\n",
    "    for col in df.columns:\n",
    "        col_type = df[col].dtypes\n",
    "        if str(col_type)[:5] == \"float\":\n",
    "            df[col] = df[col].astype(np.float32)\n",
    "        elif str(col_type)[:3] == \"int\":\n",
    "            df[col] = df[col].astype(np.int32)\n",
    "            \n",
    "    return df\n",
    "\n",
    "train = prepare_fo_ml(train.copy())\n",
    "test = prepare_fo_ml(test.copy())\n",
    "\n",
    "train.to_parquet('train_data.parquet',index=False)\n",
    "test.to_parquet('test_data.parquet',index=False)       "
   ]
  },
  {
   "cell_type": "markdown",
   "id": "3902277c-512f-47ed-8171-afe352c38325",
   "metadata": {},
   "source": [
    "Посмотрим статистику по словам. 50 самых частых слов в трейне:"
   ]
  },
  {
   "cell_type": "code",
   "execution_count": 25,
   "id": "0257e5be-aab0-4731-b9ff-587d1f6c499f",
   "metadata": {},
   "outputs": [
    {
     "data": {
      "image/png": "[encoded data removed]",
      "text/plain": [
       "<Figure size 1080x1080 with 1 Axes>"
      ]
     },
     "metadata": {
      "needs_background": "light"
     },
     "output_type": "display_data"
    }
   ],
   "source": [
    "n = 50\n",
    "word_stats = word_counts(train['title_desc_chars'])\n",
    "fig, ax = plt.subplots(figsize=(15, 15))\n",
    "word_stats[:n].sort_values(by='count').plot.barh(x='words',\n",
    "                      y='count',\n",
    "                      ax=ax,\n",
    "                      color=\"blue\")\n",
    "_ = ax.set_title(\"Самые популярные слова\")"
   ]
  },
  {
   "cell_type": "code",
   "execution_count": 27,
   "id": "52354821-2740-4316-b379-3827bbd9411b",
   "metadata": {},
   "outputs": [
    {
     "name": "stdout",
     "output_type": "stream",
     "text": [
      "Количество уникальных слов в трейне:  28177\n",
      "Общее слов в трейне:  2712406\n"
     ]
    }
   ],
   "source": [
    "print('Количество уникальных слов в трейне: ',len(word_stats))\n",
    "print('Общее слов в трейне: ',sum(word_stats['count']))"
   ]
  },
  {
   "cell_type": "markdown",
   "id": "5c7750af-1524-451f-87e8-663a33ab6374",
   "metadata": {},
   "source": [
    "Распределение по количеству слов. В столбце title_desc_chars большинство текстов меньше 50 слов:"
   ]
  },
  {
   "cell_type": "code",
   "execution_count": 28,
   "id": "9a307949-f8fa-4f4c-aa13-e172b57a0e61",
   "metadata": {},
   "outputs": [
    {
     "data": {
      "image/png": "[encoded data removed]",
      "text/plain": [
       "<Figure size 1080x360 with 1 Axes>"
      ]
     },
     "metadata": {
      "needs_background": "light"
     },
     "output_type": "display_data"
    }
   ],
   "source": [
    "_ = train['title_desc_chars'].str.split().\\\n",
    "    map(lambda x: len(x)).plot.hist(bins=100, alpha=0.7, figsize=(15,5), title=' Frequency of number of words per sentence', legend=True)"
   ]
  },
  {
   "cell_type": "markdown",
   "id": "942056b2-02a4-4993-aa1c-81ed9bf33055",
   "metadata": {},
   "source": [
    "Неуникальных русских слов примерно в 6 раз больше чем английских, но неизвестно английские слова имеют реальное значение или это абстрактные марки, модели и т.д.:"
   ]
  },
  {
   "cell_type": "code",
   "execution_count": 29,
   "id": "390a6445-fa2b-49b9-bee4-95c7b96d0409",
   "metadata": {},
   "outputs": [
    {
     "data": {
      "text/html": [
       "<div>\n",
       "<style scoped>\n",
       "    .dataframe tbody tr th:only-of-type {\n",
       "        vertical-align: middle;\n",
       "    }\n",
       "\n",
       "    .dataframe tbody tr th {\n",
       "        vertical-align: top;\n",
       "    }\n",
       "\n",
       "    .dataframe thead th {\n",
       "        text-align: right;\n",
       "    }\n",
       "</style>\n",
       "<table border=\"1\" class=\"dataframe\">\n",
       "  <thead>\n",
       "    <tr style=\"text-align: right;\">\n",
       "      <th></th>\n",
       "      <th>words</th>\n",
       "      <th>count</th>\n",
       "      <th>lang</th>\n",
       "    </tr>\n",
       "  </thead>\n",
       "  <tbody>\n",
       "    <tr>\n",
       "      <th>0</th>\n",
       "      <td>женский</td>\n",
       "      <td>33279</td>\n",
       "      <td>ru</td>\n",
       "    </tr>\n",
       "    <tr>\n",
       "      <th>1</th>\n",
       "      <td>размер</td>\n",
       "      <td>32437</td>\n",
       "      <td>ru</td>\n",
       "    </tr>\n",
       "    <tr>\n",
       "      <th>2</th>\n",
       "      <td>мл</td>\n",
       "      <td>23674</td>\n",
       "      <td>ru</td>\n",
       "    </tr>\n",
       "    <tr>\n",
       "      <th>3</th>\n",
       "      <td>iphone</td>\n",
       "      <td>21527</td>\n",
       "      <td>en</td>\n",
       "    </tr>\n",
       "  </tbody>\n",
       "</table>\n",
       "</div>"
      ],
      "text/plain": [
       "     words  count lang\n",
       "0  женский  33279   ru\n",
       "1   размер  32437   ru\n",
       "2       мл  23674   ru\n",
       "3   iphone  21527   en"
      ]
     },
     "execution_count": 29,
     "metadata": {},
     "output_type": "execute_result"
    }
   ],
   "source": [
    "def ru_en(word):\n",
    "    if (\"а\" <= word[0] <= \"я\") and (\"а\" <= word[-1] <= \"я\"):\n",
    "        return 'ru'\n",
    "    elif (\"a\" <= word[0] <= \"z\") and (\"a\" <= word[-1] <= \"z\"):\n",
    "        return 'en'\n",
    "    else:\n",
    "        return 'something'\n",
    "\n",
    "word_stats['lang'] = word_stats['words'].apply(ru_en).astype('category')\n",
    "word_stats[:4]"
   ]
  },
  {
   "cell_type": "code",
   "execution_count": 30,
   "id": "105523de-6996-408d-ba96-be80c4576f89",
   "metadata": {},
   "outputs": [
    {
     "data": {
      "text/html": [
       "<div>\n",
       "<style scoped>\n",
       "    .dataframe tbody tr th:only-of-type {\n",
       "        vertical-align: middle;\n",
       "    }\n",
       "\n",
       "    .dataframe tbody tr th {\n",
       "        vertical-align: top;\n",
       "    }\n",
       "\n",
       "    .dataframe thead th {\n",
       "        text-align: right;\n",
       "    }\n",
       "</style>\n",
       "<table border=\"1\" class=\"dataframe\">\n",
       "  <thead>\n",
       "    <tr style=\"text-align: right;\">\n",
       "      <th></th>\n",
       "      <th>number_all_words</th>\n",
       "      <th>number_uniq_words</th>\n",
       "    </tr>\n",
       "    <tr>\n",
       "      <th>lang</th>\n",
       "      <th></th>\n",
       "      <th></th>\n",
       "    </tr>\n",
       "  </thead>\n",
       "  <tbody>\n",
       "    <tr>\n",
       "      <th>en</th>\n",
       "      <td>373599</td>\n",
       "      <td>7638</td>\n",
       "    </tr>\n",
       "    <tr>\n",
       "      <th>ru</th>\n",
       "      <td>2238054</td>\n",
       "      <td>17155</td>\n",
       "    </tr>\n",
       "    <tr>\n",
       "      <th>something</th>\n",
       "      <td>100753</td>\n",
       "      <td>3384</td>\n",
       "    </tr>\n",
       "  </tbody>\n",
       "</table>\n",
       "</div>"
      ],
      "text/plain": [
       "           number_all_words  number_uniq_words\n",
       "lang                                          \n",
       "en                   373599               7638\n",
       "ru                  2238054              17155\n",
       "something            100753               3384"
      ]
     },
     "execution_count": 30,
     "metadata": {},
     "output_type": "execute_result"
    }
   ],
   "source": [
    "number_words = word_stats.groupby('lang').agg(number_all_words=('count','sum'),number_uniq_words=('count','count'))\n",
    "number_words"
   ]
  },
  {
   "cell_type": "code",
   "execution_count": 31,
   "id": "8b9d3f85-2410-4609-8929-cfcab2363265",
   "metadata": {},
   "outputs": [
    {
     "data": {
      "text/html": [
       "<div>\n",
       "<style scoped>\n",
       "    .dataframe tbody tr th:only-of-type {\n",
       "        vertical-align: middle;\n",
       "    }\n",
       "\n",
       "    .dataframe tbody tr th {\n",
       "        vertical-align: top;\n",
       "    }\n",
       "\n",
       "    .dataframe thead th {\n",
       "        text-align: right;\n",
       "    }\n",
       "</style>\n",
       "<table border=\"1\" class=\"dataframe\">\n",
       "  <thead>\n",
       "    <tr style=\"text-align: right;\">\n",
       "      <th></th>\n",
       "      <th>number_all_words</th>\n",
       "      <th>number_uniq_words</th>\n",
       "    </tr>\n",
       "    <tr>\n",
       "      <th>lang</th>\n",
       "      <th></th>\n",
       "      <th></th>\n",
       "    </tr>\n",
       "  </thead>\n",
       "  <tbody>\n",
       "    <tr>\n",
       "      <th>en</th>\n",
       "      <td>0.138</td>\n",
       "      <td>0.271</td>\n",
       "    </tr>\n",
       "    <tr>\n",
       "      <th>ru</th>\n",
       "      <td>0.825</td>\n",
       "      <td>0.609</td>\n",
       "    </tr>\n",
       "    <tr>\n",
       "      <th>something</th>\n",
       "      <td>0.037</td>\n",
       "      <td>0.120</td>\n",
       "    </tr>\n",
       "  </tbody>\n",
       "</table>\n",
       "</div>"
      ],
      "text/plain": [
       "           number_all_words  number_uniq_words\n",
       "lang                                          \n",
       "en                    0.138              0.271\n",
       "ru                    0.825              0.609\n",
       "something             0.037              0.120"
      ]
     },
     "execution_count": 31,
     "metadata": {},
     "output_type": "execute_result"
    }
   ],
   "source": [
    "number_words / number_words.sum(axis=0)"
   ]
  },
  {
   "cell_type": "markdown",
   "id": "b7d2016f-af12-492e-b283-82b0779adc82",
   "metadata": {},
   "source": [
    "Проанализируем описания товаров с помощью частоты встречаемости слов в конкретном образце и в целом в датасете. Для этого преобразуем title c TfidfVectorizer, этим мы масштабируем информативность слов, возьмем слова встречавшиеся больше min_df=5 раз в трейне."
   ]
  },
  {
   "cell_type": "code",
   "execution_count": 29,
   "id": "dcfa6191-edf7-46f9-9c6a-8a7af79479cd",
   "metadata": {},
   "outputs": [
    {
     "data": {
      "text/plain": [
       "(283400, 18955)"
      ]
     },
     "execution_count": 29,
     "metadata": {},
     "output_type": "execute_result"
    }
   ],
   "source": [
    "tf = TfidfVectorizer(min_df=5, lowercase=False)\n",
    "X = tf.fit_transform(train['title'])\n",
    "X.shape"
   ]
  },
  {
   "cell_type": "markdown",
   "id": "884dc0b6-b912-47bb-8134-2c7887ac022f",
   "metadata": {},
   "source": [
    "Признаки с низкими значениями tf-idf – это признаки, которые либо\n",
    "встречаются во многих документах, либо используются редко и только в\n",
    "очень длинных документах, они врядли помогут классификации, поэтому какие-то из них внесем в стоп-лист (который у нас в виде файла stopwords.txt).\n",
    "Признаки с высокими значениями tf-idf - наиболее информативные с точки зрения такого преобразования."
   ]
  },
  {
   "cell_type": "code",
   "execution_count": 30,
   "id": "f8832166-c1b2-4c47-95bb-22bb508dd86c",
   "metadata": {},
   "outputs": [
    {
     "name": "stdout",
     "output_type": "stream",
     "text": [
      "Признаки с наименьшими значениями tf-idf:\n",
      "['упить' 'дисперсный' 'ь200' 'бралет' '60с' 'стереозвуков' 'заморочить'\n",
      " '3air' 'a2lite' 'танглтизер' 'суперски' 'protex' 'a1466' 'a1398'\n",
      " 'тейпирование' 'cвета' 'собои' 'corgizodiak' 'размочить' 'микровискоза']\n",
      "Признаки с наибольшими значениями tf-idf: \n",
      "['ползунок' 'постер' 'а5' 'портупея' 'портмоне' 'попсокет' 'автодокумент'\n",
      " 'автоматический' 'помпон' 'адаптер' 'помада' 'полый' 'аккумулятор'\n",
      " 'полукомбинезон' 'полотенце' 'акустический' 'половник' 'полка' 'бодить'\n",
      " 'пирамида']\n"
     ]
    }
   ],
   "source": [
    "max_value = X.max(axis=0).toarray().ravel()\n",
    "sorted_by_tfidf = max_value.argsort()\n",
    "\n",
    "feature_names = np.array(tf.get_feature_names_out())\n",
    "\n",
    "print(\"Признаки с наименьшими значениями tf-idf:\\n{}\".format(\n",
    "feature_names[sorted_by_tfidf[:20]]))\n",
    "print(\"Признаки с наибольшими значениями tf-idf: \\n{}\".format(\n",
    "feature_names[sorted_by_tfidf[-20:]]))"
   ]
  },
  {
   "cell_type": "markdown",
   "id": "eb83a682-51d2-4466-acaa-032bbfb229cc",
   "metadata": {},
   "source": [
    "Посмотрим слова с низким значением обратной частоты документа tf.idf_, то есть слова, которые встречаются часто и менее важные. Внесем часть в стоп-лист."
   ]
  },
  {
   "cell_type": "code",
   "execution_count": 31,
   "id": "1fc6aef3-119e-43d6-8800-46bab5381798",
   "metadata": {},
   "outputs": [
    {
     "name": "stdout",
     "output_type": "stream",
     "text": [
      "Признаки с наименьшими значениями idf:\n",
      "['размер' 'женский' 'мл' 'чехол' 'набор' 'волос' 'носка' 'детский'\n",
      " 'силиконовый' 'шт' 'мужской' 'iphone' 'подарок' 'кожа' 'чёрный' 'стекло'\n",
      " 'модель' 'защитный' 'лицо' 'комплект' 'девочка' 'подарочный' 'мм'\n",
      " 'samsung' 'серьга' 'pro' 'футболка' 'хлопок' 'вид' 'маска' 'принтом'\n",
      " 'резинка' 'гель' 'сумка' 'крем' 'белый' 'стильный' 'телефон'\n",
      " 'натуральный' 'xiaomi' 'см' 'форма' 'трус' 'яркий' 'ноготь' 'xs' 'кабель'\n",
      " 'упаковка' 'кольцо' 'браслет' 'мальчик' 'прозрачный' 'любой' 'платье'\n",
      " 'универсальный' 'galaxy' 'украшение' 'новогодний' 'масло' 'пакет'\n",
      " 'мягкий' 'шапка' 'дизайн' 'удобный' 'тело' 'usb' 'шар' 'длина' 'apple'\n",
      " 'держатель' 'увлажнять' 'redmi' 'материал' 'открытка' 'max' 'подвеска'\n",
      " 'коробка' 'одежда' 'рисунок' 'брюки' 'гр' 'костюм' 'унисекс' 'наушник'\n",
      " 'цепочка' 'хлопковый' 'лак' 'высокий' 'метр' 'пижама' 'xl' 'подставка'\n",
      " 'бельё' 'huawei' 'качество' 'глаз' 'спортивный' 'часы' 'рука' 'заколка']\n"
     ]
    }
   ],
   "source": [
    "sorted_by_idf = np.argsort(tf.idf_)\n",
    "print(\"Признаки с наименьшими значениями idf:\\n{}\".format(\n",
    "feature_names[sorted_by_idf[:100]]))"
   ]
  },
  {
   "cell_type": "markdown",
   "id": "b17a3bac-4626-4be0-8892-5a82b21beb57",
   "metadata": {},
   "source": [
    "Так как у нас задача не просто классификации, а иерархической классификации, то я пока не стал удалять из тренировочных данных все такие слова, потому что tfidf считается здесь на весь датасет, а например в модели машинного обучения с локальными классификаторами, у нас будут как бы локальные датасеты, в которых если пересчитать, tfidf уже может иметь другие значения."
   ]
  },
  {
   "cell_type": "markdown",
   "id": "09f45b22-9e47-47b1-98ec-9e6ead1ce2ff",
   "metadata": {},
   "source": [
    "Датасет очень несбалансированный, есть много категории, которые имеют всего несколько образцов:"
   ]
  },
  {
   "cell_type": "code",
   "execution_count": 12,
   "id": "e18e3e84-a0c2-4eac-bb52-33930dc99a50",
   "metadata": {},
   "outputs": [
    {
     "data": {
      "text/plain": [
       "11937    14967\n",
       "13408     7153\n",
       "13061     6434\n",
       "13143     6145\n",
       "13253     3390\n",
       "         ...  \n",
       "13756        2\n",
       "13007        2\n",
       "2598         2\n",
       "11917        2\n",
       "13787        2\n",
       "Name: category_id, Length: 1231, dtype: int64"
      ]
     },
     "execution_count": 12,
     "metadata": {},
     "output_type": "execute_result"
    }
   ],
   "source": [
    "cat_counts = train.category_id.value_counts()\n",
    "cat_counts"
   ]
  },
  {
   "cell_type": "markdown",
   "id": "7fcd8e75-3ef3-4a51-9742-df3567a2c8c2",
   "metadata": {},
   "source": [
    "Возьмем 20 самых больших категорий и отобразим их на двумерное пространство, снизив размерность TruncatedSVD, который работает лучше с sparse данными. "
   ]
  },
  {
   "cell_type": "code",
   "execution_count": 34,
   "id": "b81a03e5-71c6-4c6b-b5d4-0417f42eed68",
   "metadata": {},
   "outputs": [
    {
     "data": {
      "text/plain": [
       "(74896, 5)"
      ]
     },
     "execution_count": 34,
     "metadata": {},
     "output_type": "execute_result"
    }
   ],
   "source": [
    "n_big_cats = 20\n",
    "data = train[train.category_id.isin(cat_counts.index[:n_big_cats])]\n",
    "data.shape"
   ]
  },
  {
   "cell_type": "markdown",
   "id": "d252c549-1a0c-458c-b178-e9cd963b3013",
   "metadata": {},
   "source": [
    "По графику видно, что даже TfidfVectorizer-векторизация немного разделяет категории."
   ]
  },
  {
   "cell_type": "code",
   "execution_count": 38,
   "id": "7a42e44d-d7f5-44c3-97b1-632fa6b5b29d",
   "metadata": {},
   "outputs": [
    {
     "data": {
      "image/png": "[encoded data removed]",
      "text/plain": [
       "<Figure size 720x720 with 1 Axes>"
      ]
     },
     "metadata": {
      "needs_background": "light"
     },
     "output_type": "display_data"
    }
   ],
   "source": [
    "from sklearn.decomposition import TruncatedSVD\n",
    "svd = TruncatedSVD(n_components=2)\n",
    "\n",
    "tf = TfidfVectorizer(min_df=5, lowercase=False)\n",
    "X_svd = tf.fit_transform(data['title'])\n",
    "X_svd = svd.fit_transform(X_svd)\n",
    "\n",
    "plt.figure(figsize=(10,10))\n",
    "plt.scatter(X_svd[:, 0], X_svd[:, 1], c=data['category_id'])\n",
    "plt.xlabel('SVD1')\n",
    "_ = plt.ylabel('SVD2')"
   ]
  },
  {
   "cell_type": "markdown",
   "id": "907921c2-90a1-4cbf-8c51-d83acec8801c",
   "metadata": {},
   "source": [
    "# Построение графа категорий\n",
    "Представим дерево наших категориии в виде ориентированного ациклического графа (directed acyclic graph) с помощью библиотеки networkx"
   ]
  },
  {
   "cell_type": "code",
   "execution_count": 3,
   "id": "b8a98f5c-6199-4972-8b33-db438af88881",
   "metadata": {},
   "outputs": [
    {
     "data": {
      "text/html": [
       "<div>\n",
       "<style scoped>\n",
       "    .dataframe tbody tr th:only-of-type {\n",
       "        vertical-align: middle;\n",
       "    }\n",
       "\n",
       "    .dataframe tbody tr th {\n",
       "        vertical-align: top;\n",
       "    }\n",
       "\n",
       "    .dataframe thead th {\n",
       "        text-align: right;\n",
       "    }\n",
       "</style>\n",
       "<table border=\"1\" class=\"dataframe\">\n",
       "  <thead>\n",
       "    <tr style=\"text-align: right;\">\n",
       "      <th></th>\n",
       "      <th>title</th>\n",
       "      <th>parent_id</th>\n",
       "    </tr>\n",
       "    <tr>\n",
       "      <th>id</th>\n",
       "      <th></th>\n",
       "      <th></th>\n",
       "    </tr>\n",
       "  </thead>\n",
       "  <tbody>\n",
       "    <tr>\n",
       "      <th>1</th>\n",
       "      <td>Все категории</td>\n",
       "      <td>0</td>\n",
       "    </tr>\n",
       "    <tr>\n",
       "      <th>114</th>\n",
       "      <td>Урбеч</td>\n",
       "      <td>1913</td>\n",
       "    </tr>\n",
       "    <tr>\n",
       "      <th>115</th>\n",
       "      <td>Варенье и джемы</td>\n",
       "      <td>328</td>\n",
       "    </tr>\n",
       "    <tr>\n",
       "      <th>128</th>\n",
       "      <td>Сухие завтраки</td>\n",
       "      <td>2475</td>\n",
       "    </tr>\n",
       "    <tr>\n",
       "      <th>131</th>\n",
       "      <td>Масла</td>\n",
       "      <td>2475</td>\n",
       "    </tr>\n",
       "  </tbody>\n",
       "</table>\n",
       "</div>"
      ],
      "text/plain": [
       "               title  parent_id\n",
       "id                             \n",
       "1      Все категории          0\n",
       "114            Урбеч       1913\n",
       "115  Варенье и джемы        328\n",
       "128   Сухие завтраки       2475\n",
       "131            Масла       2475"
      ]
     },
     "execution_count": 3,
     "metadata": {},
     "output_type": "execute_result"
    }
   ],
   "source": [
    "# категории\n",
    "cats[:5]"
   ]
  },
  {
   "cell_type": "markdown",
   "id": "49363767-e687-436b-95fd-8b2e04b53553",
   "metadata": {},
   "source": [
    "Для этого для каждой категории найдем всех ее родителей вплоть до корневой категории 0 и оставим только те листовые категории, которые есть в тренировочных данных. (По родителям листовых категорий мы восстановим все узловые категории) Сохраним в датафрейм parents."
   ]
  },
  {
   "cell_type": "code",
   "execution_count": 4,
   "id": "ff285ea0-8a76-445a-82eb-a50d7f7797fc",
   "metadata": {},
   "outputs": [
    {
     "name": "stdout",
     "output_type": "stream",
     "text": [
      "Количество уникальных листовых категорий:  1231\n",
      "(1231, 8)\n"
     ]
    },
    {
     "data": {
      "text/html": [
       "<div>\n",
       "<style scoped>\n",
       "    .dataframe tbody tr th:only-of-type {\n",
       "        vertical-align: middle;\n",
       "    }\n",
       "\n",
       "    .dataframe tbody tr th {\n",
       "        vertical-align: top;\n",
       "    }\n",
       "\n",
       "    .dataframe thead th {\n",
       "        text-align: right;\n",
       "    }\n",
       "</style>\n",
       "<table border=\"1\" class=\"dataframe\">\n",
       "  <thead>\n",
       "    <tr style=\"text-align: right;\">\n",
       "      <th></th>\n",
       "      <th>id</th>\n",
       "      <th>title</th>\n",
       "      <th>parent_1</th>\n",
       "      <th>parent_2</th>\n",
       "      <th>parent_3</th>\n",
       "      <th>parent_4</th>\n",
       "      <th>parent_5</th>\n",
       "      <th>parent_6</th>\n",
       "    </tr>\n",
       "  </thead>\n",
       "  <tbody>\n",
       "    <tr>\n",
       "      <th>0</th>\n",
       "      <td>2598</td>\n",
       "      <td>Комбинезоны домашние</td>\n",
       "      <td>10418</td>\n",
       "      <td>10116</td>\n",
       "      <td>10014</td>\n",
       "      <td>1</td>\n",
       "      <td>0</td>\n",
       "      <td>0</td>\n",
       "    </tr>\n",
       "    <tr>\n",
       "      <th>1</th>\n",
       "      <td>2599</td>\n",
       "      <td>Купальники</td>\n",
       "      <td>11351</td>\n",
       "      <td>10116</td>\n",
       "      <td>10014</td>\n",
       "      <td>1</td>\n",
       "      <td>0</td>\n",
       "      <td>0</td>\n",
       "    </tr>\n",
       "    <tr>\n",
       "      <th>2</th>\n",
       "      <td>2600</td>\n",
       "      <td>Пляжная одежда</td>\n",
       "      <td>11351</td>\n",
       "      <td>10116</td>\n",
       "      <td>10014</td>\n",
       "      <td>1</td>\n",
       "      <td>0</td>\n",
       "      <td>0</td>\n",
       "    </tr>\n",
       "    <tr>\n",
       "      <th>3</th>\n",
       "      <td>2601</td>\n",
       "      <td>Майки и топы бельевые</td>\n",
       "      <td>11351</td>\n",
       "      <td>10116</td>\n",
       "      <td>10014</td>\n",
       "      <td>1</td>\n",
       "      <td>0</td>\n",
       "      <td>0</td>\n",
       "    </tr>\n",
       "    <tr>\n",
       "      <th>4</th>\n",
       "      <td>2602</td>\n",
       "      <td>Корректирующее белье</td>\n",
       "      <td>11351</td>\n",
       "      <td>10116</td>\n",
       "      <td>10014</td>\n",
       "      <td>1</td>\n",
       "      <td>0</td>\n",
       "      <td>0</td>\n",
       "    </tr>\n",
       "    <tr>\n",
       "      <th>5</th>\n",
       "      <td>2603</td>\n",
       "      <td>Комбинезоны домашние</td>\n",
       "      <td>10445</td>\n",
       "      <td>10052</td>\n",
       "      <td>10014</td>\n",
       "      <td>1</td>\n",
       "      <td>0</td>\n",
       "      <td>0</td>\n",
       "    </tr>\n",
       "    <tr>\n",
       "      <th>6</th>\n",
       "      <td>2604</td>\n",
       "      <td>Майки и футболки</td>\n",
       "      <td>10937</td>\n",
       "      <td>10052</td>\n",
       "      <td>10014</td>\n",
       "      <td>1</td>\n",
       "      <td>0</td>\n",
       "      <td>0</td>\n",
       "    </tr>\n",
       "  </tbody>\n",
       "</table>\n",
       "</div>"
      ],
      "text/plain": [
       "     id                  title  parent_1  parent_2  parent_3  parent_4  \\\n",
       "0  2598   Комбинезоны домашние     10418     10116     10014         1   \n",
       "1  2599             Купальники     11351     10116     10014         1   \n",
       "2  2600         Пляжная одежда     11351     10116     10014         1   \n",
       "3  2601  Майки и топы бельевые     11351     10116     10014         1   \n",
       "4  2602   Корректирующее белье     11351     10116     10014         1   \n",
       "5  2603   Комбинезоны домашние     10445     10052     10014         1   \n",
       "6  2604       Майки и футболки     10937     10052     10014         1   \n",
       "\n",
       "   parent_5  parent_6  \n",
       "0         0         0  \n",
       "1         0         0  \n",
       "2         0         0  \n",
       "3         0         0  \n",
       "4         0         0  \n",
       "5         0         0  \n",
       "6         0         0  "
      ]
     },
     "execution_count": 4,
     "metadata": {},
     "output_type": "execute_result"
    }
   ],
   "source": [
    "parents = cats.copy()\n",
    "parents.columns=['title', 'parent_1']\n",
    "\n",
    "for i in range(2,100):\n",
    "    parents = parents.merge(cats[['parent_id']], how='left',left_on=parents.columns[-1],right_index=True).rename(columns={'parent_id':f'parent_{i}'})\n",
    "    if parents.iloc[:,-1].sum() ==0:\n",
    "        break\n",
    "\n",
    "parents.iloc[:,1:] = parents.iloc[:,1:].fillna(0).astype(np.int16)\n",
    "\n",
    "# уникальные листовые категории в тренировочных данных\n",
    "uniq_leaves = train['category_id'].unique()\n",
    "uniq_leaves.sort()\n",
    "print('Количество уникальных листовых категорий: ', len(uniq_leaves))\n",
    "\n",
    "parents = parents.reindex(uniq_leaves).reset_index()\n",
    "\n",
    "print(parents.shape)\n",
    "parents[:7]"
   ]
  },
  {
   "cell_type": "markdown",
   "id": "66bd05af-e44b-48d6-821c-9d520055ef45",
   "metadata": {},
   "source": [
    "Найдем уникальные (узловые и листовые) категории среди тренировных данных - получилось 1477 категорий (из них 1231 листовые)"
   ]
  },
  {
   "cell_type": "code",
   "execution_count": 5,
   "id": "4bba7e34-f2d1-4bf0-86cc-adaa78f67598",
   "metadata": {},
   "outputs": [
    {
     "data": {
      "text/plain": [
       "(1477, array([   0,    1, 2598, 2599, 2600, 2601, 2602]))"
      ]
     },
     "execution_count": 5,
     "metadata": {},
     "output_type": "execute_result"
    }
   ],
   "source": [
    "uniq_nodes = np.unique(parents[[col for col in parents.columns if col != 'title']])\n",
    "len(uniq_nodes), uniq_nodes[:7]"
   ]
  },
  {
   "cell_type": "markdown",
   "id": "38404b94-5b89-4952-b7c8-2c8c289700ec",
   "metadata": {},
   "source": [
    "В networkx нет листов, есть только узлы (nodes) и грани (edges). Построим граф G сначала по всем возможным категориям в cats. Потом удалим из него все категории, которых нет в наших тренировочных данных. Также удалим категорию 0, у которой единственный потомок это категория 1, поэтому 0 не нужна."
   ]
  },
  {
   "cell_type": "code",
   "execution_count": 6,
   "id": "66d51352-fb3b-4b81-8dee-1c37d057feec",
   "metadata": {},
   "outputs": [
    {
     "name": "stdout",
     "output_type": "stream",
     "text": [
      "Общее количество листовых и узловых категорий в графе 1476\n"
     ]
    }
   ],
   "source": [
    "G = nx.from_pandas_edgelist(cats['parent_id'].reset_index(), 'parent_id', 'id', create_using=nx.DiGraph())\n",
    "G = nx.subgraph(G, uniq_nodes).copy()\n",
    "G.remove_node(0)\n",
    "print('Общее количество листовых и узловых категорий в графе',len(G))"
   ]
  },
  {
   "cell_type": "markdown",
   "id": "7aed3957-f734-4956-96e8-6d40bfbb9119",
   "metadata": {},
   "source": [
    "У графа можно посмотреть, например, количество категорий на каждом уровне ветвления, и какие категории на уровне расположены."
   ]
  },
  {
   "cell_type": "code",
   "execution_count": 7,
   "id": "5eb23a26-6237-4e05-9702-05c16959be75",
   "metadata": {},
   "outputs": [
    {
     "name": "stdout",
     "output_type": "stream",
     "text": [
      "количество [1, 5, 50, 385, 982, 53]\n",
      "[[1], [10003, 10012, 10014, 10018, 10020]]\n"
     ]
    }
   ],
   "source": [
    "# количество категорий на каждом уровне начиная с корня\n",
    "print('количество',[len(generation) for generation in nx.topological_generations(G)])\n",
    "\n",
    "# категории на верхних 2 уровнях\n",
    "print([generation for generation in nx.topological_generations(G)][:2])"
   ]
  },
  {
   "cell_type": "markdown",
   "id": "d57f57c0-9cd3-4c5e-a626-87f5034fd546",
   "metadata": {},
   "source": [
    "нарисуем верхнюю часть графа, укажем сколько максимум узлов отобразить - n"
   ]
  },
  {
   "cell_type": "code",
   "execution_count": 11,
   "id": "3ce684b5-adf3-4f8c-96ea-a38f7eeb193c",
   "metadata": {},
   "outputs": [
    {
     "data": {
      "image/png": "[encoded data removed]",
      "text/plain": [
       "<Figure size 1440x864 with 1 Axes>"
      ]
     },
     "metadata": {},
     "output_type": "display_data"
    }
   ],
   "source": [
    "def draw_top_graph(G, n=20):\n",
    "    fig, ax = plt.subplots(figsize=(20,12))\n",
    "    top_nodes = list(nx.topological_sort(G))[:n]\n",
    "    G = G.subgraph(top_nodes)\n",
    "    \n",
    "    colors = {1:0, 10012:1, 10014:1, 10018:1, 10020:1, 10021:1, 10003:1}\n",
    "    node_colors = [colors.get(node,2) for node in list(G)]\n",
    "\n",
    "    node_sizes = [5000 if node == 1 else 2500 for node in list(G)]\n",
    "    \n",
    "    nx.draw_networkx(G, pos=nx.planar_layout(G), node_color=node_colors, node_size=node_sizes,cmap=cmap)\n",
    "    \n",
    "draw_top_graph(G, n=20)"
   ]
  },
  {
   "cell_type": "markdown",
   "id": "c0cdc60a-bf6e-4d57-9b6a-4e4414baa9aa",
   "metadata": {},
   "source": [
    "Сохраним граф и родителей категорий в файлы:"
   ]
  },
  {
   "cell_type": "code",
   "execution_count": 9,
   "id": "3e2a0a0d-fa0e-461e-b402-06f274414c17",
   "metadata": {},
   "outputs": [],
   "source": [
    "nx.write_gpickle(G, \"graph.gpickle\")\n",
    "parents.to_csv('parents.csv',index=False)"
   ]
  },
  {
   "cell_type": "markdown",
   "id": "8b45c408-9fcb-45e3-9f1b-b4c26a2cf587",
   "metadata": {},
   "source": [
    "Маленькие по обьему категории могут создать шум для классификаторов при определении больших категорий, снизив их качество, поэтому возможно стоит 1) все маленькие категории обьединить в одну категорию на весь трейн датасет, или 2) сгруппировать их в пределах первого родителя. 193 категории имеют меньше 10 образцов"
   ]
  },
  {
   "cell_type": "code",
   "execution_count": 13,
   "id": "44cbf392-ab71-4c6f-96df-d8974e0eaad5",
   "metadata": {},
   "outputs": [
    {
     "data": {
      "text/plain": [
       "Int64Index([13416, 12901, 14135, 12596, 12677, 13754, 14165,  2860,  2676,\n",
       "            12936,\n",
       "            ...\n",
       "            13626,  2854, 12542, 13378, 12385, 13756, 13007,  2598, 11917,\n",
       "            13787],\n",
       "           dtype='int64', length=193)"
      ]
     },
     "execution_count": 13,
     "metadata": {},
     "output_type": "execute_result"
    }
   ],
   "source": [
    "THRESHOLD_SMALL = 10\n",
    "small_cats = cat_counts[cat_counts<THRESHOLD_SMALL].index\n",
    "small_cats"
   ]
  }
 ],
 "metadata": {
  "kernelspec": {
   "display_name": "ts_env:Python",
   "language": "python",
   "name": "conda-env-ts_env-py"
  },
  "language_info": {
   "codemirror_mode": {
    "name": "ipython",
    "version": 3
   },
   "file_extension": ".py",
   "mimetype": "text/x-python",
   "name": "python",
   "nbconvert_exporter": "python",
   "pygments_lexer": "ipython3",
   "version": "3.8.12"
  }
 },
 "nbformat": 4,
 "nbformat_minor": 5
}
