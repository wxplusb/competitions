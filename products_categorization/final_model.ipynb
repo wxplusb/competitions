{
 "cells": [
  {
   "cell_type": "markdown",
   "id": "2801849a-67e5-4968-af56-c6337f8e542c",
   "metadata": {},
   "source": [
    "# Обзор\n",
    "Построение финальной модели на всем датасете."
   ]
  },
  {
   "cell_type": "code",
   "execution_count": 1,
   "id": "855bcc62-090d-4c57-8a78-4c515429e9e1",
   "metadata": {},
   "outputs": [],
   "source": [
    "import sys\n",
    "import numpy as np\n",
    "import pandas as pd\n",
    "import os\n",
    "import gc\n",
    "import seaborn as sns\n",
    "import matplotlib.pyplot as plt\n",
    "import time\n",
    "import pickle\n",
    "from tqdm.notebook import tqdm\n",
    "\n",
    "from sklearn.model_selection import train_test_split\n",
    "from sklearn.feature_extraction.text import TfidfVectorizer\n",
    "from sklearn.linear_model import LogisticRegression\n",
    "from scipy.sparse import csr_matrix\n",
    "\n",
    "import networkx as nx\n",
    "import hier\n",
    "from hier import HiClassifier\n",
    "import importlib\n",
    "importlib.reload(hier)\n",
    "\n",
    "from catboost import CatBoostClassifier\n",
    "\n",
    "pd.set_option(\"max_colwidth\", 25)\n",
    "pd.set_option(\"display.precision\", 1)\n",
    "pd.options.display.float_format = \"{:.3f}\".format\n",
    "\n",
    "RANDOM_STATE = 34\n",
    "DIR_MODELS = 'models/'\n",
    "os.makedirs(DIR_MODELS, exist_ok = True)"
   ]
  },
  {
   "cell_type": "markdown",
   "id": "0c9433dd-1d3b-4e1e-ac09-50ef8b5ce949",
   "metadata": {},
   "source": [
    "Загрузим подготовленные датасеты:"
   ]
  },
  {
   "cell_type": "code",
   "execution_count": 2,
   "id": "dbb14e23-6075-472d-9b3b-07265bf46d5f",
   "metadata": {},
   "outputs": [],
   "source": [
    "# обработанные трейн и тест\n",
    "X = pd.read_parquet('train_data.parquet')\n",
    "X_test = pd.read_parquet('test_data.parquet')\n",
    "\n",
    "# граф категорий\n",
    "G = nx.read_gpickle(\"graph.gpickle\")"
   ]
  },
  {
   "cell_type": "markdown",
   "id": "c7c35957-2020-4251-873f-7f96d90607c1",
   "metadata": {},
   "source": [
    "# 1 попытка с catboost (не удалась)\n",
    "Попробовал построить модель сложнее используя кетбуст, но он показал низкие результаты на валидационной выборке:"
   ]
  },
  {
   "cell_type": "code",
   "execution_count": 8,
   "id": "f3ed073a-15d0-4e96-952d-d5dc1bc8282e",
   "metadata": {},
   "outputs": [
    {
     "data": {
      "text/plain": [
       "((226720, 11), (56680, 11), (226720,))"
      ]
     },
     "execution_count": 8,
     "metadata": {},
     "output_type": "execute_result"
    }
   ],
   "source": [
    "y = X['category_id'].to_numpy()\n",
    "\n",
    "X_train, X_val, y_train, y_val = train_test_split(\n",
    "    X,y,\n",
    "    stratify=y,\n",
    "    test_size=0.2,\n",
    "    random_state=RANDOM_STATE,\n",
    ")\n",
    "\n",
    "X_train.reset_index(drop=True, inplace=True)\n",
    "X_val.reset_index(drop=True, inplace=True)\n",
    "\n",
    "X_train.shape, X_val.shape, y_train.shape"
   ]
  },
  {
   "cell_type": "code",
   "execution_count": 4,
   "id": "668db1f6-e45b-4065-9f9e-83783ecf1e14",
   "metadata": {},
   "outputs": [],
   "source": [
    "def non_null_rows(x):\n",
    "    return np.diff(x.indptr) != 0\n",
    "\n",
    "# удаление образцов с нулевыми строками после tfidf\n",
    "def tfidf_without_null_rows(tf, X_train, y_train):\n",
    "    X_train_tf = tf.fit_transform(X_train)    \n",
    "    ids = non_null_rows(X_train_tf)   \n",
    "    return X_train_tf[ids], y_train[ids]"
   ]
  },
  {
   "cell_type": "code",
   "execution_count": 10,
   "id": "f5bf7239-c193-4253-877d-43634624aacb",
   "metadata": {},
   "outputs": [
    {
     "data": {
      "text/plain": [
       "(226649, 11163)"
      ]
     },
     "execution_count": 10,
     "metadata": {},
     "output_type": "execute_result"
    }
   ],
   "source": [
    "tf = TfidfVectorizer(min_df=10, lowercase=False)\n",
    "\n",
    "X_train_tf, y_train_tf = tfidf_without_null_rows(tf, X_train['title_desc_chars'], y_train)\n",
    "X_val_tf = tf.transform(X_val['title_desc_chars'])\n",
    "X_train_tf.shape"
   ]
  },
  {
   "cell_type": "markdown",
   "id": "7eeb76ca-588c-4864-8660-36fa51debbc5",
   "metadata": {},
   "source": [
    "Определяем локальный классификатор catboost, который будет обучаться и упрощенно оценивать необходимое количество итераций без кроссвалидации."
   ]
  },
  {
   "cell_type": "code",
   "execution_count": 11,
   "id": "bf463de6-3db9-49ee-8091-9eb1a61fcf2c",
   "metadata": {},
   "outputs": [],
   "source": [
    "class LocalCatBoost:\n",
    "    def __init__(self, node_id, lr=0.01):\n",
    "\n",
    "        self.is_fitted = False\n",
    "        self.path_model = f\"{DIR_MODELS}model{node_id}\"\n",
    "        self.lr = lr\n",
    "\n",
    "        # если модель в этом узле графа тренировалась, значит она ее можно загрузить из папки      \n",
    "        if os.path.isfile(self.path_model):\n",
    "            self.model = CatBoostClassifier()\n",
    "            self.model.load_model(self.path_model)\n",
    "            self.is_fitted = True\n",
    "        else:\n",
    "            self.model = CatBoostClassifier(\n",
    "                iterations=7000,\n",
    "                random_seed=RANDOM_STATE,\n",
    "                task_type=\"GPU\",\n",
    "                early_stopping_rounds=30,\n",
    "                learning_rate=lr,\n",
    "                eval_metric=\"TotalF1\",\n",
    "            )\n",
    "\n",
    "    def fit(self, X, y):\n",
    "\n",
    "        if self.is_fitted:\n",
    "            return self\n",
    "\n",
    "        X_train, X_val, y_train, y_val = train_test_split(\n",
    "            X,\n",
    "            y,\n",
    "            stratify=y,\n",
    "            test_size=0.2,\n",
    "            random_state=RANDOM_STATE,\n",
    "        )\n",
    "\n",
    "        self.model.fit(X_train, y_train, eval_set=(X_val, y_val), verbose=500)\n",
    "        # обучаемся на полном локальном наборе, используя количество итераций, найденное на отложенной выборке. В этой точке лучше находить кол-во итераций по кроссвалидации или вообще усреднять по нескольким моделям, пока оставил этот простой вариант.\n",
    "        self.model = CatBoostClassifier(\n",
    "            iterations=self.model.get_best_iteration(),\n",
    "            random_seed=RANDOM_STATE,\n",
    "            task_type=\"GPU\",\n",
    "            learning_rate=self.lr,\n",
    "        )\n",
    "        self.model.fit(X, y)\n",
    "        self.model.save_model(self.path_model)\n",
    "\n",
    "        return self\n",
    "\n",
    "    @property\n",
    "    def classes_(self):\n",
    "        return self.model.classes_\n",
    "\n",
    "    def predict_proba(self, X):\n",
    "        return self.model.predict_proba(X)"
   ]
  },
  {
   "cell_type": "markdown",
   "id": "7aea77e2-5c2a-4626-805c-0fafd801a5b9",
   "metadata": {},
   "source": [
    "Определим функцию, которая будет на большие локальные разбиения выдавать кетбуст, а на маленькие (меньше 100 образцов) - лог регрессию, потому что на маленьких выборках могут проблемы с train_test_split и самим кетбустом."
   ]
  },
  {
   "cell_type": "code",
   "execution_count": null,
   "id": "133dadfd-f3f2-4db0-96f6-1c3f544af627",
   "metadata": {},
   "outputs": [],
   "source": [
    "def make_local_estimator(node_id, graph):\n",
    "    if graph.nodes[node_id]['X'].count_nonzero() < 100:\n",
    "        return LogisticRegression(C=3,\n",
    "    multi_class=\"multinomial\", max_iter=1000, random_state=RANDOM_STATE\n",
    ")\n",
    "    return LocalCatBoost(node_id)"
   ]
  },
  {
   "cell_type": "code",
   "execution_count": 1,
   "id": "8457fdc5-20ba-43a0-bbc5-7313403991bd",
   "metadata": {},
   "outputs": [
    {
     "name": "stdout",
     "output_type": "stream",
     "text": [
      "hP=0.876 hR=0.875 hF1=0.876 time_fit=103.1min time_predict=37.5min\n"
     ]
    }
   ],
   "source": [
    "hiclf = HiClassifier(base_estimator=make_local_estimator,\n",
    "        class_hierarchy=G)\n",
    "hiclf.fit(X_train_tf,y_train_tf)\n",
    "y_pred = hiclf.predict(X_val_tf)\n",
    "hP, hR, hF1 = hier.h_scores(y_val, y_pred, G)\n",
    "\n",
    "print(f\"hP={hP} hR={hR} hF1={hF1} time_fit={hiclf.time_fit}min time_predict={hiclf.time_predict}min\")"
   ]
  },
  {
   "cell_type": "markdown",
   "id": "f33bfcc4-e6e2-4f2a-9731-39ad012612ac",
   "metadata": {},
   "source": [
    "Получили низкие результаты, так как возможно кетбуст с такими разреженными данными работает хуже, чем если бы ему передали текстовые данные через его нативные text_features. "
   ]
  },
  {
   "cell_type": "markdown",
   "id": "f5eafdfc-39ea-40e3-8603-9d276f6b1de7",
   "metadata": {},
   "source": [
    "# 2 попытка only LogisticRegression\n",
    "Поэтому обучаем финальную модель с помощью логрегрессии в качестве локального классификатора. Построим предсказания для X_test используя весь тренировочный набор:"
   ]
  },
  {
   "cell_type": "code",
   "execution_count": 9,
   "id": "10e22f10-ccfb-46be-b662-6112cb2e080f",
   "metadata": {},
   "outputs": [
    {
     "data": {
      "text/plain": [
       "((283333, 12551), (70864, 12551))"
      ]
     },
     "execution_count": 9,
     "metadata": {},
     "output_type": "execute_result"
    }
   ],
   "source": [
    "tf = TfidfVectorizer(min_df=10, lowercase=False)\n",
    "\n",
    "y = X['category_id'].to_numpy()\n",
    "X_train_tf, y_train_tf = tfidf_without_null_rows(tf, X['title_desc_chars'], y)\n",
    "X_test_tf = tf.transform(X_test['title_desc_chars'])\n",
    "\n",
    "X_train_tf.shape, X_test_tf.shape"
   ]
  },
  {
   "cell_type": "code",
   "execution_count": 10,
   "id": "453fd9db-dbec-4555-b599-dc6ffe8c11e5",
   "metadata": {},
   "outputs": [
    {
     "data": {
      "application/vnd.jupyter.widget-view+json": {
       "model_id": "8a8c5dffedbc42398d39028a4b360adb",
       "version_major": 2,
       "version_minor": 0
      },
      "text/plain": [
       "Building features:   0%|          | 0/1476 [00:00<?, ?it/s]"
      ]
     },
     "metadata": {},
     "output_type": "display_data"
    },
    {
     "data": {
      "application/vnd.jupyter.widget-view+json": {
       "model_id": "a4518caa5cff48a9b0d6859c002d5b9f",
       "version_major": 2,
       "version_minor": 0
      },
      "text/plain": [
       "Training base classifiers:   0%|          | 0/1476 [00:00<?, ?it/s]"
      ]
     },
     "metadata": {},
     "output_type": "display_data"
    },
    {
     "data": {
      "text/plain": [
       "array([11574, 11878, 13299])"
      ]
     },
     "execution_count": 10,
     "metadata": {},
     "output_type": "execute_result"
    }
   ],
   "source": [
    "lg = LogisticRegression(\n",
    "    C=3, multi_class=\"multinomial\", max_iter=1000, random_state=RANDOM_STATE\n",
    ")\n",
    "\n",
    "hiclf = HiClassifier(base_estimator=lg, class_hierarchy=G)\n",
    "hiclf.fit(X_train_tf, y_train_tf)\n",
    "y_pred = hiclf.predict(X_test_tf)\n",
    "y_pred[:3]"
   ]
  },
  {
   "cell_type": "code",
   "execution_count": 11,
   "id": "a8a1111a-41f2-4aa8-b0f3-909c74dcc8fe",
   "metadata": {},
   "outputs": [],
   "source": [
    "submission = pd.DataFrame()\n",
    "submission['id'] = X_test['id']\n",
    "submission['predicted_category_id'] = y_pred\n",
    "submission.to_parquet('result.parquet',index=False)"
   ]
  }
 ],
 "metadata": {
  "kernelspec": {
   "display_name": "ts_env:Python",
   "language": "python",
   "name": "conda-env-ts_env-py"
  },
  "language_info": {
   "codemirror_mode": {
    "name": "ipython",
    "version": 3
   },
   "file_extension": ".py",
   "mimetype": "text/x-python",
   "name": "python",
   "nbconvert_exporter": "python",
   "pygments_lexer": "ipython3",
   "version": "3.8.12"
  }
 },
 "nbformat": 4,
 "nbformat_minor": 5
}
