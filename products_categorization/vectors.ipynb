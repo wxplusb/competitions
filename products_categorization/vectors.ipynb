{
 "cells": [
  {
   "cell_type": "markdown",
   "id": "2801849a-67e5-4968-af56-c6337f8e542c",
   "metadata": {},
   "source": [
    "# Обзор\n",
    "Категоризация товаров это задача иерархической классификации. В ней информация для моделей обучения может поступать из двух мест: 1) признаки образцов 2) иерархия классов (граф), показывающая связь между группами образцов. Следовательно, модель мл для лучшего результата должна учитывать оба фактора. \n",
    "\n",
    "В качестве такой модели я выбрал алгоритм \"local classifier per parent node\" - который, начиная с корня графа, на каждую узловую ноду в графе категорий, строит по отдельному базовому классификатору, давая ему соответствующую этой ноде часть датасета. На этапе предикта, начиная с корня, идет по пути, который выбирают натренированные базовые классификаторы, до нижней узловой ноды, где уже определяет листовую категорию образца.\n",
    "\n",
    "Другие варианты - локальный бинарный классификатор на каждую ноду, глобальный классификатор на все категории сразу -  пока отложил, потому что на мой взгляд они меньше учитывают иерархию, и более ресурсоемкие по времени.\n",
    "\n",
    "Сначала потренируем алгоритмы с несложными базовыми моделями на разных векторных представлениях текстовых признаков, а потом на лучшем векторном представлении будем тюнить базовые модели. Тут разные варианты есть в какой последовательности это делать, но тюнить и подбирать мл модели по времени можно намного дольше, чем признаки генерировать, поэтому я поставил их в конце.\n",
    "\n",
    "Буду использовать библиотеку sklearn_hierarchical_classification. Она устроена так, что для каждого базовой модели строит разреженную матрицу фичей еще до начала классификации, это занимает от 15мин до 1.5 часа в зависимости от количества фичей, делает это перед каждым fit ом, и сама классификация (а это 240 классификаторов) не быстрее. Поэтому были опробованы в качестве базовых несложные модели и без кроссвалидации. Уже потом сделал свой класс HiClassifier, модифицировав библиотечный, он расположен в файле hier.py и устраняет недостатки.\n",
    "\n",
    "Также есть библиотека hiclass для иерарх. класс-ии, но она молодая, и в новой версии пока не поддерживает разную длину пути от корня до листьев."
   ]
  },
  {
   "cell_type": "code",
   "execution_count": 12,
   "id": "855bcc62-090d-4c57-8a78-4c515429e9e1",
   "metadata": {},
   "outputs": [],
   "source": [
    "import sys\n",
    "import numpy as np\n",
    "import pandas as pd\n",
    "import os\n",
    "import gc\n",
    "import seaborn as sns\n",
    "import matplotlib.pyplot as plt\n",
    "import time\n",
    "import pickle\n",
    "from tqdm.notebook import tqdm\n",
    "\n",
    "from sklearn.model_selection import train_test_split\n",
    "from sklearn.feature_extraction.text import TfidfVectorizer,HashingVectorizer\n",
    "from sklearn.linear_model import LogisticRegression\n",
    "from sklearn.naive_bayes import MultinomialNB\n",
    "from sklearn.base import BaseEstimator\n",
    "from scipy.sparse import csr_matrix\n",
    "\n",
    "import gensim\n",
    "from gensim.models.doc2vec import TaggedDocument\n",
    "from gensim.models import Doc2Vec\n",
    "\n",
    "import networkx as nx\n",
    "import hier\n",
    "from hier import HiClassifier\n",
    "import importlib\n",
    "importlib.reload(hier)\n",
    "\n",
    "pd.set_option(\"max_colwidth\", 25)\n",
    "pd.set_option(\"display.precision\", 1)\n",
    "pd.options.display.float_format = \"{:.3f}\".format\n",
    "\n",
    "RANDOM_STATE = 34\n",
    "PATH_GRAPH = f'out/graph{RANDOM_STATE}'"
   ]
  },
  {
   "cell_type": "markdown",
   "id": "0c9433dd-1d3b-4e1e-ac09-50ef8b5ce949",
   "metadata": {},
   "source": [
    "Загрузим подготовленные датасеты:"
   ]
  },
  {
   "cell_type": "code",
   "execution_count": 2,
   "id": "dbb14e23-6075-472d-9b3b-07265bf46d5f",
   "metadata": {},
   "outputs": [
    {
     "data": {
      "text/html": [
       "<div>\n",
       "<style scoped>\n",
       "    .dataframe tbody tr th:only-of-type {\n",
       "        vertical-align: middle;\n",
       "    }\n",
       "\n",
       "    .dataframe tbody tr th {\n",
       "        vertical-align: top;\n",
       "    }\n",
       "\n",
       "    .dataframe thead th {\n",
       "        text-align: right;\n",
       "    }\n",
       "</style>\n",
       "<table border=\"1\" class=\"dataframe\">\n",
       "  <thead>\n",
       "    <tr style=\"text-align: right;\">\n",
       "      <th></th>\n",
       "      <th>id</th>\n",
       "      <th>title</th>\n",
       "      <th>description</th>\n",
       "      <th>characteristics</th>\n",
       "      <th>rating</th>\n",
       "      <th>feedback</th>\n",
       "      <th>category_id</th>\n",
       "      <th>has_description</th>\n",
       "      <th>has_characteristics</th>\n",
       "      <th>title_desc</th>\n",
       "      <th>title_desc_chars</th>\n",
       "    </tr>\n",
       "  </thead>\n",
       "  <tbody>\n",
       "    <tr>\n",
       "      <th>0</th>\n",
       "      <td>1267423</td>\n",
       "      <td>muhle manikure песочн...</td>\n",
       "      <td>muhle manikure колпач...</td>\n",
       "      <td></td>\n",
       "      <td>0.000</td>\n",
       "      <td>0</td>\n",
       "      <td>2693</td>\n",
       "      <td>1</td>\n",
       "      <td>0</td>\n",
       "      <td>muhle manikure песочн...</td>\n",
       "      <td>muhle manikure песочн...</td>\n",
       "    </tr>\n",
       "    <tr>\n",
       "      <th>1</th>\n",
       "      <td>128833</td>\n",
       "      <td>sony xperia l1 защитн...</td>\n",
       "      <td></td>\n",
       "      <td></td>\n",
       "      <td>4.668</td>\n",
       "      <td>9</td>\n",
       "      <td>13408</td>\n",
       "      <td>0</td>\n",
       "      <td>0</td>\n",
       "      <td>sony xperia l1 защитн...</td>\n",
       "      <td>sony xperia l1 защитн...</td>\n",
       "    </tr>\n",
       "    <tr>\n",
       "      <th>2</th>\n",
       "      <td>569924</td>\n",
       "      <td>конверт деньга прекра...</td>\n",
       "      <td>конверт деньга прекра...</td>\n",
       "      <td></td>\n",
       "      <td>5.000</td>\n",
       "      <td>6</td>\n",
       "      <td>11790</td>\n",
       "      <td>1</td>\n",
       "      <td>0</td>\n",
       "      <td>конверт деньга прекра...</td>\n",
       "      <td>конверт деньга прекра...</td>\n",
       "    </tr>\n",
       "  </tbody>\n",
       "</table>\n",
       "</div>"
      ],
      "text/plain": [
       "        id                     title               description  \\\n",
       "0  1267423  muhle manikure песочн...  muhle manikure колпач...   \n",
       "1   128833  sony xperia l1 защитн...                             \n",
       "2   569924  конверт деньга прекра...  конверт деньга прекра...   \n",
       "\n",
       "  characteristics  rating  feedback  category_id  has_description  \\\n",
       "0                   0.000         0         2693                1   \n",
       "1                   4.668         9        13408                0   \n",
       "2                   5.000         6        11790                1   \n",
       "\n",
       "   has_characteristics                title_desc          title_desc_chars  \n",
       "0                    0  muhle manikure песочн...  muhle manikure песочн...  \n",
       "1                    0  sony xperia l1 защитн...  sony xperia l1 защитн...  \n",
       "2                    0  конверт деньга прекра...  конверт деньга прекра...  "
      ]
     },
     "execution_count": 2,
     "metadata": {},
     "output_type": "execute_result"
    }
   ],
   "source": [
    "# обработанные трейн и тест\n",
    "X = pd.read_parquet('train_data.parquet')\n",
    "X_test = pd.read_parquet('test_data.parquet')\n",
    "X[:3]"
   ]
  },
  {
   "cell_type": "code",
   "execution_count": 3,
   "id": "e43c5418-60fb-4ae3-8337-18ea17c057c3",
   "metadata": {},
   "outputs": [
    {
     "data": {
      "image/png": "[encoded data removed]",
      "text/plain": [
       "<Figure size 1440x864 with 1 Axes>"
      ]
     },
     "metadata": {},
     "output_type": "display_data"
    }
   ],
   "source": [
    "# граф категорий и родители каждой листовой категории\n",
    "G = nx.read_gpickle(\"graph.gpickle\")\n",
    "hier.draw_top_graph(G, n=20)"
   ]
  },
  {
   "cell_type": "markdown",
   "id": "4c81d0ad-8990-437f-83b6-0505de890a87",
   "metadata": {},
   "source": [
    "Валидировать модели будем на отложенной выборке, так как на кросс-валидации долго."
   ]
  },
  {
   "cell_type": "code",
   "execution_count": 4,
   "id": "f3ed073a-15d0-4e96-952d-d5dc1bc8282e",
   "metadata": {},
   "outputs": [
    {
     "data": {
      "text/plain": [
       "((226720, 11), (56680, 11), (226720,))"
      ]
     },
     "execution_count": 4,
     "metadata": {},
     "output_type": "execute_result"
    }
   ],
   "source": [
    "y = X['category_id'].to_numpy()\n",
    "\n",
    "X_train, X_val, y_train, y_val = train_test_split(\n",
    "    X,y,\n",
    "    stratify=y,\n",
    "    test_size=0.2,\n",
    "    random_state=RANDOM_STATE,\n",
    ")\n",
    "\n",
    "X_train.reset_index(drop=True, inplace=True)\n",
    "X_val.reset_index(drop=True, inplace=True)\n",
    "\n",
    "X_train.shape, X_val.shape, y_train.shape"
   ]
  },
  {
   "cell_type": "markdown",
   "id": "15666543-8e93-4b4f-a55c-a0896bc32a39",
   "metadata": {},
   "source": [
    "Посмотрим как внутри алгоритма будут распределяться образцы между базовыми классификаторами, для этого создадим пустой классификатор, который соберет инфу:"
   ]
  },
  {
   "cell_type": "code",
   "execution_count": null,
   "id": "07111541-1a5f-4177-8622-496cc11a7dda",
   "metadata": {},
   "outputs": [],
   "source": [
    "hier_info = []\n",
    "\n",
    "class DummyClassifier(BaseEstimator):\n",
    "    def __init__(self, node_id):\n",
    "        self.node_id = node_id\n",
    "        self.classes_=0\n",
    "\n",
    "    def fit(self, X, y):\n",
    "        uniq_cats, counts = np.unique(y, return_counts=True)\n",
    "        hier_info.append([self.node_id, X.shape[0], len(uniq_cats), uniq_cats])\n",
    "\n",
    "\n",
    "def make_DummyClassifier(node_id, graph):\n",
    "    return DummyClassifier(node_id)\n",
    "\n",
    "hiclf = HiClassifier(base_estimator=make_DummyClassifier,\n",
    "        class_hierarchy=G)\n",
    "_ = hiclf.fit(X_train['id'], y_train)"
   ]
  },
  {
   "cell_type": "markdown",
   "id": "f166ec66-ea76-4db6-bc3f-e76a8dbcaf9d",
   "metadata": {},
   "source": [
    "В результате fit в графе категорий для данного X_train сохранились все локальные датасеты (разбиения) для каждого локального классификатора. Так как они считаются длительное время библиотекой и все находятся в памяти одновременно, то сохраним их в файл и далее мы можем эти разбиения использовать из файла указав параметр path_graph. Разбиения корректны только конкретной версии X_train, в данном случае она определяется RANDOM_STATE."
   ]
  },
  {
   "cell_type": "code",
   "execution_count": 39,
   "id": "cc30d754-4f69-47f4-b123-891e3650f309",
   "metadata": {},
   "outputs": [],
   "source": [
    "hiclf.save_graph(PATH_GRAPH)"
   ]
  },
  {
   "cell_type": "markdown",
   "id": "b5905ad6-811b-443d-ba6d-78c3f47e5b4c",
   "metadata": {},
   "source": [
    "Таблица ниже дает нам информацию о том, в каких узлах графа категорий будет наиболее сложная классификация, где больше образцов нужно классифицировать, где больше уникальных меток среди таргетов. Ниже в ноутбуке подберем соответствующие базовые модели для каждого узла, ориентируясь на это. Индекс в таблице соответствует в каком порядке будет вызываться классификатор."
   ]
  },
  {
   "cell_type": "code",
   "execution_count": 38,
   "id": "96512c9e-7f33-40ef-aaba-c280ed82ee59",
   "metadata": {},
   "outputs": [
    {
     "data": {
      "text/html": [
       "<div>\n",
       "<style scoped>\n",
       "    .dataframe tbody tr th:only-of-type {\n",
       "        vertical-align: middle;\n",
       "    }\n",
       "\n",
       "    .dataframe tbody tr th {\n",
       "        vertical-align: top;\n",
       "    }\n",
       "\n",
       "    .dataframe thead th {\n",
       "        text-align: right;\n",
       "    }\n",
       "</style>\n",
       "<table border=\"1\" class=\"dataframe\">\n",
       "  <thead>\n",
       "    <tr style=\"text-align: right;\">\n",
       "      <th></th>\n",
       "      <th>node_id</th>\n",
       "      <th>number_objects</th>\n",
       "      <th>number_uniq_categories</th>\n",
       "      <th>uniq_categories</th>\n",
       "    </tr>\n",
       "  </thead>\n",
       "  <tbody>\n",
       "    <tr>\n",
       "      <th>0</th>\n",
       "      <td>1</td>\n",
       "      <td>226719</td>\n",
       "      <td>5</td>\n",
       "      <td>[10003, 10012, 10014,...</td>\n",
       "    </tr>\n",
       "    <tr>\n",
       "      <th>149</th>\n",
       "      <td>10018</td>\n",
       "      <td>57677</td>\n",
       "      <td>9</td>\n",
       "      <td>[2894, 10049, 10058, ...</td>\n",
       "    </tr>\n",
       "    <tr>\n",
       "      <th>83</th>\n",
       "      <td>10014</td>\n",
       "      <td>44303</td>\n",
       "      <td>9</td>\n",
       "      <td>[2807, 10034, 10052, ...</td>\n",
       "    </tr>\n",
       "    <tr>\n",
       "      <th>1</th>\n",
       "      <td>10003</td>\n",
       "      <td>44228</td>\n",
       "      <td>5</td>\n",
       "      <td>[10021, 10022, 10023,...</td>\n",
       "    </tr>\n",
       "    <tr>\n",
       "      <th>45</th>\n",
       "      <td>10012</td>\n",
       "      <td>41458</td>\n",
       "      <td>12</td>\n",
       "      <td>[2673, 10070, 10084, ...</td>\n",
       "    </tr>\n",
       "    <tr>\n",
       "      <th>196</th>\n",
       "      <td>10020</td>\n",
       "      <td>39053</td>\n",
       "      <td>15</td>\n",
       "      <td>[10030, 10044, 10073,...</td>\n",
       "    </tr>\n",
       "    <tr>\n",
       "      <th>15</th>\n",
       "      <td>10023</td>\n",
       "      <td>30771</td>\n",
       "      <td>13</td>\n",
       "      <td>[2606, 10045, 10060, ...</td>\n",
       "    </tr>\n",
       "    <tr>\n",
       "      <th>199</th>\n",
       "      <td>10044</td>\n",
       "      <td>25556</td>\n",
       "      <td>5</td>\n",
       "      <td>[10398, 11717, 12690,...</td>\n",
       "    </tr>\n",
       "    <tr>\n",
       "      <th>200</th>\n",
       "      <td>10398</td>\n",
       "      <td>25302</td>\n",
       "      <td>14</td>\n",
       "      <td>[11281, 11937, 12111,...</td>\n",
       "    </tr>\n",
       "    <tr>\n",
       "      <th>107</th>\n",
       "      <td>10116</td>\n",
       "      <td>22921</td>\n",
       "      <td>14</td>\n",
       "      <td>[10418, 10500, 10533,...</td>\n",
       "    </tr>\n",
       "    <tr>\n",
       "      <th>186</th>\n",
       "      <td>10118</td>\n",
       "      <td>18647</td>\n",
       "      <td>9</td>\n",
       "      <td>[10508, 10749, 10934,...</td>\n",
       "    </tr>\n",
       "    <tr>\n",
       "      <th>165</th>\n",
       "      <td>10115</td>\n",
       "      <td>17922</td>\n",
       "      <td>20</td>\n",
       "      <td>[10282, 10289, 10377,...</td>\n",
       "    </tr>\n",
       "    <tr>\n",
       "      <th>21</th>\n",
       "      <td>10104</td>\n",
       "      <td>15607</td>\n",
       "      <td>12</td>\n",
       "      <td>[10589, 11574, 11894,...</td>\n",
       "    </tr>\n",
       "    <tr>\n",
       "      <th>53</th>\n",
       "      <td>10091</td>\n",
       "      <td>8999</td>\n",
       "      <td>5</td>\n",
       "      <td>[10696, 10968, 11015,...</td>\n",
       "    </tr>\n",
       "    <tr>\n",
       "      <th>65</th>\n",
       "      <td>10137</td>\n",
       "      <td>8656</td>\n",
       "      <td>6</td>\n",
       "      <td>[2663, 10476, 10648, ...</td>\n",
       "    </tr>\n",
       "  </tbody>\n",
       "</table>\n",
       "</div>"
      ],
      "text/plain": [
       "     node_id  number_objects  number_uniq_categories           uniq_categories\n",
       "0          1          226719                       5  [10003, 10012, 10014,...\n",
       "149    10018           57677                       9  [2894, 10049, 10058, ...\n",
       "83     10014           44303                       9  [2807, 10034, 10052, ...\n",
       "1      10003           44228                       5  [10021, 10022, 10023,...\n",
       "45     10012           41458                      12  [2673, 10070, 10084, ...\n",
       "196    10020           39053                      15  [10030, 10044, 10073,...\n",
       "15     10023           30771                      13  [2606, 10045, 10060, ...\n",
       "199    10044           25556                       5  [10398, 11717, 12690,...\n",
       "200    10398           25302                      14  [11281, 11937, 12111,...\n",
       "107    10116           22921                      14  [10418, 10500, 10533,...\n",
       "186    10118           18647                       9  [10508, 10749, 10934,...\n",
       "165    10115           17922                      20  [10282, 10289, 10377,...\n",
       "21     10104           15607                      12  [10589, 11574, 11894,...\n",
       "53     10091            8999                       5  [10696, 10968, 11015,...\n",
       "65     10137            8656                       6  [2663, 10476, 10648, ..."
      ]
     },
     "execution_count": 38,
     "metadata": {},
     "output_type": "execute_result"
    }
   ],
   "source": [
    "hier_info = pd.DataFrame(hier_info, columns=['node_id','number_objects', 'number_uniq_categories', 'uniq_categories'])\n",
    "hier_info.to_csv('hier_info.csv',index=False)\n",
    "hier_info.sort_values('number_objects',ascending=False)[:15]"
   ]
  },
  {
   "cell_type": "markdown",
   "id": "ae600c38-e82d-4620-8546-8a91a7a7ca84",
   "metadata": {},
   "source": [
    "В итоге будет тренироваться 240 базовых классификаторов, им достанется от 4 до 226514 обьектов, и от 2 до 22 категорий."
   ]
  },
  {
   "cell_type": "code",
   "execution_count": 36,
   "id": "2ea3d3ed-5c0a-4b7b-a7b7-d6786a3272fc",
   "metadata": {},
   "outputs": [
    {
     "data": {
      "text/html": [
       "<div>\n",
       "<style scoped>\n",
       "    .dataframe tbody tr th:only-of-type {\n",
       "        vertical-align: middle;\n",
       "    }\n",
       "\n",
       "    .dataframe tbody tr th {\n",
       "        vertical-align: top;\n",
       "    }\n",
       "\n",
       "    .dataframe thead th {\n",
       "        text-align: right;\n",
       "    }\n",
       "</style>\n",
       "<table border=\"1\" class=\"dataframe\">\n",
       "  <thead>\n",
       "    <tr style=\"text-align: right;\">\n",
       "      <th></th>\n",
       "      <th>number_objects</th>\n",
       "      <th>number_uniq_categories</th>\n",
       "    </tr>\n",
       "  </thead>\n",
       "  <tbody>\n",
       "    <tr>\n",
       "      <th>min</th>\n",
       "      <td>4</td>\n",
       "      <td>2</td>\n",
       "    </tr>\n",
       "    <tr>\n",
       "      <th>max</th>\n",
       "      <td>226719</td>\n",
       "      <td>22</td>\n",
       "    </tr>\n",
       "    <tr>\n",
       "      <th>mode</th>\n",
       "      <td>61</td>\n",
       "      <td>2</td>\n",
       "    </tr>\n",
       "  </tbody>\n",
       "</table>\n",
       "</div>"
      ],
      "text/plain": [
       "      number_objects  number_uniq_categories\n",
       "min                4                       2\n",
       "max           226719                      22\n",
       "mode              61                       2"
      ]
     },
     "execution_count": 36,
     "metadata": {},
     "output_type": "execute_result"
    }
   ],
   "source": [
    "def mode(x): return pd.Series.mode(x)[0]\n",
    "\n",
    "hier_info[['number_objects','number_uniq_categories']].agg(['min','max',mode])"
   ]
  },
  {
   "cell_type": "markdown",
   "id": "a3740235-90d8-413c-bfc7-8fccaaee9057",
   "metadata": {},
   "source": [
    "# Tfidf hF1=0.939\n",
    "Посчитаем метрики на иерархическом классификаторе с базовыми моделями линейной регрессии на тренировочном датасете с фичей 'title_desc_chars' преобразованной в вектора с помощью Tfidf. Остальные фичи пока не рассматриваем. Определим функцию, которая будет делать Tfidf преобразование и удалять образцы из тренировочного набора, у которых получатся все признаки равны 0."
   ]
  },
  {
   "cell_type": "code",
   "execution_count": 5,
   "id": "80f4425b-b8b9-43d8-a36e-7f3437223de9",
   "metadata": {},
   "outputs": [],
   "source": [
    "def non_null_rows(x):\n",
    "    return np.diff(x.indptr) != 0\n",
    "\n",
    "def tfidf_without_null_rows(tf, X_train, y_train):\n",
    "    X_train_tf = tf.fit_transform(X_train)    \n",
    "    ids = non_null_rows(X_train_tf)   \n",
    "    return X_train_tf[ids], y_train[ids]"
   ]
  },
  {
   "cell_type": "code",
   "execution_count": 6,
   "id": "d73e17e1-0a1b-4e10-b4d9-a09c38d658ba",
   "metadata": {},
   "outputs": [
    {
     "data": {
      "text/plain": [
       "(226649, 11163)"
      ]
     },
     "execution_count": 6,
     "metadata": {},
     "output_type": "execute_result"
    }
   ],
   "source": [
    "tf = TfidfVectorizer(min_df=10, lowercase=False)\n",
    "\n",
    "X_train_tf, y_train_tf = tfidf_without_null_rows(tf, X_train['title_desc_chars'], y_train)\n",
    "X_val_tf = tf.transform(X_val['title_desc_chars'])\n",
    "X_train_tf.shape"
   ]
  },
  {
   "cell_type": "markdown",
   "id": "37b61807-a3ac-4e09-91c5-c9ed22f7890f",
   "metadata": {},
   "source": [
    "HiClassifier - иерархический классификатор вида local classifier per parent node. По умолчанию он в качестве local classifier выбирает LogisticRegression. HiClassifier ускоряет библиотечный HierarchicalClassifier и снижает его потребление памяти, добавляет функции сохранения и загрузки графа категорий с разбиениями. Находится в файле hier.py  "
   ]
  },
  {
   "cell_type": "code",
   "execution_count": 30,
   "id": "2efcd33c-fc95-40c7-91b0-249ba0839dd4",
   "metadata": {},
   "outputs": [
    {
     "name": "stdout",
     "output_type": "stream",
     "text": [
      "hP=0.935 hR=0.936 hF1=0.935 time_fit=21.5min time_predict=2.2min\n"
     ]
    }
   ],
   "source": [
    "hiclf = HiClassifier(class_hierarchy=G)\n",
    "hiclf.fit(X_train_tf,y_train_tf)\n",
    "y_pred = hiclf.predict(X_val_tf)\n",
    "\n",
    "hP, hR, hF1 = hier.h_scores(y_val, y_pred, G)\n",
    "\n",
    "print(f\"hP={hP} hR={hR} hF1={hF1} time_fit={hiclf.time_fit}min time_predict={hiclf.time_predict}min\")"
   ]
  },
  {
   "cell_type": "markdown",
   "id": "86e0f833-4772-4b57-8d2d-dfde5107030e",
   "metadata": {},
   "source": [
    "Добавим Tfidf в bigrams - результат такой же если ограничить max_features:"
   ]
  },
  {
   "cell_type": "code",
   "execution_count": 11,
   "id": "79ad13f7-ab7f-4b3f-b23b-a3ec797d1bed",
   "metadata": {},
   "outputs": [
    {
     "name": "stdout",
     "output_type": "stream",
     "text": [
      "hP=0.934 hR=0.935 hF1=0.935 time_fit=19.9min time_predict=2.1min\n"
     ]
    }
   ],
   "source": [
    "tf = TfidfVectorizer(min_df=10, max_features=10000, ngram_range=(1,2), lowercase=False)\n",
    "\n",
    "X_train_tf, y_train_tf = tfidf_without_null_rows(tf, X_train['title_desc_chars'], y_train)\n",
    "X_val_tf = tf.transform(X_val['title_desc_chars'])\n",
    "\n",
    "hiclf = HiClassifier(class_hierarchy=G)\n",
    "hiclf.fit(X_train_tf,y_train_tf)\n",
    "y_pred = hiclf.predict(X_val_tf)\n",
    "\n",
    "hP, hR, hF1 = hier.h_scores(y_val, y_pred, G)\n",
    "\n",
    "print(f\"hP={hP} hR={hR} hF1={hF1} time_fit={hiclf.time_fit}min time_predict={hiclf.time_predict}min\")"
   ]
  },
  {
   "cell_type": "markdown",
   "id": "958878e3-5e8c-402e-8fdc-d0d92d5bc3bf",
   "metadata": {},
   "source": [
    "# MultinomialNB в качестве локального классификатора - hF1 = 0.9"
   ]
  },
  {
   "cell_type": "code",
   "execution_count": 9,
   "id": "ed7d520d-3a5c-42d7-bba1-787a012d8b29",
   "metadata": {},
   "outputs": [
    {
     "name": "stdout",
     "output_type": "stream",
     "text": [
      "hP=0.899 hR=0.901 hF1=0.9 time_fit=14.7min time_predict=2.4min\n"
     ]
    }
   ],
   "source": [
    "tf = TfidfVectorizer(min_df=5, max_features=15000, ngram_range=(1,2), lowercase=False)\n",
    "\n",
    "X_train_tf, y_train_tf = tfidf_without_null_rows(tf, X_train['title_desc_chars'], y_train)\n",
    "X_val_tf = tf.transform(X_val['title_desc_chars'])\n",
    "\n",
    "hiclf = HiClassifier(class_hierarchy=G, base_estimator = MultinomialNB())\n",
    "hiclf.fit(X_train_tf,y_train_tf)\n",
    "y_pred = hiclf.predict(X_val_tf)\n",
    "\n",
    "hP, hR, hF1 = hier.h_scores(y_val, y_pred, G)"
   ]
  },
  {
   "cell_type": "markdown",
   "id": "e79eeeab-1b4e-421a-ba00-5f231a8ddeb8",
   "metadata": {},
   "source": [
    "# HashingVectorizer - hF1 = 0.927"
   ]
  },
  {
   "cell_type": "code",
   "execution_count": 17,
   "id": "3b210136-85ba-4895-901d-9463ce96328c",
   "metadata": {},
   "outputs": [
    {
     "name": "stdout",
     "output_type": "stream",
     "text": [
      "hP=0.926 hR=0.927 hF1=0.927 time_fit=5.4min time_predict=2.1min\n"
     ]
    }
   ],
   "source": [
    "hv = HashingVectorizer(n_features=2**13, ngram_range=(1,2), lowercase=False)\n",
    "\n",
    "X_train_hv = hv.fit_transform(X_train['title_desc_chars'])\n",
    "X_val_hv = hv.transform(X_val['title_desc_chars'])\n",
    "\n",
    "hiclf = HiClassifier(path_graph=PATH_GRAPH)\n",
    "hiclf.fit(X_train_hv,y_train)\n",
    "y_pred = hiclf.predict(X_val_hv)\n",
    "\n",
    "hP, hR, hF1 = hier.h_scores(y_val, y_pred, G)\n",
    "\n",
    "print(f\"hP={hP} hR={hR} hF1={hF1} time_fit={hiclf.time_fit}min time_predict={hiclf.time_predict}min\")"
   ]
  },
  {
   "cell_type": "markdown",
   "id": "50332e27-e1c6-4cd7-beee-610b8ce89b89",
   "metadata": {},
   "source": [
    "Влияние столбцов description and characteristics:"
   ]
  },
  {
   "cell_type": "code",
   "execution_count": 14,
   "id": "2334abc8-255e-45b4-bf43-9cb42f329df9",
   "metadata": {},
   "outputs": [
    {
     "data": {
      "text/html": [
       "<div>\n",
       "<style scoped>\n",
       "    .dataframe tbody tr th:only-of-type {\n",
       "        vertical-align: middle;\n",
       "    }\n",
       "\n",
       "    .dataframe tbody tr th {\n",
       "        vertical-align: top;\n",
       "    }\n",
       "\n",
       "    .dataframe thead th {\n",
       "        text-align: right;\n",
       "    }\n",
       "</style>\n",
       "<table border=\"1\" class=\"dataframe\">\n",
       "  <thead>\n",
       "    <tr style=\"text-align: right;\">\n",
       "      <th></th>\n",
       "      <th>title_desc_chars</th>\n",
       "      <th>hF1</th>\n",
       "      <th>hP</th>\n",
       "      <th>hR</th>\n",
       "      <th>time_fit</th>\n",
       "      <th>time_predict</th>\n",
       "    </tr>\n",
       "  </thead>\n",
       "  <tbody>\n",
       "    <tr>\n",
       "      <th>2</th>\n",
       "      <td>title_desc_chars</td>\n",
       "      <td>0.935</td>\n",
       "      <td>0.935</td>\n",
       "      <td>0.936</td>\n",
       "      <td>18.700</td>\n",
       "      <td>1.400</td>\n",
       "    </tr>\n",
       "    <tr>\n",
       "      <th>1</th>\n",
       "      <td>title_desc</td>\n",
       "      <td>0.935</td>\n",
       "      <td>0.935</td>\n",
       "      <td>0.936</td>\n",
       "      <td>18.900</td>\n",
       "      <td>1.400</td>\n",
       "    </tr>\n",
       "    <tr>\n",
       "      <th>0</th>\n",
       "      <td>title</td>\n",
       "      <td>0.934</td>\n",
       "      <td>0.934</td>\n",
       "      <td>0.933</td>\n",
       "      <td>19.300</td>\n",
       "      <td>1.300</td>\n",
       "    </tr>\n",
       "  </tbody>\n",
       "</table>\n",
       "</div>"
      ],
      "text/plain": [
       "   title_desc_chars   hF1    hP    hR  time_fit  time_predict\n",
       "2  title_desc_chars 0.935 0.935 0.936    18.700         1.400\n",
       "1        title_desc 0.935 0.935 0.936    18.900         1.400\n",
       "0             title 0.934 0.934 0.933    19.300         1.300"
      ]
     },
     "execution_count": 14,
     "metadata": {},
     "output_type": "execute_result"
    }
   ],
   "source": [
    "results = []\n",
    "columns = ['title','title_desc','title_desc_chars']\n",
    "\n",
    "for col in columns:\n",
    "    tf = TfidfVectorizer(min_df=10, lowercase=False)\n",
    "\n",
    "    X_train_tf = tf.fit_transform(X_train[col])\n",
    "    X_val_tf = tf.transform(X_val[col])\n",
    "    \n",
    "    hiclf = HiClassifier(class_hierarchy=G)\n",
    "    hiclf.fit(X_train_tf,y_train_tf)\n",
    "    y_pred = hiclf.predict(X_val_tf)\n",
    "\n",
    "    hP, hR, hF1 = hier.h_scores(y_val, y_pred, G)\n",
    "\n",
    "    results.append([col, hF1, hP, hR, hiclf.time_fit, hiclf.time_predict])\n",
    "\n",
    "results = pd.DataFrame(results, columns=['column', 'hF1', 'hP', 'hR', 'time_fit','time_predict']).sort_values(by='hF1', ascending=False)\n",
    "results"
   ]
  },
  {
   "cell_type": "markdown",
   "id": "cd598ee3-a7c3-4f69-9a96-e28099969265",
   "metadata": {},
   "source": [
    "Посмотрим как влияют разные пороги отсева редких слов в TfidfVectorizer, видно, что для лог регрессии hF1 увеличивается с ростом количества задействованных слов, а время обучения растет несильно при этом, а время предикта значительно увеличивается:"
   ]
  },
  {
   "cell_type": "code",
   "execution_count": 8,
   "id": "a77c0f3f-68e5-4797-b27a-10c9c8b8ca76",
   "metadata": {},
   "outputs": [
    {
     "data": {
      "text/html": [
       "<div>\n",
       "<style scoped>\n",
       "    .dataframe tbody tr th:only-of-type {\n",
       "        vertical-align: middle;\n",
       "    }\n",
       "\n",
       "    .dataframe tbody tr th {\n",
       "        vertical-align: top;\n",
       "    }\n",
       "\n",
       "    .dataframe thead th {\n",
       "        text-align: right;\n",
       "    }\n",
       "</style>\n",
       "<table border=\"1\" class=\"dataframe\">\n",
       "  <thead>\n",
       "    <tr style=\"text-align: right;\">\n",
       "      <th></th>\n",
       "      <th>min_count_words</th>\n",
       "      <th>number_features</th>\n",
       "      <th>hF1</th>\n",
       "      <th>hP</th>\n",
       "      <th>hR</th>\n",
       "      <th>time_fit</th>\n",
       "      <th>time_predict</th>\n",
       "    </tr>\n",
       "  </thead>\n",
       "  <tbody>\n",
       "    <tr>\n",
       "      <th>0</th>\n",
       "      <td>5</td>\n",
       "      <td>16834</td>\n",
       "      <td>0.936</td>\n",
       "      <td>0.936</td>\n",
       "      <td>0.936</td>\n",
       "      <td>22.500</td>\n",
       "      <td>2.400</td>\n",
       "    </tr>\n",
       "    <tr>\n",
       "      <th>1</th>\n",
       "      <td>10</td>\n",
       "      <td>11163</td>\n",
       "      <td>0.935</td>\n",
       "      <td>0.935</td>\n",
       "      <td>0.936</td>\n",
       "      <td>20.800</td>\n",
       "      <td>2.100</td>\n",
       "    </tr>\n",
       "    <tr>\n",
       "      <th>2</th>\n",
       "      <td>20</td>\n",
       "      <td>7426</td>\n",
       "      <td>0.934</td>\n",
       "      <td>0.934</td>\n",
       "      <td>0.935</td>\n",
       "      <td>19.800</td>\n",
       "      <td>1.900</td>\n",
       "    </tr>\n",
       "    <tr>\n",
       "      <th>3</th>\n",
       "      <td>30</td>\n",
       "      <td>5791</td>\n",
       "      <td>0.933</td>\n",
       "      <td>0.933</td>\n",
       "      <td>0.933</td>\n",
       "      <td>19.300</td>\n",
       "      <td>1.800</td>\n",
       "    </tr>\n",
       "  </tbody>\n",
       "</table>\n",
       "</div>"
      ],
      "text/plain": [
       "   min_count_words  number_features   hF1    hP    hR  time_fit  time_predict\n",
       "0                5            16834 0.936 0.936 0.936    22.500         2.400\n",
       "1               10            11163 0.935 0.935 0.936    20.800         2.100\n",
       "2               20             7426 0.934 0.934 0.935    19.800         1.900\n",
       "3               30             5791 0.933 0.933 0.933    19.300         1.800"
      ]
     },
     "execution_count": 8,
     "metadata": {},
     "output_type": "execute_result"
    }
   ],
   "source": [
    "results = []\n",
    "thresholds = [5, 10, 20, 30]\n",
    "\n",
    "for min_df in thresholds:\n",
    "    tf = TfidfVectorizer(min_df=min_df, lowercase=False)\n",
    "\n",
    "    X_train_tf, y_train_tf = tfidf_without_null_rows(tf, X_train['title_desc_chars'], y_train)\n",
    "    X_val_tf = tf.transform(X_val['title_desc_chars'])\n",
    "    \n",
    "    hiclf = HiClassifier(class_hierarchy=G)\n",
    "    hiclf.fit(X_train_tf,y_train_tf)\n",
    "    y_pred = hiclf.predict(X_val_tf)\n",
    "\n",
    "    hP, hR, hF1 = hier.h_scores(y_val, y_pred, G)   \n",
    "\n",
    "    results.append([min_df, X_train_tf.shape[1], hF1, hP, hR, hiclf.time_fit, hiclf.time_predict])\n",
    "\n",
    "results = pd.DataFrame(results, columns=['min_count_words','number_features', 'hF1', 'hP', 'hR', 'time_fit','time_predict']).sort_values(by='hF1', ascending=False)\n",
    "results"
   ]
  },
  {
   "cell_type": "markdown",
   "id": "b843f4e7-7d2e-499c-9adc-c684ef94135b",
   "metadata": {},
   "source": [
    "Влияние регуляризации:"
   ]
  },
  {
   "cell_type": "code",
   "execution_count": 11,
   "id": "d3d810fc-b20d-4d25-a4d4-182945ea4fc7",
   "metadata": {},
   "outputs": [
    {
     "data": {
      "text/html": [
       "<div>\n",
       "<style scoped>\n",
       "    .dataframe tbody tr th:only-of-type {\n",
       "        vertical-align: middle;\n",
       "    }\n",
       "\n",
       "    .dataframe tbody tr th {\n",
       "        vertical-align: top;\n",
       "    }\n",
       "\n",
       "    .dataframe thead th {\n",
       "        text-align: right;\n",
       "    }\n",
       "</style>\n",
       "<table border=\"1\" class=\"dataframe\">\n",
       "  <thead>\n",
       "    <tr style=\"text-align: right;\">\n",
       "      <th></th>\n",
       "      <th>C</th>\n",
       "      <th>hF1</th>\n",
       "      <th>hP</th>\n",
       "      <th>hR</th>\n",
       "      <th>time_fit</th>\n",
       "      <th>time_predict</th>\n",
       "    </tr>\n",
       "  </thead>\n",
       "  <tbody>\n",
       "    <tr>\n",
       "      <th>7</th>\n",
       "      <td>2.783</td>\n",
       "      <td>0.939</td>\n",
       "      <td>0.939</td>\n",
       "      <td>0.939</td>\n",
       "      <td>7.000</td>\n",
       "      <td>1.500</td>\n",
       "    </tr>\n",
       "    <tr>\n",
       "      <th>8</th>\n",
       "      <td>16.681</td>\n",
       "      <td>0.939</td>\n",
       "      <td>0.939</td>\n",
       "      <td>0.939</td>\n",
       "      <td>11.300</td>\n",
       "      <td>1.600</td>\n",
       "    </tr>\n",
       "    <tr>\n",
       "      <th>9</th>\n",
       "      <td>100.000</td>\n",
       "      <td>0.934</td>\n",
       "      <td>0.934</td>\n",
       "      <td>0.934</td>\n",
       "      <td>18.400</td>\n",
       "      <td>1.500</td>\n",
       "    </tr>\n",
       "    <tr>\n",
       "      <th>6</th>\n",
       "      <td>0.464</td>\n",
       "      <td>0.930</td>\n",
       "      <td>0.929</td>\n",
       "      <td>0.931</td>\n",
       "      <td>4.400</td>\n",
       "      <td>1.600</td>\n",
       "    </tr>\n",
       "    <tr>\n",
       "      <th>5</th>\n",
       "      <td>0.077</td>\n",
       "      <td>0.900</td>\n",
       "      <td>0.898</td>\n",
       "      <td>0.902</td>\n",
       "      <td>3.100</td>\n",
       "      <td>1.600</td>\n",
       "    </tr>\n",
       "    <tr>\n",
       "      <th>4</th>\n",
       "      <td>0.013</td>\n",
       "      <td>0.823</td>\n",
       "      <td>0.818</td>\n",
       "      <td>0.829</td>\n",
       "      <td>2.500</td>\n",
       "      <td>1.700</td>\n",
       "    </tr>\n",
       "    <tr>\n",
       "      <th>3</th>\n",
       "      <td>0.002</td>\n",
       "      <td>0.713</td>\n",
       "      <td>0.708</td>\n",
       "      <td>0.717</td>\n",
       "      <td>2.500</td>\n",
       "      <td>1.800</td>\n",
       "    </tr>\n",
       "    <tr>\n",
       "      <th>2</th>\n",
       "      <td>0.000</td>\n",
       "      <td>0.570</td>\n",
       "      <td>0.562</td>\n",
       "      <td>0.577</td>\n",
       "      <td>3.300</td>\n",
       "      <td>1.600</td>\n",
       "    </tr>\n",
       "    <tr>\n",
       "      <th>1</th>\n",
       "      <td>0.000</td>\n",
       "      <td>0.471</td>\n",
       "      <td>0.456</td>\n",
       "      <td>0.486</td>\n",
       "      <td>5.100</td>\n",
       "      <td>1.500</td>\n",
       "    </tr>\n",
       "    <tr>\n",
       "      <th>0</th>\n",
       "      <td>0.000</td>\n",
       "      <td>0.470</td>\n",
       "      <td>0.456</td>\n",
       "      <td>0.486</td>\n",
       "      <td>7.900</td>\n",
       "      <td>1.500</td>\n",
       "    </tr>\n",
       "  </tbody>\n",
       "</table>\n",
       "</div>"
      ],
      "text/plain": [
       "        C   hF1    hP    hR  time_fit  time_predict\n",
       "7   2.783 0.939 0.939 0.939     7.000         1.500\n",
       "8  16.681 0.939 0.939 0.939    11.300         1.600\n",
       "9 100.000 0.934 0.934 0.934    18.400         1.500\n",
       "6   0.464 0.930 0.929 0.931     4.400         1.600\n",
       "5   0.077 0.900 0.898 0.902     3.100         1.600\n",
       "4   0.013 0.823 0.818 0.829     2.500         1.700\n",
       "3   0.002 0.713 0.708 0.717     2.500         1.800\n",
       "2   0.000 0.570 0.562 0.577     3.300         1.600\n",
       "1   0.000 0.471 0.456 0.486     5.100         1.500\n",
       "0   0.000 0.470 0.456 0.486     7.900         1.500"
      ]
     },
     "execution_count": 11,
     "metadata": {},
     "output_type": "execute_result"
    }
   ],
   "source": [
    "results = []\n",
    "Cs = np.logspace(-5, 2, base=10, num=10)\n",
    "\n",
    "for C in Cs:\n",
    "    lg = LogisticRegression(\n",
    "        C=C, multi_class=\"multinomial\", max_iter=1000, random_state=RANDOM_STATE\n",
    "    )\n",
    "    hiclf = HiClassifier(base_estimator =lg, path_graph = 'out/graph34tf')\n",
    "    hiclf.fit(X_train_tf, y_train_tf)\n",
    "    y_pred = hiclf.predict(X_val_tf)\n",
    "\n",
    "    hP, hR, hF1 = hier.h_scores(y_val, y_pred, G)\n",
    "\n",
    "    results.append([C, hF1, hP, hR, hiclf.time_fit, hiclf.time_predict])\n",
    "\n",
    "results1 = pd.DataFrame(results, columns=['C', 'hF1', 'hP', 'hR', 'time_fit','time_predict']).sort_values(by='hF1', ascending=False)\n",
    "results1"
   ]
  },
  {
   "cell_type": "markdown",
   "id": "1b6f0c12-87fd-41e1-ba3f-2bf0362e2a03",
   "metadata": {},
   "source": [
    "# Doc2vec - hF1 = 0.878\n",
    "Сравним результаты для векторных представлений doc2vec для разных vector_sizes = [200, 400, 600]"
   ]
  },
  {
   "cell_type": "code",
   "execution_count": 4,
   "id": "5a98f0ca-0da0-439b-b2a6-d69aff3b49c2",
   "metadata": {},
   "outputs": [
    {
     "data": {
      "text/plain": [
       "TaggedDocument(words=['платье', 'golden', 'kids', 'art', 'девочка', 'платье', 'golden', 'kids', 'art', 'хит', 'сезон', 'незаменимый', 'вещь', 'гардероб', 'девочка', 'платье', 'служить', 'каждодневный', 'наряд', 'одежда', 'торжество', 'дополнительный', 'бонус', 'сочетаться', 'узкий', 'брюки', 'заузить', 'джинсы', 'размер'], tags=[580050])"
      ]
     },
     "execution_count": 4,
     "metadata": {},
     "output_type": "execute_result"
    }
   ],
   "source": [
    "X_train_tagged = X_train.apply(\n",
    "    lambda row: TaggedDocument(words=row['title_desc_chars'].split()[:50], tags=[row['id']]), axis=1)\n",
    "X_val_tagged = X_val.apply(\n",
    "    lambda row: TaggedDocument(words=row['title_desc_chars'].split()[:50], tags=[row['id']]), axis=1)\n",
    "del X_train,X_val,X\n",
    "gc.collect()\n",
    "X_train_tagged[0]"
   ]
  },
  {
   "cell_type": "code",
   "execution_count": 5,
   "id": "007a9bc5-139c-4da9-b7c4-761c4efb45cd",
   "metadata": {},
   "outputs": [],
   "source": [
    "def doc2vec(X_train_tagged, X_val_tagged, vector_size=200):\n",
    "    model_dbow = Doc2Vec(\n",
    "        dm=0,\n",
    "        vector_size=vector_size,\n",
    "        window=5,\n",
    "        negative=3,\n",
    "        hs=0,\n",
    "        min_count=10,\n",
    "        workers=4,\n",
    "        epochs=30,\n",
    "    )\n",
    "    model_dbow.build_vocab(X_train_tagged)\n",
    "\n",
    "    model_dbow.train(X_train_tagged, total_examples=len(X_train_tagged), epochs=30)\n",
    "    \n",
    "    X_doc_train = np.array([model_dbow.infer_vector(tag_doc.words) for tag_doc in tqdm(X_train_tagged)])\n",
    "    X_doc_val = np.array([model_dbow.infer_vector(tag_doc.words) for tag_doc in tqdm(X_val_tagged)])\n",
    "    return X_doc_train, X_doc_val"
   ]
  },
  {
   "cell_type": "code",
   "execution_count": 19,
   "id": "2c1a1a72-78ae-4eeb-99e4-8c5c1c83aa96",
   "metadata": {},
   "outputs": [
    {
     "data": {
      "text/html": [
       "<div>\n",
       "<style scoped>\n",
       "    .dataframe tbody tr th:only-of-type {\n",
       "        vertical-align: middle;\n",
       "    }\n",
       "\n",
       "    .dataframe tbody tr th {\n",
       "        vertical-align: top;\n",
       "    }\n",
       "\n",
       "    .dataframe thead th {\n",
       "        text-align: right;\n",
       "    }\n",
       "</style>\n",
       "<table border=\"1\" class=\"dataframe\">\n",
       "  <thead>\n",
       "    <tr style=\"text-align: right;\">\n",
       "      <th></th>\n",
       "      <th>vector_size</th>\n",
       "      <th>hF1</th>\n",
       "      <th>hP</th>\n",
       "      <th>hR</th>\n",
       "      <th>time_fit</th>\n",
       "      <th>time_predict</th>\n",
       "    </tr>\n",
       "  </thead>\n",
       "  <tbody>\n",
       "    <tr>\n",
       "      <th>1</th>\n",
       "      <td>600</td>\n",
       "      <td>0.878</td>\n",
       "      <td>0.878</td>\n",
       "      <td>0.878</td>\n",
       "      <td>9.700</td>\n",
       "      <td>1.800</td>\n",
       "    </tr>\n",
       "    <tr>\n",
       "      <th>2</th>\n",
       "      <td>400</td>\n",
       "      <td>0.876</td>\n",
       "      <td>0.876</td>\n",
       "      <td>0.877</td>\n",
       "      <td>7.500</td>\n",
       "      <td>1.800</td>\n",
       "    </tr>\n",
       "    <tr>\n",
       "      <th>0</th>\n",
       "      <td>200</td>\n",
       "      <td>0.871</td>\n",
       "      <td>0.870</td>\n",
       "      <td>0.871</td>\n",
       "      <td>4.400</td>\n",
       "      <td>0.900</td>\n",
       "    </tr>\n",
       "  </tbody>\n",
       "</table>\n",
       "</div>"
      ],
      "text/plain": [
       "   vector_size   hF1    hP    hR  time_fit  time_predict\n",
       "1          600 0.878 0.878 0.878     9.700         1.800\n",
       "2          400 0.876 0.876 0.877     7.500         1.800\n",
       "0          200 0.871 0.870 0.871     4.400         0.900"
      ]
     },
     "execution_count": 19,
     "metadata": {},
     "output_type": "execute_result"
    }
   ],
   "source": [
    "results = []\n",
    "vector_sizes = [200, 400, 600]\n",
    "hiclf = HiClassifier(path_graph=PATH_GRAPH)\n",
    "\n",
    "for size in vector_sizes:\n",
    "    \n",
    "    X_doc_train, X_doc_val = doc2vec(X_train_tagged, X_val_tagged, vector_size=size)\n",
    "    gc.collect()\n",
    "\n",
    "    hiclf.fit(X_doc_train,y_train)\n",
    "    y_pred = hiclf.predict(X_doc_val)\n",
    "    hP, hR, hF1 = hier.h_scores(y_val, y_pred, G)\n",
    "\n",
    "    results.append([size, hF1, hP, hR, hiclf.time_fit, hiclf.time_predict])\n",
    "    \n",
    "results = pd.DataFrame(results, columns=['vector_size','hF1', 'hP', 'hR', 'time_fit','time_predict']).sort_values(by='hF1', ascending=False)\n",
    "results"
   ]
  },
  {
   "cell_type": "markdown",
   "id": "11c4f4aa-2cf5-434e-91f7-a249596e34be",
   "metadata": {},
   "source": [
    "# Pretrained sentence transformers - hF1 = 0.876"
   ]
  },
  {
   "cell_type": "code",
   "execution_count": null,
   "id": "8fa72994-c1e9-4d7e-b603-fea205a79ef5",
   "metadata": {},
   "outputs": [],
   "source": [
    "from sentence_transformers import SentenceTransformer\n",
    "model = SentenceTransformer('distiluse-base-multilingual-cased-v1',device='cuda')\n",
    "model.max_seq_length = 50"
   ]
  },
  {
   "cell_type": "code",
   "execution_count": null,
   "id": "e42a65a5-e7d7-498d-9c35-bc13abcaaa10",
   "metadata": {},
   "outputs": [],
   "source": [
    "X_train_emb = model.encode(X_train['title_desc_chars'],device='cuda')\n",
    "X_val_emb = model.encode(X_val['title_desc_chars'],device='cuda')"
   ]
  },
  {
   "cell_type": "code",
   "execution_count": 20,
   "id": "31235080-2900-445b-90e6-a7af0e5f0eb3",
   "metadata": {},
   "outputs": [
    {
     "name": "stdout",
     "output_type": "stream",
     "text": [
      "hP=0.875 hR=0.877 hF1=0.876\n"
     ]
    }
   ],
   "source": [
    "hiclf = HiClassifier(path_graph=PATH_GRAPH)\n",
    "\n",
    "hiclf.fit(X_train_emb,y_train)\n",
    "y_pred = hiclf.predict(X_val_emb)\n",
    "\n",
    "hP, hR, hF1 = hier.h_scores(y_val, y_pred, G)\n",
    "\n",
    "print(f\"hP={hP} hR={hR} hF1={hF1}\")"
   ]
  }
 ],
 "metadata": {
  "kernelspec": {
   "display_name": "ts_env:Python",
   "language": "python",
   "name": "conda-env-ts_env-py"
  },
  "language_info": {
   "codemirror_mode": {
    "name": "ipython",
    "version": 3
   },
   "file_extension": ".py",
   "mimetype": "text/x-python",
   "name": "python",
   "nbconvert_exporter": "python",
   "pygments_lexer": "ipython3",
   "version": "3.8.12"
  }
 },
 "nbformat": 4,
 "nbformat_minor": 5
}
