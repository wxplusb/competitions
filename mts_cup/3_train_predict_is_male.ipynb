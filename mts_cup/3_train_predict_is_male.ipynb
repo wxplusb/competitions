{
 "cells": [
  {
   "cell_type": "code",
   "execution_count": 1,
   "metadata": {},
   "outputs": [],
   "source": [
    "%load_ext autoreload\n",
    "%autoreload 1\n",
    "%aimport my, data, net\n",
    "\n",
    "import sys\n",
    "import numpy as np\n",
    "import pandas as pd\n",
    "\n",
    "import os\n",
    "import gc\n",
    "import matplotlib.pyplot as plt\n",
    "import importlib\n",
    "import pickle\n",
    "\n",
    "import my, data, net\n",
    "from my import p\n",
    "from tqdm.notebook import tqdm\n",
    "\n",
    "pd.set_option('display.max_rows', 200)\n",
    "pd.set_option(\"max_colwidth\", 45)\n",
    "pd.set_option(\"display.precision\", 1)\n",
    "pd.options.display.float_format = \"{:.3f}\".format\n",
    "# pd.set_option(\"display.max_rows\", 5)\n",
    "# pd.reset_option(\"display.max_rows\")\n",
    "\n",
    "from sklearn.model_selection import train_test_split\n",
    "\n",
    "# from pandarallel import pandarallel\n",
    "# pandarallel.initialize(progress_bar=True)\n",
    "     \n",
    "dir_out = \"out/\"\n",
    "dir_data = 'data/'\n",
    "\n",
    "SEED = 34\n",
    "np.random.seed(SEED)\n",
    "N_CPU = os.cpu_count()"
   ]
  },
  {
   "cell_type": "code",
   "execution_count": 2,
   "metadata": {},
   "outputs": [],
   "source": [
    "import torch\n",
    "import pytorch_lightning as pl"
   ]
  },
  {
   "cell_type": "code",
   "execution_count": 3,
   "metadata": {},
   "outputs": [
    {
     "data": {
      "text/html": [
       "<div>\n",
       "<style scoped>\n",
       "    .dataframe tbody tr th:only-of-type {\n",
       "        vertical-align: middle;\n",
       "    }\n",
       "\n",
       "    .dataframe tbody tr th {\n",
       "        vertical-align: top;\n",
       "    }\n",
       "\n",
       "    .dataframe thead th {\n",
       "        text-align: right;\n",
       "    }\n",
       "</style>\n",
       "<table border=\"1\" class=\"dataframe\">\n",
       "  <thead>\n",
       "    <tr style=\"text-align: right;\">\n",
       "      <th></th>\n",
       "      <th>target_age</th>\n",
       "      <th>target_is_male</th>\n",
       "      <th>user_id</th>\n",
       "      <th>old_age</th>\n",
       "      <th>user_len</th>\n",
       "      <th>tel_price</th>\n",
       "      <th>user_len_bin</th>\n",
       "      <th>user_bin</th>\n",
       "      <th>fold</th>\n",
       "      <th>len_bucket</th>\n",
       "    </tr>\n",
       "  </thead>\n",
       "  <tbody>\n",
       "    <tr>\n",
       "      <th>0</th>\n",
       "      <td>1</td>\n",
       "      <td>1</td>\n",
       "      <td>350459</td>\n",
       "      <td>31</td>\n",
       "      <td>178</td>\n",
       "      <td>5</td>\n",
       "      <td>5</td>\n",
       "      <td>50511</td>\n",
       "      <td>3</td>\n",
       "      <td>4</td>\n",
       "    </tr>\n",
       "    <tr>\n",
       "      <th>1</th>\n",
       "      <td>1</td>\n",
       "      <td>1</td>\n",
       "      <td>188276</td>\n",
       "      <td>35</td>\n",
       "      <td>111</td>\n",
       "      <td>7</td>\n",
       "      <td>5</td>\n",
       "      <td>50711</td>\n",
       "      <td>0</td>\n",
       "      <td>4</td>\n",
       "    </tr>\n",
       "    <tr>\n",
       "      <th>2</th>\n",
       "      <td>2</td>\n",
       "      <td>0</td>\n",
       "      <td>99002</td>\n",
       "      <td>41</td>\n",
       "      <td>639</td>\n",
       "      <td>6</td>\n",
       "      <td>7</td>\n",
       "      <td>70620</td>\n",
       "      <td>3</td>\n",
       "      <td>7</td>\n",
       "    </tr>\n",
       "  </tbody>\n",
       "</table>\n",
       "</div>"
      ],
      "text/plain": [
       "   target_age  target_is_male  user_id  old_age  user_len  tel_price  \\\n",
       "0           1               1   350459       31       178          5   \n",
       "1           1               1   188276       35       111          7   \n",
       "2           2               0    99002       41       639          6   \n",
       "\n",
       "   user_len_bin  user_bin  fold  len_bucket  \n",
       "0             5     50511     3           4  \n",
       "1             5     50711     0           4  \n",
       "2             7     70620     3           7  "
      ]
     },
     "execution_count": 3,
     "metadata": {},
     "output_type": "execute_result"
    }
   ],
   "source": [
    "target_info = pd.read_parquet('out/info_targets.pq')\n",
    "target_info[:3]"
   ]
  },
  {
   "attachments": {},
   "cell_type": "markdown",
   "metadata": {},
   "source": [
    "EMB DIM"
   ]
  },
  {
   "cell_type": "code",
   "execution_count": 4,
   "metadata": {},
   "outputs": [
    {
     "name": "stderr",
     "output_type": "stream",
     "text": [
      "/home/ubuntu/miniconda3/envs/mts_env/lib/python3.8/site-packages/sklearn/base.py:329: UserWarning: Trying to unpickle estimator LabelEncoder from version 0.24.2 when using version 1.0.2. This might lead to breaking code or invalid results. Use at your own risk. For more info please refer to:\n",
      "https://scikit-learn.org/stable/modules/model_persistence.html#security-maintainability-limitations\n",
      "  warnings.warn(\n"
     ]
    },
    {
     "data": {
      "text/plain": [
       "{'price': {'number': 12, 'emb_dim': 6},\n",
       " 'part_of_day': {'number': 4, 'emb_dim': 3},\n",
       " 'dayofweek': {'number': 7, 'emb_dim': 5},\n",
       " 'region_name': {'number': 81, 'emb_dim': 19},\n",
       " 'city_name': {'number': 985, 'emb_dim': 76},\n",
       " 'cpe_manufacturer_name': {'number': 37, 'emb_dim': 12},\n",
       " 'cpe_model_name': {'number': 599, 'emb_dim': 57},\n",
       " 'url_host': {'number': 199683, 'emb_dim': 512},\n",
       " 'cpe_type_cd': {'number': 4, 'emb_dim': 3},\n",
       " 'cpe_model_os_type': {'number': 3, 'emb_dim': 3}}"
      ]
     },
     "execution_count": 4,
     "metadata": {},
     "output_type": "execute_result"
    }
   ],
   "source": [
    "encoders = my.load_pickle('out/encs.pik')\n",
    "n_cats = {'price':12,'part_of_day':4, 'dayofweek': 7}\n",
    "for name, e in encoders.items():\n",
    "    n_cats[name] = len(e.classes_)\n",
    "for k,v in n_cats.items():\n",
    "    n_cats[k] = {'number':v,'emb_dim':my.emb_sz_rule(v)}\n",
    "n_cats"
   ]
  },
  {
   "cell_type": "code",
   "execution_count": 5,
   "metadata": {},
   "outputs": [
    {
     "data": {
      "text/plain": [
       "270000"
      ]
     },
     "execution_count": 5,
     "metadata": {},
     "output_type": "execute_result"
    }
   ],
   "source": [
    "all_plts = my.load_pickle('out/train_val_plts.pik')\n",
    "len(all_plts)"
   ]
  },
  {
   "cell_type": "code",
   "execution_count": 6,
   "metadata": {},
   "outputs": [
    {
     "data": {
      "text/plain": [
       "{'region_name': tensor([72, 72, 72, 72, 72, 72, 72, 72, 72, 72, 72, 72, 72, 72, 72, 72, 72, 72,\n",
       "         72, 72, 72, 72, 72, 72, 72, 72, 72, 72, 72, 72, 72, 72, 72, 72, 72, 72,\n",
       "         72, 72, 72, 72, 72, 72, 72, 72, 72, 72, 72, 72, 72, 72, 72, 72, 72, 72,\n",
       "         72, 72, 72, 72, 72, 72, 72, 72, 72, 72, 72, 72, 72, 72, 72, 72, 72, 72,\n",
       "         72, 72, 72, 72, 72, 72, 72, 72, 72, 72, 72, 72, 72, 72, 72, 72, 72, 72,\n",
       "         72, 72, 72, 72, 72, 72, 72, 72, 72, 72, 72, 72, 72, 72, 72, 72, 72, 72,\n",
       "         72, 72, 72, 72, 72, 72, 72, 72, 72, 72, 72, 72, 72, 72, 72, 72, 72, 72,\n",
       "         72, 72, 72, 72, 72, 72, 72, 72, 72, 72, 72, 72, 72, 72, 72, 72, 72, 72,\n",
       "         72, 72, 72, 72, 72, 72, 72, 72, 72, 72, 72, 72, 72, 72, 72, 72, 72, 72,\n",
       "         72, 72, 72, 72, 72, 72, 72, 72, 72, 72, 72, 72, 72, 72, 72, 72],\n",
       "        dtype=torch.int32),\n",
       " 'city_name': tensor([72, 72, 72, 72, 72, 72, 72, 72, 72, 72, 72, 72, 72, 72, 72, 72, 72, 72,\n",
       "         72, 72, 72, 72, 72, 72, 72, 72, 72, 72, 72, 72, 72, 72, 72, 72, 72, 72,\n",
       "         72, 72, 72, 72, 72, 72, 72, 72, 72, 72, 72, 72, 72, 72, 72, 72, 72, 72,\n",
       "         72, 72, 72, 72, 72, 72, 72, 72, 72, 72, 72, 72, 72, 72, 72, 72, 72, 72,\n",
       "         72, 72, 72, 72, 72, 72, 72, 72, 72, 72, 72, 72, 72, 72, 72, 72, 72, 72,\n",
       "         72, 72, 72, 72, 72, 72, 72, 72, 72, 72, 72, 72, 72, 72, 72, 72, 72, 72,\n",
       "         72, 72, 72, 72, 72, 72, 72, 72, 72, 72, 72, 72, 72, 72, 72, 72, 72, 72,\n",
       "         72, 72, 72, 72, 72, 72, 72, 72, 72, 72, 72, 72, 72, 72, 72, 72, 72, 72,\n",
       "         72, 72, 72, 72, 72, 72, 72, 72, 72, 72, 72, 72, 72, 72, 72, 72, 72, 72,\n",
       "         72, 72, 72, 72, 72, 72, 72, 72, 72, 72, 72, 72, 72, 72, 72, 72],\n",
       "        dtype=torch.int32),\n",
       " 'cpe_manufacturer_name': 35,\n",
       " 'cpe_model_name': 457,\n",
       " 'cpe_type_cd': 3,\n",
       " 'cpe_model_os_type': 1,\n",
       " 'price': 5,\n",
       " 'event_time': tensor([1623805200, 1623805200, 1623808800, 1623808800, 1623891600, 1623891600,\n",
       "         1623891600, 1623891600, 1624068000, 1624068000, 1624068000, 1624068000,\n",
       "         1624068000, 1624237200, 1624237200, 1624240800, 1624240800, 1624323600,\n",
       "         1624323600, 1624327200, 1624327200, 1624327200, 1624327200, 1624327200,\n",
       "         1624410000, 1624410000, 1624410000, 1624413600, 1624413600, 1624413600,\n",
       "         1624413600, 1624413600, 1624413600, 1624413600, 1624413600, 1624413600,\n",
       "         1624413600, 1624496400, 1624496400, 1624496400, 1624496400, 1624496400,\n",
       "         1624496400, 1624496400, 1624496400, 1624496400, 1624496400, 1624496400,\n",
       "         1624496400, 1624496400, 1624496400, 1624500000, 1624500000, 1624500000,\n",
       "         1624500000, 1624500000, 1624500000, 1624500000, 1624500000, 1624500000,\n",
       "         1624582800, 1624582800, 1624586400, 1624586400, 1624586400, 1624586400,\n",
       "         1624586400, 1624586400, 1624676400, 1624676400, 1624676400, 1624842000,\n",
       "         1624842000, 1624842000, 1624845600, 1624845600, 1624845600, 1624928400,\n",
       "         1624928400, 1624928400, 1624928400, 1624932000, 1624932000, 1625022000,\n",
       "         1625022000, 1625022000, 1625022000, 1625022000, 1625104800, 1625104800,\n",
       "         1625191200, 1625194800, 1625194800, 1625194800, 1625194800, 1625194800,\n",
       "         1625194800, 1625194800, 1625277600, 1625277600, 1625277600, 1625277600,\n",
       "         1625277600, 1625446800, 1625446800, 1625450400, 1625450400, 1625454000,\n",
       "         1625454000, 1625454000, 1625454000, 1625533200, 1625533200, 1625536800,\n",
       "         1625536800, 1625536800, 1625619600, 1625619600, 1625623200, 1625623200,\n",
       "         1625623200, 1625626800, 1625706000, 1625706000, 1625706000, 1625706000,\n",
       "         1625706000, 1625709600, 1625792400, 1625792400, 1625796000, 1625796000,\n",
       "         1625878800, 1625878800, 1625882400, 1625965200, 1625965200, 1625965200,\n",
       "         1625968800, 1625968800, 1625968800, 1625968800, 1626051600, 1626138000,\n",
       "         1626138000, 1626141600, 1626141600, 1626141600, 1626145200, 1626145200,\n",
       "         1626145200, 1626145200, 1626145200, 1626224400, 1626224400, 1626224400,\n",
       "         1626228000, 1626231600, 1626310800, 1626310800, 1626310800, 1626310800,\n",
       "         1626310800, 1626314400, 1626314400, 1626314400, 1626314400, 1626397200,\n",
       "         1626397200, 1626400800, 1626400800, 1626400800, 1626400800, 1626400800,\n",
       "         1626400800, 1626404400, 1626487200, 1626487200]),\n",
       " 'dayofweek': tensor([3, 3, 3, 3, 4, 4, 4, 4, 6, 6, 6, 6, 6, 1, 1, 1, 1, 2, 2, 2, 2, 2, 2, 2,\n",
       "         3, 3, 3, 3, 3, 3, 3, 3, 3, 3, 3, 3, 3, 4, 4, 4, 4, 4, 4, 4, 4, 4, 4, 4,\n",
       "         4, 4, 4, 4, 4, 4, 4, 4, 4, 4, 4, 4, 5, 5, 5, 5, 5, 5, 5, 5, 6, 6, 6, 1,\n",
       "         1, 1, 1, 1, 1, 2, 2, 2, 2, 2, 2, 3, 3, 3, 3, 3, 4, 4, 5, 5, 5, 5, 5, 5,\n",
       "         5, 5, 6, 6, 6, 6, 6, 1, 1, 1, 1, 1, 1, 1, 1, 2, 2, 2, 2, 2, 3, 3, 3, 3,\n",
       "         3, 3, 4, 4, 4, 4, 4, 4, 5, 5, 5, 5, 6, 6, 6, 7, 7, 7, 7, 7, 7, 7, 1, 2,\n",
       "         2, 2, 2, 2, 2, 2, 2, 2, 2, 3, 3, 3, 3, 3, 4, 4, 4, 4, 4, 4, 4, 4, 4, 5,\n",
       "         5, 5, 5, 5, 5, 5, 5, 5, 6, 6], dtype=torch.int32),\n",
       " 'diff_time': tensor([0.0126, 0.0000, 0.0179, 0.0000, 0.0536, 0.0000, 0.0000, 0.0000, 0.1607,\n",
       "         0.0000, 0.0000, 0.0000, 0.0000, 0.1250, 0.0000, 0.0179, 0.0000, 0.0536,\n",
       "         0.0000, 0.0179, 0.0000, 0.0000, 0.0000, 0.0000, 0.0536, 0.0000, 0.0000,\n",
       "         0.0179, 0.0000, 0.0000, 0.0000, 0.0000, 0.0000, 0.0000, 0.0000, 0.0000,\n",
       "         0.0000, 0.0536, 0.0000, 0.0000, 0.0000, 0.0000, 0.0000, 0.0000, 0.0000,\n",
       "         0.0000, 0.0000, 0.0000, 0.0000, 0.0000, 0.0000, 0.0179, 0.0000, 0.0000,\n",
       "         0.0000, 0.0000, 0.0000, 0.0000, 0.0000, 0.0000, 0.0536, 0.0000, 0.0179,\n",
       "         0.0000, 0.0000, 0.0000, 0.0000, 0.0000, 0.0893, 0.0000, 0.0000, 0.1071,\n",
       "         0.0000, 0.0000, 0.0179, 0.0000, 0.0000, 0.0536, 0.0000, 0.0000, 0.0000,\n",
       "         0.0179, 0.0000, 0.0893, 0.0000, 0.0000, 0.0000, 0.0000, 0.0536, 0.0000,\n",
       "         0.0714, 0.0179, 0.0000, 0.0000, 0.0000, 0.0000, 0.0000, 0.0000, 0.0536,\n",
       "         0.0000, 0.0000, 0.0000, 0.0000, 0.1250, 0.0000, 0.0179, 0.0000, 0.0179,\n",
       "         0.0000, 0.0000, 0.0000, 0.0357, 0.0000, 0.0179, 0.0000, 0.0000, 0.0536,\n",
       "         0.0000, 0.0179, 0.0000, 0.0000, 0.0179, 0.0357, 0.0000, 0.0000, 0.0000,\n",
       "         0.0000, 0.0179, 0.0536, 0.0000, 0.0179, 0.0000, 0.0536, 0.0000, 0.0179,\n",
       "         0.0536, 0.0000, 0.0000, 0.0179, 0.0000, 0.0000, 0.0000, 0.0536, 0.0714,\n",
       "         0.0000, 0.0179, 0.0000, 0.0000, 0.0179, 0.0000, 0.0000, 0.0000, 0.0000,\n",
       "         0.0357, 0.0000, 0.0000, 0.0179, 0.0179, 0.0357, 0.0000, 0.0000, 0.0000,\n",
       "         0.0000, 0.0179, 0.0000, 0.0000, 0.0000, 0.0536, 0.0000, 0.0179, 0.0000,\n",
       "         0.0000, 0.0000, 0.0000, 0.0000, 0.0179, 0.0536, 0.0000]),\n",
       " 'part_of_day': tensor([1, 1, 2, 2, 1, 1, 1, 1, 2, 2, 2, 2, 2, 1, 1, 2, 2, 1, 1, 2, 2, 2, 2, 2,\n",
       "         1, 1, 1, 2, 2, 2, 2, 2, 2, 2, 2, 2, 2, 1, 1, 1, 1, 1, 1, 1, 1, 1, 1, 1,\n",
       "         1, 1, 1, 2, 2, 2, 2, 2, 2, 2, 2, 2, 1, 1, 2, 2, 2, 2, 2, 2, 3, 3, 3, 1,\n",
       "         1, 1, 2, 2, 2, 1, 1, 1, 1, 2, 2, 3, 3, 3, 3, 3, 2, 2, 2, 3, 3, 3, 3, 3,\n",
       "         3, 3, 2, 2, 2, 2, 2, 1, 1, 2, 2, 3, 3, 3, 3, 1, 1, 2, 2, 2, 1, 1, 2, 2,\n",
       "         2, 3, 1, 1, 1, 1, 1, 2, 1, 1, 2, 2, 1, 1, 2, 1, 1, 1, 2, 2, 2, 2, 1, 1,\n",
       "         1, 2, 2, 2, 3, 3, 3, 3, 3, 1, 1, 1, 2, 3, 1, 1, 1, 1, 1, 2, 2, 2, 2, 1,\n",
       "         1, 2, 2, 2, 2, 2, 2, 3, 2, 2], dtype=torch.int32),\n",
       " 'url_host': tensor([194524, 117490,  29580,  59367,  65866, 194524, 117490,  59367,  17627,\n",
       "          49055,   6318,   6319,  59339,  59367, 117490,  59367,  65866,  65866,\n",
       "          17627, 180837, 117490, 113762,  59367,  59339,  29580,  65866,  59367,\n",
       "         180837,  28658, 117490, 194524, 160877, 113762,  65866,   5791,  47991,\n",
       "         160872, 160870,   5791, 160871, 160873, 180837, 124347,  47991, 162847,\n",
       "         160872,  24007, 194524, 160868,  65866,  59339,  59339,  66129, 195023,\n",
       "         194524,  17627,  59367, 180837,   5791, 167354, 194524,   5791,  65866,\n",
       "          59367,  28658,  29580, 195023,   5791,  47991,  65866, 180837,  28658,\n",
       "          65866,  17627, 125410,  17627, 194524,  17627, 194524, 142391,  47991,\n",
       "          65866,  17627,  66129, 180837,  59367,  65866, 194524,  65866,  17627,\n",
       "          65866,  65866,   5685,   5681,  66129, 117490, 125410, 142391, 117490,\n",
       "          59367,   5791, 180837, 169513,  65866, 180837,  65866, 117490,  66129,\n",
       "          59367, 117490,   5683, 194524,  59367,  29580,   5791,  17627,  17627,\n",
       "          65866, 160874,  65866, 194524, 194524, 117490,  29580, 194524,  66129,\n",
       "         169513,  65866,  65866, 194524,  59367, 194524,  59367,   5791,  65866,\n",
       "          59367, 194524, 160868, 180837,   5685, 142391, 117490,  28658, 194524,\n",
       "          65866,  59367, 194524,  66129,  66129,  65866,  17627, 194524,  59367,\n",
       "          66129, 117490,  65866,  65866,  65866, 194524,  59367, 117490,   5791,\n",
       "          48067,  28658, 180837,  48067, 117490,  59367,  65866,  59367,  17627,\n",
       "          66129, 117490, 160868, 194524,  17627,   2350,  47991],\n",
       "        dtype=torch.int32),\n",
       " 'request_cnt': tensor([0.0833, 0.0833, 0.0833, 0.1667, 0.0833, 0.0833, 0.0833, 0.1667, 0.0833,\n",
       "         0.0833, 0.0833, 0.0833, 0.0833, 0.1667, 0.0833, 0.0833, 0.0833, 0.0833,\n",
       "         0.0833, 0.0833, 0.0833, 0.0833, 0.0833, 0.0833, 0.0833, 0.0833, 0.0833,\n",
       "         0.0833, 0.1667, 0.0833, 0.2500, 0.0833, 0.0833, 0.4167, 0.1667, 0.0833,\n",
       "         0.0833, 0.0833, 0.1667, 0.0833, 0.0833, 0.0833, 0.0833, 0.0833, 0.0833,\n",
       "         0.0833, 0.0833, 0.0833, 0.0833, 0.1667, 0.0833, 0.0833, 0.0833, 0.0833,\n",
       "         0.1667, 0.0833, 0.2500, 0.0833, 0.0833, 0.0833, 0.0833, 0.0833, 0.1667,\n",
       "         0.0833, 0.0833, 0.0833, 0.0833, 0.0833, 0.0833, 0.0833, 0.0833, 0.1667,\n",
       "         0.3333, 0.1667, 0.1667, 0.3333, 0.5000, 0.1667, 0.1667, 0.1667, 0.1667,\n",
       "         0.1667, 0.1667, 0.0833, 0.0833, 0.0833, 0.1667, 0.1667, 0.0833, 0.0833,\n",
       "         0.1667, 0.0833, 0.0833, 0.0833, 0.0833, 0.0833, 0.0833, 0.0833, 0.0833,\n",
       "         0.2500, 0.1667, 0.0833, 0.1667, 0.1667, 0.0833, 0.1667, 0.0833, 0.1667,\n",
       "         0.0833, 0.0833, 0.0833, 0.2500, 0.1667, 0.0833, 0.0833, 0.1667, 0.0833,\n",
       "         0.1667, 0.0833, 0.0833, 0.0833, 0.0833, 0.0833, 0.0833, 0.0833, 0.0833,\n",
       "         0.0833, 0.0833, 0.0833, 0.0833, 0.0833, 0.1667, 0.0833, 0.0833, 0.0833,\n",
       "         0.0833, 0.0833, 0.0833, 0.0833, 0.0833, 0.0833, 0.0833, 0.0833, 0.1667,\n",
       "         0.1667, 0.0833, 0.1667, 0.0833, 0.0833, 0.0833, 0.0833, 0.0833, 0.0833,\n",
       "         0.0833, 0.0833, 0.0833, 0.0833, 0.0833, 0.0833, 0.0833, 0.0833, 0.0833,\n",
       "         0.0833, 0.0833, 0.1667, 0.0833, 0.0833, 0.0833, 0.1667, 0.3333, 0.0833,\n",
       "         0.0833, 0.0833, 0.0833, 0.1667, 0.0833, 0.0833, 0.0833]),\n",
       " 'y': 1}"
      ]
     },
     "execution_count": 6,
     "metadata": {},
     "output_type": "execute_result"
    }
   ],
   "source": [
    "all_plts[350459]"
   ]
  },
  {
   "cell_type": "code",
   "execution_count": 6,
   "metadata": {},
   "outputs": [
    {
     "data": {
      "text/html": [
       "<div>\n",
       "<style scoped>\n",
       "    .dataframe tbody tr th:only-of-type {\n",
       "        vertical-align: middle;\n",
       "    }\n",
       "\n",
       "    .dataframe tbody tr th {\n",
       "        vertical-align: top;\n",
       "    }\n",
       "\n",
       "    .dataframe thead th {\n",
       "        text-align: right;\n",
       "    }\n",
       "</style>\n",
       "<table border=\"1\" class=\"dataframe\">\n",
       "  <thead>\n",
       "    <tr style=\"text-align: right;\">\n",
       "      <th></th>\n",
       "      <th>target_age</th>\n",
       "      <th>target_is_male</th>\n",
       "      <th>user_id</th>\n",
       "      <th>old_age</th>\n",
       "      <th>user_len</th>\n",
       "      <th>tel_price</th>\n",
       "      <th>user_len_bin</th>\n",
       "      <th>user_bin</th>\n",
       "      <th>fold</th>\n",
       "      <th>len_bucket</th>\n",
       "    </tr>\n",
       "  </thead>\n",
       "  <tbody>\n",
       "    <tr>\n",
       "      <th>0</th>\n",
       "      <td>1</td>\n",
       "      <td>1</td>\n",
       "      <td>350459</td>\n",
       "      <td>31</td>\n",
       "      <td>178</td>\n",
       "      <td>5</td>\n",
       "      <td>5</td>\n",
       "      <td>50511</td>\n",
       "      <td>3</td>\n",
       "      <td>4</td>\n",
       "    </tr>\n",
       "    <tr>\n",
       "      <th>1</th>\n",
       "      <td>1</td>\n",
       "      <td>1</td>\n",
       "      <td>188276</td>\n",
       "      <td>35</td>\n",
       "      <td>111</td>\n",
       "      <td>7</td>\n",
       "      <td>5</td>\n",
       "      <td>50711</td>\n",
       "      <td>0</td>\n",
       "      <td>4</td>\n",
       "    </tr>\n",
       "    <tr>\n",
       "      <th>2</th>\n",
       "      <td>2</td>\n",
       "      <td>0</td>\n",
       "      <td>99002</td>\n",
       "      <td>41</td>\n",
       "      <td>639</td>\n",
       "      <td>6</td>\n",
       "      <td>7</td>\n",
       "      <td>70620</td>\n",
       "      <td>3</td>\n",
       "      <td>7</td>\n",
       "    </tr>\n",
       "  </tbody>\n",
       "</table>\n",
       "</div>"
      ],
      "text/plain": [
       "   target_age  target_is_male  user_id  old_age  user_len  tel_price  \\\n",
       "0           1               1   350459       31       178          5   \n",
       "1           1               1   188276       35       111          7   \n",
       "2           2               0    99002       41       639          6   \n",
       "\n",
       "   user_len_bin  user_bin  fold  len_bucket  \n",
       "0             5     50511     3           4  \n",
       "1             5     50711     0           4  \n",
       "2             7     70620     3           7  "
      ]
     },
     "execution_count": 6,
     "metadata": {},
     "output_type": "execute_result"
    }
   ],
   "source": [
    "target_info[:3]"
   ]
  },
  {
   "cell_type": "code",
   "execution_count": 7,
   "metadata": {},
   "outputs": [
    {
     "data": {
      "text/plain": [
       " 1    135332\n",
       " 0    128994\n",
       "-1      5674\n",
       "Name: target_is_male, dtype: int64"
      ]
     },
     "execution_count": 7,
     "metadata": {},
     "output_type": "execute_result"
    }
   ],
   "source": [
    "target_info['target_is_male'].value_counts()"
   ]
  },
  {
   "cell_type": "code",
   "execution_count": 8,
   "metadata": {},
   "outputs": [
    {
     "data": {
      "text/plain": [
       "1"
      ]
     },
     "execution_count": 8,
     "metadata": {},
     "output_type": "execute_result"
    }
   ],
   "source": [
    "is_male = target_info.loc[target_info['target_is_male']!=-1,['user_id','target_is_male']].set_index('user_id')['target_is_male'].to_dict()\n",
    "is_male[188276]"
   ]
  },
  {
   "cell_type": "code",
   "execution_count": 15,
   "metadata": {},
   "outputs": [],
   "source": [
    "for k in all_plts:\n",
    "    all_plts[k]['y'] = float(is_male.get(k,-1))"
   ]
  },
  {
   "attachments": {},
   "cell_type": "markdown",
   "metadata": {},
   "source": [
    "TEST DATA"
   ]
  },
  {
   "cell_type": "code",
   "execution_count": 10,
   "metadata": {},
   "outputs": [
    {
     "data": {
      "text/plain": [
       "144724"
      ]
     },
     "execution_count": 10,
     "metadata": {},
     "output_type": "execute_result"
    }
   ],
   "source": [
    "test_plts = my.load_pickle('out/test_plts.pik')\n",
    "test_ids = test_plts['test_ids']\n",
    "test_plts = test_plts['test_plts']\n",
    "len(test_ids)"
   ]
  },
  {
   "cell_type": "code",
   "execution_count": 11,
   "metadata": {},
   "outputs": [],
   "source": [
    "for i, user_id in enumerate(test_ids):\n",
    "    test_plts[i]['y'] = user_id"
   ]
  },
  {
   "cell_type": "code",
   "execution_count": 12,
   "metadata": {},
   "outputs": [],
   "source": [
    "test_ds = my.SeqToTargetDataset(data = test_plts, target_col_name='y')\n",
    "\n",
    "test_dl = torch.utils.data.DataLoader(\n",
    "        dataset=test_ds,\n",
    "        collate_fn=test_ds.collate_fn, \n",
    "        batch_size=128,\n",
    "        shuffle=False,\n",
    "        num_workers=1,\n",
    ")"
   ]
  },
  {
   "attachments": {},
   "cell_type": "markdown",
   "metadata": {},
   "source": [
    "TRAIN"
   ]
  },
  {
   "cell_type": "code",
   "execution_count": 17,
   "metadata": {},
   "outputs": [
    {
     "data": {
      "text/plain": [
       "('ckpts/', 'is_male')"
      ]
     },
     "execution_count": 17,
     "metadata": {},
     "output_type": "execute_result"
    }
   ],
   "source": [
    "from functools import partial\n",
    "from ptls.nn import TrxEncoder, RnnSeqEncoder, Head\n",
    "from torchmetrics.classification import MulticlassF1Score\n",
    "\n",
    "from pytorch_lightning.callbacks import EarlyStopping, TQDMProgressBar, ModelCheckpoint\n",
    "\n",
    "feat_config ={\n",
    "'time_depend_cats': {\n",
    "    'url_host': {'in': 199683+1, 'out': 96},\n",
    "    'region_name': {'in': 81+1, 'out': 16},\n",
    "    'city_name': {'in': 985+1, 'out': 32},\n",
    "    'dayofweek': {'in': 7+1, 'out': 5},\n",
    "    'part_of_day': {'in': 4+1, 'out': 3},\n",
    "    },\n",
    "'time_depend_float': {\n",
    "    'request_cnt':'identity',\n",
    "    'diff_time':'identity'\n",
    "    },\n",
    "'const_cats': {\n",
    "    'price': {'in': 12+1, 'emb_dim': 5},\n",
    "    'cpe_manufacturer_name':{'in':37+1,'emb_dim':12},\n",
    "    'cpe_model_name': {'in': 599+1, 'emb_dim': 24},\n",
    "    'cpe_type_cd': {'in': 4+1, 'emb_dim': 3},\n",
    "    'cpe_model_os_type': {'in': 3+1, 'emb_dim': 3}\n",
    "}}\n",
    "\n",
    "TARGET = 'is_male'\n",
    "CHECKPOINT_DIR = 'ckpts/'\n",
    "os.makedirs(CHECKPOINT_DIR, exist_ok=True)\n",
    "CHECKPOINT_DIR, TARGET"
   ]
  },
  {
   "cell_type": "code",
   "execution_count": null,
   "metadata": {},
   "outputs": [],
   "source": [
    "# !rm -rf ckpts"
   ]
  },
  {
   "cell_type": "code",
   "execution_count": null,
   "metadata": {},
   "outputs": [],
   "source": [
    "from torchmetrics.classification import AUROC\n",
    "preds = []\n",
    "\n",
    "for fold in range(5):\n",
    "    print('FOLD: ', fold)\n",
    "    # net.set_seed(SEED*(fold+1))\n",
    "\n",
    "    train_ids, val_ids = my.get_train_val_ids(target_info, fold=fold, target='target_is_male')\n",
    "    print('LENS: ', len(train_ids), len(val_ids))\n",
    "\n",
    "    val_plts = my.get_val_plts(all_plts, val_ids)\n",
    "\n",
    "    train_ds = my.SeqToTargetDataset(data = all_plts, target_col_name='y', real_len=len(train_ids),seed=SEED*(fold+1),aug=True)\n",
    "    val_ds = my.SeqToTargetDataset(data = val_plts, target_col_name='y', real_len=len(val_ids))\n",
    "\n",
    "    train_sr = data.BucketBatchSampler(train_ids,batch_size=128, seed=SEED)\n",
    "\n",
    "    train_dl = torch.utils.data.DataLoader(\n",
    "        dataset=train_ds,\n",
    "        collate_fn=train_ds.collate_fn, \n",
    "        batch_sampler = train_sr,\n",
    "        num_workers=1,\n",
    "    )\n",
    "\n",
    "    val_dl = torch.utils.data.DataLoader(\n",
    "        dataset=val_ds,\n",
    "        collate_fn=val_ds.collate_fn, \n",
    "        batch_size=128,\n",
    "        shuffle=False,\n",
    "        num_workers=1,\n",
    "    )\n",
    "\n",
    "    seq_enc = RnnSeqEncoder(\n",
    "    trx_encoder=TrxEncoder(\n",
    "        embeddings= feat_config['time_depend_cats'],\n",
    "        numeric_values=feat_config['time_depend_float'],\n",
    "        embeddings_noise=0.001,\n",
    "        # spatial_dropout=True,\n",
    "        emb_dropout=0.1,\n",
    "    ),\n",
    "    hidden_size=256,\n",
    "    # bidir=True,\n",
    "    num_layers=2,\n",
    "    dropout=0.2,\n",
    "        trainable_starter=None\n",
    "    )\n",
    "\n",
    "    user_enc = net.UserEncoder(seq_enc=seq_enc, cat_embs=feat_config['const_cats'])\n",
    "\n",
    "    pl_model = net.mySequenceToTarget(\n",
    "        seq_encoder=user_enc, # user_enc.output_size\n",
    "        head=Head(input_size=user_enc.output_size,\n",
    "        hidden_layers_sizes=[10],drop_probs=[0.1], objective='classification', num_classes=1),\n",
    "        loss=torch.nn.BCELoss(),\n",
    "        metric_list=AUROC(task='binary', num_classes=2),\n",
    "        optimizer_partial=partial(torch.optim.Adam, lr=0.002),\n",
    "        lr_scheduler_partial=partial(torch.optim.lr_scheduler.StepLR, step_size=15, gamma=0.5),\n",
    "    )\n",
    "\n",
    "    tq = TQDMProgressBar(refresh_rate=10)\n",
    "\n",
    "    es = EarlyStopping('val_BinaryAUROC', min_delta=0.001, patience=3,verbose=True, mode='max', check_on_train_epoch_end=False)\n",
    "\n",
    "    chpt = ModelCheckpoint(dirpath=CHECKPOINT_DIR,filename=f'best_{TARGET}_f{fold}',  monitor='val_BinaryAUROC',mode='max')\n",
    "\n",
    "    trainer = pl.Trainer(\n",
    "        callbacks=[tq,es,chpt],\n",
    "        max_epochs=9,\n",
    "        # deterministic = True,\n",
    "        gpus=1 if torch.cuda.is_available() else 0,\n",
    "        gradient_clip_val = 10,\n",
    "        # check_val_every_n_epoch=1\n",
    "        val_check_interval = 0.99,\n",
    "        enable_model_summary = True if fold==0 else False,\n",
    "    )\n",
    "\n",
    "    trainer.fit(pl_model, train_dl, val_dl)\n",
    "\n",
    "    logit_preds = trainer.predict(dataloaders=test_dl, ckpt_path=chpt.best_model_path)\n",
    "\n",
    "    fold_probs = np.concatenate(logit_preds)\n",
    "    preds.append(fold_probs)\n",
    "    np.save(f'out/preds_{TARGET}_f{fold}',fold_probs)"
   ]
  },
  {
   "cell_type": "code",
   "execution_count": 28,
   "metadata": {},
   "outputs": [
    {
     "data": {
      "text/plain": [
       "(144724,)"
      ]
     },
     "execution_count": 28,
     "metadata": {},
     "output_type": "execute_result"
    }
   ],
   "source": [
    "mean_fold_preds = np.mean(np.stack(preds), axis=0)\n",
    "mean_fold_preds.shape"
   ]
  },
  {
   "cell_type": "code",
   "execution_count": 30,
   "metadata": {},
   "outputs": [
    {
     "data": {
      "text/plain": [
       "array([0.49938482, 0.5176858 , 0.503586  , ..., 0.97375953, 0.8453118 ,\n",
       "       0.96762484], dtype=float32)"
      ]
     },
     "execution_count": 30,
     "metadata": {},
     "output_type": "execute_result"
    }
   ],
   "source": [
    "mean_fold_preds"
   ]
  },
  {
   "cell_type": "code",
   "execution_count": 32,
   "metadata": {},
   "outputs": [
    {
     "data": {
      "text/html": [
       "<div>\n",
       "<style scoped>\n",
       "    .dataframe tbody tr th:only-of-type {\n",
       "        vertical-align: middle;\n",
       "    }\n",
       "\n",
       "    .dataframe tbody tr th {\n",
       "        vertical-align: top;\n",
       "    }\n",
       "\n",
       "    .dataframe thead th {\n",
       "        text-align: right;\n",
       "    }\n",
       "</style>\n",
       "<table border=\"1\" class=\"dataframe\">\n",
       "  <thead>\n",
       "    <tr style=\"text-align: right;\">\n",
       "      <th></th>\n",
       "      <th>user_id</th>\n",
       "      <th>is_male</th>\n",
       "    </tr>\n",
       "  </thead>\n",
       "  <tbody>\n",
       "    <tr>\n",
       "      <th>0</th>\n",
       "      <td>1868</td>\n",
       "      <td>0.499</td>\n",
       "    </tr>\n",
       "    <tr>\n",
       "      <th>1</th>\n",
       "      <td>1989</td>\n",
       "      <td>0.518</td>\n",
       "    </tr>\n",
       "    <tr>\n",
       "      <th>2</th>\n",
       "      <td>2019</td>\n",
       "      <td>0.504</td>\n",
       "    </tr>\n",
       "    <tr>\n",
       "      <th>3</th>\n",
       "      <td>2022</td>\n",
       "      <td>0.595</td>\n",
       "    </tr>\n",
       "    <tr>\n",
       "      <th>4</th>\n",
       "      <td>2042</td>\n",
       "      <td>0.523</td>\n",
       "    </tr>\n",
       "    <tr>\n",
       "      <th>...</th>\n",
       "      <td>...</td>\n",
       "      <td>...</td>\n",
       "    </tr>\n",
       "    <tr>\n",
       "      <th>144719</th>\n",
       "      <td>412539</td>\n",
       "      <td>0.948</td>\n",
       "    </tr>\n",
       "    <tr>\n",
       "      <th>144720</th>\n",
       "      <td>413915</td>\n",
       "      <td>0.510</td>\n",
       "    </tr>\n",
       "    <tr>\n",
       "      <th>144721</th>\n",
       "      <td>414243</td>\n",
       "      <td>0.974</td>\n",
       "    </tr>\n",
       "    <tr>\n",
       "      <th>144722</th>\n",
       "      <td>414537</td>\n",
       "      <td>0.845</td>\n",
       "    </tr>\n",
       "    <tr>\n",
       "      <th>144723</th>\n",
       "      <td>414585</td>\n",
       "      <td>0.968</td>\n",
       "    </tr>\n",
       "  </tbody>\n",
       "</table>\n",
       "<p>144724 rows × 2 columns</p>\n",
       "</div>"
      ],
      "text/plain": [
       "        user_id  is_male\n",
       "0          1868    0.499\n",
       "1          1989    0.518\n",
       "2          2019    0.504\n",
       "3          2022    0.595\n",
       "4          2042    0.523\n",
       "...         ...      ...\n",
       "144719   412539    0.948\n",
       "144720   413915    0.510\n",
       "144721   414243    0.974\n",
       "144722   414537    0.845\n",
       "144723   414585    0.968\n",
       "\n",
       "[144724 rows x 2 columns]"
      ]
     },
     "execution_count": 32,
     "metadata": {},
     "output_type": "execute_result"
    }
   ],
   "source": [
    "sub = pd.DataFrame({'user_id':test_ids,TARGET:mean_fold_preds})\n",
    "sub.to_csv(f'out/sub1_{TARGET}.csv',index=False)\n",
    "sub"
   ]
  },
  {
   "cell_type": "code",
   "execution_count": 33,
   "metadata": {},
   "outputs": [
    {
     "data": {
      "text/html": [
       "<div>\n",
       "<style scoped>\n",
       "    .dataframe tbody tr th:only-of-type {\n",
       "        vertical-align: middle;\n",
       "    }\n",
       "\n",
       "    .dataframe tbody tr th {\n",
       "        vertical-align: top;\n",
       "    }\n",
       "\n",
       "    .dataframe thead th {\n",
       "        text-align: right;\n",
       "    }\n",
       "</style>\n",
       "<table border=\"1\" class=\"dataframe\">\n",
       "  <thead>\n",
       "    <tr style=\"text-align: right;\">\n",
       "      <th></th>\n",
       "      <th>user_id</th>\n",
       "      <th>age</th>\n",
       "    </tr>\n",
       "  </thead>\n",
       "  <tbody>\n",
       "    <tr>\n",
       "      <th>0</th>\n",
       "      <td>1868</td>\n",
       "      <td>3</td>\n",
       "    </tr>\n",
       "    <tr>\n",
       "      <th>1</th>\n",
       "      <td>1989</td>\n",
       "      <td>3</td>\n",
       "    </tr>\n",
       "    <tr>\n",
       "      <th>2</th>\n",
       "      <td>2019</td>\n",
       "      <td>3</td>\n",
       "    </tr>\n",
       "    <tr>\n",
       "      <th>3</th>\n",
       "      <td>2022</td>\n",
       "      <td>3</td>\n",
       "    </tr>\n",
       "    <tr>\n",
       "      <th>4</th>\n",
       "      <td>2042</td>\n",
       "      <td>3</td>\n",
       "    </tr>\n",
       "    <tr>\n",
       "      <th>...</th>\n",
       "      <td>...</td>\n",
       "      <td>...</td>\n",
       "    </tr>\n",
       "    <tr>\n",
       "      <th>144719</th>\n",
       "      <td>412539</td>\n",
       "      <td>1</td>\n",
       "    </tr>\n",
       "    <tr>\n",
       "      <th>144720</th>\n",
       "      <td>413915</td>\n",
       "      <td>5</td>\n",
       "    </tr>\n",
       "    <tr>\n",
       "      <th>144721</th>\n",
       "      <td>414243</td>\n",
       "      <td>3</td>\n",
       "    </tr>\n",
       "    <tr>\n",
       "      <th>144722</th>\n",
       "      <td>414537</td>\n",
       "      <td>2</td>\n",
       "    </tr>\n",
       "    <tr>\n",
       "      <th>144723</th>\n",
       "      <td>414585</td>\n",
       "      <td>3</td>\n",
       "    </tr>\n",
       "  </tbody>\n",
       "</table>\n",
       "<p>144724 rows × 2 columns</p>\n",
       "</div>"
      ],
      "text/plain": [
       "        user_id  age\n",
       "0          1868    3\n",
       "1          1989    3\n",
       "2          2019    3\n",
       "3          2022    3\n",
       "4          2042    3\n",
       "...         ...  ...\n",
       "144719   412539    1\n",
       "144720   413915    5\n",
       "144721   414243    3\n",
       "144722   414537    2\n",
       "144723   414585    3\n",
       "\n",
       "[144724 rows x 2 columns]"
      ]
     },
     "execution_count": 33,
     "metadata": {},
     "output_type": "execute_result"
    }
   ],
   "source": [
    "sub_age = pd.read_csv('out/sub1_age.csv')\n",
    "sub_age"
   ]
  },
  {
   "cell_type": "code",
   "execution_count": 34,
   "metadata": {},
   "outputs": [
    {
     "data": {
      "text/html": [
       "<div>\n",
       "<style scoped>\n",
       "    .dataframe tbody tr th:only-of-type {\n",
       "        vertical-align: middle;\n",
       "    }\n",
       "\n",
       "    .dataframe tbody tr th {\n",
       "        vertical-align: top;\n",
       "    }\n",
       "\n",
       "    .dataframe thead th {\n",
       "        text-align: right;\n",
       "    }\n",
       "</style>\n",
       "<table border=\"1\" class=\"dataframe\">\n",
       "  <thead>\n",
       "    <tr style=\"text-align: right;\">\n",
       "      <th></th>\n",
       "      <th>user_id</th>\n",
       "      <th>is_male</th>\n",
       "      <th>age</th>\n",
       "    </tr>\n",
       "  </thead>\n",
       "  <tbody>\n",
       "    <tr>\n",
       "      <th>0</th>\n",
       "      <td>1868</td>\n",
       "      <td>0.499</td>\n",
       "      <td>3</td>\n",
       "    </tr>\n",
       "    <tr>\n",
       "      <th>1</th>\n",
       "      <td>1989</td>\n",
       "      <td>0.518</td>\n",
       "      <td>3</td>\n",
       "    </tr>\n",
       "    <tr>\n",
       "      <th>2</th>\n",
       "      <td>2019</td>\n",
       "      <td>0.504</td>\n",
       "      <td>3</td>\n",
       "    </tr>\n",
       "    <tr>\n",
       "      <th>3</th>\n",
       "      <td>2022</td>\n",
       "      <td>0.595</td>\n",
       "      <td>3</td>\n",
       "    </tr>\n",
       "    <tr>\n",
       "      <th>4</th>\n",
       "      <td>2042</td>\n",
       "      <td>0.523</td>\n",
       "      <td>3</td>\n",
       "    </tr>\n",
       "    <tr>\n",
       "      <th>...</th>\n",
       "      <td>...</td>\n",
       "      <td>...</td>\n",
       "      <td>...</td>\n",
       "    </tr>\n",
       "    <tr>\n",
       "      <th>144719</th>\n",
       "      <td>412539</td>\n",
       "      <td>0.948</td>\n",
       "      <td>1</td>\n",
       "    </tr>\n",
       "    <tr>\n",
       "      <th>144720</th>\n",
       "      <td>413915</td>\n",
       "      <td>0.510</td>\n",
       "      <td>5</td>\n",
       "    </tr>\n",
       "    <tr>\n",
       "      <th>144721</th>\n",
       "      <td>414243</td>\n",
       "      <td>0.974</td>\n",
       "      <td>3</td>\n",
       "    </tr>\n",
       "    <tr>\n",
       "      <th>144722</th>\n",
       "      <td>414537</td>\n",
       "      <td>0.845</td>\n",
       "      <td>2</td>\n",
       "    </tr>\n",
       "    <tr>\n",
       "      <th>144723</th>\n",
       "      <td>414585</td>\n",
       "      <td>0.968</td>\n",
       "      <td>3</td>\n",
       "    </tr>\n",
       "  </tbody>\n",
       "</table>\n",
       "<p>144724 rows × 3 columns</p>\n",
       "</div>"
      ],
      "text/plain": [
       "        user_id  is_male  age\n",
       "0          1868    0.499    3\n",
       "1          1989    0.518    3\n",
       "2          2019    0.504    3\n",
       "3          2022    0.595    3\n",
       "4          2042    0.523    3\n",
       "...         ...      ...  ...\n",
       "144719   412539    0.948    1\n",
       "144720   413915    0.510    5\n",
       "144721   414243    0.974    3\n",
       "144722   414537    0.845    2\n",
       "144723   414585    0.968    3\n",
       "\n",
       "[144724 rows x 3 columns]"
      ]
     },
     "execution_count": 34,
     "metadata": {},
     "output_type": "execute_result"
    }
   ],
   "source": [
    "sub['age'] = sub_age['age']\n",
    "sub"
   ]
  },
  {
   "cell_type": "code",
   "execution_count": 35,
   "metadata": {},
   "outputs": [],
   "source": [
    "sub.to_csv('out/sub1.csv',index=False)"
   ]
  }
 ],
 "metadata": {
  "kernelspec": {
   "display_name": "rtdl",
   "language": "python",
   "name": "python3"
  },
  "language_info": {
   "codemirror_mode": {
    "name": "ipython",
    "version": 3
   },
   "file_extension": ".py",
   "mimetype": "text/x-python",
   "name": "python",
   "nbconvert_exporter": "python",
   "pygments_lexer": "ipython3",
   "version": "3.8.12"
  },
  "orig_nbformat": 4,
  "vscode": {
   "interpreter": {
    "hash": "ba6ea538d9fd39008dc8b80f1c4e9b1f6ec8d398c925b11e898e8eb1366c3223"
   }
  }
 },
 "nbformat": 4,
 "nbformat_minor": 2
}
