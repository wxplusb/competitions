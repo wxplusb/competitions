{
 "cells": [
  {
   "cell_type": "code",
   "execution_count": 1,
   "metadata": {},
   "outputs": [],
   "source": [
    "%load_ext autoreload\n",
    "%autoreload 1\n",
    "%aimport my, data, net\n",
    "\n",
    "import sys\n",
    "import numpy as np\n",
    "import pandas as pd\n",
    "\n",
    "import os\n",
    "import gc\n",
    "import matplotlib.pyplot as plt\n",
    "import importlib\n",
    "import pickle\n",
    "\n",
    "import my, data, net\n",
    "from my import p\n",
    "from tqdm.notebook import tqdm\n",
    "\n",
    "pd.set_option('display.max_rows', 200)\n",
    "pd.set_option(\"max_colwidth\", 45)\n",
    "pd.set_option(\"display.precision\", 1)\n",
    "pd.options.display.float_format = \"{:.3f}\".format\n",
    "# pd.set_option(\"display.max_rows\", 5)\n",
    "# pd.reset_option(\"display.max_rows\")\n",
    "\n",
    "from sklearn.model_selection import train_test_split\n",
    "\n",
    "# from pandarallel import pandarallel\n",
    "# pandarallel.initialize(progress_bar=True)\n",
    "     \n",
    "dir_out = \"out/\"\n",
    "dir_data = 'data/'\n",
    "\n",
    "SEED = 34\n",
    "np.random.seed(SEED)\n",
    "N_CPU = os.cpu_count()"
   ]
  },
  {
   "cell_type": "code",
   "execution_count": null,
   "metadata": {},
   "outputs": [],
   "source": [
    "import torch\n",
    "import pytorch_lightning as pl"
   ]
  },
  {
   "cell_type": "code",
   "execution_count": 2,
   "metadata": {},
   "outputs": [
    {
     "data": {
      "text/html": [
       "<div>\n",
       "<style scoped>\n",
       "    .dataframe tbody tr th:only-of-type {\n",
       "        vertical-align: middle;\n",
       "    }\n",
       "\n",
       "    .dataframe tbody tr th {\n",
       "        vertical-align: top;\n",
       "    }\n",
       "\n",
       "    .dataframe thead th {\n",
       "        text-align: right;\n",
       "    }\n",
       "</style>\n",
       "<table border=\"1\" class=\"dataframe\">\n",
       "  <thead>\n",
       "    <tr style=\"text-align: right;\">\n",
       "      <th></th>\n",
       "      <th>target_age</th>\n",
       "      <th>target_is_male</th>\n",
       "      <th>user_id</th>\n",
       "      <th>old_age</th>\n",
       "      <th>user_len</th>\n",
       "      <th>tel_price</th>\n",
       "      <th>user_len_bin</th>\n",
       "      <th>user_bin</th>\n",
       "      <th>fold</th>\n",
       "      <th>len_bucket</th>\n",
       "    </tr>\n",
       "  </thead>\n",
       "  <tbody>\n",
       "    <tr>\n",
       "      <th>0</th>\n",
       "      <td>1</td>\n",
       "      <td>1</td>\n",
       "      <td>350459</td>\n",
       "      <td>31</td>\n",
       "      <td>178</td>\n",
       "      <td>5</td>\n",
       "      <td>5</td>\n",
       "      <td>50511</td>\n",
       "      <td>3</td>\n",
       "      <td>4</td>\n",
       "    </tr>\n",
       "    <tr>\n",
       "      <th>1</th>\n",
       "      <td>1</td>\n",
       "      <td>1</td>\n",
       "      <td>188276</td>\n",
       "      <td>35</td>\n",
       "      <td>111</td>\n",
       "      <td>7</td>\n",
       "      <td>5</td>\n",
       "      <td>50711</td>\n",
       "      <td>0</td>\n",
       "      <td>4</td>\n",
       "    </tr>\n",
       "    <tr>\n",
       "      <th>2</th>\n",
       "      <td>2</td>\n",
       "      <td>0</td>\n",
       "      <td>99002</td>\n",
       "      <td>41</td>\n",
       "      <td>639</td>\n",
       "      <td>6</td>\n",
       "      <td>7</td>\n",
       "      <td>70620</td>\n",
       "      <td>3</td>\n",
       "      <td>7</td>\n",
       "    </tr>\n",
       "  </tbody>\n",
       "</table>\n",
       "</div>"
      ],
      "text/plain": [
       "   target_age  target_is_male  user_id  old_age  user_len  tel_price  \\\n",
       "0           1               1   350459       31       178          5   \n",
       "1           1               1   188276       35       111          7   \n",
       "2           2               0    99002       41       639          6   \n",
       "\n",
       "   user_len_bin  user_bin  fold  len_bucket  \n",
       "0             5     50511     3           4  \n",
       "1             5     50711     0           4  \n",
       "2             7     70620     3           7  "
      ]
     },
     "execution_count": 2,
     "metadata": {},
     "output_type": "execute_result"
    }
   ],
   "source": [
    "target_info = pd.read_parquet('out/info_targets.pq')\n",
    "target_info[:3]"
   ]
  },
  {
   "attachments": {},
   "cell_type": "markdown",
   "metadata": {},
   "source": [
    "EMB DIM"
   ]
  },
  {
   "cell_type": "code",
   "execution_count": 6,
   "metadata": {},
   "outputs": [
    {
     "name": "stderr",
     "output_type": "stream",
     "text": [
      "/home/ubuntu/miniconda3/envs/mts_env/lib/python3.8/site-packages/sklearn/base.py:329: UserWarning: Trying to unpickle estimator LabelEncoder from version 0.24.2 when using version 1.0.2. This might lead to breaking code or invalid results. Use at your own risk. For more info please refer to:\n",
      "https://scikit-learn.org/stable/modules/model_persistence.html#security-maintainability-limitations\n",
      "  warnings.warn(\n"
     ]
    },
    {
     "data": {
      "text/plain": [
       "{'price': {'number': 12, 'emb_dim': 6},\n",
       " 'part_of_day': {'number': 4, 'emb_dim': 3},\n",
       " 'dayofweek': {'number': 7, 'emb_dim': 5},\n",
       " 'region_name': {'number': 81, 'emb_dim': 19},\n",
       " 'city_name': {'number': 985, 'emb_dim': 76},\n",
       " 'cpe_manufacturer_name': {'number': 37, 'emb_dim': 12},\n",
       " 'cpe_model_name': {'number': 599, 'emb_dim': 57},\n",
       " 'url_host': {'number': 199683, 'emb_dim': 512},\n",
       " 'cpe_type_cd': {'number': 4, 'emb_dim': 3},\n",
       " 'cpe_model_os_type': {'number': 3, 'emb_dim': 3}}"
      ]
     },
     "execution_count": 6,
     "metadata": {},
     "output_type": "execute_result"
    }
   ],
   "source": [
    "encoders = my.load_pickle('out/encs.pik')\n",
    "n_cats = {'price':12,'part_of_day':4, 'dayofweek': 7}\n",
    "for name, e in encoders.items():\n",
    "    n_cats[name] = len(e.classes_)\n",
    "    # print(name, len(e.classes_))\n",
    "for k,v in n_cats.items():\n",
    "    n_cats[k] = {'number':v,'emb_dim':my.emb_sz_rule(v)}\n",
    "n_cats"
   ]
  },
  {
   "cell_type": "code",
   "execution_count": 8,
   "metadata": {},
   "outputs": [
    {
     "data": {
      "text/plain": [
       "270000"
      ]
     },
     "execution_count": 8,
     "metadata": {},
     "output_type": "execute_result"
    }
   ],
   "source": [
    "all_plts = my.load_pickle('out/train_val_plts.pik')\n",
    "len(all_plts)"
   ]
  },
  {
   "attachments": {},
   "cell_type": "markdown",
   "metadata": {},
   "source": [
    "TEST DATA"
   ]
  },
  {
   "cell_type": "code",
   "execution_count": null,
   "metadata": {},
   "outputs": [],
   "source": [
    "test_plts = my.load_pickle('out/test_plts.pik')\n",
    "test_ids = test_plts['test_ids']\n",
    "test_plts = test_plts['test_plts']\n",
    "len(test_ids)"
   ]
  },
  {
   "cell_type": "code",
   "execution_count": null,
   "metadata": {},
   "outputs": [],
   "source": [
    "for i, user_id in enumerate(test_ids):\n",
    "    test_plts[i]['y'] = user_id"
   ]
  },
  {
   "cell_type": "code",
   "execution_count": 76,
   "metadata": {},
   "outputs": [],
   "source": [
    "test_ds = my.SeqToTargetDataset(data = test_plts, target_col_name='y')\n",
    "\n",
    "test_dl = torch.utils.data.DataLoader(\n",
    "        dataset=test_ds,\n",
    "        collate_fn=test_ds.collate_fn, \n",
    "        batch_size=128,\n",
    "        shuffle=False,\n",
    "        num_workers=1,\n",
    ")"
   ]
  },
  {
   "attachments": {},
   "cell_type": "markdown",
   "metadata": {},
   "source": [
    "TRAIN"
   ]
  },
  {
   "cell_type": "code",
   "execution_count": 77,
   "metadata": {},
   "outputs": [
    {
     "data": {
      "text/plain": [
       "'ckpts/'"
      ]
     },
     "execution_count": 77,
     "metadata": {},
     "output_type": "execute_result"
    }
   ],
   "source": [
    "from functools import partial\n",
    "from ptls.nn import TrxEncoder, RnnSeqEncoder, Head\n",
    "from torchmetrics.classification import MulticlassF1Score\n",
    "\n",
    "from pytorch_lightning.callbacks import EarlyStopping, TQDMProgressBar, ModelCheckpoint\n",
    "\n",
    "feat_config ={\n",
    "'time_depend_cats': {\n",
    "    'url_host': {'in': 199683+1, 'out': 96},\n",
    "    'region_name': {'in': 81+1, 'out': 16},\n",
    "    'city_name': {'in': 985+1, 'out': 32},\n",
    "    'dayofweek': {'in': 7+1, 'out': 5},\n",
    "    'part_of_day': {'in': 4+1, 'out': 3},\n",
    "    },\n",
    "'time_depend_float': {\n",
    "    'request_cnt':'identity',\n",
    "    'diff_time':'identity'\n",
    "    },\n",
    "'const_cats': {\n",
    "    'price': {'in': 12+1, 'emb_dim': 5},\n",
    "    'cpe_manufacturer_name':{'in':37+1,'emb_dim':12},\n",
    "    'cpe_model_name': {'in': 599+1, 'emb_dim': 24},\n",
    "    'cpe_type_cd': {'in': 4+1, 'emb_dim': 3},\n",
    "    'cpe_model_os_type': {'in': 3+1, 'emb_dim': 3}\n",
    "}}\n",
    "\n",
    "TARGET = 'age'\n",
    "CHECKPOINT_DIR = 'ckpts/'\n",
    "os.makedirs(CHECKPOINT_DIR, exist_ok=True)\n",
    "CHECKPOINT_DIR"
   ]
  },
  {
   "cell_type": "code",
   "execution_count": null,
   "metadata": {},
   "outputs": [],
   "source": [
    "# !rm -rf ckpts"
   ]
  },
  {
   "cell_type": "code",
   "execution_count": 81,
   "metadata": {},
   "outputs": [
    {
     "name": "stderr",
     "output_type": "stream",
     "text": [
      "Metric val_MulticlassF1Score improved by 0.009 >= min_delta = 0.001. New best score: 0.464\n"
     ]
    },
    {
     "data": {
      "application/vnd.jupyter.widget-view+json": {
       "model_id": "a060343f82024aff8d933d12c25d9fa3",
       "version_major": 2,
       "version_minor": 0
      },
      "text/plain": [
       "Validation: 0it [00:00, ?it/s]"
      ]
     },
     "metadata": {},
     "output_type": "display_data"
    },
    {
     "data": {
      "application/vnd.jupyter.widget-view+json": {
       "model_id": "df5e23a6d6f7417cb5b7dd833aa6d3d7",
       "version_major": 2,
       "version_minor": 0
      },
      "text/plain": [
       "Validation: 0it [00:00, ?it/s]"
      ]
     },
     "metadata": {},
     "output_type": "display_data"
    },
    {
     "data": {
      "application/vnd.jupyter.widget-view+json": {
       "model_id": "8993a5f06f284791b9934f3b76103c74",
       "version_major": 2,
       "version_minor": 0
      },
      "text/plain": [
       "Validation: 0it [00:00, ?it/s]"
      ]
     },
     "metadata": {},
     "output_type": "display_data"
    },
    {
     "data": {
      "application/vnd.jupyter.widget-view+json": {
       "model_id": "65382b5eb4ad4ff9bcfb1e8d86a97614",
       "version_major": 2,
       "version_minor": 0
      },
      "text/plain": [
       "Validation: 0it [00:00, ?it/s]"
      ]
     },
     "metadata": {},
     "output_type": "display_data"
    },
    {
     "name": "stderr",
     "output_type": "stream",
     "text": [
      "Monitored metric val_MulticlassF1Score did not improve in the last 4 records. Best score: 0.464. Signaling Trainer to stop.\n",
      "Restoring states from the checkpoint path at /home/ubuntu/PROJECTS/1_MTC/ckpts/best_age_f1.ckpt\n",
      "LOCAL_RANK: 0 - CUDA_VISIBLE_DEVICES: [0]\n",
      "Loaded model weights from checkpoint at /home/ubuntu/PROJECTS/1_MTC/ckpts/best_age_f1.ckpt\n"
     ]
    },
    {
     "data": {
      "application/vnd.jupyter.widget-view+json": {
       "model_id": "e05eedfa513f45b2bcf07130590c1469",
       "version_major": 2,
       "version_minor": 0
      },
      "text/plain": [
       "Predicting: 1681it [00:00, ?it/s]"
      ]
     },
     "metadata": {},
     "output_type": "display_data"
    },
    {
     "name": "stderr",
     "output_type": "stream",
     "text": [
      "Global seed set to 102\n"
     ]
    },
    {
     "name": "stdout",
     "output_type": "stream",
     "text": [
      "FOLD:  2\n",
      "LENS:  215999 54000\n"
     ]
    },
    {
     "name": "stderr",
     "output_type": "stream",
     "text": [
      "GPU available: True, used: True\n",
      "TPU available: False, using: 0 TPU cores\n",
      "IPU available: False, using: 0 IPUs\n",
      "HPU available: False, using: 0 HPUs\n",
      "/home/ubuntu/miniconda3/envs/mts_env/lib/python3.8/site-packages/pytorch_lightning/callbacks/model_checkpoint.py:611: UserWarning: Checkpoint directory /home/ubuntu/PROJECTS/1_MTC/ckpts exists and is not empty.\n",
      "  rank_zero_warn(f\"Checkpoint directory {dirpath} exists and is not empty.\")\n",
      "LOCAL_RANK: 0 - CUDA_VISIBLE_DEVICES: [0]\n"
     ]
    },
    {
     "data": {
      "application/vnd.jupyter.widget-view+json": {
       "model_id": "d65e260c13444d97bf2dfecb03256249",
       "version_major": 2,
       "version_minor": 0
      },
      "text/plain": [
       "Sanity Checking: 0it [00:00, ?it/s]"
      ]
     },
     "metadata": {},
     "output_type": "display_data"
    },
    {
     "data": {
      "application/vnd.jupyter.widget-view+json": {
       "model_id": "95160c2e53dd4733a9e687b35151dc6b",
       "version_major": 2,
       "version_minor": 0
      },
      "text/plain": [
       "Training: 0it [00:00, ?it/s]"
      ]
     },
     "metadata": {},
     "output_type": "display_data"
    },
    {
     "data": {
      "application/vnd.jupyter.widget-view+json": {
       "model_id": "a2bb9093260645889895e8c3cc8fca7f",
       "version_major": 2,
       "version_minor": 0
      },
      "text/plain": [
       "Validation: 0it [00:00, ?it/s]"
      ]
     },
     "metadata": {},
     "output_type": "display_data"
    },
    {
     "name": "stderr",
     "output_type": "stream",
     "text": [
      "Metric val_MulticlassF1Score improved. New best score: 0.446\n"
     ]
    },
    {
     "data": {
      "application/vnd.jupyter.widget-view+json": {
       "model_id": "3a84e3b600e74fb5ba2ca8402083a8d7",
       "version_major": 2,
       "version_minor": 0
      },
      "text/plain": [
       "Validation: 0it [00:00, ?it/s]"
      ]
     },
     "metadata": {},
     "output_type": "display_data"
    },
    {
     "name": "stderr",
     "output_type": "stream",
     "text": [
      "Metric val_MulticlassF1Score improved by 0.005 >= min_delta = 0.001. New best score: 0.451\n"
     ]
    },
    {
     "data": {
      "application/vnd.jupyter.widget-view+json": {
       "model_id": "a2d12f18b325499686cecf1f831e646c",
       "version_major": 2,
       "version_minor": 0
      },
      "text/plain": [
       "Validation: 0it [00:00, ?it/s]"
      ]
     },
     "metadata": {},
     "output_type": "display_data"
    },
    {
     "data": {
      "application/vnd.jupyter.widget-view+json": {
       "model_id": "bd252d70d532456eb5ac200feb223068",
       "version_major": 2,
       "version_minor": 0
      },
      "text/plain": [
       "Validation: 0it [00:00, ?it/s]"
      ]
     },
     "metadata": {},
     "output_type": "display_data"
    },
    {
     "name": "stderr",
     "output_type": "stream",
     "text": [
      "Metric val_MulticlassF1Score improved by 0.008 >= min_delta = 0.001. New best score: 0.460\n"
     ]
    },
    {
     "data": {
      "application/vnd.jupyter.widget-view+json": {
       "model_id": "e973c76c4e88494c9a043cb910920be1",
       "version_major": 2,
       "version_minor": 0
      },
      "text/plain": [
       "Validation: 0it [00:00, ?it/s]"
      ]
     },
     "metadata": {},
     "output_type": "display_data"
    },
    {
     "data": {
      "application/vnd.jupyter.widget-view+json": {
       "model_id": "8548b991e19a4ca58b1d371c345244c3",
       "version_major": 2,
       "version_minor": 0
      },
      "text/plain": [
       "Validation: 0it [00:00, ?it/s]"
      ]
     },
     "metadata": {},
     "output_type": "display_data"
    },
    {
     "data": {
      "application/vnd.jupyter.widget-view+json": {
       "model_id": "1efa60ceb396485cbc53f70edfd97c4c",
       "version_major": 2,
       "version_minor": 0
      },
      "text/plain": [
       "Validation: 0it [00:00, ?it/s]"
      ]
     },
     "metadata": {},
     "output_type": "display_data"
    },
    {
     "data": {
      "application/vnd.jupyter.widget-view+json": {
       "model_id": "286dc16c44334bb5b43d1e9cacb0028e",
       "version_major": 2,
       "version_minor": 0
      },
      "text/plain": [
       "Validation: 0it [00:00, ?it/s]"
      ]
     },
     "metadata": {},
     "output_type": "display_data"
    },
    {
     "name": "stderr",
     "output_type": "stream",
     "text": [
      "Monitored metric val_MulticlassF1Score did not improve in the last 4 records. Best score: 0.460. Signaling Trainer to stop.\n",
      "Restoring states from the checkpoint path at /home/ubuntu/PROJECTS/1_MTC/ckpts/best_age_f2.ckpt\n",
      "LOCAL_RANK: 0 - CUDA_VISIBLE_DEVICES: [0]\n",
      "Loaded model weights from checkpoint at /home/ubuntu/PROJECTS/1_MTC/ckpts/best_age_f2.ckpt\n"
     ]
    },
    {
     "data": {
      "application/vnd.jupyter.widget-view+json": {
       "model_id": "6b94d92f1fde4650a61eb032905db8de",
       "version_major": 2,
       "version_minor": 0
      },
      "text/plain": [
       "Predicting: 1681it [00:00, ?it/s]"
      ]
     },
     "metadata": {},
     "output_type": "display_data"
    },
    {
     "name": "stderr",
     "output_type": "stream",
     "text": [
      "Global seed set to 136\n"
     ]
    },
    {
     "name": "stdout",
     "output_type": "stream",
     "text": [
      "FOLD:  3\n",
      "LENS:  215999 54000\n"
     ]
    },
    {
     "name": "stderr",
     "output_type": "stream",
     "text": [
      "GPU available: True, used: True\n",
      "TPU available: False, using: 0 TPU cores\n",
      "IPU available: False, using: 0 IPUs\n",
      "HPU available: False, using: 0 HPUs\n",
      "/home/ubuntu/miniconda3/envs/mts_env/lib/python3.8/site-packages/pytorch_lightning/callbacks/model_checkpoint.py:611: UserWarning: Checkpoint directory /home/ubuntu/PROJECTS/1_MTC/ckpts exists and is not empty.\n",
      "  rank_zero_warn(f\"Checkpoint directory {dirpath} exists and is not empty.\")\n",
      "LOCAL_RANK: 0 - CUDA_VISIBLE_DEVICES: [0]\n"
     ]
    },
    {
     "data": {
      "application/vnd.jupyter.widget-view+json": {
       "model_id": "55280bf759bb411ca00df2e18c74b984",
       "version_major": 2,
       "version_minor": 0
      },
      "text/plain": [
       "Sanity Checking: 0it [00:00, ?it/s]"
      ]
     },
     "metadata": {},
     "output_type": "display_data"
    },
    {
     "data": {
      "application/vnd.jupyter.widget-view+json": {
       "model_id": "856cbf94c55e450a991a14118c842a1d",
       "version_major": 2,
       "version_minor": 0
      },
      "text/plain": [
       "Training: 0it [00:00, ?it/s]"
      ]
     },
     "metadata": {},
     "output_type": "display_data"
    },
    {
     "data": {
      "application/vnd.jupyter.widget-view+json": {
       "model_id": "bdb84299c28d40efae7468b340c0899c",
       "version_major": 2,
       "version_minor": 0
      },
      "text/plain": [
       "Validation: 0it [00:00, ?it/s]"
      ]
     },
     "metadata": {},
     "output_type": "display_data"
    },
    {
     "name": "stderr",
     "output_type": "stream",
     "text": [
      "Metric val_MulticlassF1Score improved. New best score: 0.440\n"
     ]
    },
    {
     "data": {
      "application/vnd.jupyter.widget-view+json": {
       "model_id": "38ed64d9ae5a48e5a523ad0a4610325e",
       "version_major": 2,
       "version_minor": 0
      },
      "text/plain": [
       "Validation: 0it [00:00, ?it/s]"
      ]
     },
     "metadata": {},
     "output_type": "display_data"
    },
    {
     "name": "stderr",
     "output_type": "stream",
     "text": [
      "Metric val_MulticlassF1Score improved by 0.015 >= min_delta = 0.001. New best score: 0.455\n"
     ]
    },
    {
     "data": {
      "application/vnd.jupyter.widget-view+json": {
       "model_id": "9c95e3f2c7dc498a9acf69d7b174e583",
       "version_major": 2,
       "version_minor": 0
      },
      "text/plain": [
       "Validation: 0it [00:00, ?it/s]"
      ]
     },
     "metadata": {},
     "output_type": "display_data"
    },
    {
     "data": {
      "application/vnd.jupyter.widget-view+json": {
       "model_id": "d63bc1082c094ee382d2591b2598191e",
       "version_major": 2,
       "version_minor": 0
      },
      "text/plain": [
       "Validation: 0it [00:00, ?it/s]"
      ]
     },
     "metadata": {},
     "output_type": "display_data"
    },
    {
     "name": "stderr",
     "output_type": "stream",
     "text": [
      "Metric val_MulticlassF1Score improved by 0.008 >= min_delta = 0.001. New best score: 0.463\n"
     ]
    },
    {
     "data": {
      "application/vnd.jupyter.widget-view+json": {
       "model_id": "fa902551c1ae47059add945849567538",
       "version_major": 2,
       "version_minor": 0
      },
      "text/plain": [
       "Validation: 0it [00:00, ?it/s]"
      ]
     },
     "metadata": {},
     "output_type": "display_data"
    },
    {
     "data": {
      "application/vnd.jupyter.widget-view+json": {
       "model_id": "0e16ab80643346718b4bf252f72735be",
       "version_major": 2,
       "version_minor": 0
      },
      "text/plain": [
       "Validation: 0it [00:00, ?it/s]"
      ]
     },
     "metadata": {},
     "output_type": "display_data"
    },
    {
     "data": {
      "application/vnd.jupyter.widget-view+json": {
       "model_id": "b37d7530cac54403a82a10a7fbc52522",
       "version_major": 2,
       "version_minor": 0
      },
      "text/plain": [
       "Validation: 0it [00:00, ?it/s]"
      ]
     },
     "metadata": {},
     "output_type": "display_data"
    },
    {
     "data": {
      "application/vnd.jupyter.widget-view+json": {
       "model_id": "780d8ba6392249b1b7abd541a0b005ab",
       "version_major": 2,
       "version_minor": 0
      },
      "text/plain": [
       "Validation: 0it [00:00, ?it/s]"
      ]
     },
     "metadata": {},
     "output_type": "display_data"
    },
    {
     "name": "stderr",
     "output_type": "stream",
     "text": [
      "Monitored metric val_MulticlassF1Score did not improve in the last 4 records. Best score: 0.463. Signaling Trainer to stop.\n",
      "Restoring states from the checkpoint path at /home/ubuntu/PROJECTS/1_MTC/ckpts/best_age_f3.ckpt\n",
      "LOCAL_RANK: 0 - CUDA_VISIBLE_DEVICES: [0]\n",
      "Loaded model weights from checkpoint at /home/ubuntu/PROJECTS/1_MTC/ckpts/best_age_f3.ckpt\n"
     ]
    },
    {
     "data": {
      "application/vnd.jupyter.widget-view+json": {
       "model_id": "a41827e8151845e09303ea83b71bd6ab",
       "version_major": 2,
       "version_minor": 0
      },
      "text/plain": [
       "Predicting: 1681it [00:00, ?it/s]"
      ]
     },
     "metadata": {},
     "output_type": "display_data"
    },
    {
     "name": "stderr",
     "output_type": "stream",
     "text": [
      "Global seed set to 170\n"
     ]
    },
    {
     "name": "stdout",
     "output_type": "stream",
     "text": [
      "FOLD:  4\n",
      "LENS:  216000 53999\n"
     ]
    },
    {
     "name": "stderr",
     "output_type": "stream",
     "text": [
      "GPU available: True, used: True\n",
      "TPU available: False, using: 0 TPU cores\n",
      "IPU available: False, using: 0 IPUs\n",
      "HPU available: False, using: 0 HPUs\n",
      "/home/ubuntu/miniconda3/envs/mts_env/lib/python3.8/site-packages/pytorch_lightning/callbacks/model_checkpoint.py:611: UserWarning: Checkpoint directory /home/ubuntu/PROJECTS/1_MTC/ckpts exists and is not empty.\n",
      "  rank_zero_warn(f\"Checkpoint directory {dirpath} exists and is not empty.\")\n",
      "LOCAL_RANK: 0 - CUDA_VISIBLE_DEVICES: [0]\n"
     ]
    },
    {
     "data": {
      "application/vnd.jupyter.widget-view+json": {
       "model_id": "f92abadc3b0641228379c2a80b635711",
       "version_major": 2,
       "version_minor": 0
      },
      "text/plain": [
       "Sanity Checking: 0it [00:00, ?it/s]"
      ]
     },
     "metadata": {},
     "output_type": "display_data"
    },
    {
     "data": {
      "application/vnd.jupyter.widget-view+json": {
       "model_id": "ee2733f8c9304350a671d9bd2bb1e0ea",
       "version_major": 2,
       "version_minor": 0
      },
      "text/plain": [
       "Training: 0it [00:00, ?it/s]"
      ]
     },
     "metadata": {},
     "output_type": "display_data"
    },
    {
     "data": {
      "application/vnd.jupyter.widget-view+json": {
       "model_id": "66815bcee2674e75b3dfa5e97f0443e4",
       "version_major": 2,
       "version_minor": 0
      },
      "text/plain": [
       "Validation: 0it [00:00, ?it/s]"
      ]
     },
     "metadata": {},
     "output_type": "display_data"
    },
    {
     "name": "stderr",
     "output_type": "stream",
     "text": [
      "Metric val_MulticlassF1Score improved. New best score: 0.446\n"
     ]
    },
    {
     "data": {
      "application/vnd.jupyter.widget-view+json": {
       "model_id": "a331beaf46434a6e98284d3228f52641",
       "version_major": 2,
       "version_minor": 0
      },
      "text/plain": [
       "Validation: 0it [00:00, ?it/s]"
      ]
     },
     "metadata": {},
     "output_type": "display_data"
    },
    {
     "name": "stderr",
     "output_type": "stream",
     "text": [
      "Metric val_MulticlassF1Score improved by 0.010 >= min_delta = 0.001. New best score: 0.456\n"
     ]
    },
    {
     "data": {
      "application/vnd.jupyter.widget-view+json": {
       "model_id": "c177a8abb03243438b99d665fa877d65",
       "version_major": 2,
       "version_minor": 0
      },
      "text/plain": [
       "Validation: 0it [00:00, ?it/s]"
      ]
     },
     "metadata": {},
     "output_type": "display_data"
    },
    {
     "data": {
      "application/vnd.jupyter.widget-view+json": {
       "model_id": "7e982fc96c604bf3b65a55e1428b403b",
       "version_major": 2,
       "version_minor": 0
      },
      "text/plain": [
       "Validation: 0it [00:00, ?it/s]"
      ]
     },
     "metadata": {},
     "output_type": "display_data"
    },
    {
     "name": "stderr",
     "output_type": "stream",
     "text": [
      "Metric val_MulticlassF1Score improved by 0.007 >= min_delta = 0.001. New best score: 0.463\n"
     ]
    },
    {
     "data": {
      "application/vnd.jupyter.widget-view+json": {
       "model_id": "5e1ab33e63264eefac2a63046d1b5a20",
       "version_major": 2,
       "version_minor": 0
      },
      "text/plain": [
       "Validation: 0it [00:00, ?it/s]"
      ]
     },
     "metadata": {},
     "output_type": "display_data"
    },
    {
     "data": {
      "application/vnd.jupyter.widget-view+json": {
       "model_id": "c407ef91e72c4434acbff67b12e4910e",
       "version_major": 2,
       "version_minor": 0
      },
      "text/plain": [
       "Validation: 0it [00:00, ?it/s]"
      ]
     },
     "metadata": {},
     "output_type": "display_data"
    },
    {
     "data": {
      "application/vnd.jupyter.widget-view+json": {
       "model_id": "a2f7c579aae247b49840292adfaed84d",
       "version_major": 2,
       "version_minor": 0
      },
      "text/plain": [
       "Validation: 0it [00:00, ?it/s]"
      ]
     },
     "metadata": {},
     "output_type": "display_data"
    },
    {
     "data": {
      "application/vnd.jupyter.widget-view+json": {
       "model_id": "507fb84864924e81876173c7cc684394",
       "version_major": 2,
       "version_minor": 0
      },
      "text/plain": [
       "Validation: 0it [00:00, ?it/s]"
      ]
     },
     "metadata": {},
     "output_type": "display_data"
    },
    {
     "name": "stderr",
     "output_type": "stream",
     "text": [
      "Monitored metric val_MulticlassF1Score did not improve in the last 4 records. Best score: 0.463. Signaling Trainer to stop.\n",
      "Restoring states from the checkpoint path at /home/ubuntu/PROJECTS/1_MTC/ckpts/best_age_f4.ckpt\n",
      "LOCAL_RANK: 0 - CUDA_VISIBLE_DEVICES: [0]\n",
      "Loaded model weights from checkpoint at /home/ubuntu/PROJECTS/1_MTC/ckpts/best_age_f4.ckpt\n"
     ]
    },
    {
     "data": {
      "application/vnd.jupyter.widget-view+json": {
       "model_id": "91aa166fa3564a488511d40e489a9c1c",
       "version_major": 2,
       "version_minor": 0
      },
      "text/plain": [
       "Predicting: 1681it [00:00, ?it/s]"
      ]
     },
     "metadata": {},
     "output_type": "display_data"
    }
   ],
   "source": [
    "preds = []\n",
    "\n",
    "for fold in range(5):\n",
    "    print('FOLD: ', fold)\n",
    "    net.set_seed(SEED*(fold+1))\n",
    "\n",
    "    train_ids, val_ids = my.get_train_val_ids(target_info, fold=fold, target='target_age')\n",
    "    print('LENS: ', len(train_ids), len(val_ids))\n",
    "\n",
    "    val_plts = my.get_val_plts(all_plts, val_ids)\n",
    "\n",
    "    train_ds = my.SeqToTargetDataset(data = all_plts, target_col_name='y', real_len=len(train_ids),seed=SEED*(fold+1),aug=True)\n",
    "    val_ds = my.SeqToTargetDataset(data = val_plts, target_col_name='y', real_len=len(val_ids))\n",
    "\n",
    "    train_sr = data.BucketBatchSampler(train_ids,batch_size=128, seed=SEED)\n",
    "\n",
    "    train_dl = torch.utils.data.DataLoader(\n",
    "        dataset=train_ds,\n",
    "        collate_fn=train_ds.collate_fn, \n",
    "        batch_sampler = train_sr,\n",
    "        num_workers=1,\n",
    "    )\n",
    "\n",
    "    val_dl = torch.utils.data.DataLoader(\n",
    "        dataset=val_ds,\n",
    "        collate_fn=val_ds.collate_fn, \n",
    "        batch_size=128,\n",
    "        shuffle=False,\n",
    "        num_workers=1,\n",
    "    )\n",
    "\n",
    "    seq_enc = RnnSeqEncoder(\n",
    "    trx_encoder=TrxEncoder(\n",
    "        embeddings= feat_config['time_depend_cats'],\n",
    "        numeric_values=feat_config['time_depend_float'],\n",
    "        embeddings_noise=0.001,\n",
    "        # spatial_dropout=True,\n",
    "        emb_dropout=0.1,\n",
    "    ),\n",
    "    hidden_size=256,\n",
    "    # bidir=True,\n",
    "    num_layers=2,\n",
    "    dropout=0.2,\n",
    "        trainable_starter=None\n",
    "    )\n",
    "\n",
    "    user_enc = net.UserEncoder(seq_enc=seq_enc, cat_embs=feat_config['const_cats'])\n",
    "\n",
    "    pl_model = net.mySequenceToTarget(\n",
    "        seq_encoder=user_enc,\n",
    "        head=Head(input_size=user_enc.output_size,\n",
    "        hidden_layers_sizes=[10],drop_probs=[0.1], objective='classification', num_classes=6),\n",
    "        loss=torch.nn.NLLLoss(),\n",
    "        metric_list=MulticlassF1Score(num_classes=6,average='weighted'),\n",
    "        optimizer_partial=partial(torch.optim.Adam, lr=0.002),\n",
    "        lr_scheduler_partial=partial(torch.optim.lr_scheduler.StepLR, step_size=15, gamma=0.5),\n",
    "    )\n",
    "\n",
    "    tq = TQDMProgressBar(refresh_rate=10)\n",
    "\n",
    "    es = EarlyStopping('val_MulticlassF1Score', min_delta=0.001, patience=4,verbose=True, mode='max', check_on_train_epoch_end=False)\n",
    "\n",
    "    chpt = ModelCheckpoint(dirpath=CHECKPOINT_DIR,filename=f'best_{TARGET}_f{fold}',  monitor='val_MulticlassF1Score',mode='max')\n",
    "\n",
    "    trainer = pl.Trainer(\n",
    "        callbacks=[tq,es,chpt],\n",
    "        max_epochs=10,\n",
    "        deterministic = True,\n",
    "        gpus=1 if torch.cuda.is_available() else 0,\n",
    "        gradient_clip_val = 10,\n",
    "        # check_val_every_n_epoch=1\n",
    "        val_check_interval = 0.99,\n",
    "        enable_model_summary = True if fold==0 else False,\n",
    "    )\n",
    "\n",
    "    trainer.fit(pl_model, train_dl, val_dl)\n",
    "\n",
    "    logit_preds = trainer.predict(dataloaders=test_dl, ckpt_path=chpt.best_model_path)\n",
    "\n",
    "    fold_probs = np.exp(np.concatenate(logit_preds))\n",
    "    preds.append(fold_probs)\n",
    "    np.save(f'out/preds_{TARGET}_f{fold}',fold_probs)"
   ]
  },
  {
   "cell_type": "code",
   "execution_count": 83,
   "metadata": {},
   "outputs": [
    {
     "data": {
      "text/plain": [
       "(144724, 6)"
      ]
     },
     "execution_count": 83,
     "metadata": {},
     "output_type": "execute_result"
    }
   ],
   "source": [
    "mean_fold_preds = np.mean(np.stack(preds), axis=0)\n",
    "mean_fold_preds.shape"
   ]
  },
  {
   "cell_type": "code",
   "execution_count": 84,
   "metadata": {},
   "outputs": [
    {
     "data": {
      "text/plain": [
       "array([3, 3, 3, ..., 3, 2, 3])"
      ]
     },
     "execution_count": 84,
     "metadata": {},
     "output_type": "execute_result"
    }
   ],
   "source": [
    "cats = np.argmax(mean_fold_preds, axis = 1) + 1\n",
    "cats"
   ]
  },
  {
   "cell_type": "code",
   "execution_count": 85,
   "metadata": {},
   "outputs": [
    {
     "data": {
      "text/html": [
       "<div>\n",
       "<style scoped>\n",
       "    .dataframe tbody tr th:only-of-type {\n",
       "        vertical-align: middle;\n",
       "    }\n",
       "\n",
       "    .dataframe tbody tr th {\n",
       "        vertical-align: top;\n",
       "    }\n",
       "\n",
       "    .dataframe thead th {\n",
       "        text-align: right;\n",
       "    }\n",
       "</style>\n",
       "<table border=\"1\" class=\"dataframe\">\n",
       "  <thead>\n",
       "    <tr style=\"text-align: right;\">\n",
       "      <th></th>\n",
       "      <th>user_id</th>\n",
       "      <th>age</th>\n",
       "    </tr>\n",
       "  </thead>\n",
       "  <tbody>\n",
       "    <tr>\n",
       "      <th>0</th>\n",
       "      <td>1868</td>\n",
       "      <td>3</td>\n",
       "    </tr>\n",
       "    <tr>\n",
       "      <th>1</th>\n",
       "      <td>1989</td>\n",
       "      <td>3</td>\n",
       "    </tr>\n",
       "    <tr>\n",
       "      <th>2</th>\n",
       "      <td>2019</td>\n",
       "      <td>3</td>\n",
       "    </tr>\n",
       "    <tr>\n",
       "      <th>3</th>\n",
       "      <td>2022</td>\n",
       "      <td>3</td>\n",
       "    </tr>\n",
       "    <tr>\n",
       "      <th>4</th>\n",
       "      <td>2042</td>\n",
       "      <td>3</td>\n",
       "    </tr>\n",
       "    <tr>\n",
       "      <th>...</th>\n",
       "      <td>...</td>\n",
       "      <td>...</td>\n",
       "    </tr>\n",
       "    <tr>\n",
       "      <th>144719</th>\n",
       "      <td>412539</td>\n",
       "      <td>1</td>\n",
       "    </tr>\n",
       "    <tr>\n",
       "      <th>144720</th>\n",
       "      <td>413915</td>\n",
       "      <td>5</td>\n",
       "    </tr>\n",
       "    <tr>\n",
       "      <th>144721</th>\n",
       "      <td>414243</td>\n",
       "      <td>3</td>\n",
       "    </tr>\n",
       "    <tr>\n",
       "      <th>144722</th>\n",
       "      <td>414537</td>\n",
       "      <td>2</td>\n",
       "    </tr>\n",
       "    <tr>\n",
       "      <th>144723</th>\n",
       "      <td>414585</td>\n",
       "      <td>3</td>\n",
       "    </tr>\n",
       "  </tbody>\n",
       "</table>\n",
       "<p>144724 rows × 2 columns</p>\n",
       "</div>"
      ],
      "text/plain": [
       "        user_id  age\n",
       "0          1868    3\n",
       "1          1989    3\n",
       "2          2019    3\n",
       "3          2022    3\n",
       "4          2042    3\n",
       "...         ...  ...\n",
       "144719   412539    1\n",
       "144720   413915    5\n",
       "144721   414243    3\n",
       "144722   414537    2\n",
       "144723   414585    3\n",
       "\n",
       "[144724 rows x 2 columns]"
      ]
     },
     "execution_count": 85,
     "metadata": {},
     "output_type": "execute_result"
    }
   ],
   "source": [
    "sub = pd.DataFrame({'user_id':test_ids,TARGET:cats})\n",
    "sub.to_csv(f'out/sub1_{TARGET}.csv',index=False)\n",
    "sub"
   ]
  },
  {
   "cell_type": "code",
   "execution_count": 86,
   "metadata": {},
   "outputs": [
    {
     "data": {
      "text/plain": [
       "3    53785\n",
       "2    52648\n",
       "4    18690\n",
       "1    12363\n",
       "5     7238\n",
       "Name: age, dtype: int64"
      ]
     },
     "execution_count": 86,
     "metadata": {},
     "output_type": "execute_result"
    }
   ],
   "source": [
    "sub['age'].value_counts()"
   ]
  }
 ],
 "metadata": {
  "kernelspec": {
   "display_name": "rtdl",
   "language": "python",
   "name": "python3"
  },
  "language_info": {
   "codemirror_mode": {
    "name": "ipython",
    "version": 3
   },
   "file_extension": ".py",
   "mimetype": "text/x-python",
   "name": "python",
   "nbconvert_exporter": "python",
   "pygments_lexer": "ipython3",
   "version": "3.8.12"
  },
  "orig_nbformat": 4,
  "vscode": {
   "interpreter": {
    "hash": "ba6ea538d9fd39008dc8b80f1c4e9b1f6ec8d398c925b11e898e8eb1366c3223"
   }
  }
 },
 "nbformat": 4,
 "nbformat_minor": 2
}
