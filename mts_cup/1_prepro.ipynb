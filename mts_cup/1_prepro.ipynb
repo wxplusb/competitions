{
 "cells": [
  {
   "cell_type": "code",
   "execution_count": 1,
   "metadata": {},
   "outputs": [],
   "source": [
    "%load_ext autoreload\n",
    "%autoreload 1\n",
    "%aimport my\n",
    "\n",
    "import sys\n",
    "import numpy as np\n",
    "import pandas as pd\n",
    "\n",
    "import os\n",
    "import gc\n",
    "import matplotlib.pyplot as plt\n",
    "import importlib\n",
    "import pickle\n",
    "\n",
    "import my\n",
    "from my import p\n",
    "from tqdm.notebook import tqdm\n",
    "\n",
    "pd.set_option('display.max_rows', 200)\n",
    "pd.set_option(\"max_colwidth\", 45)\n",
    "pd.set_option(\"display.precision\", 1)\n",
    "pd.options.display.float_format = \"{:.3f}\".format\n",
    "# pd.set_option(\"display.max_rows\", 5)\n",
    "# pd.reset_option(\"display.max_rows\")\n",
    "\n",
    "from sklearn.model_selection import train_test_split\n",
    "\n",
    "# from pandarallel import pandarallel\n",
    "# pandarallel.initialize(progress_bar=True)\n",
    "     \n",
    "dir_out = \"out/\"\n",
    "dir_data = 'data/'\n",
    "\n",
    "SEED = 34\n",
    "np.random.seed(SEED)\n",
    "N_CPU = os.cpu_count()"
   ]
  },
  {
   "cell_type": "markdown",
   "metadata": {},
   "source": [
    "imports"
   ]
  },
  {
   "cell_type": "code",
   "execution_count": 2,
   "metadata": {},
   "outputs": [
    {
     "data": {
      "text/plain": [
       "['part0.pq',\n",
       " 'part1.pq',\n",
       " 'part2.pq',\n",
       " 'part3.pq',\n",
       " 'part4.pq',\n",
       " 'part5.pq',\n",
       " 'part6.pq',\n",
       " 'part7.pq',\n",
       " 'part8.pq',\n",
       " 'part9.pq']"
      ]
     },
     "execution_count": 2,
     "metadata": {},
     "output_type": "execute_result"
    }
   ],
   "source": [
    "pq_dir = 'data/d/'\n",
    "pq_files = sorted(os.listdir(path=pq_dir))\n",
    "pq_files"
   ]
  },
  {
   "cell_type": "code",
   "execution_count": null,
   "metadata": {},
   "outputs": [],
   "source": [
    "# for i,name in enumerate(pq_files):\n",
    "#     os.rename(pq_dir+name, pq_dir+f'part{i}.pq')"
   ]
  },
  {
   "attachments": {},
   "cell_type": "markdown",
   "metadata": {},
   "source": [
    "Объединение данных"
   ]
  },
  {
   "cell_type": "code",
   "execution_count": 3,
   "metadata": {},
   "outputs": [
    {
     "name": "stdout",
     "output_type": "stream",
     "text": [
      "(322899435, 12)\n"
     ]
    },
    {
     "data": {
      "text/html": [
       "<div>\n",
       "<style scoped>\n",
       "    .dataframe tbody tr th:only-of-type {\n",
       "        vertical-align: middle;\n",
       "    }\n",
       "\n",
       "    .dataframe tbody tr th {\n",
       "        vertical-align: top;\n",
       "    }\n",
       "\n",
       "    .dataframe thead th {\n",
       "        text-align: right;\n",
       "    }\n",
       "</style>\n",
       "<table border=\"1\" class=\"dataframe\">\n",
       "  <thead>\n",
       "    <tr style=\"text-align: right;\">\n",
       "      <th></th>\n",
       "      <th>region_name</th>\n",
       "      <th>city_name</th>\n",
       "      <th>cpe_manufacturer_name</th>\n",
       "      <th>cpe_model_name</th>\n",
       "      <th>url_host</th>\n",
       "      <th>cpe_type_cd</th>\n",
       "      <th>cpe_model_os_type</th>\n",
       "      <th>price</th>\n",
       "      <th>date</th>\n",
       "      <th>part_of_day</th>\n",
       "      <th>request_cnt</th>\n",
       "      <th>user_id</th>\n",
       "    </tr>\n",
       "  </thead>\n",
       "  <tbody>\n",
       "    <tr>\n",
       "      <th>0</th>\n",
       "      <td>Краснодарский край</td>\n",
       "      <td>Краснодар</td>\n",
       "      <td>Apple</td>\n",
       "      <td>iPhone 7</td>\n",
       "      <td>ad.adriver.ru</td>\n",
       "      <td>smartphone</td>\n",
       "      <td>iOS</td>\n",
       "      <td>20368.000</td>\n",
       "      <td>2022-06-15</td>\n",
       "      <td>1</td>\n",
       "      <td>1</td>\n",
       "      <td>45098</td>\n",
       "    </tr>\n",
       "    <tr>\n",
       "      <th>1</th>\n",
       "      <td>Краснодарский край</td>\n",
       "      <td>Краснодар</td>\n",
       "      <td>Apple</td>\n",
       "      <td>iPhone 7</td>\n",
       "      <td>apple.com</td>\n",
       "      <td>smartphone</td>\n",
       "      <td>iOS</td>\n",
       "      <td>20368.000</td>\n",
       "      <td>2022-06-19</td>\n",
       "      <td>1</td>\n",
       "      <td>1</td>\n",
       "      <td>45098</td>\n",
       "    </tr>\n",
       "    <tr>\n",
       "      <th>2</th>\n",
       "      <td>Краснодарский край</td>\n",
       "      <td>Краснодар</td>\n",
       "      <td>Apple</td>\n",
       "      <td>iPhone 7</td>\n",
       "      <td>avatars.mds.yandex.net</td>\n",
       "      <td>smartphone</td>\n",
       "      <td>iOS</td>\n",
       "      <td>20368.000</td>\n",
       "      <td>2022-06-12</td>\n",
       "      <td>2</td>\n",
       "      <td>1</td>\n",
       "      <td>45098</td>\n",
       "    </tr>\n",
       "  </tbody>\n",
       "</table>\n",
       "</div>"
      ],
      "text/plain": [
       "          region_name  city_name cpe_manufacturer_name cpe_model_name  \\\n",
       "0  Краснодарский край  Краснодар                 Apple       iPhone 7   \n",
       "1  Краснодарский край  Краснодар                 Apple       iPhone 7   \n",
       "2  Краснодарский край  Краснодар                 Apple       iPhone 7   \n",
       "\n",
       "                 url_host cpe_type_cd cpe_model_os_type     price       date  \\\n",
       "0           ad.adriver.ru  smartphone               iOS 20368.000 2022-06-15   \n",
       "1               apple.com  smartphone               iOS 20368.000 2022-06-19   \n",
       "2  avatars.mds.yandex.net  smartphone               iOS 20368.000 2022-06-12   \n",
       "\n",
       "   part_of_day  request_cnt  user_id  \n",
       "0            1            1    45098  \n",
       "1            1            1    45098  \n",
       "2            2            1    45098  "
      ]
     },
     "execution_count": 3,
     "metadata": {},
     "output_type": "execute_result"
    }
   ],
   "source": [
    "df = []\n",
    "cat_cols = ['region_name', 'city_name', 'cpe_manufacturer_name', 'cpe_model_name','url_host', 'cpe_type_cd', 'cpe_model_os_type', 'price']\n",
    "\n",
    "for name in pq_files:\n",
    "    q = pd.read_parquet(pq_dir+name)\n",
    "    q['user_id'] = q['user_id'].astype(np.int32) \n",
    "    q['price'] = q['price'].astype(np.float32) \n",
    "    q['date'] = pd.to_datetime(q['date'])\n",
    "    q['part_of_day'] = q['part_of_day'].map(my.TIMEtoINT).astype(np.int8)\n",
    "    q['request_cnt'] = q['request_cnt'].astype(np.int8)\n",
    "\n",
    "    for col in cat_cols:\n",
    "        q[col] = q[col].astype('category')\n",
    "\n",
    "    df.append(q)\n",
    "    del q\n",
    "    gc.collect()\n",
    "\n",
    "df = pd.concat(df,ignore_index=True)\n",
    "\n",
    "df['price'] = df['price'].astype(np.float32)\n",
    "for col in cat_cols:\n",
    "    df[col] = df[col].astype('category')\n",
    "\n",
    "gc.collect()\n",
    "p(df.shape)\n",
    "df[:3]"
   ]
  },
  {
   "cell_type": "code",
   "execution_count": 4,
   "metadata": {},
   "outputs": [
    {
     "data": {
      "text/plain": [
       "region_name                    category\n",
       "city_name                      category\n",
       "cpe_manufacturer_name          category\n",
       "cpe_model_name                 category\n",
       "url_host                       category\n",
       "cpe_type_cd                    category\n",
       "cpe_model_os_type              category\n",
       "price                          category\n",
       "date                     datetime64[ns]\n",
       "part_of_day                        int8\n",
       "request_cnt                        int8\n",
       "user_id                           int32\n",
       "dtype: object"
      ]
     },
     "execution_count": 4,
     "metadata": {},
     "output_type": "execute_result"
    }
   ],
   "source": [
    "df.dtypes"
   ]
  },
  {
   "cell_type": "code",
   "execution_count": 5,
   "metadata": {},
   "outputs": [
    {
     "data": {
      "text/plain": [
       "415317"
      ]
     },
     "execution_count": 5,
     "metadata": {},
     "output_type": "execute_result"
    }
   ],
   "source": [
    "df['user_id'].nunique()"
   ]
  },
  {
   "cell_type": "code",
   "execution_count": 6,
   "metadata": {},
   "outputs": [],
   "source": [
    "df.to_parquet('out/pre/df_all.pq', index=False)"
   ]
  },
  {
   "cell_type": "code",
   "execution_count": 3,
   "metadata": {},
   "outputs": [
    {
     "data": {
      "text/html": [
       "<div>\n",
       "<style scoped>\n",
       "    .dataframe tbody tr th:only-of-type {\n",
       "        vertical-align: middle;\n",
       "    }\n",
       "\n",
       "    .dataframe tbody tr th {\n",
       "        vertical-align: top;\n",
       "    }\n",
       "\n",
       "    .dataframe thead th {\n",
       "        text-align: right;\n",
       "    }\n",
       "</style>\n",
       "<table border=\"1\" class=\"dataframe\">\n",
       "  <thead>\n",
       "    <tr style=\"text-align: right;\">\n",
       "      <th></th>\n",
       "      <th>region_name</th>\n",
       "      <th>city_name</th>\n",
       "      <th>cpe_manufacturer_name</th>\n",
       "      <th>cpe_model_name</th>\n",
       "      <th>url_host</th>\n",
       "      <th>cpe_type_cd</th>\n",
       "      <th>cpe_model_os_type</th>\n",
       "      <th>price</th>\n",
       "      <th>date</th>\n",
       "      <th>part_of_day</th>\n",
       "      <th>request_cnt</th>\n",
       "      <th>user_id</th>\n",
       "    </tr>\n",
       "  </thead>\n",
       "  <tbody>\n",
       "    <tr>\n",
       "      <th>0</th>\n",
       "      <td>Краснодарский край</td>\n",
       "      <td>Краснодар</td>\n",
       "      <td>Apple</td>\n",
       "      <td>iPhone 7</td>\n",
       "      <td>ad.adriver.ru</td>\n",
       "      <td>smartphone</td>\n",
       "      <td>iOS</td>\n",
       "      <td>20368.000</td>\n",
       "      <td>2022-06-15</td>\n",
       "      <td>1</td>\n",
       "      <td>1</td>\n",
       "      <td>45098</td>\n",
       "    </tr>\n",
       "    <tr>\n",
       "      <th>1</th>\n",
       "      <td>Краснодарский край</td>\n",
       "      <td>Краснодар</td>\n",
       "      <td>Apple</td>\n",
       "      <td>iPhone 7</td>\n",
       "      <td>apple.com</td>\n",
       "      <td>smartphone</td>\n",
       "      <td>iOS</td>\n",
       "      <td>20368.000</td>\n",
       "      <td>2022-06-19</td>\n",
       "      <td>1</td>\n",
       "      <td>1</td>\n",
       "      <td>45098</td>\n",
       "    </tr>\n",
       "  </tbody>\n",
       "</table>\n",
       "</div>"
      ],
      "text/plain": [
       "          region_name  city_name cpe_manufacturer_name cpe_model_name  \\\n",
       "0  Краснодарский край  Краснодар                 Apple       iPhone 7   \n",
       "1  Краснодарский край  Краснодар                 Apple       iPhone 7   \n",
       "\n",
       "        url_host cpe_type_cd cpe_model_os_type     price       date  \\\n",
       "0  ad.adriver.ru  smartphone               iOS 20368.000 2022-06-15   \n",
       "1      apple.com  smartphone               iOS 20368.000 2022-06-19   \n",
       "\n",
       "   part_of_day  request_cnt  user_id  \n",
       "0            1            1    45098  \n",
       "1            1            1    45098  "
      ]
     },
     "execution_count": 3,
     "metadata": {},
     "output_type": "execute_result"
    }
   ],
   "source": [
    "df = pd.read_parquet('out/pre/df_all.pq')\n",
    "df[:2]"
   ]
  },
  {
   "attachments": {},
   "cell_type": "markdown",
   "metadata": {},
   "source": [
    "Распределение цен телефонов по бинам, заполнение nan"
   ]
  },
  {
   "cell_type": "code",
   "execution_count": 7,
   "metadata": {},
   "outputs": [],
   "source": [
    "def mean_price(x):\n",
    "    uniq_ps = x.unique()\n",
    "    if (len(uniq_ps) == 1) and np.isnan(uniq_ps[0]):\n",
    "        return -1\n",
    "    return np.nanmean(uniq_ps).item()\n",
    "\n",
    "df['price'] = df.groupby('cpe_model_name')['price'].transform(mean_price).astype(np.float32)"
   ]
  },
  {
   "cell_type": "code",
   "execution_count": 8,
   "metadata": {},
   "outputs": [
    {
     "data": {
      "text/plain": [
       "CategoricalDtype(categories=[1, 2, 3, 4, 5, 6, 7, 8, 9, 10, 11, 12], ordered=True)"
      ]
     },
     "execution_count": 8,
     "metadata": {},
     "output_type": "execute_result"
    }
   ],
   "source": [
    "price_bins = [-np.inf,0,2000,5000,10000,15000,20000,25000, 35000,50000,70000, 100000,np.inf]\n",
    "price_labels = list(range(1,len(price_bins)))\n",
    "df['price'] = pd.cut(df['price'],bins=price_bins, labels=price_labels)\n",
    "df['price'].dtype"
   ]
  },
  {
   "cell_type": "code",
   "execution_count": 9,
   "metadata": {},
   "outputs": [
    {
     "data": {
      "text/plain": [
       "1      3482705\n",
       "2         2309\n",
       "3       743018\n",
       "4     28821130\n",
       "5     47248161\n",
       "6     52807804\n",
       "7     35535781\n",
       "8     24812580\n",
       "9     33378542\n",
       "10    61915653\n",
       "11    25509481\n",
       "12     8642271\n",
       "Name: price, dtype: int64"
      ]
     },
     "execution_count": 9,
     "metadata": {},
     "output_type": "execute_result"
    }
   ],
   "source": [
    "df['price'].value_counts().sort_index()"
   ]
  },
  {
   "cell_type": "code",
   "execution_count": 10,
   "metadata": {},
   "outputs": [
    {
     "data": {
      "text/html": [
       "<div>\n",
       "<style scoped>\n",
       "    .dataframe tbody tr th:only-of-type {\n",
       "        vertical-align: middle;\n",
       "    }\n",
       "\n",
       "    .dataframe tbody tr th {\n",
       "        vertical-align: top;\n",
       "    }\n",
       "\n",
       "    .dataframe thead th {\n",
       "        text-align: right;\n",
       "    }\n",
       "</style>\n",
       "<table border=\"1\" class=\"dataframe\">\n",
       "  <thead>\n",
       "    <tr style=\"text-align: right;\">\n",
       "      <th></th>\n",
       "      <th>region_name</th>\n",
       "      <th>city_name</th>\n",
       "      <th>cpe_manufacturer_name</th>\n",
       "      <th>cpe_model_name</th>\n",
       "      <th>url_host</th>\n",
       "      <th>cpe_type_cd</th>\n",
       "      <th>cpe_model_os_type</th>\n",
       "      <th>price</th>\n",
       "      <th>date</th>\n",
       "      <th>part_of_day</th>\n",
       "      <th>request_cnt</th>\n",
       "      <th>user_id</th>\n",
       "    </tr>\n",
       "  </thead>\n",
       "  <tbody>\n",
       "    <tr>\n",
       "      <th>0</th>\n",
       "      <td>Краснодарский край</td>\n",
       "      <td>Краснодар</td>\n",
       "      <td>Apple</td>\n",
       "      <td>iPhone 7</td>\n",
       "      <td>ad.adriver.ru</td>\n",
       "      <td>smartphone</td>\n",
       "      <td>iOS</td>\n",
       "      <td>9</td>\n",
       "      <td>2022-06-15</td>\n",
       "      <td>1</td>\n",
       "      <td>1</td>\n",
       "      <td>45098</td>\n",
       "    </tr>\n",
       "    <tr>\n",
       "      <th>1</th>\n",
       "      <td>Краснодарский край</td>\n",
       "      <td>Краснодар</td>\n",
       "      <td>Apple</td>\n",
       "      <td>iPhone 7</td>\n",
       "      <td>apple.com</td>\n",
       "      <td>smartphone</td>\n",
       "      <td>iOS</td>\n",
       "      <td>9</td>\n",
       "      <td>2022-06-19</td>\n",
       "      <td>1</td>\n",
       "      <td>1</td>\n",
       "      <td>45098</td>\n",
       "    </tr>\n",
       "    <tr>\n",
       "      <th>2</th>\n",
       "      <td>Краснодарский край</td>\n",
       "      <td>Краснодар</td>\n",
       "      <td>Apple</td>\n",
       "      <td>iPhone 7</td>\n",
       "      <td>avatars.mds.yandex.net</td>\n",
       "      <td>smartphone</td>\n",
       "      <td>iOS</td>\n",
       "      <td>9</td>\n",
       "      <td>2022-06-12</td>\n",
       "      <td>2</td>\n",
       "      <td>1</td>\n",
       "      <td>45098</td>\n",
       "    </tr>\n",
       "  </tbody>\n",
       "</table>\n",
       "</div>"
      ],
      "text/plain": [
       "          region_name  city_name cpe_manufacturer_name cpe_model_name  \\\n",
       "0  Краснодарский край  Краснодар                 Apple       iPhone 7   \n",
       "1  Краснодарский край  Краснодар                 Apple       iPhone 7   \n",
       "2  Краснодарский край  Краснодар                 Apple       iPhone 7   \n",
       "\n",
       "                 url_host cpe_type_cd cpe_model_os_type price       date  \\\n",
       "0           ad.adriver.ru  smartphone               iOS     9 2022-06-15   \n",
       "1               apple.com  smartphone               iOS     9 2022-06-19   \n",
       "2  avatars.mds.yandex.net  smartphone               iOS     9 2022-06-12   \n",
       "\n",
       "   part_of_day  request_cnt  user_id  \n",
       "0            1            1    45098  \n",
       "1            1            1    45098  \n",
       "2            2            1    45098  "
      ]
     },
     "execution_count": 10,
     "metadata": {},
     "output_type": "execute_result"
    }
   ],
   "source": [
    "df[:3]"
   ]
  },
  {
   "cell_type": "code",
   "execution_count": 11,
   "metadata": {},
   "outputs": [],
   "source": [
    "df.to_parquet('out/pre/df_all_1.pq', index=False)"
   ]
  },
  {
   "cell_type": "code",
   "execution_count": null,
   "metadata": {},
   "outputs": [],
   "source": [
    "df = pd.read_parquet('out/pre/df_all_1.pq')"
   ]
  },
  {
   "cell_type": "code",
   "execution_count": 12,
   "metadata": {},
   "outputs": [
    {
     "data": {
      "text/plain": [
       "array([1, 2, 3, 4], dtype=int8)"
      ]
     },
     "execution_count": 12,
     "metadata": {},
     "output_type": "execute_result"
    }
   ],
   "source": [
    "df['part_of_day'].unique()"
   ]
  },
  {
   "cell_type": "code",
   "execution_count": 13,
   "metadata": {},
   "outputs": [
    {
     "data": {
      "text/html": [
       "<div>\n",
       "<style scoped>\n",
       "    .dataframe tbody tr th:only-of-type {\n",
       "        vertical-align: middle;\n",
       "    }\n",
       "\n",
       "    .dataframe tbody tr th {\n",
       "        vertical-align: top;\n",
       "    }\n",
       "\n",
       "    .dataframe thead th {\n",
       "        text-align: right;\n",
       "    }\n",
       "</style>\n",
       "<table border=\"1\" class=\"dataframe\">\n",
       "  <thead>\n",
       "    <tr style=\"text-align: right;\">\n",
       "      <th></th>\n",
       "      <th>region_name</th>\n",
       "      <th>city_name</th>\n",
       "      <th>cpe_manufacturer_name</th>\n",
       "      <th>cpe_model_name</th>\n",
       "      <th>url_host</th>\n",
       "      <th>cpe_type_cd</th>\n",
       "      <th>cpe_model_os_type</th>\n",
       "      <th>price</th>\n",
       "      <th>date</th>\n",
       "      <th>part_of_day</th>\n",
       "      <th>request_cnt</th>\n",
       "      <th>user_id</th>\n",
       "    </tr>\n",
       "  </thead>\n",
       "  <tbody>\n",
       "    <tr>\n",
       "      <th>0</th>\n",
       "      <td>Краснодарский край</td>\n",
       "      <td>Краснодар</td>\n",
       "      <td>Apple</td>\n",
       "      <td>iPhone 7</td>\n",
       "      <td>ad.adriver.ru</td>\n",
       "      <td>smartphone</td>\n",
       "      <td>iOS</td>\n",
       "      <td>9</td>\n",
       "      <td>2022-06-15 01:00:00</td>\n",
       "      <td>1</td>\n",
       "      <td>1</td>\n",
       "      <td>45098</td>\n",
       "    </tr>\n",
       "    <tr>\n",
       "      <th>1</th>\n",
       "      <td>Краснодарский край</td>\n",
       "      <td>Краснодар</td>\n",
       "      <td>Apple</td>\n",
       "      <td>iPhone 7</td>\n",
       "      <td>apple.com</td>\n",
       "      <td>smartphone</td>\n",
       "      <td>iOS</td>\n",
       "      <td>9</td>\n",
       "      <td>2022-06-19 01:00:00</td>\n",
       "      <td>1</td>\n",
       "      <td>1</td>\n",
       "      <td>45098</td>\n",
       "    </tr>\n",
       "    <tr>\n",
       "      <th>2</th>\n",
       "      <td>Краснодарский край</td>\n",
       "      <td>Краснодар</td>\n",
       "      <td>Apple</td>\n",
       "      <td>iPhone 7</td>\n",
       "      <td>avatars.mds.yandex.net</td>\n",
       "      <td>smartphone</td>\n",
       "      <td>iOS</td>\n",
       "      <td>9</td>\n",
       "      <td>2022-06-12 02:00:00</td>\n",
       "      <td>2</td>\n",
       "      <td>1</td>\n",
       "      <td>45098</td>\n",
       "    </tr>\n",
       "  </tbody>\n",
       "</table>\n",
       "</div>"
      ],
      "text/plain": [
       "          region_name  city_name cpe_manufacturer_name cpe_model_name  \\\n",
       "0  Краснодарский край  Краснодар                 Apple       iPhone 7   \n",
       "1  Краснодарский край  Краснодар                 Apple       iPhone 7   \n",
       "2  Краснодарский край  Краснодар                 Apple       iPhone 7   \n",
       "\n",
       "                 url_host cpe_type_cd cpe_model_os_type price  \\\n",
       "0           ad.adriver.ru  smartphone               iOS     9   \n",
       "1               apple.com  smartphone               iOS     9   \n",
       "2  avatars.mds.yandex.net  smartphone               iOS     9   \n",
       "\n",
       "                 date  part_of_day  request_cnt  user_id  \n",
       "0 2022-06-15 01:00:00            1            1    45098  \n",
       "1 2022-06-19 01:00:00            1            1    45098  \n",
       "2 2022-06-12 02:00:00            2            1    45098  "
      ]
     },
     "execution_count": 13,
     "metadata": {},
     "output_type": "execute_result"
    }
   ],
   "source": [
    "df['date'] = df['date'] + pd.to_timedelta(df['part_of_day'],unit='hour')\n",
    "df[:3]"
   ]
  },
  {
   "cell_type": "code",
   "execution_count": 14,
   "metadata": {},
   "outputs": [
    {
     "data": {
      "text/html": [
       "<div>\n",
       "<style scoped>\n",
       "    .dataframe tbody tr th:only-of-type {\n",
       "        vertical-align: middle;\n",
       "    }\n",
       "\n",
       "    .dataframe tbody tr th {\n",
       "        vertical-align: top;\n",
       "    }\n",
       "\n",
       "    .dataframe thead th {\n",
       "        text-align: right;\n",
       "    }\n",
       "</style>\n",
       "<table border=\"1\" class=\"dataframe\">\n",
       "  <thead>\n",
       "    <tr style=\"text-align: right;\">\n",
       "      <th></th>\n",
       "      <th>region_name</th>\n",
       "      <th>city_name</th>\n",
       "      <th>cpe_manufacturer_name</th>\n",
       "      <th>cpe_model_name</th>\n",
       "      <th>url_host</th>\n",
       "      <th>cpe_type_cd</th>\n",
       "      <th>cpe_model_os_type</th>\n",
       "      <th>price</th>\n",
       "      <th>date</th>\n",
       "      <th>part_of_day</th>\n",
       "      <th>request_cnt</th>\n",
       "      <th>user_id</th>\n",
       "    </tr>\n",
       "  </thead>\n",
       "  <tbody>\n",
       "    <tr>\n",
       "      <th>0</th>\n",
       "      <td>Краснодарский край</td>\n",
       "      <td>Краснодар</td>\n",
       "      <td>Apple</td>\n",
       "      <td>iPhone 7</td>\n",
       "      <td>ad.adriver.ru</td>\n",
       "      <td>smartphone</td>\n",
       "      <td>iOS</td>\n",
       "      <td>9</td>\n",
       "      <td>2022-06-15 01:00:00</td>\n",
       "      <td>1</td>\n",
       "      <td>0.083</td>\n",
       "      <td>45098</td>\n",
       "    </tr>\n",
       "    <tr>\n",
       "      <th>1</th>\n",
       "      <td>Краснодарский край</td>\n",
       "      <td>Краснодар</td>\n",
       "      <td>Apple</td>\n",
       "      <td>iPhone 7</td>\n",
       "      <td>apple.com</td>\n",
       "      <td>smartphone</td>\n",
       "      <td>iOS</td>\n",
       "      <td>9</td>\n",
       "      <td>2022-06-19 01:00:00</td>\n",
       "      <td>1</td>\n",
       "      <td>0.083</td>\n",
       "      <td>45098</td>\n",
       "    </tr>\n",
       "  </tbody>\n",
       "</table>\n",
       "</div>"
      ],
      "text/plain": [
       "          region_name  city_name cpe_manufacturer_name cpe_model_name  \\\n",
       "0  Краснодарский край  Краснодар                 Apple       iPhone 7   \n",
       "1  Краснодарский край  Краснодар                 Apple       iPhone 7   \n",
       "\n",
       "        url_host cpe_type_cd cpe_model_os_type price                date  \\\n",
       "0  ad.adriver.ru  smartphone               iOS     9 2022-06-15 01:00:00   \n",
       "1      apple.com  smartphone               iOS     9 2022-06-19 01:00:00   \n",
       "\n",
       "   part_of_day  request_cnt  user_id  \n",
       "0            1        0.083    45098  \n",
       "1            1        0.083    45098  "
      ]
     },
     "execution_count": 14,
     "metadata": {},
     "output_type": "execute_result"
    }
   ],
   "source": [
    "df['request_cnt'] = (df['request_cnt'].clip(0,12)/12).astype(np.float32)\n",
    "df[:2]"
   ]
  },
  {
   "cell_type": "code",
   "execution_count": 15,
   "metadata": {},
   "outputs": [
    {
     "data": {
      "text/plain": [
       "0"
      ]
     },
     "execution_count": 15,
     "metadata": {},
     "output_type": "execute_result"
    }
   ],
   "source": [
    "gc.collect()"
   ]
  },
  {
   "cell_type": "code",
   "execution_count": 16,
   "metadata": {},
   "outputs": [],
   "source": [
    "df.to_parquet('out/pre/df_all_2.pq', index=False)"
   ]
  },
  {
   "cell_type": "code",
   "execution_count": 2,
   "metadata": {},
   "outputs": [
    {
     "name": "stdout",
     "output_type": "stream",
     "text": [
      "(322899435, 12)\n"
     ]
    },
    {
     "data": {
      "text/html": [
       "<div>\n",
       "<style scoped>\n",
       "    .dataframe tbody tr th:only-of-type {\n",
       "        vertical-align: middle;\n",
       "    }\n",
       "\n",
       "    .dataframe tbody tr th {\n",
       "        vertical-align: top;\n",
       "    }\n",
       "\n",
       "    .dataframe thead th {\n",
       "        text-align: right;\n",
       "    }\n",
       "</style>\n",
       "<table border=\"1\" class=\"dataframe\">\n",
       "  <thead>\n",
       "    <tr style=\"text-align: right;\">\n",
       "      <th></th>\n",
       "      <th>region_name</th>\n",
       "      <th>city_name</th>\n",
       "      <th>cpe_manufacturer_name</th>\n",
       "      <th>cpe_model_name</th>\n",
       "      <th>url_host</th>\n",
       "      <th>cpe_type_cd</th>\n",
       "      <th>cpe_model_os_type</th>\n",
       "      <th>price</th>\n",
       "      <th>date</th>\n",
       "      <th>part_of_day</th>\n",
       "      <th>request_cnt</th>\n",
       "      <th>user_id</th>\n",
       "    </tr>\n",
       "  </thead>\n",
       "  <tbody>\n",
       "    <tr>\n",
       "      <th>0</th>\n",
       "      <td>Краснодарский край</td>\n",
       "      <td>Краснодар</td>\n",
       "      <td>Apple</td>\n",
       "      <td>iPhone 7</td>\n",
       "      <td>ad.adriver.ru</td>\n",
       "      <td>smartphone</td>\n",
       "      <td>iOS</td>\n",
       "      <td>5</td>\n",
       "      <td>2022-06-15 01:00:00</td>\n",
       "      <td>1</td>\n",
       "      <td>0.083</td>\n",
       "      <td>45098</td>\n",
       "    </tr>\n",
       "    <tr>\n",
       "      <th>1</th>\n",
       "      <td>Краснодарский край</td>\n",
       "      <td>Краснодар</td>\n",
       "      <td>Apple</td>\n",
       "      <td>iPhone 7</td>\n",
       "      <td>apple.com</td>\n",
       "      <td>smartphone</td>\n",
       "      <td>iOS</td>\n",
       "      <td>5</td>\n",
       "      <td>2022-06-19 01:00:00</td>\n",
       "      <td>1</td>\n",
       "      <td>0.083</td>\n",
       "      <td>45098</td>\n",
       "    </tr>\n",
       "  </tbody>\n",
       "</table>\n",
       "</div>"
      ],
      "text/plain": [
       "          region_name  city_name cpe_manufacturer_name cpe_model_name  \\\n",
       "0  Краснодарский край  Краснодар                 Apple       iPhone 7   \n",
       "1  Краснодарский край  Краснодар                 Apple       iPhone 7   \n",
       "\n",
       "        url_host cpe_type_cd cpe_model_os_type  price                date  \\\n",
       "0  ad.adriver.ru  smartphone               iOS      5 2022-06-15 01:00:00   \n",
       "1      apple.com  smartphone               iOS      5 2022-06-19 01:00:00   \n",
       "\n",
       "   part_of_day  request_cnt  user_id  \n",
       "0            1        0.083    45098  \n",
       "1            1        0.083    45098  "
      ]
     },
     "execution_count": 2,
     "metadata": {},
     "output_type": "execute_result"
    }
   ],
   "source": [
    "df = pd.read_parquet('out/pre/df_all_2.pq')\n",
    "p(df.shape)\n",
    "df[:2]"
   ]
  },
  {
   "attachments": {},
   "cell_type": "markdown",
   "metadata": {},
   "source": [
    "LabelEncoder для категориальных признаков"
   ]
  },
  {
   "cell_type": "code",
   "execution_count": 17,
   "metadata": {},
   "outputs": [],
   "source": [
    "from sklearn.preprocessing import LabelEncoder\n",
    "\n",
    "cols_to_encode = ['region_name', 'city_name', 'cpe_manufacturer_name', 'cpe_model_name','url_host', 'cpe_type_cd', 'cpe_model_os_type']\n",
    "\n",
    "# todo frequency encoder \n",
    "encoders = {}\n",
    "for col in cols_to_encode:\n",
    "    encoders[col] = LabelEncoder().fit(df[col])\n",
    "\n",
    "my.save_pickle('out/encs.pik', encoders)"
   ]
  },
  {
   "cell_type": "code",
   "execution_count": 27,
   "metadata": {},
   "outputs": [
    {
     "data": {
      "text/html": [
       "<div>\n",
       "<style scoped>\n",
       "    .dataframe tbody tr th:only-of-type {\n",
       "        vertical-align: middle;\n",
       "    }\n",
       "\n",
       "    .dataframe tbody tr th {\n",
       "        vertical-align: top;\n",
       "    }\n",
       "\n",
       "    .dataframe thead th {\n",
       "        text-align: right;\n",
       "    }\n",
       "</style>\n",
       "<table border=\"1\" class=\"dataframe\">\n",
       "  <thead>\n",
       "    <tr style=\"text-align: right;\">\n",
       "      <th></th>\n",
       "      <th>region_name</th>\n",
       "      <th>city_name</th>\n",
       "      <th>cpe_manufacturer_name</th>\n",
       "      <th>cpe_model_name</th>\n",
       "      <th>url_host</th>\n",
       "      <th>cpe_type_cd</th>\n",
       "      <th>cpe_model_os_type</th>\n",
       "      <th>price</th>\n",
       "      <th>date</th>\n",
       "      <th>part_of_day</th>\n",
       "      <th>request_cnt</th>\n",
       "      <th>user_id</th>\n",
       "    </tr>\n",
       "  </thead>\n",
       "  <tbody>\n",
       "    <tr>\n",
       "      <th>0</th>\n",
       "      <td>Краснодарский край</td>\n",
       "      <td>Краснодар</td>\n",
       "      <td>Apple</td>\n",
       "      <td>iPhone 7</td>\n",
       "      <td>ad.adriver.ru</td>\n",
       "      <td>smartphone</td>\n",
       "      <td>iOS</td>\n",
       "      <td>9</td>\n",
       "      <td>2022-06-15 01:00:00</td>\n",
       "      <td>1</td>\n",
       "      <td>0.083</td>\n",
       "      <td>45098</td>\n",
       "    </tr>\n",
       "    <tr>\n",
       "      <th>1</th>\n",
       "      <td>Краснодарский край</td>\n",
       "      <td>Краснодар</td>\n",
       "      <td>Apple</td>\n",
       "      <td>iPhone 7</td>\n",
       "      <td>apple.com</td>\n",
       "      <td>smartphone</td>\n",
       "      <td>iOS</td>\n",
       "      <td>9</td>\n",
       "      <td>2022-06-19 01:00:00</td>\n",
       "      <td>1</td>\n",
       "      <td>0.083</td>\n",
       "      <td>45098</td>\n",
       "    </tr>\n",
       "  </tbody>\n",
       "</table>\n",
       "</div>"
      ],
      "text/plain": [
       "          region_name  city_name cpe_manufacturer_name cpe_model_name  \\\n",
       "0  Краснодарский край  Краснодар                 Apple       iPhone 7   \n",
       "1  Краснодарский край  Краснодар                 Apple       iPhone 7   \n",
       "\n",
       "        url_host cpe_type_cd cpe_model_os_type price                date  \\\n",
       "0  ad.adriver.ru  smartphone               iOS     9 2022-06-15 01:00:00   \n",
       "1      apple.com  smartphone               iOS     9 2022-06-19 01:00:00   \n",
       "\n",
       "   part_of_day  request_cnt  user_id  \n",
       "0            1        0.083    45098  \n",
       "1            1        0.083    45098  "
      ]
     },
     "execution_count": 27,
     "metadata": {},
     "output_type": "execute_result"
    }
   ],
   "source": [
    "df[:2]"
   ]
  },
  {
   "cell_type": "code",
   "execution_count": 28,
   "metadata": {},
   "outputs": [
    {
     "data": {
      "text/plain": [
       "{'region_name': LabelEncoder(),\n",
       " 'city_name': LabelEncoder(),\n",
       " 'cpe_manufacturer_name': LabelEncoder(),\n",
       " 'cpe_model_name': LabelEncoder(),\n",
       " 'url_host': LabelEncoder(),\n",
       " 'cpe_type_cd': LabelEncoder(),\n",
       " 'cpe_model_os_type': LabelEncoder()}"
      ]
     },
     "execution_count": 28,
     "metadata": {},
     "output_type": "execute_result"
    }
   ],
   "source": [
    "encoders"
   ]
  },
  {
   "cell_type": "code",
   "execution_count": 29,
   "metadata": {},
   "outputs": [
    {
     "name": "stdout",
     "output_type": "stream",
     "text": [
      "region_name 81\n",
      "city_name 985\n",
      "cpe_manufacturer_name 37\n",
      "cpe_model_name 599\n",
      "url_host 199683\n",
      "cpe_type_cd 4\n",
      "cpe_model_os_type 3\n"
     ]
    }
   ],
   "source": [
    "for name, e in encoders.items():\n",
    "    print(name, len(e.classes_))"
   ]
  },
  {
   "cell_type": "code",
   "execution_count": 30,
   "metadata": {},
   "outputs": [
    {
     "data": {
      "text/html": [
       "<div>\n",
       "<style scoped>\n",
       "    .dataframe tbody tr th:only-of-type {\n",
       "        vertical-align: middle;\n",
       "    }\n",
       "\n",
       "    .dataframe tbody tr th {\n",
       "        vertical-align: top;\n",
       "    }\n",
       "\n",
       "    .dataframe thead th {\n",
       "        text-align: right;\n",
       "    }\n",
       "</style>\n",
       "<table border=\"1\" class=\"dataframe\">\n",
       "  <thead>\n",
       "    <tr style=\"text-align: right;\">\n",
       "      <th></th>\n",
       "      <th>region_name</th>\n",
       "      <th>city_name</th>\n",
       "      <th>cpe_manufacturer_name</th>\n",
       "      <th>cpe_model_name</th>\n",
       "      <th>url_host</th>\n",
       "      <th>cpe_type_cd</th>\n",
       "      <th>cpe_model_os_type</th>\n",
       "      <th>price</th>\n",
       "      <th>date</th>\n",
       "      <th>part_of_day</th>\n",
       "      <th>request_cnt</th>\n",
       "      <th>user_id</th>\n",
       "    </tr>\n",
       "  </thead>\n",
       "  <tbody>\n",
       "    <tr>\n",
       "      <th>0</th>\n",
       "      <td>22</td>\n",
       "      <td>410</td>\n",
       "      <td>2</td>\n",
       "      <td>590</td>\n",
       "      <td>5789</td>\n",
       "      <td>3</td>\n",
       "      <td>3</td>\n",
       "      <td>9</td>\n",
       "      <td>2022-06-15 01:00:00</td>\n",
       "      <td>1</td>\n",
       "      <td>0.083</td>\n",
       "      <td>45098</td>\n",
       "    </tr>\n",
       "    <tr>\n",
       "      <th>1</th>\n",
       "      <td>22</td>\n",
       "      <td>410</td>\n",
       "      <td>2</td>\n",
       "      <td>590</td>\n",
       "      <td>12901</td>\n",
       "      <td>3</td>\n",
       "      <td>3</td>\n",
       "      <td>9</td>\n",
       "      <td>2022-06-19 01:00:00</td>\n",
       "      <td>1</td>\n",
       "      <td>0.083</td>\n",
       "      <td>45098</td>\n",
       "    </tr>\n",
       "    <tr>\n",
       "      <th>2</th>\n",
       "      <td>22</td>\n",
       "      <td>410</td>\n",
       "      <td>2</td>\n",
       "      <td>590</td>\n",
       "      <td>17627</td>\n",
       "      <td>3</td>\n",
       "      <td>3</td>\n",
       "      <td>9</td>\n",
       "      <td>2022-06-12 02:00:00</td>\n",
       "      <td>2</td>\n",
       "      <td>0.083</td>\n",
       "      <td>45098</td>\n",
       "    </tr>\n",
       "  </tbody>\n",
       "</table>\n",
       "</div>"
      ],
      "text/plain": [
       "   region_name  city_name  cpe_manufacturer_name  cpe_model_name  url_host  \\\n",
       "0           22        410                      2             590      5789   \n",
       "1           22        410                      2             590     12901   \n",
       "2           22        410                      2             590     17627   \n",
       "\n",
       "   cpe_type_cd  cpe_model_os_type price                date  part_of_day  \\\n",
       "0            3                  3     9 2022-06-15 01:00:00            1   \n",
       "1            3                  3     9 2022-06-19 01:00:00            1   \n",
       "2            3                  3     9 2022-06-12 02:00:00            2   \n",
       "\n",
       "   request_cnt  user_id  \n",
       "0        0.083    45098  \n",
       "1        0.083    45098  \n",
       "2        0.083    45098  "
      ]
     },
     "execution_count": 30,
     "metadata": {},
     "output_type": "execute_result"
    }
   ],
   "source": [
    "df = my.label_encode(df, cols_to_encode, encoders)\n",
    "gc.collect()\n",
    "df[:3]"
   ]
  },
  {
   "cell_type": "code",
   "execution_count": 32,
   "metadata": {},
   "outputs": [],
   "source": [
    "df.to_parquet('out/pre/df_all_3.pq', index=False)"
   ]
  },
  {
   "attachments": {},
   "cell_type": "markdown",
   "metadata": {},
   "source": [
    "Сортируем по дате"
   ]
  },
  {
   "cell_type": "code",
   "execution_count": 2,
   "metadata": {},
   "outputs": [
    {
     "name": "stdout",
     "output_type": "stream",
     "text": [
      "(322899435, 12)\n"
     ]
    },
    {
     "data": {
      "text/html": [
       "<div>\n",
       "<style scoped>\n",
       "    .dataframe tbody tr th:only-of-type {\n",
       "        vertical-align: middle;\n",
       "    }\n",
       "\n",
       "    .dataframe tbody tr th {\n",
       "        vertical-align: top;\n",
       "    }\n",
       "\n",
       "    .dataframe thead th {\n",
       "        text-align: right;\n",
       "    }\n",
       "</style>\n",
       "<table border=\"1\" class=\"dataframe\">\n",
       "  <thead>\n",
       "    <tr style=\"text-align: right;\">\n",
       "      <th></th>\n",
       "      <th>region_name</th>\n",
       "      <th>city_name</th>\n",
       "      <th>cpe_manufacturer_name</th>\n",
       "      <th>cpe_model_name</th>\n",
       "      <th>url_host</th>\n",
       "      <th>cpe_type_cd</th>\n",
       "      <th>cpe_model_os_type</th>\n",
       "      <th>price</th>\n",
       "      <th>date</th>\n",
       "      <th>part_of_day</th>\n",
       "      <th>request_cnt</th>\n",
       "      <th>user_id</th>\n",
       "    </tr>\n",
       "  </thead>\n",
       "  <tbody>\n",
       "    <tr>\n",
       "      <th>0</th>\n",
       "      <td>22</td>\n",
       "      <td>410</td>\n",
       "      <td>2</td>\n",
       "      <td>590</td>\n",
       "      <td>5789</td>\n",
       "      <td>3</td>\n",
       "      <td>3</td>\n",
       "      <td>9</td>\n",
       "      <td>2022-06-15 01:00:00</td>\n",
       "      <td>1</td>\n",
       "      <td>0.083</td>\n",
       "      <td>45098</td>\n",
       "    </tr>\n",
       "    <tr>\n",
       "      <th>1</th>\n",
       "      <td>22</td>\n",
       "      <td>410</td>\n",
       "      <td>2</td>\n",
       "      <td>590</td>\n",
       "      <td>12901</td>\n",
       "      <td>3</td>\n",
       "      <td>3</td>\n",
       "      <td>9</td>\n",
       "      <td>2022-06-19 01:00:00</td>\n",
       "      <td>1</td>\n",
       "      <td>0.083</td>\n",
       "      <td>45098</td>\n",
       "    </tr>\n",
       "  </tbody>\n",
       "</table>\n",
       "</div>"
      ],
      "text/plain": [
       "   region_name  city_name  cpe_manufacturer_name  cpe_model_name  url_host  \\\n",
       "0           22        410                      2             590      5789   \n",
       "1           22        410                      2             590     12901   \n",
       "\n",
       "   cpe_type_cd  cpe_model_os_type  price                date  part_of_day  \\\n",
       "0            3                  3      9 2022-06-15 01:00:00            1   \n",
       "1            3                  3      9 2022-06-19 01:00:00            1   \n",
       "\n",
       "   request_cnt  user_id  \n",
       "0        0.083    45098  \n",
       "1        0.083    45098  "
      ]
     },
     "execution_count": 2,
     "metadata": {},
     "output_type": "execute_result"
    }
   ],
   "source": [
    "df = pd.read_parquet('out/pre/df_all_3.pq')\n",
    "p(df.shape)\n",
    "df[:2]"
   ]
  },
  {
   "cell_type": "code",
   "execution_count": 3,
   "metadata": {},
   "outputs": [
    {
     "data": {
      "text/plain": [
       "0"
      ]
     },
     "execution_count": 3,
     "metadata": {},
     "output_type": "execute_result"
    }
   ],
   "source": [
    "df.sort_values(['user_id','date'], inplace=True)\n",
    "gc.collect()"
   ]
  },
  {
   "cell_type": "code",
   "execution_count": 4,
   "metadata": {},
   "outputs": [],
   "source": [
    "df.to_parquet('out/pre/df_all_4.pq', index=False)"
   ]
  },
  {
   "attachments": {},
   "cell_type": "markdown",
   "metadata": {},
   "source": [
    "TRAIN_VAL"
   ]
  },
  {
   "cell_type": "code",
   "execution_count": 2,
   "metadata": {},
   "outputs": [
    {
     "data": {
      "text/plain": [
       "(322899435, 12)"
      ]
     },
     "execution_count": 2,
     "metadata": {},
     "output_type": "execute_result"
    }
   ],
   "source": [
    "df = pd.read_parquet('out/pre/df_all_4.pq')\n",
    "df.shape"
   ]
  },
  {
   "cell_type": "code",
   "execution_count": 3,
   "metadata": {},
   "outputs": [
    {
     "data": {
      "text/html": [
       "<div>\n",
       "<style scoped>\n",
       "    .dataframe tbody tr th:only-of-type {\n",
       "        vertical-align: middle;\n",
       "    }\n",
       "\n",
       "    .dataframe tbody tr th {\n",
       "        vertical-align: top;\n",
       "    }\n",
       "\n",
       "    .dataframe thead th {\n",
       "        text-align: right;\n",
       "    }\n",
       "</style>\n",
       "<table border=\"1\" class=\"dataframe\">\n",
       "  <thead>\n",
       "    <tr style=\"text-align: right;\">\n",
       "      <th></th>\n",
       "      <th>age</th>\n",
       "      <th>is_male</th>\n",
       "      <th>user_id</th>\n",
       "    </tr>\n",
       "  </thead>\n",
       "  <tbody>\n",
       "    <tr>\n",
       "      <th>0</th>\n",
       "      <td>31.000</td>\n",
       "      <td>1</td>\n",
       "      <td>350459</td>\n",
       "    </tr>\n",
       "    <tr>\n",
       "      <th>1</th>\n",
       "      <td>35.000</td>\n",
       "      <td>1</td>\n",
       "      <td>188276</td>\n",
       "    </tr>\n",
       "    <tr>\n",
       "      <th>2</th>\n",
       "      <td>41.000</td>\n",
       "      <td>0</td>\n",
       "      <td>99002</td>\n",
       "    </tr>\n",
       "    <tr>\n",
       "      <th>3</th>\n",
       "      <td>33.000</td>\n",
       "      <td>0</td>\n",
       "      <td>155506</td>\n",
       "    </tr>\n",
       "    <tr>\n",
       "      <th>4</th>\n",
       "      <td>54.000</td>\n",
       "      <td>0</td>\n",
       "      <td>213873</td>\n",
       "    </tr>\n",
       "    <tr>\n",
       "      <th>...</th>\n",
       "      <td>...</td>\n",
       "      <td>...</td>\n",
       "      <td>...</td>\n",
       "    </tr>\n",
       "    <tr>\n",
       "      <th>269995</th>\n",
       "      <td>49.000</td>\n",
       "      <td>1</td>\n",
       "      <td>225374</td>\n",
       "    </tr>\n",
       "    <tr>\n",
       "      <th>269996</th>\n",
       "      <td>22.000</td>\n",
       "      <td>1</td>\n",
       "      <td>25776</td>\n",
       "    </tr>\n",
       "    <tr>\n",
       "      <th>269997</th>\n",
       "      <td>28.000</td>\n",
       "      <td>0</td>\n",
       "      <td>148131</td>\n",
       "    </tr>\n",
       "    <tr>\n",
       "      <th>269998</th>\n",
       "      <td>28.000</td>\n",
       "      <td>1</td>\n",
       "      <td>205570</td>\n",
       "    </tr>\n",
       "    <tr>\n",
       "      <th>269999</th>\n",
       "      <td>68.000</td>\n",
       "      <td>1</td>\n",
       "      <td>103148</td>\n",
       "    </tr>\n",
       "  </tbody>\n",
       "</table>\n",
       "<p>270000 rows × 3 columns</p>\n",
       "</div>"
      ],
      "text/plain": [
       "          age is_male  user_id\n",
       "0      31.000       1   350459\n",
       "1      35.000       1   188276\n",
       "2      41.000       0    99002\n",
       "3      33.000       0   155506\n",
       "4      54.000       0   213873\n",
       "...       ...     ...      ...\n",
       "269995 49.000       1   225374\n",
       "269996 22.000       1    25776\n",
       "269997 28.000       0   148131\n",
       "269998 28.000       1   205570\n",
       "269999 68.000       1   103148\n",
       "\n",
       "[270000 rows x 3 columns]"
      ]
     },
     "execution_count": 3,
     "metadata": {},
     "output_type": "execute_result"
    }
   ],
   "source": [
    "train = pd.read_parquet('data/public_train.pqt').reset_index(drop=True)\n",
    "train"
   ]
  },
  {
   "cell_type": "code",
   "execution_count": 4,
   "metadata": {},
   "outputs": [
    {
     "data": {
      "text/plain": [
       "(210730732, 12)"
      ]
     },
     "execution_count": 4,
     "metadata": {},
     "output_type": "execute_result"
    }
   ],
   "source": [
    "X_train_val = df.loc[df['user_id'].isin(train['user_id'])]\n",
    "gc.collect()\n",
    "X_train_val.shape"
   ]
  },
  {
   "cell_type": "code",
   "execution_count": 5,
   "metadata": {},
   "outputs": [
    {
     "data": {
      "text/plain": [
       "0"
      ]
     },
     "execution_count": 5,
     "metadata": {},
     "output_type": "execute_result"
    }
   ],
   "source": [
    "del df\n",
    "gc.collect()"
   ]
  },
  {
   "cell_type": "code",
   "execution_count": 6,
   "metadata": {},
   "outputs": [
    {
     "data": {
      "text/html": [
       "<div>\n",
       "<style scoped>\n",
       "    .dataframe tbody tr th:only-of-type {\n",
       "        vertical-align: middle;\n",
       "    }\n",
       "\n",
       "    .dataframe tbody tr th {\n",
       "        vertical-align: top;\n",
       "    }\n",
       "\n",
       "    .dataframe thead th {\n",
       "        text-align: right;\n",
       "    }\n",
       "</style>\n",
       "<table border=\"1\" class=\"dataframe\">\n",
       "  <thead>\n",
       "    <tr style=\"text-align: right;\">\n",
       "      <th></th>\n",
       "      <th>region_name</th>\n",
       "      <th>city_name</th>\n",
       "      <th>cpe_manufacturer_name</th>\n",
       "      <th>cpe_model_name</th>\n",
       "      <th>url_host</th>\n",
       "      <th>cpe_type_cd</th>\n",
       "      <th>cpe_model_os_type</th>\n",
       "      <th>price</th>\n",
       "      <th>date</th>\n",
       "      <th>part_of_day</th>\n",
       "      <th>request_cnt</th>\n",
       "      <th>user_id</th>\n",
       "      <th>pos</th>\n",
       "    </tr>\n",
       "  </thead>\n",
       "  <tbody>\n",
       "    <tr>\n",
       "      <th>0</th>\n",
       "      <td>29</td>\n",
       "      <td>531</td>\n",
       "      <td>28</td>\n",
       "      <td>156</td>\n",
       "      <td>117490</td>\n",
       "      <td>3</td>\n",
       "      <td>1</td>\n",
       "      <td>4</td>\n",
       "      <td>2021-06-16 02:00:00</td>\n",
       "      <td>2</td>\n",
       "      <td>0.083</td>\n",
       "      <td>0</td>\n",
       "      <td>130</td>\n",
       "    </tr>\n",
       "    <tr>\n",
       "      <th>1</th>\n",
       "      <td>29</td>\n",
       "      <td>531</td>\n",
       "      <td>28</td>\n",
       "      <td>156</td>\n",
       "      <td>111474</td>\n",
       "      <td>3</td>\n",
       "      <td>1</td>\n",
       "      <td>4</td>\n",
       "      <td>2021-06-16 02:00:00</td>\n",
       "      <td>2</td>\n",
       "      <td>0.083</td>\n",
       "      <td>0</td>\n",
       "      <td>129</td>\n",
       "    </tr>\n",
       "  </tbody>\n",
       "</table>\n",
       "</div>"
      ],
      "text/plain": [
       "   region_name  city_name  cpe_manufacturer_name  cpe_model_name  url_host  \\\n",
       "0           29        531                     28             156    117490   \n",
       "1           29        531                     28             156    111474   \n",
       "\n",
       "   cpe_type_cd  cpe_model_os_type  price                date  part_of_day  \\\n",
       "0            3                  1      4 2021-06-16 02:00:00            2   \n",
       "1            3                  1      4 2021-06-16 02:00:00            2   \n",
       "\n",
       "   request_cnt  user_id  pos  \n",
       "0        0.083        0  130  \n",
       "1        0.083        0  129  "
      ]
     },
     "execution_count": 6,
     "metadata": {},
     "output_type": "execute_result"
    }
   ],
   "source": [
    "# должны быть отсортированы\n",
    "# Number each item in each group from 0 to the length of that group - 1.\n",
    "X_train_val['pos'] = X_train_val.groupby('user_id').cumcount(ascending=False).astype(np.int16)\n",
    "X_train_val[:2]"
   ]
  },
  {
   "cell_type": "code",
   "execution_count": 7,
   "metadata": {},
   "outputs": [
    {
     "data": {
      "text/plain": [
       "(210730732, 13)"
      ]
     },
     "execution_count": 7,
     "metadata": {},
     "output_type": "execute_result"
    }
   ],
   "source": [
    "X_train_val.shape"
   ]
  },
  {
   "cell_type": "code",
   "execution_count": 8,
   "metadata": {},
   "outputs": [
    {
     "data": {
      "text/plain": [
       "(206741456, 13)"
      ]
     },
     "execution_count": 8,
     "metadata": {},
     "output_type": "execute_result"
    }
   ],
   "source": [
    "X_train_val = X_train_val.loc[X_train_val['pos']<5000].sort_values(['user_id','date'])\n",
    "X_train_val.shape"
   ]
  },
  {
   "cell_type": "code",
   "execution_count": 9,
   "metadata": {},
   "outputs": [],
   "source": [
    "X_train_val.to_parquet('out/pre/X_train_val_1.pq', index=False)"
   ]
  },
  {
   "cell_type": "code",
   "execution_count": 10,
   "metadata": {},
   "outputs": [
    {
     "data": {
      "text/plain": [
       "0"
      ]
     },
     "execution_count": 10,
     "metadata": {},
     "output_type": "execute_result"
    }
   ],
   "source": [
    "del X_train_val\n",
    "gc.collect()"
   ]
  },
  {
   "attachments": {},
   "cell_type": "markdown",
   "metadata": {},
   "source": [
    "TEST"
   ]
  },
  {
   "cell_type": "code",
   "execution_count": 11,
   "metadata": {},
   "outputs": [],
   "source": [
    "df = pd.read_parquet('out/pre/df_all_4.pq')"
   ]
  },
  {
   "cell_type": "code",
   "execution_count": 14,
   "metadata": {},
   "outputs": [
    {
     "data": {
      "text/html": [
       "<div>\n",
       "<style scoped>\n",
       "    .dataframe tbody tr th:only-of-type {\n",
       "        vertical-align: middle;\n",
       "    }\n",
       "\n",
       "    .dataframe tbody tr th {\n",
       "        vertical-align: top;\n",
       "    }\n",
       "\n",
       "    .dataframe thead th {\n",
       "        text-align: right;\n",
       "    }\n",
       "</style>\n",
       "<table border=\"1\" class=\"dataframe\">\n",
       "  <thead>\n",
       "    <tr style=\"text-align: right;\">\n",
       "      <th></th>\n",
       "      <th>user_id</th>\n",
       "    </tr>\n",
       "  </thead>\n",
       "  <tbody>\n",
       "    <tr>\n",
       "      <th>0</th>\n",
       "      <td>221301</td>\n",
       "    </tr>\n",
       "    <tr>\n",
       "      <th>1</th>\n",
       "      <td>31271</td>\n",
       "    </tr>\n",
       "    <tr>\n",
       "      <th>2</th>\n",
       "      <td>211594</td>\n",
       "    </tr>\n",
       "    <tr>\n",
       "      <th>3</th>\n",
       "      <td>253119</td>\n",
       "    </tr>\n",
       "    <tr>\n",
       "      <th>4</th>\n",
       "      <td>192578</td>\n",
       "    </tr>\n",
       "    <tr>\n",
       "      <th>...</th>\n",
       "      <td>...</td>\n",
       "    </tr>\n",
       "    <tr>\n",
       "      <th>144719</th>\n",
       "      <td>415284</td>\n",
       "    </tr>\n",
       "    <tr>\n",
       "      <th>144720</th>\n",
       "      <td>415285</td>\n",
       "    </tr>\n",
       "    <tr>\n",
       "      <th>144721</th>\n",
       "      <td>415286</td>\n",
       "    </tr>\n",
       "    <tr>\n",
       "      <th>144722</th>\n",
       "      <td>415306</td>\n",
       "    </tr>\n",
       "    <tr>\n",
       "      <th>144723</th>\n",
       "      <td>415315</td>\n",
       "    </tr>\n",
       "  </tbody>\n",
       "</table>\n",
       "<p>144724 rows × 1 columns</p>\n",
       "</div>"
      ],
      "text/plain": [
       "        user_id\n",
       "0        221301\n",
       "1         31271\n",
       "2        211594\n",
       "3        253119\n",
       "4        192578\n",
       "...         ...\n",
       "144719   415284\n",
       "144720   415285\n",
       "144721   415286\n",
       "144722   415306\n",
       "144723   415315\n",
       "\n",
       "[144724 rows x 1 columns]"
      ]
     },
     "execution_count": 14,
     "metadata": {},
     "output_type": "execute_result"
    }
   ],
   "source": [
    "test = pd.read_parquet('data/submit_2.pqt').reset_index(drop=True)\n",
    "test"
   ]
  },
  {
   "cell_type": "code",
   "execution_count": 15,
   "metadata": {},
   "outputs": [
    {
     "data": {
      "text/plain": [
       "(111734107, 12)"
      ]
     },
     "execution_count": 15,
     "metadata": {},
     "output_type": "execute_result"
    }
   ],
   "source": [
    "X_test = df.loc[df['user_id'].isin(test['user_id'])]\n",
    "gc.collect()\n",
    "X_test.shape"
   ]
  },
  {
   "cell_type": "code",
   "execution_count": 16,
   "metadata": {},
   "outputs": [
    {
     "data": {
      "text/plain": [
       "0"
      ]
     },
     "execution_count": 16,
     "metadata": {},
     "output_type": "execute_result"
    }
   ],
   "source": [
    "del df\n",
    "gc.collect()"
   ]
  },
  {
   "attachments": {},
   "cell_type": "markdown",
   "metadata": {},
   "source": [
    "Оставляем максимум 5000 элементов в последовательностях"
   ]
  },
  {
   "cell_type": "code",
   "execution_count": 17,
   "metadata": {},
   "outputs": [
    {
     "name": "stdout",
     "output_type": "stream",
     "text": [
      "(111734107, 13)\n",
      "(109567390, 13)\n"
     ]
    },
    {
     "data": {
      "text/html": [
       "<div>\n",
       "<style scoped>\n",
       "    .dataframe tbody tr th:only-of-type {\n",
       "        vertical-align: middle;\n",
       "    }\n",
       "\n",
       "    .dataframe tbody tr th {\n",
       "        vertical-align: top;\n",
       "    }\n",
       "\n",
       "    .dataframe thead th {\n",
       "        text-align: right;\n",
       "    }\n",
       "</style>\n",
       "<table border=\"1\" class=\"dataframe\">\n",
       "  <thead>\n",
       "    <tr style=\"text-align: right;\">\n",
       "      <th></th>\n",
       "      <th>region_name</th>\n",
       "      <th>city_name</th>\n",
       "      <th>cpe_manufacturer_name</th>\n",
       "      <th>cpe_model_name</th>\n",
       "      <th>url_host</th>\n",
       "      <th>cpe_type_cd</th>\n",
       "      <th>cpe_model_os_type</th>\n",
       "      <th>price</th>\n",
       "      <th>date</th>\n",
       "      <th>part_of_day</th>\n",
       "      <th>request_cnt</th>\n",
       "      <th>user_id</th>\n",
       "      <th>pos</th>\n",
       "    </tr>\n",
       "  </thead>\n",
       "  <tbody>\n",
       "    <tr>\n",
       "      <th>4485</th>\n",
       "      <td>30</td>\n",
       "      <td>239</td>\n",
       "      <td>14</td>\n",
       "      <td>274</td>\n",
       "      <td>59367</td>\n",
       "      <td>3</td>\n",
       "      <td>1</td>\n",
       "      <td>4</td>\n",
       "      <td>2021-06-16 01:00:00</td>\n",
       "      <td>1</td>\n",
       "      <td>0.167</td>\n",
       "      <td>6</td>\n",
       "      <td>455</td>\n",
       "    </tr>\n",
       "    <tr>\n",
       "      <th>4486</th>\n",
       "      <td>30</td>\n",
       "      <td>239</td>\n",
       "      <td>14</td>\n",
       "      <td>274</td>\n",
       "      <td>160868</td>\n",
       "      <td>3</td>\n",
       "      <td>1</td>\n",
       "      <td>4</td>\n",
       "      <td>2021-06-16 01:00:00</td>\n",
       "      <td>1</td>\n",
       "      <td>0.250</td>\n",
       "      <td>6</td>\n",
       "      <td>454</td>\n",
       "    </tr>\n",
       "  </tbody>\n",
       "</table>\n",
       "</div>"
      ],
      "text/plain": [
       "      region_name  city_name  cpe_manufacturer_name  cpe_model_name  url_host  \\\n",
       "4485           30        239                     14             274     59367   \n",
       "4486           30        239                     14             274    160868   \n",
       "\n",
       "      cpe_type_cd  cpe_model_os_type  price                date  part_of_day  \\\n",
       "4485            3                  1      4 2021-06-16 01:00:00            1   \n",
       "4486            3                  1      4 2021-06-16 01:00:00            1   \n",
       "\n",
       "      request_cnt  user_id  pos  \n",
       "4485        0.167        6  455  \n",
       "4486        0.250        6  454  "
      ]
     },
     "execution_count": 17,
     "metadata": {},
     "output_type": "execute_result"
    }
   ],
   "source": [
    "# должны быть отсортированы\n",
    "# Number each item in each group from 0 to the length of that group - 1.\n",
    "X_test['pos'] = X_test.groupby('user_id').cumcount(ascending=False).astype(np.int16)\n",
    "p(X_test.shape)\n",
    "X_test = X_test.loc[X_test['pos']<5000].sort_values(['user_id','date'])\n",
    "p(X_test.shape)\n",
    "X_test[:2]"
   ]
  },
  {
   "cell_type": "code",
   "execution_count": 18,
   "metadata": {},
   "outputs": [],
   "source": [
    "X_test.to_parquet('out/pre/X_test_1.pq', index=False)"
   ]
  },
  {
   "cell_type": "code",
   "execution_count": 19,
   "metadata": {},
   "outputs": [
    {
     "data": {
      "text/plain": [
       "0"
      ]
     },
     "execution_count": 19,
     "metadata": {},
     "output_type": "execute_result"
    }
   ],
   "source": [
    "del X_test\n",
    "gc.collect()"
   ]
  },
  {
   "cell_type": "code",
   "execution_count": 17,
   "metadata": {},
   "outputs": [
    {
     "data": {
      "text/plain": [
       "1     201324004\n",
       "2      64345547\n",
       "3      26781698\n",
       "4      14887615\n",
       "5       8360497\n",
       "6       6665296\n",
       "8        266005\n",
       "10       156054\n",
       "12       111868\n",
       "7           788\n",
       "9            29\n",
       "11           17\n",
       "14           14\n",
       "16            2\n",
       "13            1\n",
       "Name: request_cnt, dtype: int64"
      ]
     },
     "execution_count": 17,
     "metadata": {},
     "output_type": "execute_result"
    }
   ],
   "source": [
    "# df['request_cnt'].value_counts()"
   ]
  },
  {
   "cell_type": "code",
   "execution_count": 14,
   "metadata": {},
   "outputs": [
    {
     "data": {
      "text/plain": [
       "0   0 days 01:00:00\n",
       "1   0 days 01:00:00\n",
       "2   0 days 02:00:00\n",
       "3   0 days 02:00:00\n",
       "4   0 days 02:00:00\n",
       "Name: part_of_day, dtype: timedelta64[ns]"
      ]
     },
     "execution_count": 14,
     "metadata": {},
     "output_type": "execute_result"
    }
   ],
   "source": [
    "# pd.to_timedelta(df['part_of_day'].iloc[:5],unit='hour')"
   ]
  },
  {
   "cell_type": "code",
   "execution_count": 15,
   "metadata": {},
   "outputs": [
    {
     "data": {
      "text/plain": [
       "0   2022-06-15 01:00:00\n",
       "1   2022-06-19 01:00:00\n",
       "2   2022-06-12 02:00:00\n",
       "3   2022-05-16 02:00:00\n",
       "4   2022-05-30 02:00:00\n",
       "dtype: datetime64[ns]"
      ]
     },
     "execution_count": 15,
     "metadata": {},
     "output_type": "execute_result"
    }
   ],
   "source": [
    "# df['date'].iloc[:5] + pd.to_timedelta(df['part_of_day'].iloc[:5],unit='hour')"
   ]
  },
  {
   "attachments": {},
   "cell_type": "markdown",
   "metadata": {},
   "source": [
    "Наполняем вспомогательный датафрейм для таргетов"
   ]
  },
  {
   "cell_type": "code",
   "execution_count": 2,
   "metadata": {},
   "outputs": [
    {
     "data": {
      "text/html": [
       "<div>\n",
       "<style scoped>\n",
       "    .dataframe tbody tr th:only-of-type {\n",
       "        vertical-align: middle;\n",
       "    }\n",
       "\n",
       "    .dataframe tbody tr th {\n",
       "        vertical-align: top;\n",
       "    }\n",
       "\n",
       "    .dataframe thead th {\n",
       "        text-align: right;\n",
       "    }\n",
       "</style>\n",
       "<table border=\"1\" class=\"dataframe\">\n",
       "  <thead>\n",
       "    <tr style=\"text-align: right;\">\n",
       "      <th></th>\n",
       "      <th>age</th>\n",
       "      <th>is_male</th>\n",
       "      <th>user_id</th>\n",
       "    </tr>\n",
       "  </thead>\n",
       "  <tbody>\n",
       "    <tr>\n",
       "      <th>0</th>\n",
       "      <td>31.000</td>\n",
       "      <td>1</td>\n",
       "      <td>350459</td>\n",
       "    </tr>\n",
       "    <tr>\n",
       "      <th>1</th>\n",
       "      <td>35.000</td>\n",
       "      <td>1</td>\n",
       "      <td>188276</td>\n",
       "    </tr>\n",
       "    <tr>\n",
       "      <th>2</th>\n",
       "      <td>41.000</td>\n",
       "      <td>0</td>\n",
       "      <td>99002</td>\n",
       "    </tr>\n",
       "    <tr>\n",
       "      <th>3</th>\n",
       "      <td>33.000</td>\n",
       "      <td>0</td>\n",
       "      <td>155506</td>\n",
       "    </tr>\n",
       "    <tr>\n",
       "      <th>4</th>\n",
       "      <td>54.000</td>\n",
       "      <td>0</td>\n",
       "      <td>213873</td>\n",
       "    </tr>\n",
       "    <tr>\n",
       "      <th>...</th>\n",
       "      <td>...</td>\n",
       "      <td>...</td>\n",
       "      <td>...</td>\n",
       "    </tr>\n",
       "    <tr>\n",
       "      <th>269995</th>\n",
       "      <td>49.000</td>\n",
       "      <td>1</td>\n",
       "      <td>225374</td>\n",
       "    </tr>\n",
       "    <tr>\n",
       "      <th>269996</th>\n",
       "      <td>22.000</td>\n",
       "      <td>1</td>\n",
       "      <td>25776</td>\n",
       "    </tr>\n",
       "    <tr>\n",
       "      <th>269997</th>\n",
       "      <td>28.000</td>\n",
       "      <td>0</td>\n",
       "      <td>148131</td>\n",
       "    </tr>\n",
       "    <tr>\n",
       "      <th>269998</th>\n",
       "      <td>28.000</td>\n",
       "      <td>1</td>\n",
       "      <td>205570</td>\n",
       "    </tr>\n",
       "    <tr>\n",
       "      <th>269999</th>\n",
       "      <td>68.000</td>\n",
       "      <td>1</td>\n",
       "      <td>103148</td>\n",
       "    </tr>\n",
       "  </tbody>\n",
       "</table>\n",
       "<p>270000 rows × 3 columns</p>\n",
       "</div>"
      ],
      "text/plain": [
       "          age is_male  user_id\n",
       "0      31.000       1   350459\n",
       "1      35.000       1   188276\n",
       "2      41.000       0    99002\n",
       "3      33.000       0   155506\n",
       "4      54.000       0   213873\n",
       "...       ...     ...      ...\n",
       "269995 49.000       1   225374\n",
       "269996 22.000       1    25776\n",
       "269997 28.000       0   148131\n",
       "269998 28.000       1   205570\n",
       "269999 68.000       1   103148\n",
       "\n",
       "[270000 rows x 3 columns]"
      ]
     },
     "execution_count": 2,
     "metadata": {},
     "output_type": "execute_result"
    }
   ],
   "source": [
    "train = pd.read_parquet('data/public_train.pqt').reset_index(drop=True)\n",
    "train"
   ]
  },
  {
   "cell_type": "code",
   "execution_count": 3,
   "metadata": {},
   "outputs": [
    {
     "data": {
      "text/plain": [
       "age        float64\n",
       "is_male     object\n",
       "user_id      int64\n",
       "dtype: object"
      ]
     },
     "execution_count": 3,
     "metadata": {},
     "output_type": "execute_result"
    }
   ],
   "source": [
    "train.dtypes"
   ]
  },
  {
   "cell_type": "code",
   "execution_count": 4,
   "metadata": {},
   "outputs": [
    {
     "data": {
      "text/plain": [
       "1       135332\n",
       "0       128994\n",
       "NA        5632\n",
       "None        42\n",
       "Name: is_male, dtype: int64"
      ]
     },
     "execution_count": 4,
     "metadata": {},
     "output_type": "execute_result"
    }
   ],
   "source": [
    "train['is_male'].value_counts(dropna=False)"
   ]
  },
  {
   "cell_type": "code",
   "execution_count": 5,
   "metadata": {},
   "outputs": [
    {
     "data": {
      "text/plain": [
       "34.000    10004\n",
       "33.000     9948\n",
       "35.000     9456\n",
       "36.000     9401\n",
       "37.000     9341\n",
       "38.000     9106\n",
       "32.000     9080\n",
       "31.000     8979\n",
       "30.000     8591\n",
       "39.000     8481\n",
       "29.000     8295\n",
       "40.000     8228\n",
       "41.000     7910\n",
       "26.000     7799\n",
       "28.000     7607\n",
       "42.000     7571\n",
       "27.000     7511\n",
       "43.000     7488\n",
       "25.000     7398\n",
       "24.000     7133\n",
       "44.000     7083\n",
       "23.000     6787\n",
       "22.000     5398\n",
       "49.000     5180\n",
       "48.000     4969\n",
       "50.000     4841\n",
       "51.000     4613\n",
       "47.000     4549\n",
       "52.000     4170\n",
       "53.000     3888\n",
       "54.000     3611\n",
       "46.000     3385\n",
       "55.000     3236\n",
       "56.000     3128\n",
       "57.000     3001\n",
       "21.000     2995\n",
       "58.000     2909\n",
       "45.000     2877\n",
       "59.000     2816\n",
       "60.000     2574\n",
       "61.000     2355\n",
       "62.000     2048\n",
       "63.000     1848\n",
       "20.000     1553\n",
       "64.000     1505\n",
       "65.000     1396\n",
       "19.000     1377\n",
       "66.000     1207\n",
       "67.000      998\n",
       "68.000      829\n",
       "69.000      751\n",
       "18.000      726\n",
       "70.000      598\n",
       "71.000      428\n",
       "72.000      269\n",
       "16.000      130\n",
       "17.000      125\n",
       "74.000      101\n",
       "73.000       92\n",
       "15.000       53\n",
       "75.000       43\n",
       "76.000       37\n",
       "77.000       29\n",
       "0.000        29\n",
       "81.000       23\n",
       "80.000       21\n",
       "79.000       18\n",
       "82.000       17\n",
       "14.000       14\n",
       "78.000       12\n",
       "85.000       11\n",
       "84.000        9\n",
       "83.000        5\n",
       "91.000        3\n",
       "86.000        1\n",
       "NaN           1\n",
       "88.000        1\n",
       "Name: age, dtype: int64"
      ]
     },
     "execution_count": 5,
     "metadata": {},
     "output_type": "execute_result"
    }
   ],
   "source": [
    "train['age'].value_counts(dropna=False)"
   ]
  },
  {
   "cell_type": "code",
   "execution_count": 6,
   "metadata": {},
   "outputs": [
    {
     "name": "stdout",
     "output_type": "stream",
     "text": [
      "(270000, 4)\n"
     ]
    },
    {
     "data": {
      "text/html": [
       "<div>\n",
       "<style scoped>\n",
       "    .dataframe tbody tr th:only-of-type {\n",
       "        vertical-align: middle;\n",
       "    }\n",
       "\n",
       "    .dataframe tbody tr th {\n",
       "        vertical-align: top;\n",
       "    }\n",
       "\n",
       "    .dataframe thead th {\n",
       "        text-align: right;\n",
       "    }\n",
       "</style>\n",
       "<table border=\"1\" class=\"dataframe\">\n",
       "  <thead>\n",
       "    <tr style=\"text-align: right;\">\n",
       "      <th></th>\n",
       "      <th>target_age</th>\n",
       "      <th>target_is_male</th>\n",
       "      <th>user_id</th>\n",
       "      <th>old_age</th>\n",
       "    </tr>\n",
       "  </thead>\n",
       "  <tbody>\n",
       "    <tr>\n",
       "      <th>0</th>\n",
       "      <td>1</td>\n",
       "      <td>1</td>\n",
       "      <td>350459</td>\n",
       "      <td>31</td>\n",
       "    </tr>\n",
       "    <tr>\n",
       "      <th>1</th>\n",
       "      <td>1</td>\n",
       "      <td>1</td>\n",
       "      <td>188276</td>\n",
       "      <td>35</td>\n",
       "    </tr>\n",
       "    <tr>\n",
       "      <th>2</th>\n",
       "      <td>2</td>\n",
       "      <td>0</td>\n",
       "      <td>99002</td>\n",
       "      <td>41</td>\n",
       "    </tr>\n",
       "    <tr>\n",
       "      <th>3</th>\n",
       "      <td>1</td>\n",
       "      <td>0</td>\n",
       "      <td>155506</td>\n",
       "      <td>33</td>\n",
       "    </tr>\n",
       "    <tr>\n",
       "      <th>4</th>\n",
       "      <td>3</td>\n",
       "      <td>0</td>\n",
       "      <td>213873</td>\n",
       "      <td>54</td>\n",
       "    </tr>\n",
       "  </tbody>\n",
       "</table>\n",
       "</div>"
      ],
      "text/plain": [
       "   target_age  target_is_male  user_id  old_age\n",
       "0           1               1   350459       31\n",
       "1           1               1   188276       35\n",
       "2           2               0    99002       41\n",
       "3           1               0   155506       33\n",
       "4           3               0   213873       54"
      ]
     },
     "execution_count": 6,
     "metadata": {},
     "output_type": "execute_result"
    }
   ],
   "source": [
    "train = pd.read_parquet('data/public_train.pqt').reset_index(drop=True)\n",
    "train['old_age'] = train['age'].fillna(-1).astype(np.int8)\n",
    "train['is_male'] = train['is_male'].replace('NA',np.nan).astype(np.float32).fillna(-1).astype(np.int8)       \n",
    "\n",
    "train['age'] = train['old_age'].apply(my.cat_age).astype(np.int8)\n",
    "p(train.shape)\n",
    "train.columns = ['target_age','target_is_male','user_id','old_age']\n",
    "train[:5]"
   ]
  },
  {
   "cell_type": "code",
   "execution_count": 7,
   "metadata": {},
   "outputs": [
    {
     "data": {
      "text/plain": [
       "(1, 5674)"
      ]
     },
     "execution_count": 7,
     "metadata": {},
     "output_type": "execute_result"
    }
   ],
   "source": [
    "(train['target_age'] == -1).sum(), (train['target_is_male'] == -1).sum()"
   ]
  },
  {
   "cell_type": "code",
   "execution_count": 8,
   "metadata": {},
   "outputs": [
    {
     "data": {
      "text/plain": [
       "target_age         int8\n",
       "target_is_male     int8\n",
       "user_id           int64\n",
       "old_age            int8\n",
       "dtype: object"
      ]
     },
     "execution_count": 8,
     "metadata": {},
     "output_type": "execute_result"
    }
   ],
   "source": [
    "train.dtypes"
   ]
  },
  {
   "cell_type": "code",
   "execution_count": 9,
   "metadata": {},
   "outputs": [
    {
     "data": {
      "text/plain": [
       "target_age        0\n",
       "target_is_male    0\n",
       "user_id           0\n",
       "old_age           0\n",
       "dtype: int64"
      ]
     },
     "execution_count": 9,
     "metadata": {},
     "output_type": "execute_result"
    }
   ],
   "source": [
    "train.isna().sum()"
   ]
  },
  {
   "cell_type": "code",
   "execution_count": 10,
   "metadata": {},
   "outputs": [
    {
     "name": "stdout",
     "output_type": "stream",
     "text": [
      "(206741456, 13)\n"
     ]
    },
    {
     "data": {
      "text/html": [
       "<div>\n",
       "<style scoped>\n",
       "    .dataframe tbody tr th:only-of-type {\n",
       "        vertical-align: middle;\n",
       "    }\n",
       "\n",
       "    .dataframe tbody tr th {\n",
       "        vertical-align: top;\n",
       "    }\n",
       "\n",
       "    .dataframe thead th {\n",
       "        text-align: right;\n",
       "    }\n",
       "</style>\n",
       "<table border=\"1\" class=\"dataframe\">\n",
       "  <thead>\n",
       "    <tr style=\"text-align: right;\">\n",
       "      <th></th>\n",
       "      <th>region_name</th>\n",
       "      <th>city_name</th>\n",
       "      <th>cpe_manufacturer_name</th>\n",
       "      <th>cpe_model_name</th>\n",
       "      <th>url_host</th>\n",
       "      <th>cpe_type_cd</th>\n",
       "      <th>cpe_model_os_type</th>\n",
       "      <th>price</th>\n",
       "      <th>date</th>\n",
       "      <th>part_of_day</th>\n",
       "      <th>request_cnt</th>\n",
       "      <th>user_id</th>\n",
       "      <th>pos</th>\n",
       "    </tr>\n",
       "  </thead>\n",
       "  <tbody>\n",
       "    <tr>\n",
       "      <th>0</th>\n",
       "      <td>29</td>\n",
       "      <td>531</td>\n",
       "      <td>28</td>\n",
       "      <td>156</td>\n",
       "      <td>117490</td>\n",
       "      <td>3</td>\n",
       "      <td>1</td>\n",
       "      <td>4</td>\n",
       "      <td>2021-06-16 02:00:00</td>\n",
       "      <td>2</td>\n",
       "      <td>0.083</td>\n",
       "      <td>0</td>\n",
       "      <td>130</td>\n",
       "    </tr>\n",
       "    <tr>\n",
       "      <th>1</th>\n",
       "      <td>29</td>\n",
       "      <td>531</td>\n",
       "      <td>28</td>\n",
       "      <td>156</td>\n",
       "      <td>111474</td>\n",
       "      <td>3</td>\n",
       "      <td>1</td>\n",
       "      <td>4</td>\n",
       "      <td>2021-06-16 02:00:00</td>\n",
       "      <td>2</td>\n",
       "      <td>0.083</td>\n",
       "      <td>0</td>\n",
       "      <td>129</td>\n",
       "    </tr>\n",
       "    <tr>\n",
       "      <th>2</th>\n",
       "      <td>29</td>\n",
       "      <td>531</td>\n",
       "      <td>28</td>\n",
       "      <td>156</td>\n",
       "      <td>59367</td>\n",
       "      <td>3</td>\n",
       "      <td>1</td>\n",
       "      <td>4</td>\n",
       "      <td>2021-06-16 03:00:00</td>\n",
       "      <td>3</td>\n",
       "      <td>0.083</td>\n",
       "      <td>0</td>\n",
       "      <td>128</td>\n",
       "    </tr>\n",
       "  </tbody>\n",
       "</table>\n",
       "</div>"
      ],
      "text/plain": [
       "   region_name  city_name  cpe_manufacturer_name  cpe_model_name  url_host  \\\n",
       "0           29        531                     28             156    117490   \n",
       "1           29        531                     28             156    111474   \n",
       "2           29        531                     28             156     59367   \n",
       "\n",
       "   cpe_type_cd  cpe_model_os_type  price                date  part_of_day  \\\n",
       "0            3                  1      4 2021-06-16 02:00:00            2   \n",
       "1            3                  1      4 2021-06-16 02:00:00            2   \n",
       "2            3                  1      4 2021-06-16 03:00:00            3   \n",
       "\n",
       "   request_cnt  user_id  pos  \n",
       "0        0.083        0  130  \n",
       "1        0.083        0  129  \n",
       "2        0.083        0  128  "
      ]
     },
     "execution_count": 10,
     "metadata": {},
     "output_type": "execute_result"
    }
   ],
   "source": [
    "X_train_val = pd.read_parquet('out/pre/X_train_val_1.pq')\n",
    "p(X_train_val.shape)\n",
    "X_train_val[:3]"
   ]
  },
  {
   "cell_type": "code",
   "execution_count": 11,
   "metadata": {},
   "outputs": [
    {
     "data": {
      "text/plain": [
       "341574    5000\n",
       "252426    5000\n",
       "56287     5000\n",
       "284198    5000\n",
       "363674    5000\n",
       "          ... \n",
       "149487       1\n",
       "149488       1\n",
       "151600       1\n",
       "151614       1\n",
       "415313       1\n",
       "Name: user_id, Length: 270000, dtype: int16"
      ]
     },
     "execution_count": 11,
     "metadata": {},
     "output_type": "execute_result"
    }
   ],
   "source": [
    "user_lens = X_train_val['user_id'].value_counts().astype(np.int16)\n",
    "user_lens"
   ]
  },
  {
   "cell_type": "code",
   "execution_count": 12,
   "metadata": {},
   "outputs": [
    {
     "data": {
      "text/plain": [
       "user_id\n",
       "0         4\n",
       "1         8\n",
       "2         5\n",
       "3         5\n",
       "4         8\n",
       "         ..\n",
       "415308    4\n",
       "415309    6\n",
       "415311    4\n",
       "415312    4\n",
       "415313    4\n",
       "Name: price, Length: 270000, dtype: int16"
      ]
     },
     "execution_count": 12,
     "metadata": {},
     "output_type": "execute_result"
    }
   ],
   "source": [
    "tel_prices = X_train_val.groupby('user_id')['price'].max().astype(np.int16)\n",
    "tel_prices"
   ]
  },
  {
   "cell_type": "code",
   "execution_count": 14,
   "metadata": {},
   "outputs": [
    {
     "data": {
      "text/html": [
       "<div>\n",
       "<style scoped>\n",
       "    .dataframe tbody tr th:only-of-type {\n",
       "        vertical-align: middle;\n",
       "    }\n",
       "\n",
       "    .dataframe tbody tr th {\n",
       "        vertical-align: top;\n",
       "    }\n",
       "\n",
       "    .dataframe thead th {\n",
       "        text-align: right;\n",
       "    }\n",
       "</style>\n",
       "<table border=\"1\" class=\"dataframe\">\n",
       "  <thead>\n",
       "    <tr style=\"text-align: right;\">\n",
       "      <th></th>\n",
       "      <th>target_age</th>\n",
       "      <th>target_is_male</th>\n",
       "      <th>user_id</th>\n",
       "      <th>old_age</th>\n",
       "      <th>user_len</th>\n",
       "      <th>tel_price</th>\n",
       "    </tr>\n",
       "  </thead>\n",
       "  <tbody>\n",
       "    <tr>\n",
       "      <th>0</th>\n",
       "      <td>1</td>\n",
       "      <td>1</td>\n",
       "      <td>350459</td>\n",
       "      <td>31</td>\n",
       "      <td>178</td>\n",
       "      <td>5</td>\n",
       "    </tr>\n",
       "    <tr>\n",
       "      <th>1</th>\n",
       "      <td>1</td>\n",
       "      <td>1</td>\n",
       "      <td>188276</td>\n",
       "      <td>35</td>\n",
       "      <td>111</td>\n",
       "      <td>7</td>\n",
       "    </tr>\n",
       "    <tr>\n",
       "      <th>2</th>\n",
       "      <td>2</td>\n",
       "      <td>0</td>\n",
       "      <td>99002</td>\n",
       "      <td>41</td>\n",
       "      <td>639</td>\n",
       "      <td>6</td>\n",
       "    </tr>\n",
       "  </tbody>\n",
       "</table>\n",
       "</div>"
      ],
      "text/plain": [
       "   target_age  target_is_male  user_id  old_age  user_len  tel_price\n",
       "0           1               1   350459       31       178          5\n",
       "1           1               1   188276       35       111          7\n",
       "2           2               0    99002       41       639          6"
      ]
     },
     "execution_count": 14,
     "metadata": {},
     "output_type": "execute_result"
    }
   ],
   "source": [
    "train['user_len'] = user_lens.reindex(train['user_id']).reset_index(drop=True)\n",
    "train['tel_price'] = tel_prices.reindex(train['user_id']).reset_index(drop=True)\n",
    "train[:3]"
   ]
  },
  {
   "cell_type": "code",
   "execution_count": 16,
   "metadata": {},
   "outputs": [
    {
     "data": {
      "text/html": [
       "<div>\n",
       "<style scoped>\n",
       "    .dataframe tbody tr th:only-of-type {\n",
       "        vertical-align: middle;\n",
       "    }\n",
       "\n",
       "    .dataframe tbody tr th {\n",
       "        vertical-align: top;\n",
       "    }\n",
       "\n",
       "    .dataframe thead th {\n",
       "        text-align: right;\n",
       "    }\n",
       "</style>\n",
       "<table border=\"1\" class=\"dataframe\">\n",
       "  <thead>\n",
       "    <tr style=\"text-align: right;\">\n",
       "      <th></th>\n",
       "      <th>target_age</th>\n",
       "      <th>target_is_male</th>\n",
       "      <th>user_id</th>\n",
       "      <th>old_age</th>\n",
       "      <th>user_len</th>\n",
       "      <th>tel_price</th>\n",
       "      <th>user_len_bin</th>\n",
       "    </tr>\n",
       "  </thead>\n",
       "  <tbody>\n",
       "    <tr>\n",
       "      <th>0</th>\n",
       "      <td>1</td>\n",
       "      <td>1</td>\n",
       "      <td>350459</td>\n",
       "      <td>31</td>\n",
       "      <td>178</td>\n",
       "      <td>5</td>\n",
       "      <td>5</td>\n",
       "    </tr>\n",
       "    <tr>\n",
       "      <th>1</th>\n",
       "      <td>1</td>\n",
       "      <td>1</td>\n",
       "      <td>188276</td>\n",
       "      <td>35</td>\n",
       "      <td>111</td>\n",
       "      <td>7</td>\n",
       "      <td>5</td>\n",
       "    </tr>\n",
       "    <tr>\n",
       "      <th>2</th>\n",
       "      <td>2</td>\n",
       "      <td>0</td>\n",
       "      <td>99002</td>\n",
       "      <td>41</td>\n",
       "      <td>639</td>\n",
       "      <td>6</td>\n",
       "      <td>7</td>\n",
       "    </tr>\n",
       "  </tbody>\n",
       "</table>\n",
       "</div>"
      ],
      "text/plain": [
       "   target_age  target_is_male  user_id  old_age  user_len  tel_price  \\\n",
       "0           1               1   350459       31       178          5   \n",
       "1           1               1   188276       35       111          7   \n",
       "2           2               0    99002       41       639          6   \n",
       "\n",
       "   user_len_bin  \n",
       "0             5  \n",
       "1             5  \n",
       "2             7  "
      ]
     },
     "execution_count": 16,
     "metadata": {},
     "output_type": "execute_result"
    }
   ],
   "source": [
    "lens_bins = [-np.inf, 10,20,50,100,200,500,1000,2500,5000,10000,np.inf]\n",
    "lens_labels = list(range(1,len(lens_bins)))\n",
    "train['user_len_bin'] = pd.cut(train['user_len'],bins=lens_bins, labels=lens_labels).astype(np.int8)\n",
    "train[:3]"
   ]
  },
  {
   "cell_type": "code",
   "execution_count": 17,
   "metadata": {},
   "outputs": [
    {
     "data": {
      "text/plain": [
       " 1    135332\n",
       " 0    128994\n",
       "-1      5674\n",
       "Name: target_is_male, dtype: int64"
      ]
     },
     "execution_count": 17,
     "metadata": {},
     "output_type": "execute_result"
    }
   ],
   "source": [
    "train['target_is_male'].value_counts()"
   ]
  },
  {
   "cell_type": "code",
   "execution_count": 18,
   "metadata": {},
   "outputs": [
    {
     "data": {
      "text/plain": [
       " 1    87270\n",
       " 2    77486\n",
       " 3    42442\n",
       " 0    33718\n",
       " 4    23580\n",
       " 5     5503\n",
       "-1        1\n",
       "Name: target_age, dtype: int64"
      ]
     },
     "execution_count": 18,
     "metadata": {},
     "output_type": "execute_result"
    }
   ],
   "source": [
    "train['target_age'].value_counts()"
   ]
  },
  {
   "attachments": {},
   "cell_type": "markdown",
   "metadata": {},
   "source": [
    "Добавляем столбец для стратификации"
   ]
  },
  {
   "cell_type": "code",
   "execution_count": 19,
   "metadata": {},
   "outputs": [
    {
     "data": {
      "text/html": [
       "<div>\n",
       "<style scoped>\n",
       "    .dataframe tbody tr th:only-of-type {\n",
       "        vertical-align: middle;\n",
       "    }\n",
       "\n",
       "    .dataframe tbody tr th {\n",
       "        vertical-align: top;\n",
       "    }\n",
       "\n",
       "    .dataframe thead th {\n",
       "        text-align: right;\n",
       "    }\n",
       "</style>\n",
       "<table border=\"1\" class=\"dataframe\">\n",
       "  <thead>\n",
       "    <tr style=\"text-align: right;\">\n",
       "      <th></th>\n",
       "      <th>target_age</th>\n",
       "      <th>target_is_male</th>\n",
       "      <th>user_id</th>\n",
       "      <th>old_age</th>\n",
       "      <th>user_len</th>\n",
       "      <th>tel_price</th>\n",
       "      <th>user_len_bin</th>\n",
       "      <th>user_bin</th>\n",
       "    </tr>\n",
       "  </thead>\n",
       "  <tbody>\n",
       "    <tr>\n",
       "      <th>0</th>\n",
       "      <td>1</td>\n",
       "      <td>1</td>\n",
       "      <td>350459</td>\n",
       "      <td>31</td>\n",
       "      <td>178</td>\n",
       "      <td>5</td>\n",
       "      <td>5</td>\n",
       "      <td>50511</td>\n",
       "    </tr>\n",
       "    <tr>\n",
       "      <th>1</th>\n",
       "      <td>1</td>\n",
       "      <td>1</td>\n",
       "      <td>188276</td>\n",
       "      <td>35</td>\n",
       "      <td>111</td>\n",
       "      <td>7</td>\n",
       "      <td>5</td>\n",
       "      <td>50711</td>\n",
       "    </tr>\n",
       "    <tr>\n",
       "      <th>2</th>\n",
       "      <td>2</td>\n",
       "      <td>0</td>\n",
       "      <td>99002</td>\n",
       "      <td>41</td>\n",
       "      <td>639</td>\n",
       "      <td>6</td>\n",
       "      <td>7</td>\n",
       "      <td>70620</td>\n",
       "    </tr>\n",
       "  </tbody>\n",
       "</table>\n",
       "</div>"
      ],
      "text/plain": [
       "   target_age  target_is_male  user_id  old_age  user_len  tel_price  \\\n",
       "0           1               1   350459       31       178          5   \n",
       "1           1               1   188276       35       111          7   \n",
       "2           2               0    99002       41       639          6   \n",
       "\n",
       "   user_len_bin  user_bin  \n",
       "0             5     50511  \n",
       "1             5     50711  \n",
       "2             7     70620  "
      ]
     },
     "execution_count": 19,
     "metadata": {},
     "output_type": "execute_result"
    }
   ],
   "source": [
    "train['user_bin'] = train['target_is_male'].replace(-1,0).astype(np.int64) + 10*train['target_age'].replace(-1,1).astype(np.int64) + 100*train['tel_price'].astype(np.int64) + 10000 * train['user_len_bin'].astype(np.int64)\n",
    "train[:3]"
   ]
  },
  {
   "cell_type": "code",
   "execution_count": 22,
   "metadata": {},
   "outputs": [
    {
     "data": {
      "text/plain": [
       "(1183, RangeIndex(start=0, stop=270000, step=1))"
      ]
     },
     "execution_count": 22,
     "metadata": {},
     "output_type": "execute_result"
    }
   ],
   "source": [
    "train['user_bin'].nunique(), train.index"
   ]
  },
  {
   "cell_type": "code",
   "execution_count": 23,
   "metadata": {},
   "outputs": [
    {
     "name": "stdout",
     "output_type": "stream",
     "text": [
      "RangeIndex(start=0, stop=270000, step=1)\n"
     ]
    },
    {
     "data": {
      "text/plain": [
       "0          660\n",
       "1          568\n",
       "2         1390\n",
       "3          229\n",
       "4          448\n",
       "          ... \n",
       "269995     637\n",
       "269996      21\n",
       "269997    1612\n",
       "269998    1528\n",
       "269999      49\n",
       "Name: user_id, Length: 270000, dtype: int64"
      ]
     },
     "execution_count": 23,
     "metadata": {},
     "output_type": "execute_result"
    }
   ],
   "source": [
    "user_in_bins = train.groupby('user_bin')['user_id'].transform('count')\n",
    "p(user_in_bins.index)\n",
    "user_in_bins"
   ]
  },
  {
   "cell_type": "code",
   "execution_count": 24,
   "metadata": {},
   "outputs": [
    {
     "data": {
      "text/html": [
       "<div>\n",
       "<style scoped>\n",
       "    .dataframe tbody tr th:only-of-type {\n",
       "        vertical-align: middle;\n",
       "    }\n",
       "\n",
       "    .dataframe tbody tr th {\n",
       "        vertical-align: top;\n",
       "    }\n",
       "\n",
       "    .dataframe thead th {\n",
       "        text-align: right;\n",
       "    }\n",
       "</style>\n",
       "<table border=\"1\" class=\"dataframe\">\n",
       "  <thead>\n",
       "    <tr style=\"text-align: right;\">\n",
       "      <th></th>\n",
       "      <th>target_age</th>\n",
       "      <th>target_is_male</th>\n",
       "      <th>user_id</th>\n",
       "      <th>old_age</th>\n",
       "      <th>user_len</th>\n",
       "      <th>tel_price</th>\n",
       "      <th>user_len_bin</th>\n",
       "      <th>user_bin</th>\n",
       "    </tr>\n",
       "  </thead>\n",
       "  <tbody>\n",
       "    <tr>\n",
       "      <th>0</th>\n",
       "      <td>1</td>\n",
       "      <td>1</td>\n",
       "      <td>350459</td>\n",
       "      <td>31</td>\n",
       "      <td>178</td>\n",
       "      <td>5</td>\n",
       "      <td>5</td>\n",
       "      <td>50511</td>\n",
       "    </tr>\n",
       "    <tr>\n",
       "      <th>1</th>\n",
       "      <td>1</td>\n",
       "      <td>1</td>\n",
       "      <td>188276</td>\n",
       "      <td>35</td>\n",
       "      <td>111</td>\n",
       "      <td>7</td>\n",
       "      <td>5</td>\n",
       "      <td>50711</td>\n",
       "    </tr>\n",
       "    <tr>\n",
       "      <th>2</th>\n",
       "      <td>2</td>\n",
       "      <td>0</td>\n",
       "      <td>99002</td>\n",
       "      <td>41</td>\n",
       "      <td>639</td>\n",
       "      <td>6</td>\n",
       "      <td>7</td>\n",
       "      <td>70620</td>\n",
       "    </tr>\n",
       "  </tbody>\n",
       "</table>\n",
       "</div>"
      ],
      "text/plain": [
       "   target_age  target_is_male  user_id  old_age  user_len  tel_price  \\\n",
       "0           1               1   350459       31       178          5   \n",
       "1           1               1   188276       35       111          7   \n",
       "2           2               0    99002       41       639          6   \n",
       "\n",
       "   user_len_bin  user_bin  \n",
       "0             5     50511  \n",
       "1             5     50711  \n",
       "2             7     70620  "
      ]
     },
     "execution_count": 24,
     "metadata": {},
     "output_type": "execute_result"
    }
   ],
   "source": [
    "train.loc[user_in_bins<50,'user_bin'] = train['user_bin'].max() + 1\n",
    "train[:3]"
   ]
  },
  {
   "attachments": {},
   "cell_type": "markdown",
   "metadata": {},
   "source": [
    "Разбиваем на 5 фолдов"
   ]
  },
  {
   "cell_type": "code",
   "execution_count": 25,
   "metadata": {},
   "outputs": [
    {
     "data": {
      "text/html": [
       "<div>\n",
       "<style scoped>\n",
       "    .dataframe tbody tr th:only-of-type {\n",
       "        vertical-align: middle;\n",
       "    }\n",
       "\n",
       "    .dataframe tbody tr th {\n",
       "        vertical-align: top;\n",
       "    }\n",
       "\n",
       "    .dataframe thead th {\n",
       "        text-align: right;\n",
       "    }\n",
       "</style>\n",
       "<table border=\"1\" class=\"dataframe\">\n",
       "  <thead>\n",
       "    <tr style=\"text-align: right;\">\n",
       "      <th></th>\n",
       "      <th>target_age</th>\n",
       "      <th>target_is_male</th>\n",
       "      <th>user_id</th>\n",
       "      <th>old_age</th>\n",
       "      <th>user_len</th>\n",
       "      <th>tel_price</th>\n",
       "      <th>user_len_bin</th>\n",
       "      <th>user_bin</th>\n",
       "      <th>fold</th>\n",
       "    </tr>\n",
       "  </thead>\n",
       "  <tbody>\n",
       "    <tr>\n",
       "      <th>0</th>\n",
       "      <td>1</td>\n",
       "      <td>1</td>\n",
       "      <td>350459</td>\n",
       "      <td>31</td>\n",
       "      <td>178</td>\n",
       "      <td>5</td>\n",
       "      <td>5</td>\n",
       "      <td>50511</td>\n",
       "      <td>3</td>\n",
       "    </tr>\n",
       "    <tr>\n",
       "      <th>1</th>\n",
       "      <td>1</td>\n",
       "      <td>1</td>\n",
       "      <td>188276</td>\n",
       "      <td>35</td>\n",
       "      <td>111</td>\n",
       "      <td>7</td>\n",
       "      <td>5</td>\n",
       "      <td>50711</td>\n",
       "      <td>0</td>\n",
       "    </tr>\n",
       "    <tr>\n",
       "      <th>2</th>\n",
       "      <td>2</td>\n",
       "      <td>0</td>\n",
       "      <td>99002</td>\n",
       "      <td>41</td>\n",
       "      <td>639</td>\n",
       "      <td>6</td>\n",
       "      <td>7</td>\n",
       "      <td>70620</td>\n",
       "      <td>3</td>\n",
       "    </tr>\n",
       "    <tr>\n",
       "      <th>3</th>\n",
       "      <td>1</td>\n",
       "      <td>0</td>\n",
       "      <td>155506</td>\n",
       "      <td>33</td>\n",
       "      <td>22</td>\n",
       "      <td>9</td>\n",
       "      <td>3</td>\n",
       "      <td>30910</td>\n",
       "      <td>2</td>\n",
       "    </tr>\n",
       "    <tr>\n",
       "      <th>4</th>\n",
       "      <td>3</td>\n",
       "      <td>0</td>\n",
       "      <td>213873</td>\n",
       "      <td>54</td>\n",
       "      <td>4</td>\n",
       "      <td>4</td>\n",
       "      <td>1</td>\n",
       "      <td>10430</td>\n",
       "      <td>4</td>\n",
       "    </tr>\n",
       "  </tbody>\n",
       "</table>\n",
       "</div>"
      ],
      "text/plain": [
       "   target_age  target_is_male  user_id  old_age  user_len  tel_price  \\\n",
       "0           1               1   350459       31       178          5   \n",
       "1           1               1   188276       35       111          7   \n",
       "2           2               0    99002       41       639          6   \n",
       "3           1               0   155506       33        22          9   \n",
       "4           3               0   213873       54         4          4   \n",
       "\n",
       "   user_len_bin  user_bin  fold  \n",
       "0             5     50511     3  \n",
       "1             5     50711     0  \n",
       "2             7     70620     3  \n",
       "3             3     30910     2  \n",
       "4             1     10430     4  "
      ]
     },
     "execution_count": 25,
     "metadata": {},
     "output_type": "execute_result"
    }
   ],
   "source": [
    "train = my.add_folds(train, strat_col='user_bin')\n",
    "train[:5]"
   ]
  },
  {
   "cell_type": "code",
   "execution_count": 26,
   "metadata": {},
   "outputs": [
    {
     "data": {
      "text/plain": [
       "3    54000\n",
       "0    54000\n",
       "2    54000\n",
       "4    54000\n",
       "1    54000\n",
       "Name: fold, dtype: int64"
      ]
     },
     "execution_count": 26,
     "metadata": {},
     "output_type": "execute_result"
    }
   ],
   "source": [
    "train['fold'].value_counts()"
   ]
  },
  {
   "attachments": {},
   "cell_type": "markdown",
   "metadata": {},
   "source": [
    "Определяем бакеты для разных длин последовательностей"
   ]
  },
  {
   "cell_type": "code",
   "execution_count": 28,
   "metadata": {},
   "outputs": [
    {
     "data": {
      "text/plain": [
       "1     26667\n",
       "2     19372\n",
       "3     19782\n",
       "4     27419\n",
       "5     29950\n",
       "6     36407\n",
       "7     38590\n",
       "8     28933\n",
       "9     16640\n",
       "10     9624\n",
       "11    16616\n",
       "Name: len_bucket, dtype: int64"
      ]
     },
     "execution_count": 28,
     "metadata": {},
     "output_type": "execute_result"
    }
   ],
   "source": [
    "buckets = [-np.inf, 20,50,100,200,350,600,1000,1500,2000,2500,np.inf]\n",
    "bucket_labels = list(range(1,len(buckets)))\n",
    "train['len_bucket'] = pd.cut(train['user_len'],bins=buckets, labels=bucket_labels).astype(np.int8)\n",
    "train['len_bucket'].value_counts().sort_index()"
   ]
  },
  {
   "cell_type": "code",
   "execution_count": 29,
   "metadata": {},
   "outputs": [
    {
     "data": {
      "text/html": [
       "<div>\n",
       "<style scoped>\n",
       "    .dataframe tbody tr th:only-of-type {\n",
       "        vertical-align: middle;\n",
       "    }\n",
       "\n",
       "    .dataframe tbody tr th {\n",
       "        vertical-align: top;\n",
       "    }\n",
       "\n",
       "    .dataframe thead th {\n",
       "        text-align: right;\n",
       "    }\n",
       "</style>\n",
       "<table border=\"1\" class=\"dataframe\">\n",
       "  <thead>\n",
       "    <tr style=\"text-align: right;\">\n",
       "      <th></th>\n",
       "      <th>target_age</th>\n",
       "      <th>target_is_male</th>\n",
       "      <th>user_id</th>\n",
       "      <th>old_age</th>\n",
       "      <th>user_len</th>\n",
       "      <th>tel_price</th>\n",
       "      <th>user_len_bin</th>\n",
       "      <th>user_bin</th>\n",
       "      <th>fold</th>\n",
       "      <th>len_bucket</th>\n",
       "    </tr>\n",
       "  </thead>\n",
       "  <tbody>\n",
       "    <tr>\n",
       "      <th>0</th>\n",
       "      <td>1</td>\n",
       "      <td>1</td>\n",
       "      <td>350459</td>\n",
       "      <td>31</td>\n",
       "      <td>178</td>\n",
       "      <td>5</td>\n",
       "      <td>5</td>\n",
       "      <td>50511</td>\n",
       "      <td>3</td>\n",
       "      <td>4</td>\n",
       "    </tr>\n",
       "    <tr>\n",
       "      <th>1</th>\n",
       "      <td>1</td>\n",
       "      <td>1</td>\n",
       "      <td>188276</td>\n",
       "      <td>35</td>\n",
       "      <td>111</td>\n",
       "      <td>7</td>\n",
       "      <td>5</td>\n",
       "      <td>50711</td>\n",
       "      <td>0</td>\n",
       "      <td>4</td>\n",
       "    </tr>\n",
       "    <tr>\n",
       "      <th>2</th>\n",
       "      <td>2</td>\n",
       "      <td>0</td>\n",
       "      <td>99002</td>\n",
       "      <td>41</td>\n",
       "      <td>639</td>\n",
       "      <td>6</td>\n",
       "      <td>7</td>\n",
       "      <td>70620</td>\n",
       "      <td>3</td>\n",
       "      <td>7</td>\n",
       "    </tr>\n",
       "  </tbody>\n",
       "</table>\n",
       "</div>"
      ],
      "text/plain": [
       "   target_age  target_is_male  user_id  old_age  user_len  tel_price  \\\n",
       "0           1               1   350459       31       178          5   \n",
       "1           1               1   188276       35       111          7   \n",
       "2           2               0    99002       41       639          6   \n",
       "\n",
       "   user_len_bin  user_bin  fold  len_bucket  \n",
       "0             5     50511     3           4  \n",
       "1             5     50711     0           4  \n",
       "2             7     70620     3           7  "
      ]
     },
     "execution_count": 29,
     "metadata": {},
     "output_type": "execute_result"
    }
   ],
   "source": [
    "train[:3]"
   ]
  },
  {
   "cell_type": "code",
   "execution_count": 31,
   "metadata": {},
   "outputs": [],
   "source": [
    "train.to_parquet('out/info_targets.pq',index=False)"
   ]
  },
  {
   "cell_type": "code",
   "execution_count": 32,
   "metadata": {},
   "outputs": [],
   "source": [
    "del train"
   ]
  },
  {
   "attachments": {},
   "cell_type": "markdown",
   "metadata": {},
   "source": [
    "Создаем вложенный словарь со всей информацией по юзерам из трейна train_val_plts для семплирования потом при тренировке моделей"
   ]
  },
  {
   "cell_type": "code",
   "execution_count": 33,
   "metadata": {},
   "outputs": [
    {
     "data": {
      "text/html": [
       "<div>\n",
       "<style scoped>\n",
       "    .dataframe tbody tr th:only-of-type {\n",
       "        vertical-align: middle;\n",
       "    }\n",
       "\n",
       "    .dataframe tbody tr th {\n",
       "        vertical-align: top;\n",
       "    }\n",
       "\n",
       "    .dataframe thead th {\n",
       "        text-align: right;\n",
       "    }\n",
       "</style>\n",
       "<table border=\"1\" class=\"dataframe\">\n",
       "  <thead>\n",
       "    <tr style=\"text-align: right;\">\n",
       "      <th></th>\n",
       "      <th>target_age</th>\n",
       "      <th>target_is_male</th>\n",
       "      <th>user_id</th>\n",
       "      <th>old_age</th>\n",
       "      <th>user_len</th>\n",
       "      <th>tel_price</th>\n",
       "      <th>user_len_bin</th>\n",
       "      <th>user_bin</th>\n",
       "      <th>fold</th>\n",
       "      <th>len_bucket</th>\n",
       "    </tr>\n",
       "  </thead>\n",
       "  <tbody>\n",
       "    <tr>\n",
       "      <th>0</th>\n",
       "      <td>1</td>\n",
       "      <td>1</td>\n",
       "      <td>350459</td>\n",
       "      <td>31</td>\n",
       "      <td>178</td>\n",
       "      <td>5</td>\n",
       "      <td>5</td>\n",
       "      <td>50511</td>\n",
       "      <td>3</td>\n",
       "      <td>4</td>\n",
       "    </tr>\n",
       "    <tr>\n",
       "      <th>1</th>\n",
       "      <td>1</td>\n",
       "      <td>1</td>\n",
       "      <td>188276</td>\n",
       "      <td>35</td>\n",
       "      <td>111</td>\n",
       "      <td>7</td>\n",
       "      <td>5</td>\n",
       "      <td>50711</td>\n",
       "      <td>0</td>\n",
       "      <td>4</td>\n",
       "    </tr>\n",
       "    <tr>\n",
       "      <th>2</th>\n",
       "      <td>2</td>\n",
       "      <td>0</td>\n",
       "      <td>99002</td>\n",
       "      <td>41</td>\n",
       "      <td>639</td>\n",
       "      <td>6</td>\n",
       "      <td>7</td>\n",
       "      <td>70620</td>\n",
       "      <td>3</td>\n",
       "      <td>7</td>\n",
       "    </tr>\n",
       "  </tbody>\n",
       "</table>\n",
       "</div>"
      ],
      "text/plain": [
       "   target_age  target_is_male  user_id  old_age  user_len  tel_price  \\\n",
       "0           1               1   350459       31       178          5   \n",
       "1           1               1   188276       35       111          7   \n",
       "2           2               0    99002       41       639          6   \n",
       "\n",
       "   user_len_bin  user_bin  fold  len_bucket  \n",
       "0             5     50511     3           4  \n",
       "1             5     50711     0           4  \n",
       "2             7     70620     3           7  "
      ]
     },
     "execution_count": 33,
     "metadata": {},
     "output_type": "execute_result"
    }
   ],
   "source": [
    "target_info = pd.read_parquet('out/info_targets.pq')\n",
    "target_info[:3]"
   ]
  },
  {
   "cell_type": "code",
   "execution_count": 34,
   "metadata": {},
   "outputs": [
    {
     "data": {
      "text/plain": [
       "(1, 1)"
      ]
     },
     "execution_count": 34,
     "metadata": {},
     "output_type": "execute_result"
    }
   ],
   "source": [
    "y_age = target_info[['user_id', 'target_age']].set_index('user_id')['target_age'].to_dict()\n",
    "y_age[350459], y_age[188276]"
   ]
  },
  {
   "cell_type": "code",
   "execution_count": 36,
   "metadata": {},
   "outputs": [
    {
     "data": {
      "text/plain": [
       "270000"
      ]
     },
     "execution_count": 36,
     "metadata": {},
     "output_type": "execute_result"
    }
   ],
   "source": [
    "len(y_age)"
   ]
  },
  {
   "cell_type": "code",
   "execution_count": 35,
   "metadata": {},
   "outputs": [
    {
     "data": {
      "text/html": [
       "<div>\n",
       "<style scoped>\n",
       "    .dataframe tbody tr th:only-of-type {\n",
       "        vertical-align: middle;\n",
       "    }\n",
       "\n",
       "    .dataframe tbody tr th {\n",
       "        vertical-align: top;\n",
       "    }\n",
       "\n",
       "    .dataframe thead th {\n",
       "        text-align: right;\n",
       "    }\n",
       "</style>\n",
       "<table border=\"1\" class=\"dataframe\">\n",
       "  <thead>\n",
       "    <tr style=\"text-align: right;\">\n",
       "      <th></th>\n",
       "      <th>region_name</th>\n",
       "      <th>city_name</th>\n",
       "      <th>cpe_manufacturer_name</th>\n",
       "      <th>cpe_model_name</th>\n",
       "      <th>url_host</th>\n",
       "      <th>cpe_type_cd</th>\n",
       "      <th>cpe_model_os_type</th>\n",
       "      <th>price</th>\n",
       "      <th>date</th>\n",
       "      <th>part_of_day</th>\n",
       "      <th>request_cnt</th>\n",
       "      <th>user_id</th>\n",
       "      <th>pos</th>\n",
       "    </tr>\n",
       "  </thead>\n",
       "  <tbody>\n",
       "    <tr>\n",
       "      <th>0</th>\n",
       "      <td>29</td>\n",
       "      <td>531</td>\n",
       "      <td>28</td>\n",
       "      <td>156</td>\n",
       "      <td>117490</td>\n",
       "      <td>3</td>\n",
       "      <td>1</td>\n",
       "      <td>4</td>\n",
       "      <td>2021-06-16 02:00:00</td>\n",
       "      <td>2</td>\n",
       "      <td>0.083</td>\n",
       "      <td>0</td>\n",
       "      <td>130</td>\n",
       "    </tr>\n",
       "    <tr>\n",
       "      <th>1</th>\n",
       "      <td>29</td>\n",
       "      <td>531</td>\n",
       "      <td>28</td>\n",
       "      <td>156</td>\n",
       "      <td>111474</td>\n",
       "      <td>3</td>\n",
       "      <td>1</td>\n",
       "      <td>4</td>\n",
       "      <td>2021-06-16 02:00:00</td>\n",
       "      <td>2</td>\n",
       "      <td>0.083</td>\n",
       "      <td>0</td>\n",
       "      <td>129</td>\n",
       "    </tr>\n",
       "  </tbody>\n",
       "</table>\n",
       "</div>"
      ],
      "text/plain": [
       "   region_name  city_name  cpe_manufacturer_name  cpe_model_name  url_host  \\\n",
       "0           29        531                     28             156    117490   \n",
       "1           29        531                     28             156    111474   \n",
       "\n",
       "   cpe_type_cd  cpe_model_os_type  price                date  part_of_day  \\\n",
       "0            3                  1      4 2021-06-16 02:00:00            2   \n",
       "1            3                  1      4 2021-06-16 02:00:00            2   \n",
       "\n",
       "   request_cnt  user_id  pos  \n",
       "0        0.083        0  130  \n",
       "1        0.083        0  129  "
      ]
     },
     "execution_count": 35,
     "metadata": {},
     "output_type": "execute_result"
    }
   ],
   "source": [
    "X_train_val[:2]"
   ]
  },
  {
   "cell_type": "code",
   "execution_count": 38,
   "metadata": {},
   "outputs": [
    {
     "data": {
      "application/vnd.jupyter.widget-view+json": {
       "model_id": "b03c82aab57f4f34b8d40106d34ffee1",
       "version_major": 2,
       "version_minor": 0
      },
      "text/plain": [
       "  0%|          | 0/270000 [00:00<?, ?it/s]"
      ]
     },
     "metadata": {},
     "output_type": "display_data"
    },
    {
     "data": {
      "text/plain": [
       "270000"
      ]
     },
     "execution_count": 38,
     "metadata": {},
     "output_type": "execute_result"
    }
   ],
   "source": [
    "train_val_plts = {}\n",
    "\n",
    "for user, user_data in tqdm(X_train_val.groupby('user_id'),total=X_train_val['user_id'].nunique()):\n",
    "\n",
    "    train_val_plts[user] = my.get_user_seqs(user_data)\n",
    "    train_val_plts[user]['y'] = y_age[user]\n",
    "\n",
    "len(train_val_plts)"
   ]
  },
  {
   "cell_type": "code",
   "execution_count": 39,
   "metadata": {},
   "outputs": [],
   "source": [
    "my.save_pickle('out/train_val_plts.pik',train_val_plts)"
   ]
  },
  {
   "cell_type": "code",
   "execution_count": 40,
   "metadata": {},
   "outputs": [
    {
     "data": {
      "text/plain": [
       "{'region_name': tensor([29, 29, 29, 29, 29, 29, 29, 29, 29, 29, 29, 29, 29, 29, 29, 29, 29, 29,\n",
       "         29, 29, 29, 29, 29, 29, 29, 29, 29, 29, 29, 29, 29, 29, 29, 29, 29, 29,\n",
       "         29, 29, 29, 29, 29, 29, 29, 29, 29, 29, 29, 29, 29, 29, 29, 29, 29, 29,\n",
       "         29, 29, 29, 29, 29, 29, 29, 29, 29, 29, 29, 29, 29, 29, 29, 29, 29, 29,\n",
       "         29, 29, 29, 29, 29, 29, 29, 29, 29, 29, 29, 29, 29, 29, 29, 29, 29, 29,\n",
       "         29, 29, 29, 29, 29, 29, 29, 29, 29, 29, 29, 29, 29, 29, 29, 29, 29, 29,\n",
       "         29, 29, 29, 29, 29, 29, 29, 29, 29, 29, 29, 29, 29, 29, 29, 29, 29, 29,\n",
       "         29, 29, 29, 29, 29], dtype=torch.int32),\n",
       " 'city_name': tensor([29, 29, 29, 29, 29, 29, 29, 29, 29, 29, 29, 29, 29, 29, 29, 29, 29, 29,\n",
       "         29, 29, 29, 29, 29, 29, 29, 29, 29, 29, 29, 29, 29, 29, 29, 29, 29, 29,\n",
       "         29, 29, 29, 29, 29, 29, 29, 29, 29, 29, 29, 29, 29, 29, 29, 29, 29, 29,\n",
       "         29, 29, 29, 29, 29, 29, 29, 29, 29, 29, 29, 29, 29, 29, 29, 29, 29, 29,\n",
       "         29, 29, 29, 29, 29, 29, 29, 29, 29, 29, 29, 29, 29, 29, 29, 29, 29, 29,\n",
       "         29, 29, 29, 29, 29, 29, 29, 29, 29, 29, 29, 29, 29, 29, 29, 29, 29, 29,\n",
       "         29, 29, 29, 29, 29, 29, 29, 29, 29, 29, 29, 29, 29, 29, 29, 29, 29, 29,\n",
       "         29, 29, 29, 29, 29], dtype=torch.int32),\n",
       " 'cpe_manufacturer_name': 28,\n",
       " 'cpe_model_name': 156,\n",
       " 'cpe_type_cd': 3,\n",
       " 'cpe_model_os_type': 1,\n",
       " 'price': 4,\n",
       " 'event_time': tensor([1623808800, 1623808800, 1623812400, 1624064400, 1624064400, 1624064400,\n",
       "         1624068000, 1624068000, 1624075200, 1624150800, 1624240800, 1624327200,\n",
       "         1624327200, 1624327200, 1624327200, 1624327200, 1624327200, 1624327200,\n",
       "         1624327200, 1624327200, 1624327200, 1624327200, 1624327200, 1624327200,\n",
       "         1624327200, 1624327200, 1624327200, 1624327200, 1624327200, 1624327200,\n",
       "         1624327200, 1624327200, 1624327200, 1624327200, 1624327200, 1624327200,\n",
       "         1624327200, 1624327200, 1624327200, 1624327200, 1624327200, 1624327200,\n",
       "         1624327200, 1624327200, 1624330800, 1624330800, 1624330800, 1624330800,\n",
       "         1624330800, 1624330800, 1624330800, 1624413600, 1624413600, 1624413600,\n",
       "         1624413600, 1624413600, 1624413600, 1624413600, 1624413600, 1624413600,\n",
       "         1624417200, 1624417200, 1624417200, 1624417200, 1624417200, 1624417200,\n",
       "         1624417200, 1624417200, 1624417200, 1624417200, 1624417200, 1624417200,\n",
       "         1624417200, 1624417200, 1624417200, 1624417200, 1624417200, 1624417200,\n",
       "         1624417200, 1624417200, 1624417200, 1624496400, 1624500000, 1624582800,\n",
       "         1624582800, 1624586400, 1624590000, 1624590000, 1624669200, 1624672800,\n",
       "         1624759200, 1624759200, 1624762800, 1624762800, 1624762800, 1624762800,\n",
       "         1624762800, 1624842000, 1624842000, 1624842000, 1624935600, 1624935600,\n",
       "         1624935600, 1625014800, 1625018400, 1625022000, 1625101200, 1625104800,\n",
       "         1625108400, 1625187600, 1625191200, 1625191200, 1625194800, 1625274000,\n",
       "         1625274000, 1625274000, 1625281200, 1625281200, 1625281200, 1625281200,\n",
       "         1625281200, 1625281200, 1625281200, 1625281200, 1625281200, 1625281200,\n",
       "         1625281200, 1625281200, 1625360400, 1625360400, 1625360400]),\n",
       " 'dayofweek': tensor([3, 3, 3, 6, 6, 6, 6, 6, 6, 7, 1, 2, 2, 2, 2, 2, 2, 2, 2, 2, 2, 2, 2, 2,\n",
       "         2, 2, 2, 2, 2, 2, 2, 2, 2, 2, 2, 2, 2, 2, 2, 2, 2, 2, 2, 2, 2, 2, 2, 2,\n",
       "         2, 2, 2, 3, 3, 3, 3, 3, 3, 3, 3, 3, 3, 3, 3, 3, 3, 3, 3, 3, 3, 3, 3, 3,\n",
       "         3, 3, 3, 3, 3, 3, 3, 3, 3, 4, 4, 5, 5, 5, 5, 5, 6, 6, 7, 7, 7, 7, 7, 7,\n",
       "         7, 1, 1, 1, 2, 2, 2, 3, 3, 3, 4, 4, 4, 5, 5, 5, 5, 6, 6, 6, 6, 6, 6, 6,\n",
       "         6, 6, 6, 6, 6, 6, 6, 6, 7, 7, 7], dtype=torch.int32),\n",
       " 'diff_time': tensor([0.0098, 0.0000, 0.0179, 0.1786, 0.0000, 0.0000, 0.0179, 0.0000, 0.0357,\n",
       "         0.0179, 0.0893, 0.0714, 0.0000, 0.0000, 0.0000, 0.0000, 0.0000, 0.0000,\n",
       "         0.0000, 0.0000, 0.0000, 0.0000, 0.0000, 0.0000, 0.0000, 0.0000, 0.0000,\n",
       "         0.0000, 0.0000, 0.0000, 0.0000, 0.0000, 0.0000, 0.0000, 0.0000, 0.0000,\n",
       "         0.0000, 0.0000, 0.0000, 0.0000, 0.0000, 0.0000, 0.0000, 0.0000, 0.0179,\n",
       "         0.0000, 0.0000, 0.0000, 0.0000, 0.0000, 0.0000, 0.0536, 0.0000, 0.0000,\n",
       "         0.0000, 0.0000, 0.0000, 0.0000, 0.0000, 0.0000, 0.0179, 0.0000, 0.0000,\n",
       "         0.0000, 0.0000, 0.0000, 0.0000, 0.0000, 0.0000, 0.0000, 0.0000, 0.0000,\n",
       "         0.0000, 0.0000, 0.0000, 0.0000, 0.0000, 0.0000, 0.0000, 0.0000, 0.0000,\n",
       "         0.0357, 0.0179, 0.0536, 0.0000, 0.0179, 0.0179, 0.0000, 0.0357, 0.0179,\n",
       "         0.0714, 0.0000, 0.0179, 0.0000, 0.0000, 0.0000, 0.0000, 0.0357, 0.0000,\n",
       "         0.0000, 0.1071, 0.0000, 0.0000, 0.0357, 0.0179, 0.0179, 0.0357, 0.0179,\n",
       "         0.0179, 0.0357, 0.0179, 0.0000, 0.0179, 0.0357, 0.0000, 0.0000, 0.0357,\n",
       "         0.0000, 0.0000, 0.0000, 0.0000, 0.0000, 0.0000, 0.0000, 0.0000, 0.0000,\n",
       "         0.0000, 0.0000, 0.0357, 0.0000, 0.0000]),\n",
       " 'part_of_day': tensor([2, 2, 3, 1, 1, 1, 2, 2, 4, 1, 2, 2, 2, 2, 2, 2, 2, 2, 2, 2, 2, 2, 2, 2,\n",
       "         2, 2, 2, 2, 2, 2, 2, 2, 2, 2, 2, 2, 2, 2, 2, 2, 2, 2, 2, 2, 3, 3, 3, 3,\n",
       "         3, 3, 3, 2, 2, 2, 2, 2, 2, 2, 2, 2, 3, 3, 3, 3, 3, 3, 3, 3, 3, 3, 3, 3,\n",
       "         3, 3, 3, 3, 3, 3, 3, 3, 3, 1, 2, 1, 1, 2, 3, 3, 1, 2, 2, 2, 3, 3, 3, 3,\n",
       "         3, 1, 1, 1, 3, 3, 3, 1, 2, 3, 1, 2, 3, 1, 2, 2, 3, 1, 1, 1, 3, 3, 3, 3,\n",
       "         3, 3, 3, 3, 3, 3, 3, 3, 1, 1, 1], dtype=torch.int32),\n",
       " 'url_host': tensor([117490, 111474,  59367, 195023,  59367, 180837, 111474, 117490,  59367,\n",
       "          59367,  59367,  91267,  33333, 133463, 195023,   6319,   6318,   5791,\n",
       "          46957,  71889, 125410, 102619, 142335, 172549,  63466, 171046,  59365,\n",
       "          71891, 170660, 194524,  84891,  59765,  20291,  71883,  63461,  71895,\n",
       "         157452,  98071, 102623,  59339, 180837,  17627,  59367, 169513, 142335,\n",
       "          91267, 195023, 169513,  17627, 194524,  59367, 194524,  63461, 195023,\n",
       "          59367,   5791,  17627, 186190,  63466, 180837,  17627,   6318,   5791,\n",
       "         157452, 194524, 125485, 125484, 135732, 186190,   6319, 139400, 101294,\n",
       "          49055,  20291, 180837, 195023,   5789,  59339, 169513,  59367, 166849,\n",
       "          59367,  59367, 111474, 117490,  59367, 111474, 117490,  59367,  59367,\n",
       "          44666, 157453,  59367, 186624, 157453,  44666,  91780,  91780, 186624,\n",
       "          59367, 117490,  59367, 111474,  59367,  59367,  59367,  59367,  59367,\n",
       "          59367,  59367, 117490, 111474,  59367,  59367, 111474, 117490, 142335,\n",
       "          60072,   6318,  59339, 169513,  33934,  65866, 135732,  17627, 157539,\n",
       "         195023,  59367, 111474, 117490,  65866], dtype=torch.int32),\n",
       " 'request_cnt': tensor([0.0833, 0.0833, 0.0833, 0.0833, 0.0833, 0.0833, 0.0833, 0.0833, 0.0833,\n",
       "         0.0833, 0.0833, 0.2500, 0.1667, 0.0833, 0.4167, 0.0833, 0.2500, 0.3333,\n",
       "         0.0833, 0.0833, 0.1667, 0.1667, 0.3333, 0.0833, 0.1667, 0.1667, 0.0833,\n",
       "         0.0833, 0.0833, 0.2500, 0.0833, 0.1667, 0.0833, 0.0833, 0.2500, 0.0833,\n",
       "         0.0833, 0.0833, 0.0833, 0.2500, 0.3333, 0.4167, 0.4167, 0.4167, 0.0833,\n",
       "         0.0833, 0.0833, 0.0833, 0.0833, 0.0833, 0.1667, 0.0833, 0.0833, 0.0833,\n",
       "         0.1667, 0.0833, 0.0833, 0.0833, 0.0833, 0.1667, 0.0833, 0.0833, 0.0833,\n",
       "         0.0833, 0.0833, 0.0833, 0.0833, 0.0833, 0.0833, 0.0833, 0.0833, 0.0833,\n",
       "         0.0833, 0.0833, 0.0833, 0.0833, 0.0833, 0.0833, 0.0833, 0.1667, 0.0833,\n",
       "         0.0833, 0.0833, 0.1667, 0.0833, 0.1667, 0.0833, 0.0833, 0.0833, 0.0833,\n",
       "         0.3333, 0.3333, 0.0833, 0.1667, 0.1667, 0.1667, 0.0833, 0.0833, 0.0833,\n",
       "         0.0833, 0.0833, 0.0833, 0.0833, 0.0833, 0.0833, 0.0833, 0.1667, 0.1667,\n",
       "         0.0833, 0.0833, 0.0833, 0.0833, 0.0833, 0.0833, 0.0833, 0.0833, 0.0833,\n",
       "         0.0833, 0.0833, 0.0833, 0.0833, 0.0833, 0.2500, 0.0833, 0.0833, 0.0833,\n",
       "         0.0833, 0.1667, 0.0833, 0.0833, 0.1667]),\n",
       " 'y': 1}"
      ]
     },
     "execution_count": 40,
     "metadata": {},
     "output_type": "execute_result"
    }
   ],
   "source": [
    "train_val_plts[0]"
   ]
  },
  {
   "cell_type": "code",
   "execution_count": null,
   "metadata": {},
   "outputs": [],
   "source": [
    "del X_train_val\n",
    "gc.collect()"
   ]
  },
  {
   "attachments": {},
   "cell_type": "markdown",
   "metadata": {},
   "source": [
    "Создаем вложенный словарь со всей информацией по юзерам из теста - test_plts для семплирования потом при предсказании"
   ]
  },
  {
   "cell_type": "code",
   "execution_count": 2,
   "metadata": {},
   "outputs": [
    {
     "name": "stdout",
     "output_type": "stream",
     "text": [
      "(109567390, 13)\n"
     ]
    },
    {
     "data": {
      "text/html": [
       "<div>\n",
       "<style scoped>\n",
       "    .dataframe tbody tr th:only-of-type {\n",
       "        vertical-align: middle;\n",
       "    }\n",
       "\n",
       "    .dataframe tbody tr th {\n",
       "        vertical-align: top;\n",
       "    }\n",
       "\n",
       "    .dataframe thead th {\n",
       "        text-align: right;\n",
       "    }\n",
       "</style>\n",
       "<table border=\"1\" class=\"dataframe\">\n",
       "  <thead>\n",
       "    <tr style=\"text-align: right;\">\n",
       "      <th></th>\n",
       "      <th>region_name</th>\n",
       "      <th>city_name</th>\n",
       "      <th>cpe_manufacturer_name</th>\n",
       "      <th>cpe_model_name</th>\n",
       "      <th>url_host</th>\n",
       "      <th>cpe_type_cd</th>\n",
       "      <th>cpe_model_os_type</th>\n",
       "      <th>price</th>\n",
       "      <th>date</th>\n",
       "      <th>part_of_day</th>\n",
       "      <th>request_cnt</th>\n",
       "      <th>user_id</th>\n",
       "      <th>pos</th>\n",
       "    </tr>\n",
       "  </thead>\n",
       "  <tbody>\n",
       "    <tr>\n",
       "      <th>0</th>\n",
       "      <td>30</td>\n",
       "      <td>239</td>\n",
       "      <td>14</td>\n",
       "      <td>274</td>\n",
       "      <td>59367</td>\n",
       "      <td>3</td>\n",
       "      <td>1</td>\n",
       "      <td>4</td>\n",
       "      <td>2021-06-16 01:00:00</td>\n",
       "      <td>1</td>\n",
       "      <td>0.167</td>\n",
       "      <td>6</td>\n",
       "      <td>455</td>\n",
       "    </tr>\n",
       "    <tr>\n",
       "      <th>1</th>\n",
       "      <td>30</td>\n",
       "      <td>239</td>\n",
       "      <td>14</td>\n",
       "      <td>274</td>\n",
       "      <td>160868</td>\n",
       "      <td>3</td>\n",
       "      <td>1</td>\n",
       "      <td>4</td>\n",
       "      <td>2021-06-16 01:00:00</td>\n",
       "      <td>1</td>\n",
       "      <td>0.250</td>\n",
       "      <td>6</td>\n",
       "      <td>454</td>\n",
       "    </tr>\n",
       "    <tr>\n",
       "      <th>2</th>\n",
       "      <td>30</td>\n",
       "      <td>239</td>\n",
       "      <td>14</td>\n",
       "      <td>274</td>\n",
       "      <td>160873</td>\n",
       "      <td>3</td>\n",
       "      <td>1</td>\n",
       "      <td>4</td>\n",
       "      <td>2021-06-16 01:00:00</td>\n",
       "      <td>1</td>\n",
       "      <td>0.417</td>\n",
       "      <td>6</td>\n",
       "      <td>453</td>\n",
       "    </tr>\n",
       "  </tbody>\n",
       "</table>\n",
       "</div>"
      ],
      "text/plain": [
       "   region_name  city_name  cpe_manufacturer_name  cpe_model_name  url_host  \\\n",
       "0           30        239                     14             274     59367   \n",
       "1           30        239                     14             274    160868   \n",
       "2           30        239                     14             274    160873   \n",
       "\n",
       "   cpe_type_cd  cpe_model_os_type  price                date  part_of_day  \\\n",
       "0            3                  1      4 2021-06-16 01:00:00            1   \n",
       "1            3                  1      4 2021-06-16 01:00:00            1   \n",
       "2            3                  1      4 2021-06-16 01:00:00            1   \n",
       "\n",
       "   request_cnt  user_id  pos  \n",
       "0        0.167        6  455  \n",
       "1        0.250        6  454  \n",
       "2        0.417        6  453  "
      ]
     },
     "execution_count": 2,
     "metadata": {},
     "output_type": "execute_result"
    }
   ],
   "source": [
    "X_test = pd.read_parquet('out/pre/X_test_1.pq')\n",
    "p(X_test.shape)\n",
    "X_test[:3]"
   ]
  },
  {
   "cell_type": "code",
   "execution_count": 3,
   "metadata": {},
   "outputs": [
    {
     "data": {
      "application/vnd.jupyter.widget-view+json": {
       "model_id": "9aa5294afdad46beb5192b2ca74b101a",
       "version_major": 2,
       "version_minor": 0
      },
      "text/plain": [
       "  0%|          | 0/144724 [00:00<?, ?it/s]"
      ]
     },
     "metadata": {},
     "output_type": "display_data"
    },
    {
     "data": {
      "text/plain": [
       "144724"
      ]
     },
     "execution_count": 3,
     "metadata": {},
     "output_type": "execute_result"
    }
   ],
   "source": [
    "test_plts = []\n",
    "\n",
    "for user_id, user_data in tqdm(X_test.groupby('user_id'),total=X_test['user_id'].nunique()):\n",
    "    user_dict = my.get_user_seqs(user_data)\n",
    "    user_dict['user_id'] = user_id\n",
    "    test_plts.append(user_dict)\n",
    "    \n",
    "test_plts.sort(key=lambda x:len(x['url_host']))   \n",
    "len(test_plts)"
   ]
  },
  {
   "cell_type": "code",
   "execution_count": null,
   "metadata": {},
   "outputs": [],
   "source": [
    "from ptls.frames.inference_module import InferenceModule"
   ]
  },
  {
   "cell_type": "code",
   "execution_count": 4,
   "metadata": {},
   "outputs": [],
   "source": [
    "test_ids = []\n",
    "for i in range(len(test_plts)):\n",
    "    test_ids.append(test_plts[i]['user_id'])\n",
    "    del test_plts[i]['user_id']"
   ]
  },
  {
   "cell_type": "code",
   "execution_count": 7,
   "metadata": {},
   "outputs": [
    {
     "data": {
      "text/plain": [
       "{'region_name': tensor([55], dtype=torch.int32),\n",
       " 'city_name': tensor([55], dtype=torch.int32),\n",
       " 'cpe_manufacturer_name': 34,\n",
       " 'cpe_model_name': 524,\n",
       " 'cpe_type_cd': 3,\n",
       " 'cpe_model_os_type': 1,\n",
       " 'price': 4,\n",
       " 'event_time': tensor([1625792400]),\n",
       " 'dayofweek': tensor([5], dtype=torch.int32),\n",
       " 'diff_time': tensor([0.]),\n",
       " 'part_of_day': tensor([1], dtype=torch.int32),\n",
       " 'url_host': tensor([59367], dtype=torch.int32),\n",
       " 'request_cnt': tensor([0.0833])}"
      ]
     },
     "execution_count": 7,
     "metadata": {},
     "output_type": "execute_result"
    }
   ],
   "source": [
    "test_plts[0]"
   ]
  },
  {
   "cell_type": "code",
   "execution_count": 8,
   "metadata": {},
   "outputs": [],
   "source": [
    "test_plts = {'test_ids':test_ids,'test_plts':test_plts}"
   ]
  },
  {
   "cell_type": "code",
   "execution_count": 11,
   "metadata": {},
   "outputs": [
    {
     "data": {
      "text/plain": [
       "(144724, 144724)"
      ]
     },
     "execution_count": 11,
     "metadata": {},
     "output_type": "execute_result"
    }
   ],
   "source": [
    "len(test_plts['test_ids']), len(test_plts['test_plts'])"
   ]
  },
  {
   "cell_type": "code",
   "execution_count": 12,
   "metadata": {},
   "outputs": [],
   "source": [
    "my.save_pickle('out/test_plts.pik',test_plts)"
   ]
  },
  {
   "attachments": {},
   "cell_type": "markdown",
   "metadata": {},
   "source": [
    "Распределение длин последовательностей в трейне"
   ]
  },
  {
   "cell_type": "code",
   "execution_count": 14,
   "metadata": {},
   "outputs": [
    {
     "name": "stdout",
     "output_type": "stream",
     "text": [
      ">10: 253257 <10: 15538\n",
      ">20: 243333 <20: 25800\n",
      ">50: 223961 <50: 45517\n",
      ">100: 204179 <100: 65513\n",
      ">200: 176760 <200: 92996\n",
      ">500: 123443 <500: 146421\n",
      ">1000: 71813 <1000: 198117\n",
      ">5000: 2415 <5000: 267584\n",
      ">10000: 128 <10000: 269872\n"
     ]
    }
   ],
   "source": [
    "for i in [10,20,50,100,200,500,1000,5000,10000]:\n",
    "    print(f'>{i}: {len(q[q>i])} | <{i}: {len(q[q<i])}')"
   ]
  },
  {
   "attachments": {},
   "cell_type": "markdown",
   "metadata": {},
   "source": [
    "Распределение длин последовательностей в тесте"
   ]
  },
  {
   "cell_type": "code",
   "execution_count": 20,
   "metadata": {},
   "outputs": [
    {
     "name": "stdout",
     "output_type": "stream",
     "text": [
      "144724\n",
      ">10: 135608 | <10: 8494\n",
      ">20: 130377 | <20: 13881\n",
      ">50: 120011 | <50: 24456\n",
      ">100: 109178 | <100: 35367\n",
      ">200: 94447 | <200: 50164\n",
      ">500: 65742 | <500: 78905\n",
      ">1000: 37959 | <1000: 106719\n",
      ">5000: 1271 | <5000: 143453\n",
      ">10000: 84 | <10000: 144640\n"
     ]
    }
   ],
   "source": [
    "for i in [10,20,50,100,200,500,1000,5000,10000]:\n",
    "    print(f'>{i}: {len(q[q>i])} | <{i}: {len(q[q<i])}')"
   ]
  }
 ],
 "metadata": {
  "kernelspec": {
   "display_name": "deep_match",
   "language": "python",
   "name": "python3"
  },
  "language_info": {
   "codemirror_mode": {
    "name": "ipython",
    "version": 3
   },
   "file_extension": ".py",
   "mimetype": "text/x-python",
   "name": "python",
   "nbconvert_exporter": "python",
   "pygments_lexer": "ipython3",
   "version": "3.8.12"
  },
  "orig_nbformat": 4,
  "vscode": {
   "interpreter": {
    "hash": "3e9fbfa744e26a34e1c28ead293cd3208ade459d5222d525bc27fff5a49a1ec7"
   }
  }
 },
 "nbformat": 4,
 "nbformat_minor": 2
}
