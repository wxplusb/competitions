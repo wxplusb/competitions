{
 "cells": [
  {
   "cell_type": "code",
   "execution_count": 1,
   "metadata": {},
   "outputs": [],
   "source": [
    "%load_ext autoreload\n",
    "%autoreload 1\n",
    "%aimport my, net, models, data\n",
    "\n",
    "import sys\n",
    "import numpy as np\n",
    "import pandas as pd\n",
    "\n",
    "import os\n",
    "import gc\n",
    "import matplotlib.pyplot as plt\n",
    "# import seaborn as sns\n",
    "import importlib\n",
    "import pickle\n",
    "\n",
    "import my\n",
    "from my import p\n",
    "import net, data\n",
    "from tqdm.notebook import tqdm\n",
    "\n",
    "pd.set_option('display.max_rows', 200)\n",
    "pd.set_option(\"max_colwidth\", 45)\n",
    "pd.set_option(\"display.precision\", 1)\n",
    "pd.options.display.float_format = \"{:.3f}\".format\n",
    "# pd.set_option(\"display.max_rows\", 5)\n",
    "# pd.reset_option(\"display.max_rows\")\n",
    "\n",
    "from sklearn.model_selection import train_test_split\n",
    "\n",
    "# from pandarallel import pandarallel\n",
    "# pandarallel.initialize(progress_bar=True)\n",
    "     \n",
    "dir_out = \"out/\"\n",
    "dir_data = 'data/'\n",
    "\n",
    "RANDOM_STATE = 34\n",
    "np.random.seed(RANDOM_STATE)\n",
    "N_CPU = os.cpu_count()"
   ]
  },
  {
   "cell_type": "code",
   "execution_count": 2,
   "metadata": {},
   "outputs": [
    {
     "name": "stdout",
     "output_type": "stream",
     "text": [
      "(63438, 5)\n",
      " ~\n",
      "(29960, 4)\n"
     ]
    },
    {
     "data": {
      "text/html": [
       "<div>\n",
       "<style scoped>\n",
       "    .dataframe tbody tr th:only-of-type {\n",
       "        vertical-align: middle;\n",
       "    }\n",
       "\n",
       "    .dataframe tbody tr th {\n",
       "        vertical-align: top;\n",
       "    }\n",
       "\n",
       "    .dataframe thead th {\n",
       "        text-align: right;\n",
       "    }\n",
       "</style>\n",
       "<table border=\"1\" class=\"dataframe\">\n",
       "  <thead>\n",
       "    <tr style=\"text-align: right;\">\n",
       "      <th></th>\n",
       "      <th>id</th>\n",
       "      <th>word</th>\n",
       "      <th>stress</th>\n",
       "      <th>num_syllables</th>\n",
       "      <th>lemma</th>\n",
       "    </tr>\n",
       "  </thead>\n",
       "  <tbody>\n",
       "    <tr>\n",
       "      <th>0</th>\n",
       "      <td>0</td>\n",
       "      <td>румяной</td>\n",
       "      <td>2</td>\n",
       "      <td>3</td>\n",
       "      <td>румяный</td>\n",
       "    </tr>\n",
       "    <tr>\n",
       "      <th>1</th>\n",
       "      <td>1</td>\n",
       "      <td>цифрами</td>\n",
       "      <td>1</td>\n",
       "      <td>3</td>\n",
       "      <td>цифра</td>\n",
       "    </tr>\n",
       "    <tr>\n",
       "      <th>2</th>\n",
       "      <td>2</td>\n",
       "      <td>слугами</td>\n",
       "      <td>1</td>\n",
       "      <td>3</td>\n",
       "      <td>слуга</td>\n",
       "    </tr>\n",
       "  </tbody>\n",
       "</table>\n",
       "</div>"
      ],
      "text/plain": [
       "   id     word  stress  num_syllables    lemma\n",
       "0   0  румяной       2              3  румяный\n",
       "1   1  цифрами       1              3    цифра\n",
       "2   2  слугами       1              3    слуга"
      ]
     },
     "execution_count": 2,
     "metadata": {},
     "output_type": "execute_result"
    }
   ],
   "source": [
    "df = pd.read_csv(dir_data+'train.csv')\n",
    "df_test = pd.read_csv(dir_data+'test.csv')\n",
    "p(df.shape, df_test.shape)\n",
    "df[:3]"
   ]
  },
  {
   "cell_type": "code",
   "execution_count": 3,
   "metadata": {},
   "outputs": [
    {
     "data": {
      "text/plain": [
       "(61422, 5)"
      ]
     },
     "execution_count": 3,
     "metadata": {},
     "output_type": "execute_result"
    }
   ],
   "source": [
    "known_cases = df['word'].str.contains('ё') | (df['num_syllables'] == 1)\n",
    "df = df[~known_cases].reset_index(drop=True).copy()\n",
    "df.shape"
   ]
  },
  {
   "cell_type": "code",
   "execution_count": 4,
   "metadata": {},
   "outputs": [],
   "source": [
    "N_FOLDS = 5\n",
    "df = my.add_folds(df,n_folds=N_FOLDS, random_state=RANDOM_STATE)"
   ]
  },
  {
   "cell_type": "code",
   "execution_count": 5,
   "metadata": {},
   "outputs": [],
   "source": [
    "# https://docs.wandb.ai/ref/app/features/panels/code#save-library-code\n",
    "import IPython\n",
    "os.environ['WANDB_NOTEBOOK_NAME'] = IPython.extract_module_locals()[1]['__vsc_ipynb_file__']"
   ]
  },
  {
   "cell_type": "code",
   "execution_count": null,
   "metadata": {},
   "outputs": [],
   "source": [
    "import wandb\n",
    "from lightning.pytorch.loggers import WandbLogger\n",
    "wandb_logger = WandbLogger(name='final2',project='accent')"
   ]
  },
  {
   "cell_type": "code",
   "execution_count": 13,
   "metadata": {},
   "outputs": [
    {
     "name": "stderr",
     "output_type": "stream",
     "text": [
      "Global seed set to 34\n",
      "/root/miniconda3/envs/pytorch_env/lib/python3.8/site-packages/torch/nn/modules/rnn.py:67: UserWarning: dropout option adds dropout after all but last recurrent layer, so non-zero dropout expects num_layers greater than 1, but got dropout=0.2 and num_layers=1\n",
      "  warnings.warn(\"dropout option adds dropout after all but last \"\n",
      "\u001b[34m\u001b[1mwandb\u001b[0m: logging graph, to disable use `wandb.watch(log_graph=False)`\n",
      "GPU available: False, used: False\n",
      "TPU available: False, using: 0 TPU cores\n",
      "IPU available: False, using: 0 IPUs\n",
      "HPU available: False, using: 0 HPUs\n"
     ]
    }
   ],
   "source": [
    "from lightning.pytorch.callbacks import EarlyStopping, TQDMProgressBar, ModelCheckpoint, StochasticWeightAveraging\n",
    "import lightning as pl\n",
    "net.set_seed(RANDOM_STATE)\n",
    "\n",
    "FOLD = 0\n",
    "EXP = 1\n",
    "CHECKPOINT_DIR = 'ckpts/'\n",
    "NAME_CKPT = f'exp_{EXP}-f_{FOLD}'+'-epoch_{epoch:02d}-val_acc_{val_acc:.3f}'\n",
    "\n",
    "es = EarlyStopping('val_acc',patience=15,verbose=True,mode='max')\n",
    "tq = TQDMProgressBar(refresh_rate=10)\n",
    "chpt = ModelCheckpoint(dirpath=CHECKPOINT_DIR,filename=NAME_CKPT,  monitor=\"val_acc\",mode='max',auto_insert_metric_name=False)\n",
    "# swa = StochasticWeightAveraging(swa_lrs=1e-2)\n",
    "\n",
    "\n",
    "dm = data.DataModule(df,df_test,fold=FOLD,collate_type='pack', batch_size=64)\n",
    "model = net.Model(lr=0.001)\n",
    "wandb_logger.watch(model)\n",
    "trainer = pl.Trainer(callbacks=[tq,es,chpt],max_epochs=1000,deterministic = True,logger=wandb_logger)"
   ]
  },
  {
   "cell_type": "code",
   "execution_count": 11,
   "metadata": {},
   "outputs": [
    {
     "data": {
      "image/png": "[encoded data removed]",
      "text/plain": [
       "<Figure size 640x480 with 1 Axes>"
      ]
     },
     "metadata": {},
     "output_type": "display_data"
    }
   ],
   "source": [
    "lr_finder = trainer.tuner.lr_find(model,dm)\n",
    "new_lr = lr_finder.suggestion()\n",
    "model.hparams.lr = new_lr\n",
    "\n",
    "fig = lr_finder.plot(suggest=True)\n",
    "fig.show()"
   ]
  },
  {
   "cell_type": "code",
   "execution_count": 14,
   "metadata": {},
   "outputs": [
    {
     "name": "stderr",
     "output_type": "stream",
     "text": [
      "/root/miniconda3/envs/pytorch_env/lib/python3.8/site-packages/lightning/pytorch/callbacks/model_checkpoint.py:604: UserWarning: Checkpoint directory /root/PROJECTS/NOW/ACCENT/ckpts exists and is not empty.\n",
      "  rank_zero_warn(f\"Checkpoint directory {dirpath} exists and is not empty.\")\n",
      "\n",
      "  | Name      | Type               | Params\n",
      "-------------------------------------------------\n",
      "0 | model     | Gru_Pack_final     | 4.1 M \n",
      "1 | loss_fn   | CrossEntropyLoss   | 0     \n",
      "2 | train_acc | MulticlassAccuracy | 0     \n",
      "3 | val_acc   | MulticlassAccuracy | 0     \n",
      "-------------------------------------------------\n",
      "4.1 M     Trainable params\n",
      "238       Non-trainable params\n",
      "4.1 M     Total params\n",
      "16.366    Total estimated model params size (MB)\n"
     ]
    },
    {
     "data": {
      "application/vnd.jupyter.widget-view+json": {
       "model_id": "e701f508611f44dc9fdfbd6e4db00e78",
       "version_major": 2,
       "version_minor": 0
      },
      "text/plain": [
       "Sanity Checking: 0it [00:00, ?it/s]"
      ]
     },
     "metadata": {},
     "output_type": "display_data"
    },
    {
     "name": "stderr",
     "output_type": "stream",
     "text": [
      "/root/miniconda3/envs/pytorch_env/lib/python3.8/site-packages/lightning/pytorch/trainer/connectors/data_connector.py:224: PossibleUserWarning: The dataloader, val_dataloader 0, does not have many workers which may be a bottleneck. Consider increasing the value of the `num_workers` argument` (try 10 which is the number of cpus on this machine) in the `DataLoader` init to improve performance.\n",
      "  rank_zero_warn(\n",
      "/root/miniconda3/envs/pytorch_env/lib/python3.8/site-packages/lightning/pytorch/trainer/connectors/data_connector.py:224: PossibleUserWarning: The dataloader, train_dataloader, does not have many workers which may be a bottleneck. Consider increasing the value of the `num_workers` argument` (try 10 which is the number of cpus on this machine) in the `DataLoader` init to improve performance.\n",
      "  rank_zero_warn(\n"
     ]
    },
    {
     "data": {
      "application/vnd.jupyter.widget-view+json": {
       "model_id": "d111ce87d8184f3a850ebcc018f948c1",
       "version_major": 2,
       "version_minor": 0
      },
      "text/plain": [
       "Training: 0it [00:00, ?it/s]"
      ]
     },
     "metadata": {},
     "output_type": "display_data"
    },
    {
     "data": {
      "application/vnd.jupyter.widget-view+json": {
       "model_id": "f8caf7c86b504206be9904aada8abb9d",
       "version_major": 2,
       "version_minor": 0
      },
      "text/plain": [
       "Validation: 0it [00:00, ?it/s]"
      ]
     },
     "metadata": {},
     "output_type": "display_data"
    },
    {
     "name": "stderr",
     "output_type": "stream",
     "text": [
      "Metric val_acc improved. New best score: 0.750\n"
     ]
    },
    {
     "data": {
      "application/vnd.jupyter.widget-view+json": {
       "model_id": "632a9e8fca4d445a99c562de4d30ea8e",
       "version_major": 2,
       "version_minor": 0
      },
      "text/plain": [
       "Validation: 0it [00:00, ?it/s]"
      ]
     },
     "metadata": {},
     "output_type": "display_data"
    },
    {
     "name": "stderr",
     "output_type": "stream",
     "text": [
      "Metric val_acc improved by 0.040 >= min_delta = 0.0. New best score: 0.790\n"
     ]
    },
    {
     "data": {
      "application/vnd.jupyter.widget-view+json": {
       "model_id": "dbc9a175429945029751b3365bfa2c56",
       "version_major": 2,
       "version_minor": 0
      },
      "text/plain": [
       "Validation: 0it [00:00, ?it/s]"
      ]
     },
     "metadata": {},
     "output_type": "display_data"
    },
    {
     "name": "stderr",
     "output_type": "stream",
     "text": [
      "Metric val_acc improved by 0.020 >= min_delta = 0.0. New best score: 0.810\n"
     ]
    },
    {
     "data": {
      "application/vnd.jupyter.widget-view+json": {
       "model_id": "a2d6519c7dd04a84bf783b032502d237",
       "version_major": 2,
       "version_minor": 0
      },
      "text/plain": [
       "Validation: 0it [00:00, ?it/s]"
      ]
     },
     "metadata": {},
     "output_type": "display_data"
    },
    {
     "name": "stderr",
     "output_type": "stream",
     "text": [
      "Metric val_acc improved by 0.006 >= min_delta = 0.0. New best score: 0.815\n"
     ]
    },
    {
     "data": {
      "application/vnd.jupyter.widget-view+json": {
       "model_id": "e37a6e77aefe4f3fa562cc2c3674174c",
       "version_major": 2,
       "version_minor": 0
      },
      "text/plain": [
       "Validation: 0it [00:00, ?it/s]"
      ]
     },
     "metadata": {},
     "output_type": "display_data"
    },
    {
     "name": "stderr",
     "output_type": "stream",
     "text": [
      "Metric val_acc improved by 0.015 >= min_delta = 0.0. New best score: 0.830\n",
      "/root/miniconda3/envs/pytorch_env/lib/python3.8/site-packages/lightning/pytorch/trainer/call.py:48: UserWarning: Detected KeyboardInterrupt, attempting graceful shutdown...\n",
      "  rank_zero_warn(\"Detected KeyboardInterrupt, attempting graceful shutdown...\")\n"
     ]
    },
    {
     "data": {
      "text/html": [
       "Waiting for W&B process to finish... <strong style=\"color:green\">(success).</strong>"
      ],
      "text/plain": [
       "<IPython.core.display.HTML object>"
      ]
     },
     "metadata": {},
     "output_type": "display_data"
    },
    {
     "data": {
      "text/html": [
       "<style>\n",
       "    table.wandb td:nth-child(1) { padding: 0 10px; text-align: left ; width: auto;} td:nth-child(2) {text-align: left ; width: 100%}\n",
       "    .wandb-row { display: flex; flex-direction: row; flex-wrap: wrap; justify-content: flex-start; width: 100% }\n",
       "    .wandb-col { display: flex; flex-direction: column; flex-basis: 100%; flex: 1; padding: 10px; }\n",
       "    </style>\n",
       "<div class=\"wandb-row\"><div class=\"wandb-col\"><h3>Run history:</h3><br/><table class=\"wandb\"><tr><td>epoch</td><td>▁▁▁▁▁▁▁▁▃▃▃▃▃▃▃▃▅▅▅▅▅▅▅▅▆▆▆▆▆▆▆▆████████</td></tr><tr><td>train_acc</td><td>▁▅▆▇█</td></tr><tr><td>train_loss</td><td>█▇▄▅▅▄▅▄▄▃▄▃▅▃▄▂▁▂▂▃▃▂▁▃▂▂▂▂▂▂▂▃▂▂▂▁▂▁▂▁</td></tr><tr><td>trainer/global_step</td><td>▁▁▁▂▂▂▂▂▂▃▃▃▃▃▄▄▄▄▄▄▅▅▅▅▅▅▆▆▆▆▆▇▇▇▇▇▇███</td></tr><tr><td>val_acc</td><td>▁▄▆▇█</td></tr><tr><td>val_loss</td><td>█▄▂▂▁</td></tr></table><br/></div><div class=\"wandb-col\"><h3>Run summary:</h3><br/><table class=\"wandb\"><tr><td>epoch</td><td>4</td></tr><tr><td>train_acc</td><td>0.86845</td></tr><tr><td>train_loss</td><td>0.22237</td></tr><tr><td>trainer/global_step</td><td>3824</td></tr><tr><td>val_acc</td><td>0.83016</td></tr><tr><td>val_loss</td><td>0.44781</td></tr></table><br/></div></div>"
      ],
      "text/plain": [
       "<IPython.core.display.HTML object>"
      ]
     },
     "metadata": {},
     "output_type": "display_data"
    },
    {
     "data": {
      "text/html": [
       ""
      ],
      "text/plain": [
       "<IPython.core.display.HTML object>"
      ]
     },
     "metadata": {},
     "output_type": "display_data"
    },
    {
     "data": {
      "text/html": [
       ""
      ],
      "text/plain": [
       "<IPython.core.display.HTML object>"
      ]
     },
     "metadata": {},
     "output_type": "display_data"
    }
   ],
   "source": [
    "trainer.fit(model, datamodule=dm)\n",
    "wandb.finish()"
   ]
  }
 ],
 "metadata": {
  "kernelspec": {
   "display_name": "Python 3.9.6 ('dl_env')",
   "language": "python",
   "name": "python3"
  },
  "language_info": {
   "codemirror_mode": {
    "name": "ipython",
    "version": 3
   },
   "file_extension": ".py",
   "mimetype": "text/x-python",
   "name": "python",
   "nbconvert_exporter": "python",
   "pygments_lexer": "ipython3",
   "version": "3.9.6"
  },
  "orig_nbformat": 4,
  "vscode": {
   "interpreter": {
    "hash": "ddfe809504c16a523e85c666b643af5a9bc21e5032e1e75cef76cdb438e9b837"
   }
  }
 },
 "nbformat": 4,
 "nbformat_minor": 2
}
